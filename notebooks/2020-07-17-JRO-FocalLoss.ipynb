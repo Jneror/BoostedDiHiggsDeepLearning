{
 "cells": [
  {
   "cell_type": "markdown",
   "metadata": {},
   "source": [
    "<center><h1> Focal Loss </h1>\n",
    "John Ignacio R.M. 17 JUN 2020</center>"
   ]
  },
  {
   "cell_type": "code",
   "execution_count": 3,
   "metadata": {
    "tags": []
   },
   "outputs": [],
   "source": [
    "import numpy as np\n",
    "ada_parent_dir = \"../\"\n",
    "import sys\n",
    "sys.path.append(ada_parent_dir)\n",
    "from ada2.model import BinaryClassifier, Sequential, Dense, Dropout, adagrad\n",
    "from ada2.data import read_dataset, split_dataset\n",
    "import pandas as pd\n",
    "from functools import partial"
   ]
  },
  {
   "cell_type": "code",
   "execution_count": 4,
   "metadata": {},
   "outputs": [],
   "source": [
    "source_path = \"../processed_data/xtohh\"\n",
    "signal = \"Xtohh2000\"\n",
    "bg = \"Xtohh_background\"\n",
    "seed = 420"
   ]
  },
  {
   "cell_type": "code",
   "execution_count": 5,
   "metadata": {},
   "outputs": [],
   "source": [
    "#read xtohh dataset\n",
    "df = read_dataset(source_path, signal, bg, \"SR\", 2)\n",
    "sets = split_dataset(df, 0.6, 0.2, 0.2, seed)"
   ]
  },
  {
   "cell_type": "code",
   "execution_count": 6,
   "metadata": {},
   "outputs": [],
   "source": [
    "from tensorflow import convert_to_tensor, constant, clip_by_value, math\n",
    "from tensorflow.keras.backend import mean, epsilon\n",
    "from tensorflow import nn\n",
    "\n",
    "def get_binary_crossentropy(target, output):\n",
    "    epsilon_ = constant(epsilon(), output.dtype.base_dtype)\n",
    "    output = clip_by_value(output, epsilon_, 1. - epsilon_)\n",
    "\n",
    "    bce = target * math.log(output + epsilon())\n",
    "    bce += (1 - target) * math.log(1 - output + epsilon())\n",
    "    return -bce\n",
    "\n",
    "def keras_binary_crossentropy(y_true, y_pred):\n",
    "    return mean(get_binary_crossentropy(y_true, y_pred), axis=-1)\n",
    "\n",
    "def get_focal_loss(target, output, alpha, gamma):\n",
    "    epsilon_ = constant(epsilon(), output.dtype.base_dtype)\n",
    "    output = clip_by_value(output, epsilon_, 1. - epsilon_)\n",
    "\n",
    "    bce = target * math.log(output + epsilon()) * (1 - output)**gamma\n",
    "    bce += (1 - target) * math.log(1 - output + epsilon()) * (output)**gamma\n",
    "    return -alpha * bce\n",
    "\n",
    "def focal_loss(alpha, gamma):\n",
    "\n",
    "    def focal_loss_aux(y_true, y_pred):\n",
    "        return mean(get_focal_loss(y_true, y_pred, alpha, gamma), axis=-1)\n",
    "        \n",
    "    return focal_loss_aux\n",
    "\n",
    "def sof_binary_crossentropy(target, output, from_logits=False):\n",
    "    \"\"\"Binary crossentropy between an output tensor and a target tensor.\n",
    "\n",
    "    # Arguments\n",
    "        target: A tensor with the same shape as `output`.\n",
    "        output: A tensor.\n",
    "        from_logits: Whether `output` is expected to be a logits tensor.\n",
    "            By default, we consider that `output`\n",
    "            encodes a probability distribution.\n",
    "\n",
    "    # Returns\n",
    "        A tensor.\n",
    "    \"\"\"\n",
    "    # Note: tf.nn.sigmoid_cross_entropy_with_logits\n",
    "    # expects logits, Keras expects probabilities.\n",
    "    if not from_logits:\n",
    "        # transform back to logits\n",
    "        _epsilon = convert_to_tensor(epsilon(), dtype = output.dtype.base_dtype)\n",
    "        output = clip_by_value(output, _epsilon, 1 - _epsilon)\n",
    "        output = math.log(output / (1 - output))\n",
    "\n",
    "    bce = nn.sigmoid_cross_entropy_with_logits(labels=target, logits=output)\n",
    "    return mean(bce, axis = -1)"
   ]
  },
  {
   "cell_type": "code",
   "execution_count": 7,
   "metadata": {},
   "outputs": [],
   "source": [
    "class BinClassifModel4(BinaryClassifier):\n",
    "\n",
    "    def __init__(self, n_input, loss):\n",
    "        #model\n",
    "        self.model = Sequential()\n",
    "        #input\n",
    "        self.model.add(Dense(32, input_dim = n_input, kernel_initializer='uniform',activation='softplus'))\n",
    "        #hidden layers\n",
    "        self.model.add(Dropout(rate=0.2))\n",
    "        self.model.add(Dense(64, kernel_initializer='he_uniform', activation='softplus'))\n",
    "        self.model.add(Dropout(rate=0.2))\n",
    "        self.model.add(Dense(128, kernel_initializer='he_uniform', activation='softplus'))\n",
    "        self.model.add(Dropout(rate=0.2))\n",
    "        self.model.add(Dense(256, kernel_initializer='he_uniform', activation='softplus'))\n",
    "        self.model.add(Dropout(rate=0.2))\n",
    "        self.model.add(Dense(128, kernel_initializer='he_uniform', activation='softplus'))\n",
    "        self.model.add(Dropout(rate=0.2))\n",
    "        self.model.add(Dense(64, kernel_initializer='he_uniform', activation='softplus'))\n",
    "        self.model.add(Dropout(rate=0.2))\n",
    "        self.model.add(Dense(32, kernel_initializer='he_uniform', activation='softplus'))\n",
    "        self.model.add(Dropout(rate=0.2))\n",
    "        self.model.add(Dense(1, kernel_initializer='he_uniform', activation='sigmoid'))\n",
    "        #compile\n",
    "        self.model.compile(optimizer=adagrad(lr=0.05), loss=loss)\n",
    "\n",
    "        #training\n",
    "        self.history = None\n",
    "\n",
    "        #name\n",
    "        self.model_name = \"BCM4\""
   ]
  },
  {
   "cell_type": "code",
   "execution_count": 8,
   "metadata": {},
   "outputs": [],
   "source": [
    "from keras.losses import BinaryCrossentropy\n",
    "bce = BinaryCrossentropy()"
   ]
  },
  {
   "cell_type": "code",
   "execution_count": 9,
   "metadata": {
    "tags": []
   },
   "outputs": [
    {
     "name": "stdout",
     "output_type": "stream",
     "text": [
      "WARNING:tensorflow:From /Users/rpezoa/opt/anaconda3/envs/my_root_env/lib/python3.7/site-packages/tensorflow/python/ops/math_grad.py:1205: add_dispatch_support.<locals>.wrapper (from tensorflow.python.ops.array_ops) is deprecated and will be removed in a future version.\n",
      "Instructions for updating:\n",
      "Use tf.where in 2.0, which has the same broadcast rule as np.where\n",
      "WARNING:tensorflow:From /Users/rpezoa/opt/anaconda3/envs/my_root_env/lib/python3.7/site-packages/keras/backend/tensorflow_backend.py:422: The name tf.global_variables is deprecated. Please use tf.compat.v1.global_variables instead.\n",
      "\n",
      "Train on 5283 samples, validate on 1761 samples\n",
      "Epoch 1/50\n",
      "5283/5283 [==============================] - 4s 715us/step - loss: 0.0047 - val_loss: 0.0015\n",
      "Epoch 2/50\n",
      "5283/5283 [==============================] - 2s 361us/step - loss: 0.0048 - val_loss: 0.0015\n",
      "Epoch 3/50\n",
      "5283/5283 [==============================] - 2s 361us/step - loss: 0.0048 - val_loss: 0.0015\n",
      "Epoch 4/50\n",
      "5283/5283 [==============================] - 2s 363us/step - loss: 0.0048 - val_loss: 0.0015\n",
      "Epoch 5/50\n",
      "5283/5283 [==============================] - 2s 356us/step - loss: 0.0048 - val_loss: 0.0015\n",
      "Epoch 6/50\n",
      "5283/5283 [==============================] - 2s 355us/step - loss: 0.0048 - val_loss: 0.0015\n",
      "Epoch 7/50\n",
      "5283/5283 [==============================] - 2s 352us/step - loss: 0.0048 - val_loss: 0.0015\n",
      "Epoch 8/50\n",
      "5283/5283 [==============================] - 2s 352us/step - loss: 0.0048 - val_loss: 0.0015\n",
      "Epoch 9/50\n",
      "5283/5283 [==============================] - 2s 354us/step - loss: 0.0048 - val_loss: 0.0015\n",
      "Epoch 10/50\n",
      "5283/5283 [==============================] - 2s 353us/step - loss: 0.0048 - val_loss: 0.0015\n",
      "Epoch 11/50\n",
      "5283/5283 [==============================] - 2s 355us/step - loss: 0.0048 - val_loss: 0.0015\n",
      "Epoch 12/50\n",
      "5283/5283 [==============================] - 2s 354us/step - loss: 0.0048 - val_loss: 0.0015\n",
      "Epoch 13/50\n",
      "5283/5283 [==============================] - 2s 353us/step - loss: 0.0048 - val_loss: 0.0015\n",
      "Epoch 14/50\n",
      "5283/5283 [==============================] - 2s 354us/step - loss: 0.0048 - val_loss: 0.0015\n",
      "Epoch 15/50\n",
      "5283/5283 [==============================] - 2s 354us/step - loss: 0.0048 - val_loss: 0.0015\n",
      "Epoch 16/50\n",
      "5283/5283 [==============================] - 2s 352us/step - loss: 0.0048 - val_loss: 0.0015\n",
      "Epoch 17/50\n",
      "5283/5283 [==============================] - 2s 353us/step - loss: 0.0048 - val_loss: 0.0015\n",
      "Epoch 18/50\n",
      "5283/5283 [==============================] - 2s 353us/step - loss: 0.0048 - val_loss: 0.0015\n",
      "Epoch 19/50\n",
      "5283/5283 [==============================] - 2s 351us/step - loss: 0.0048 - val_loss: 0.0015\n",
      "Epoch 20/50\n",
      "5283/5283 [==============================] - 2s 405us/step - loss: 0.0048 - val_loss: 0.0015\n",
      "Epoch 21/50\n",
      "5283/5283 [==============================] - 2s 352us/step - loss: 0.0048 - val_loss: 0.0015\n",
      "Epoch 22/50\n",
      "5283/5283 [==============================] - 2s 351us/step - loss: 0.0048 - val_loss: 0.0015\n",
      "Epoch 23/50\n",
      "5283/5283 [==============================] - 2s 351us/step - loss: 0.0048 - val_loss: 0.0015\n",
      "Epoch 24/50\n",
      "5283/5283 [==============================] - 2s 358us/step - loss: 0.0048 - val_loss: 0.0015\n",
      "Epoch 25/50\n",
      "5283/5283 [==============================] - 2s 357us/step - loss: 0.0048 - val_loss: 0.0015\n",
      "Epoch 26/50\n",
      "5283/5283 [==============================] - 2s 379us/step - loss: 0.0048 - val_loss: 0.0015\n",
      "Epoch 27/50\n",
      "5283/5283 [==============================] - 2s 358us/step - loss: 0.0048 - val_loss: 0.0015\n",
      "Epoch 28/50\n",
      "5283/5283 [==============================] - 2s 353us/step - loss: 0.0048 - val_loss: 0.0015\n",
      "Epoch 29/50\n",
      "5283/5283 [==============================] - 2s 353us/step - loss: 0.0048 - val_loss: 0.0015\n",
      "Epoch 30/50\n",
      "5283/5283 [==============================] - 2s 353us/step - loss: 0.0048 - val_loss: 0.0015\n",
      "Epoch 31/50\n",
      "5283/5283 [==============================] - 2s 354us/step - loss: 0.0048 - val_loss: 0.0015\n",
      "Epoch 32/50\n",
      "5283/5283 [==============================] - 2s 357us/step - loss: 0.0048 - val_loss: 0.0015\n",
      "Epoch 33/50\n",
      "5283/5283 [==============================] - 2s 358us/step - loss: 0.0048 - val_loss: 0.0015\n",
      "Epoch 34/50\n",
      "5283/5283 [==============================] - 2s 353us/step - loss: 0.0048 - val_loss: 0.0015\n",
      "Epoch 35/50\n",
      "5283/5283 [==============================] - 2s 353us/step - loss: 0.0048 - val_loss: 0.0015\n",
      "Epoch 36/50\n",
      "5283/5283 [==============================] - 2s 353us/step - loss: 0.0048 - val_loss: 0.0015\n",
      "Epoch 37/50\n",
      "5283/5283 [==============================] - 2s 362us/step - loss: 0.0048 - val_loss: 0.0015\n",
      "Epoch 38/50\n",
      "5283/5283 [==============================] - 2s 352us/step - loss: 0.0048 - val_loss: 0.0015\n",
      "Epoch 39/50\n",
      "5283/5283 [==============================] - 2s 385us/step - loss: 0.0048 - val_loss: 0.0015\n",
      "Epoch 40/50\n",
      "5283/5283 [==============================] - 2s 394us/step - loss: 0.0048 - val_loss: 0.0015\n",
      "Epoch 41/50\n",
      "5283/5283 [==============================] - 2s 359us/step - loss: 0.0048 - val_loss: 0.0015\n",
      "Epoch 42/50\n",
      "5283/5283 [==============================] - 2s 411us/step - loss: 0.0048 - val_loss: 0.0015\n",
      "Epoch 43/50\n",
      "5283/5283 [==============================] - 2s 389us/step - loss: 0.0048 - val_loss: 0.0015\n",
      "Epoch 44/50\n",
      "5283/5283 [==============================] - 2s 388us/step - loss: 0.0048 - val_loss: 0.0015\n",
      "Epoch 45/50\n",
      "5283/5283 [==============================] - 2s 376us/step - loss: 0.0048 - val_loss: 0.0015\n",
      "Epoch 46/50\n",
      "5283/5283 [==============================] - 2s 379us/step - loss: 0.0048 - val_loss: 0.0015\n",
      "Epoch 47/50\n",
      "5283/5283 [==============================] - 2s 357us/step - loss: 0.0048 - val_loss: 0.0015\n",
      "Epoch 48/50\n",
      "5283/5283 [==============================] - 2s 387us/step - loss: 0.0048 - val_loss: 0.0015\n",
      "Epoch 49/50\n",
      "5283/5283 [==============================] - 2s 399us/step - loss: 0.0048 - val_loss: 0.0015\n",
      "Epoch 50/50\n",
      "5283/5283 [==============================] - 2s 370us/step - loss: 0.0048 - val_loss: 0.0015\n"
     ]
    },
    {
     "name": "stderr",
     "output_type": "stream",
     "text": [
      "2020-09-07 16:57:52.046619: I tensorflow/core/platform/cpu_feature_guard.cc:145] This TensorFlow binary is optimized with Intel(R) MKL-DNN to use the following CPU instructions in performance critical operations:  SSE4.1 SSE4.2 AVX AVX2 FMA\n",
      "To enable them in non-MKL-DNN operations, rebuild TensorFlow with the appropriate compiler flags.\n",
      "2020-09-07 16:57:52.060999: I tensorflow/core/common_runtime/process_util.cc:115] Creating new thread pool with default inter op setting: 4. Tune using inter_op_parallelism_threads for best performance.\n"
     ]
    }
   ],
   "source": [
    "model = BinClassifModel4(sets[\"x\"][\"train\"].shape[1], focal_loss(1, 4))\n",
    "model.fit(\n",
    "    sets[\"x\"][\"train\"], sets[\"y\"][\"train\"], sets[\"w\"][\"train\"],\n",
    "    sets[\"x\"][\"val\"], sets[\"y\"][\"val\"], sets[\"w\"][\"val\"],\n",
    "    50\n",
    ")"
   ]
  },
  {
   "cell_type": "code",
   "execution_count": 10,
   "metadata": {},
   "outputs": [
    {
     "data": {
      "image/png": "[encoded data removed]",
      "text/plain": [
       "<Figure size 720x432 with 1 Axes>"
      ]
     },
     "metadata": {
      "needs_background": "light"
     },
     "output_type": "display_data"
    }
   ],
   "source": [
    "model.plot_loss()"
   ]
  },
  {
   "cell_type": "code",
   "execution_count": null,
   "metadata": {},
   "outputs": [],
   "source": []
  }
 ],
 "metadata": {
  "kernelspec": {
   "display_name": "Python 3",
   "language": "python",
   "name": "python3"
  },
  "language_info": {
   "codemirror_mode": {
    "name": "ipython",
    "version": 3
   },
   "file_extension": ".py",
   "mimetype": "text/x-python",
   "name": "python",
   "nbconvert_exporter": "python",
   "pygments_lexer": "ipython3",
   "version": "3.7.3"
  }
 },
 "nbformat": 4,
 "nbformat_minor": 2
}
