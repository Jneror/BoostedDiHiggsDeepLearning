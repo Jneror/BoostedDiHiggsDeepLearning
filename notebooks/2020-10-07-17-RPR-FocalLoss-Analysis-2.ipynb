{
 "cells": [
  {
   "cell_type": "markdown",
   "metadata": {},
   "source": [
    "<center><h1> Focal Loss </h1>\n",
    "John Ignacio R.M. 17 JUN 2020</center>"
   ]
  },
  {
   "cell_type": "code",
   "execution_count": 2,
   "metadata": {
    "tags": []
   },
   "outputs": [],
   "source": [
    "import numpy as np\n",
    "ada_parent_dir = \"../\"\n",
    "import sys\n",
    "sys.path.append(ada_parent_dir)\n",
    "from ada2.model import BinaryClassifier, Sequential, Dense, Dropout, adagrad\n",
    "from ada2.data import read_dataset, split_dataset\n",
    "import pandas as pd\n",
    "from functools import partial"
   ]
  },
  {
   "cell_type": "code",
   "execution_count": 3,
   "metadata": {},
   "outputs": [],
   "source": [
    "source_path = \"../processed_data/xtohh\"\n",
    "signal = \"Xtohh2000\"\n",
    "bg = \"Xtohh_background\"\n",
    "seed = 420"
   ]
  },
  {
   "cell_type": "code",
   "execution_count": 4,
   "metadata": {},
   "outputs": [],
   "source": [
    "#read xtohh dataset\n",
    "df = read_dataset(source_path, signal, bg, \"SR\", 2)\n",
    "sets = split_dataset(df, 0.6, 0.2, 0.2, seed)"
   ]
  },
  {
   "cell_type": "code",
   "execution_count": 5,
   "metadata": {},
   "outputs": [],
   "source": [
    "from tensorflow import convert_to_tensor, constant, clip_by_value, math\n",
    "from tensorflow.keras.backend import mean, epsilon\n",
    "from tensorflow import nn\n",
    "\n",
    "def get_binary_crossentropy(target, output):\n",
    "    epsilon_ = constant(epsilon(), output.dtype.base_dtype)\n",
    "    output = clip_by_value(output, epsilon_, 1. - epsilon_)\n",
    "\n",
    "    bce = target * math.log(output + epsilon())\n",
    "    bce += (1 - target) * math.log(1 - output + epsilon())\n",
    "    return -bce\n",
    "\n",
    "def keras_binary_crossentropy(y_true, y_pred):\n",
    "    return mean(get_binary_crossentropy(y_true, y_pred), axis=-1)\n",
    "\n",
    "def get_focal_loss(target, output, alpha, gamma):\n",
    "    epsilon_ = constant(epsilon(), output.dtype.base_dtype)\n",
    "    output = clip_by_value(output, epsilon_, 1. - epsilon_)\n",
    "\n",
    "    bce = target * math.log(output + epsilon()) * (1 - output)**gamma\n",
    "    bce += (1 - target) * math.log(1 - output + epsilon()) * (output)**gamma\n",
    "    return -alpha * bce\n",
    "\n",
    "def focal_loss(alpha, gamma):\n",
    "\n",
    "    def focal_loss_aux(y_true, y_pred):\n",
    "        return mean(get_focal_loss(y_true, y_pred, alpha, gamma), axis=-1)\n",
    "        \n",
    "    return focal_loss_aux\n",
    "\n",
    "def sof_binary_crossentropy(target, output, from_logits=False):\n",
    "    \"\"\"Binary crossentropy between an output tensor and a target tensor.\n",
    "\n",
    "    # Arguments\n",
    "        target: A tensor with the same shape as `output`.\n",
    "        output: A tensor.\n",
    "        from_logits: Whether `output` is expected to be a logits tensor.\n",
    "            By default, we consider that `output`\n",
    "            encodes a probability distribution.\n",
    "\n",
    "    # Returns\n",
    "        A tensor.\n",
    "    \"\"\"\n",
    "    # Note: tf.nn.sigmoid_cross_entropy_with_logits\n",
    "    # expects logits, Keras expects probabilities.\n",
    "    if not from_logits:\n",
    "        # transform back to logits\n",
    "        _epsilon = convert_to_tensor(epsilon(), dtype = output.dtype.base_dtype)\n",
    "        output = clip_by_value(output, _epsilon, 1 - _epsilon)\n",
    "        output = math.log(output / (1 - output))\n",
    "\n",
    "    bce = nn.sigmoid_cross_entropy_with_logits(labels=target, logits=output)\n",
    "    return mean(bce, axis = -1)"
   ]
  },
  {
   "cell_type": "code",
   "execution_count": 21,
   "metadata": {},
   "outputs": [],
   "source": [
    "class BinClassifModel4(BinaryClassifier):\n",
    "\n",
    "    def __init__(self, n_input, loss):\n",
    "        #model\n",
    "        self.model = Sequential()\n",
    "        #input\n",
    "        self.model.add(Dense(32, input_dim = n_input, kernel_initializer='uniform',activation='softplus'))\n",
    "        #hidden layers\n",
    "        self.model.add(Dropout(rate=0.2))\n",
    "        #self.model.add(Dense(64, kernel_initializer='he_uniform', activation='softplus'))\n",
    "        #self.model.add(Dropout(rate=0.2))\n",
    "        #self.model.add(Dense(128, kernel_initializer='he_uniform', activation='softplus'))\n",
    "        #self.model.add(Dropout(rate=0.2))\n",
    "        #self.model.add(Dense(256, kernel_initializer='he_uniform', activation='softplus'))\n",
    "        #self.model.add(Dropout(rate=0.2))\n",
    "        #self.model.add(Dense(128, kernel_initializer='he_uniform', activation='softplus'))\n",
    "        #self.model.add(Dropout(rate=0.2))\n",
    "        #self.model.add(Dense(64, kernel_initializer='he_uniform', activation='softplus'))\n",
    "        #self.model.add(Dropout(rate=0.2))\n",
    "        self.model.add(Dense(32, kernel_initializer='he_uniform', activation='softplus'))\n",
    "        self.model.add(Dropout(rate=0.2))\n",
    "        self.model.add(Dense(1, kernel_initializer='he_uniform', activation='sigmoid'))\n",
    "        #compile\n",
    "        self.model.compile(optimizer=adagrad(lr=0.05), loss=loss)\n",
    "\n",
    "        #training\n",
    "        self.history = None\n",
    "\n",
    "        #name\n",
    "        self.model_name = \"BCM4\""
   ]
  },
  {
   "cell_type": "code",
   "execution_count": 22,
   "metadata": {},
   "outputs": [],
   "source": [
    "#from keras.losses import BinaryCrossentropy\n",
    "#bce = BinaryCrossentropy()"
   ]
  },
  {
   "cell_type": "code",
   "execution_count": 23,
   "metadata": {
    "tags": []
   },
   "outputs": [
    {
     "name": "stdout",
     "output_type": "stream",
     "text": [
      "Train on 5283 samples, validate on 1761 samples\n",
      "Epoch 1/20\n",
      "5283/5283 [==============================] - 2s 310us/step - loss: 1.6232e-04 - val_loss: 9.9904e-06\n",
      "Epoch 2/20\n",
      "5283/5283 [==============================] - 1s 108us/step - loss: 3.4968e-05 - val_loss: 9.0042e-06\n",
      "Epoch 3/20\n",
      "5283/5283 [==============================] - 1s 107us/step - loss: 2.9902e-05 - val_loss: 9.2074e-06\n",
      "Epoch 4/20\n",
      "5283/5283 [==============================] - 1s 111us/step - loss: 2.8684e-05 - val_loss: 9.7105e-06\n",
      "Epoch 5/20\n",
      "5283/5283 [==============================] - 1s 110us/step - loss: 2.6863e-05 - val_loss: 8.6995e-06\n",
      "Epoch 6/20\n",
      "5283/5283 [==============================] - 1s 111us/step - loss: 2.3198e-05 - val_loss: 1.0858e-05\n",
      "Epoch 7/20\n",
      "5283/5283 [==============================] - 1s 107us/step - loss: 2.2794e-05 - val_loss: 6.0699e-06\n",
      "Epoch 8/20\n",
      "5283/5283 [==============================] - 1s 109us/step - loss: 2.2889e-05 - val_loss: 4.8293e-06\n",
      "Epoch 9/20\n",
      "5283/5283 [==============================] - 1s 110us/step - loss: 2.5177e-05 - val_loss: 7.2224e-06\n",
      "Epoch 10/20\n",
      "5283/5283 [==============================] - 1s 114us/step - loss: 2.2518e-05 - val_loss: 5.8304e-06\n",
      "Epoch 11/20\n",
      "5283/5283 [==============================] - 1s 111us/step - loss: 2.2748e-05 - val_loss: 4.7977e-06\n",
      "Epoch 12/20\n",
      "5283/5283 [==============================] - 1s 112us/step - loss: 2.1446e-05 - val_loss: 6.3273e-06\n",
      "Epoch 13/20\n",
      "5283/5283 [==============================] - 1s 146us/step - loss: 1.9762e-05 - val_loss: 3.6079e-06\n",
      "Epoch 14/20\n",
      "5283/5283 [==============================] - 1s 187us/step - loss: 1.9523e-05 - val_loss: 4.5087e-06\n",
      "Epoch 15/20\n",
      "5283/5283 [==============================] - 1s 114us/step - loss: 1.6704e-05 - val_loss: 3.9653e-06\n",
      "Epoch 16/20\n",
      "5283/5283 [==============================] - 1s 181us/step - loss: 1.7609e-05 - val_loss: 4.3187e-06\n",
      "Epoch 17/20\n",
      "5283/5283 [==============================] - 1s 141us/step - loss: 1.9423e-05 - val_loss: 3.9672e-06\n",
      "Epoch 18/20\n",
      "5283/5283 [==============================] - 1s 143us/step - loss: 2.0184e-05 - val_loss: 3.9859e-06\n",
      "Epoch 19/20\n",
      "5283/5283 [==============================] - 1s 172us/step - loss: 2.3004e-05 - val_loss: 4.9644e-06\n",
      "Epoch 20/20\n",
      "5283/5283 [==============================] - 1s 114us/step - loss: 1.9079e-05 - val_loss: 4.0521e-06\n"
     ]
    }
   ],
   "source": [
    "model = BinClassifModel4(sets[\"x\"][\"train\"].shape[1], focal_loss(1,4))\n",
    "model.fit(\n",
    "    sets[\"x\"][\"train\"], sets[\"y\"][\"train\"], sets[\"w\"][\"train\"],\n",
    "    sets[\"x\"][\"val\"], sets[\"y\"][\"val\"], sets[\"w\"][\"val\"],\n",
    "    20\n",
    ")"
   ]
  },
  {
   "cell_type": "code",
   "execution_count": 82,
   "metadata": {},
   "outputs": [
    {
     "data": {
      "image/png": "[encoded data removed]",
      "text/plain": [
       "<Figure size 720x432 with 1 Axes>"
      ]
     },
     "metadata": {
      "needs_background": "light"
     },
     "output_type": "display_data"
    }
   ],
   "source": [
    "model.plot_loss()"
   ]
  },
  {
   "cell_type": "code",
   "execution_count": 83,
   "metadata": {},
   "outputs": [],
   "source": [
    "x_train = sets[\"x\"][\"train\"]\n",
    "y_train = sets[\"y\"][\"train\"]\n",
    "w_train = sets[\"w\"][\"train\"]\n",
    "x_val = sets[\"x\"][\"val\"]\n",
    "y_val = sets[\"y\"][\"val\"]\n",
    "w_val = sets[\"w\"][\"val\"]"
   ]
  },
  {
   "cell_type": "code",
   "execution_count": 84,
   "metadata": {},
   "outputs": [],
   "source": [
    "x_test = sets[\"x\"][\"test\"]\n",
    "y_test = sets[\"y\"][\"test\"]\n",
    "w_test = sets[\"w\"][\"test\"]"
   ]
  },
  {
   "cell_type": "code",
   "execution_count": 85,
   "metadata": {},
   "outputs": [],
   "source": [
    "from sklearn.metrics import confusion_matrix, accuracy_score, precision_score, recall_score, f1_score, classification_report"
   ]
  },
  {
   "cell_type": "code",
   "execution_count": 86,
   "metadata": {},
   "outputs": [
    {
     "name": "stdout",
     "output_type": "stream",
     "text": [
      "0.9776642059435926 0.9907825063737988 0.9861409330470428 0.9884562707884953\n"
     ]
    }
   ],
   "source": [
    "y_pred_train = model.predict(x_train,th=0.5)\n",
    "acc= accuracy_score(y_train, y_pred_train)\n",
    "prec = precision_score(y_train, y_pred_train)\n",
    "rec = recall_score(y_train, y_pred_train)\n",
    "f1 = f1_score(y_train, y_pred_train)\n",
    "print(acc, prec, rec, f1)"
   ]
  },
  {
   "cell_type": "code",
   "execution_count": 87,
   "metadata": {},
   "outputs": [
    {
     "name": "stdout",
     "output_type": "stream",
     "text": [
      "0.9721906923950057 0.9894304169113329 0.9819347319347319 0.985668324071366\n"
     ]
    }
   ],
   "source": [
    "y_pred_test = model.predict(x_test,th=0.5)\n",
    "acc= accuracy_score(y_test, y_pred_test)\n",
    "prec = precision_score(y_test, y_pred_test)\n",
    "rec = recall_score(y_test, y_pred_test)\n",
    "f1 = f1_score(y_test, y_pred_test)\n",
    "print(acc, prec, rec, f1)"
   ]
  },
  {
   "cell_type": "code",
   "execution_count": 88,
   "metadata": {},
   "outputs": [
    {
     "name": "stdout",
     "output_type": "stream",
     "text": [
      "0.9823963657013061 0.9929988331388565 0.9889599070307961 0.9909752547307134\n"
     ]
    }
   ],
   "source": [
    "y_pred_val = model.predict(x_val,th=0.5)\n",
    "acc= accuracy_score(y_val, y_pred_val)\n",
    "prec = precision_score(y_val, y_pred_val)\n",
    "rec = recall_score(y_val, y_pred_val)\n",
    "f1 = f1_score(y_val, y_pred_val)\n",
    "print(acc, prec, rec, f1)"
   ]
  },
  {
   "cell_type": "code",
   "execution_count": 89,
   "metadata": {},
   "outputs": [
    {
     "name": "stdout",
     "output_type": "stream",
     "text": [
      "------- train\n",
      "5123 (5283, 1) 160\n",
      "[[ 113   47]\n",
      " [  71 5052]]\n",
      "0.9776642059435926 0.9907825063737988 0.9861409330470428\n",
      "------- val\n",
      "1721 (1761, 1) 40\n",
      "[[  28   12]\n",
      " [  19 1702]]\n",
      "0.9823963657013061 0.9929988331388565 0.9889599070307961\n",
      "------- test\n",
      "1716 (1762, 1) 46\n",
      "[[  28   18]\n",
      " [  31 1685]]\n",
      "0.9721906923950057 0.9894304169113329 0.9819347319347319\n"
     ]
    }
   ],
   "source": [
    "for key in sets[\"y\"].keys():\n",
    "    print(\"-------\", key)\n",
    "    print(sets[\"y\"][key].sum(),sets[\"y\"][key].shape,sets[\"y\"][key].shape[0]- sets[\"y\"][key].sum())\n",
    "    pred = model.predict(sets[\"x\"][key],th=0.5)\n",
    "    cm1= confusion_matrix(sets[\"y\"][key], pred)\n",
    "    acc = accuracy_score(sets[\"y\"][key], pred)\n",
    "    prec = precision_score(sets[\"y\"][key], pred)\n",
    "    rec = recall_score(sets[\"y\"][key], pred)\n",
    "    print(cm1)\n",
    "    print(acc, prec, rec)"
   ]
  },
  {
   "cell_type": "code",
   "execution_count": 41,
   "metadata": {},
   "outputs": [],
   "source": [
    "weighted_class_report = classification_report(y_test, y_pred_test, output_dict = True, sample_weight=w_test)"
   ]
  },
  {
   "cell_type": "code",
   "execution_count": 43,
   "metadata": {},
   "outputs": [
    {
     "data": {
      "text/plain": [
       "dict_keys(['0', '1', 'micro avg', 'macro avg', 'weighted avg'])"
      ]
     },
     "execution_count": 43,
     "metadata": {},
     "output_type": "execute_result"
    }
   ],
   "source": [
    "weighted_class_report.keys()"
   ]
  },
  {
   "cell_type": "code",
   "execution_count": 45,
   "metadata": {},
   "outputs": [
    {
     "data": {
      "text/plain": [
       "{'precision': 0.9120971670981547,\n",
       " 'recall': 0.6730520500027134,\n",
       " 'f1-score': 0.7745502587319093,\n",
       " 'support': 0.46800015233700004}"
      ]
     },
     "execution_count": 45,
     "metadata": {},
     "output_type": "execute_result"
    }
   ],
   "source": [
    "weighted_class_report[\"0\"]"
   ]
  },
  {
   "cell_type": "code",
   "execution_count": 46,
   "metadata": {},
   "outputs": [
    {
     "data": {
      "text/plain": [
       "{'precision': 0.925760196316418,\n",
       " 'recall': 0.9843391664378495,\n",
       " 'f1-score': 0.9541514307920073,\n",
       " 'support': 1.9383916775903427}"
      ]
     },
     "execution_count": 46,
     "metadata": {},
     "output_type": "execute_result"
    }
   ],
   "source": [
    "weighted_class_report[\"1\"]"
   ]
  },
  {
   "cell_type": "code",
   "execution_count": 47,
   "metadata": {},
   "outputs": [
    {
     "data": {
      "text/html": [
       "<div>\n",
       "<style scoped>\n",
       "    .dataframe tbody tr th:only-of-type {\n",
       "        vertical-align: middle;\n",
       "    }\n",
       "\n",
       "    .dataframe tbody tr th {\n",
       "        vertical-align: top;\n",
       "    }\n",
       "\n",
       "    .dataframe thead th {\n",
       "        text-align: right;\n",
       "    }\n",
       "</style>\n",
       "<table border=\"1\" class=\"dataframe\">\n",
       "  <thead>\n",
       "    <tr style=\"text-align: right;\">\n",
       "      <th></th>\n",
       "      <th>m_FJpt</th>\n",
       "      <th>m_FJeta</th>\n",
       "      <th>m_FJphi</th>\n",
       "      <th>m_FJm</th>\n",
       "      <th>m_DTpt</th>\n",
       "      <th>m_DTeta</th>\n",
       "      <th>m_DTphi</th>\n",
       "      <th>m_DTm</th>\n",
       "      <th>m_dPhiFTwDT</th>\n",
       "      <th>m_dRFJwDT</th>\n",
       "      <th>m_dPhiDTwMET</th>\n",
       "      <th>m_MET</th>\n",
       "      <th>m_hhm</th>\n",
       "      <th>m_bbttpt</th>\n",
       "    </tr>\n",
       "  </thead>\n",
       "  <tbody>\n",
       "    <tr>\n",
       "      <td>0</td>\n",
       "      <td>0.128458</td>\n",
       "      <td>0.444064</td>\n",
       "      <td>-0.745452</td>\n",
       "      <td>-1.657235</td>\n",
       "      <td>-0.481872</td>\n",
       "      <td>-0.820906</td>\n",
       "      <td>0.988531</td>\n",
       "      <td>-0.702398</td>\n",
       "      <td>0.286334</td>\n",
       "      <td>-0.060290</td>\n",
       "      <td>-0.308709</td>\n",
       "      <td>1.126562</td>\n",
       "      <td>-0.536886</td>\n",
       "      <td>0.342590</td>\n",
       "    </tr>\n",
       "    <tr>\n",
       "      <td>1</td>\n",
       "      <td>-0.156988</td>\n",
       "      <td>-0.757389</td>\n",
       "      <td>-1.496936</td>\n",
       "      <td>-0.586347</td>\n",
       "      <td>0.566530</td>\n",
       "      <td>-0.956854</td>\n",
       "      <td>0.265225</td>\n",
       "      <td>-0.189615</td>\n",
       "      <td>0.638970</td>\n",
       "      <td>-0.390017</td>\n",
       "      <td>-0.565041</td>\n",
       "      <td>-0.443050</td>\n",
       "      <td>-0.440012</td>\n",
       "      <td>-0.841343</td>\n",
       "    </tr>\n",
       "    <tr>\n",
       "      <td>2</td>\n",
       "      <td>0.909215</td>\n",
       "      <td>-0.559890</td>\n",
       "      <td>-1.669714</td>\n",
       "      <td>1.426536</td>\n",
       "      <td>0.032083</td>\n",
       "      <td>0.765652</td>\n",
       "      <td>0.099236</td>\n",
       "      <td>-0.281315</td>\n",
       "      <td>0.723581</td>\n",
       "      <td>0.298984</td>\n",
       "      <td>0.002194</td>\n",
       "      <td>0.823494</td>\n",
       "      <td>0.618808</td>\n",
       "      <td>0.595511</td>\n",
       "    </tr>\n",
       "    <tr>\n",
       "      <td>3</td>\n",
       "      <td>0.196879</td>\n",
       "      <td>-0.114628</td>\n",
       "      <td>1.323253</td>\n",
       "      <td>0.476223</td>\n",
       "      <td>0.194285</td>\n",
       "      <td>-1.168272</td>\n",
       "      <td>-0.466495</td>\n",
       "      <td>-0.278684</td>\n",
       "      <td>-0.281268</td>\n",
       "      <td>-0.609143</td>\n",
       "      <td>0.190864</td>\n",
       "      <td>1.194448</td>\n",
       "      <td>-0.081120</td>\n",
       "      <td>-0.049415</td>\n",
       "    </tr>\n",
       "    <tr>\n",
       "      <td>4</td>\n",
       "      <td>0.394505</td>\n",
       "      <td>-0.213164</td>\n",
       "      <td>-1.239563</td>\n",
       "      <td>-0.037726</td>\n",
       "      <td>-0.663591</td>\n",
       "      <td>0.236512</td>\n",
       "      <td>0.670940</td>\n",
       "      <td>-0.901349</td>\n",
       "      <td>-0.626829</td>\n",
       "      <td>-1.113055</td>\n",
       "      <td>0.052019</td>\n",
       "      <td>1.894388</td>\n",
       "      <td>-1.087163</td>\n",
       "      <td>0.857332</td>\n",
       "    </tr>\n",
       "    <tr>\n",
       "      <td>...</td>\n",
       "      <td>...</td>\n",
       "      <td>...</td>\n",
       "      <td>...</td>\n",
       "      <td>...</td>\n",
       "      <td>...</td>\n",
       "      <td>...</td>\n",
       "      <td>...</td>\n",
       "      <td>...</td>\n",
       "      <td>...</td>\n",
       "      <td>...</td>\n",
       "      <td>...</td>\n",
       "      <td>...</td>\n",
       "      <td>...</td>\n",
       "      <td>...</td>\n",
       "    </tr>\n",
       "    <tr>\n",
       "      <td>5278</td>\n",
       "      <td>1.006997</td>\n",
       "      <td>-1.203808</td>\n",
       "      <td>1.145668</td>\n",
       "      <td>0.292682</td>\n",
       "      <td>1.516370</td>\n",
       "      <td>-1.396302</td>\n",
       "      <td>-0.715172</td>\n",
       "      <td>0.880720</td>\n",
       "      <td>-1.085958</td>\n",
       "      <td>-1.488413</td>\n",
       "      <td>0.651004</td>\n",
       "      <td>0.021390</td>\n",
       "      <td>0.914520</td>\n",
       "      <td>0.139117</td>\n",
       "    </tr>\n",
       "    <tr>\n",
       "      <td>5279</td>\n",
       "      <td>0.251795</td>\n",
       "      <td>-0.715543</td>\n",
       "      <td>-1.414500</td>\n",
       "      <td>0.168332</td>\n",
       "      <td>-1.586405</td>\n",
       "      <td>0.636028</td>\n",
       "      <td>0.311082</td>\n",
       "      <td>-0.947185</td>\n",
       "      <td>0.217812</td>\n",
       "      <td>0.029894</td>\n",
       "      <td>-0.824856</td>\n",
       "      <td>1.393681</td>\n",
       "      <td>-1.495175</td>\n",
       "      <td>1.399821</td>\n",
       "    </tr>\n",
       "    <tr>\n",
       "      <td>5280</td>\n",
       "      <td>1.117179</td>\n",
       "      <td>-0.891977</td>\n",
       "      <td>1.405008</td>\n",
       "      <td>0.628997</td>\n",
       "      <td>0.026455</td>\n",
       "      <td>-0.173522</td>\n",
       "      <td>-0.308908</td>\n",
       "      <td>-0.711637</td>\n",
       "      <td>0.581483</td>\n",
       "      <td>-0.208427</td>\n",
       "      <td>-0.379907</td>\n",
       "      <td>1.154322</td>\n",
       "      <td>0.143942</td>\n",
       "      <td>0.796931</td>\n",
       "    </tr>\n",
       "    <tr>\n",
       "      <td>5281</td>\n",
       "      <td>2.511596</td>\n",
       "      <td>-0.225271</td>\n",
       "      <td>-0.347615</td>\n",
       "      <td>2.846056</td>\n",
       "      <td>1.790106</td>\n",
       "      <td>0.558085</td>\n",
       "      <td>1.449185</td>\n",
       "      <td>0.087994</td>\n",
       "      <td>0.708370</td>\n",
       "      <td>-0.123917</td>\n",
       "      <td>0.312319</td>\n",
       "      <td>0.917576</td>\n",
       "      <td>2.557956</td>\n",
       "      <td>0.556232</td>\n",
       "    </tr>\n",
       "    <tr>\n",
       "      <td>5282</td>\n",
       "      <td>0.379539</td>\n",
       "      <td>0.754159</td>\n",
       "      <td>-1.537993</td>\n",
       "      <td>-0.045377</td>\n",
       "      <td>-0.510866</td>\n",
       "      <td>-0.226654</td>\n",
       "      <td>0.328039</td>\n",
       "      <td>-1.138246</td>\n",
       "      <td>-0.131147</td>\n",
       "      <td>-0.517328</td>\n",
       "      <td>0.110814</td>\n",
       "      <td>1.407469</td>\n",
       "      <td>-0.632933</td>\n",
       "      <td>0.642820</td>\n",
       "    </tr>\n",
       "  </tbody>\n",
       "</table>\n",
       "<p>5283 rows × 14 columns</p>\n",
       "</div>"
      ],
      "text/plain": [
       "        m_FJpt   m_FJeta   m_FJphi     m_FJm    m_DTpt   m_DTeta   m_DTphi  \\\n",
       "0     0.128458  0.444064 -0.745452 -1.657235 -0.481872 -0.820906  0.988531   \n",
       "1    -0.156988 -0.757389 -1.496936 -0.586347  0.566530 -0.956854  0.265225   \n",
       "2     0.909215 -0.559890 -1.669714  1.426536  0.032083  0.765652  0.099236   \n",
       "3     0.196879 -0.114628  1.323253  0.476223  0.194285 -1.168272 -0.466495   \n",
       "4     0.394505 -0.213164 -1.239563 -0.037726 -0.663591  0.236512  0.670940   \n",
       "...        ...       ...       ...       ...       ...       ...       ...   \n",
       "5278  1.006997 -1.203808  1.145668  0.292682  1.516370 -1.396302 -0.715172   \n",
       "5279  0.251795 -0.715543 -1.414500  0.168332 -1.586405  0.636028  0.311082   \n",
       "5280  1.117179 -0.891977  1.405008  0.628997  0.026455 -0.173522 -0.308908   \n",
       "5281  2.511596 -0.225271 -0.347615  2.846056  1.790106  0.558085  1.449185   \n",
       "5282  0.379539  0.754159 -1.537993 -0.045377 -0.510866 -0.226654  0.328039   \n",
       "\n",
       "         m_DTm  m_dPhiFTwDT  m_dRFJwDT  m_dPhiDTwMET     m_MET     m_hhm  \\\n",
       "0    -0.702398     0.286334  -0.060290     -0.308709  1.126562 -0.536886   \n",
       "1    -0.189615     0.638970  -0.390017     -0.565041 -0.443050 -0.440012   \n",
       "2    -0.281315     0.723581   0.298984      0.002194  0.823494  0.618808   \n",
       "3    -0.278684    -0.281268  -0.609143      0.190864  1.194448 -0.081120   \n",
       "4    -0.901349    -0.626829  -1.113055      0.052019  1.894388 -1.087163   \n",
       "...        ...          ...        ...           ...       ...       ...   \n",
       "5278  0.880720    -1.085958  -1.488413      0.651004  0.021390  0.914520   \n",
       "5279 -0.947185     0.217812   0.029894     -0.824856  1.393681 -1.495175   \n",
       "5280 -0.711637     0.581483  -0.208427     -0.379907  1.154322  0.143942   \n",
       "5281  0.087994     0.708370  -0.123917      0.312319  0.917576  2.557956   \n",
       "5282 -1.138246    -0.131147  -0.517328      0.110814  1.407469 -0.632933   \n",
       "\n",
       "      m_bbttpt  \n",
       "0     0.342590  \n",
       "1    -0.841343  \n",
       "2     0.595511  \n",
       "3    -0.049415  \n",
       "4     0.857332  \n",
       "...        ...  \n",
       "5278  0.139117  \n",
       "5279  1.399821  \n",
       "5280  0.796931  \n",
       "5281  0.556232  \n",
       "5282  0.642820  \n",
       "\n",
       "[5283 rows x 14 columns]"
      ]
     },
     "execution_count": 47,
     "metadata": {},
     "output_type": "execute_result"
    }
   ],
   "source": [
    "x_train"
   ]
  },
  {
   "cell_type": "code",
   "execution_count": 48,
   "metadata": {},
   "outputs": [],
   "source": [
    "import seaborn as sns"
   ]
  },
  {
   "cell_type": "code",
   "execution_count": 49,
   "metadata": {},
   "outputs": [],
   "source": [
    "bool_train_labels = y_train != 0\n",
    "\n"
   ]
  },
  {
   "cell_type": "code",
   "execution_count": 51,
   "metadata": {},
   "outputs": [
    {
     "data": {
      "text/plain": [
       "Index(['m_FJpt', 'm_FJeta', 'm_FJphi', 'm_FJm', 'm_DTpt', 'm_DTeta', 'm_DTphi',\n",
       "       'm_DTm', 'm_dPhiFTwDT', 'm_dRFJwDT', 'm_dPhiDTwMET', 'm_MET', 'm_hhm',\n",
       "       'm_bbttpt'],\n",
       "      dtype='object')"
      ]
     },
     "execution_count": 51,
     "metadata": {},
     "output_type": "execute_result"
    }
   ],
   "source": [
    "x_train.columns"
   ]
  },
  {
   "cell_type": "code",
   "execution_count": 53,
   "metadata": {},
   "outputs": [],
   "source": [
    "\n",
    "\n",
    "pos_df = pd.DataFrame(x_train[ bool_train_labels], columns = x_train.columns)\n",
    "neg_df = pd.DataFrame(x_train[~bool_train_labels], columns = x_train.columns)\n",
    "\n",
    "\n"
   ]
  },
  {
   "cell_type": "code",
   "execution_count": 80,
   "metadata": {},
   "outputs": [
    {
     "data": {
      "text/plain": [
       "-1.6461303376627774"
      ]
     },
     "execution_count": 80,
     "metadata": {},
     "output_type": "execute_result"
    }
   ],
   "source": [
    "pos_df['m_DTpt'].min()"
   ]
  },
  {
   "cell_type": "code",
   "execution_count": 81,
   "metadata": {},
   "outputs": [
    {
     "data": {
      "text/plain": [
       "<seaborn.axisgrid.JointGrid at 0x7f998d5d9c18>"
      ]
     },
     "execution_count": 81,
     "metadata": {},
     "output_type": "execute_result"
    },
    {
     "data": {
      "image/png": "[encoded data removed]",
      "text/plain": [
       "<Figure size 432x432 with 3 Axes>"
      ]
     },
     "metadata": {
      "needs_background": "light"
     },
     "output_type": "display_data"
    },
    {
     "data": {
      "image/png": "[encoded data removed]",
      "text/plain": [
       "<Figure size 432x432 with 3 Axes>"
      ]
     },
     "metadata": {
      "needs_background": "light"
     },
     "output_type": "display_data"
    }
   ],
   "source": [
    "sns.jointplot(pos_df['m_FJm'], pos_df['m_DTpt'], kind='hex', xlim = (pos_df['m_FJm'].min(),pos_df['m_FJm'].max()),\n",
    "              ylim = (pos_df['m_DTpt'].min(),pos_df['m_DTpt'].max()))\n",
    "#plt.title(\"Positive distribution\")\n",
    "\n",
    "\n",
    "sns.jointplot(neg_df['m_FJm'], neg_df['m_DTpt'],\n",
    "             kind='hex', xlim = (-5,6), ylim = (-5,6))\n",
    "#_ = plt.suptitle(\"Negative distribution\")"
   ]
  },
  {
   "cell_type": "code",
   "execution_count": null,
   "metadata": {},
   "outputs": [],
   "source": []
  }
 ],
 "metadata": {
  "kernelspec": {
   "display_name": "Python 3",
   "language": "python",
   "name": "python3"
  },
  "language_info": {
   "codemirror_mode": {
    "name": "ipython",
    "version": 3
   },
   "file_extension": ".py",
   "mimetype": "text/x-python",
   "name": "python",
   "nbconvert_exporter": "python",
   "pygments_lexer": "ipython3",
   "version": "3.7.3"
  }
 },
 "nbformat": 4,
 "nbformat_minor": 2
}
