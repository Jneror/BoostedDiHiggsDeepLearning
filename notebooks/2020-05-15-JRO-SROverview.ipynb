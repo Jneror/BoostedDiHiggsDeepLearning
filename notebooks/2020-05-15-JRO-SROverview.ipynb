{
 "cells": [
  {
   "cell_type": "markdown",
   "metadata": {},
   "source": [
    "# SR region overview\n",
    "2020-05-15, John Rodriguez\n",
    "\n",
    "Last time we reviewed the class distribution to analize the imbalance problem. Now we overview the SR Region."
   ]
  },
  {
   "cell_type": "code",
   "execution_count": 1,
   "metadata": {},
   "outputs": [
    {
     "output_type": "stream",
     "name": "stdout",
     "text": "Welcome to JupyROOT 6.20/02\n"
    }
   ],
   "source": [
    "import pandas as pd\n",
    "from glob import glob\n",
    "ada_parent_dir = \"../\"\n",
    "import sys\n",
    "sys.path.append(ada_parent_dir)\n",
    "import ada\n",
    "import matplotlib.pyplot as plt"
   ]
  },
  {
   "cell_type": "code",
   "execution_count": 2,
   "metadata": {},
   "outputs": [],
   "source": [
    "data_path = \"../processed_data/\"\n",
    "signal = \"Xtohh\""
   ]
  },
  {
   "cell_type": "code",
   "execution_count": 3,
   "metadata": {},
   "outputs": [],
   "source": [
    "#import datasets\n",
    "datasets = {path.split('/')[-1][:-4]: pd.read_csv(path) for path in glob(data_path + signal + \"[0-9]*.csv\")}"
   ]
  },
  {
   "cell_type": "code",
   "execution_count": 4,
   "metadata": {},
   "outputs": [],
   "source": [
    "#filter SR region and drop two dim\n",
    "datasets = {sign_name: ada.drop_twodim(ada.filter_region(sign_df, \"SR\")) for sign_name, sign_df in datasets.items()}"
   ]
  },
  {
   "cell_type": "code",
   "execution_count": 5,
   "metadata": {},
   "outputs": [],
   "source": [
    "#classify\n",
    "datasets = {sign_name: ada.classify_events(sign_df, sign_name, \"signal\") for sign_name, sign_df in datasets.items()}"
   ]
  },
  {
   "cell_type": "code",
   "execution_count": 6,
   "metadata": {},
   "outputs": [],
   "source": [
    "#joining all dataset, creating a new column for the dataset name\n",
    "datasets_df = pd.concat(datasets)\n",
    "datasets_df.index.names = [\"dataset\", None]\n",
    "datasets_df.reset_index(level=[0], inplace = True)"
   ]
  },
  {
   "cell_type": "code",
   "execution_count": 7,
   "metadata": {},
   "outputs": [
    {
     "output_type": "execute_result",
     "data": {
      "text/plain": "           signal w-density  signal density  signal count  total count\ndataset                                                               \nXtohh1000          0.009179        0.099339        4703.0      47343.0\nXtohh1200          0.043242        0.209668       11312.0      53952.0\nXtohh1400          0.068527        0.295986       17927.0      60567.0\nXtohh1600          0.085138        0.342036       22166.0      64806.0\nXtohh1800          0.094526        0.365212       24532.0      67172.0\nXtohh2000          0.097602        0.371258       25178.0      67818.0\nXtohh2500          0.087944        0.337981       21769.0      64409.0\nXtohh3000          0.059922        0.247706       14040.0      56680.0",
      "text/html": "<div>\n<style scoped>\n    .dataframe tbody tr th:only-of-type {\n        vertical-align: middle;\n    }\n\n    .dataframe tbody tr th {\n        vertical-align: top;\n    }\n\n    .dataframe thead th {\n        text-align: right;\n    }\n</style>\n<table border=\"1\" class=\"dataframe\">\n  <thead>\n    <tr style=\"text-align: right;\">\n      <th></th>\n      <th>signal w-density</th>\n      <th>signal density</th>\n      <th>signal count</th>\n      <th>total count</th>\n    </tr>\n    <tr>\n      <th>dataset</th>\n      <th></th>\n      <th></th>\n      <th></th>\n      <th></th>\n    </tr>\n  </thead>\n  <tbody>\n    <tr>\n      <th>Xtohh1000</th>\n      <td>0.009179</td>\n      <td>0.099339</td>\n      <td>4703.0</td>\n      <td>47343.0</td>\n    </tr>\n    <tr>\n      <th>Xtohh1200</th>\n      <td>0.043242</td>\n      <td>0.209668</td>\n      <td>11312.0</td>\n      <td>53952.0</td>\n    </tr>\n    <tr>\n      <th>Xtohh1400</th>\n      <td>0.068527</td>\n      <td>0.295986</td>\n      <td>17927.0</td>\n      <td>60567.0</td>\n    </tr>\n    <tr>\n      <th>Xtohh1600</th>\n      <td>0.085138</td>\n      <td>0.342036</td>\n      <td>22166.0</td>\n      <td>64806.0</td>\n    </tr>\n    <tr>\n      <th>Xtohh1800</th>\n      <td>0.094526</td>\n      <td>0.365212</td>\n      <td>24532.0</td>\n      <td>67172.0</td>\n    </tr>\n    <tr>\n      <th>Xtohh2000</th>\n      <td>0.097602</td>\n      <td>0.371258</td>\n      <td>25178.0</td>\n      <td>67818.0</td>\n    </tr>\n    <tr>\n      <th>Xtohh2500</th>\n      <td>0.087944</td>\n      <td>0.337981</td>\n      <td>21769.0</td>\n      <td>64409.0</td>\n    </tr>\n    <tr>\n      <th>Xtohh3000</th>\n      <td>0.059922</td>\n      <td>0.247706</td>\n      <td>14040.0</td>\n      <td>56680.0</td>\n    </tr>\n  </tbody>\n</table>\n</div>"
     },
     "metadata": {},
     "execution_count": 7
    }
   ],
   "source": [
    "SR_distri = ada.signal_distribution_per(datasets_df, [\"dataset\"])\n",
    "SR_distri\n",
    "#showing just the distribution for SR\n",
    "#signal_distri.loc[pd.IndexSlice[:, 'SR'], :]"
   ]
  },
  {
   "cell_type": "code",
   "execution_count": 8,
   "metadata": {},
   "outputs": [
    {
     "output_type": "execute_result",
     "data": {
      "text/plain": "                         signal w-density  signal density  signal count  \\\ndataset   m_FJNbtagJets                                                   \nXtohh1000 0                      0.002050        0.022466         902.0   \n          1                      0.043697        0.401192        2154.0   \n          2                      0.323422        0.902961        1647.0   \nXtohh1200 0                      0.008715        0.044387        1823.0   \n          1                      0.177675        0.609309        5014.0   \n          2                      0.722300        0.961952        4475.0   \nXtohh1400 0                      0.014392        0.068628        2892.0   \n          1                      0.265908        0.716815        8138.0   \n          2                      0.801651        0.974979        6897.0   \nXtohh1600 0                      0.019527        0.088803        3825.0   \n          1                      0.317951        0.760682       10219.0   \n          2                      0.827546        0.978672        8122.0   \nXtohh1800 0                      0.023204        0.102964        4505.0   \n          1                      0.345857        0.781099       11472.0   \n          2                      0.836197        0.979730        8555.0   \nXtohh2000 0                      0.024409        0.106335        4670.0   \n          1                      0.358223        0.787971       11948.0   \n          2                      0.835605        0.979741        8560.0   \nXtohh2500 0                      0.025313        0.105744        4641.0   \n          1                      0.331801        0.764641       10445.0   \n          2                      0.801649        0.974198        6683.0   \nXtohh3000 0                      0.018193        0.076735        3262.0   \n          1                      0.250274        0.680322        6842.0   \n          2                      0.706201        0.956966        3936.0   \n\n                         total count  \ndataset   m_FJNbtagJets               \nXtohh1000 0                  40150.0  \n          1                   5369.0  \n          2                   1824.0  \nXtohh1200 0                  41071.0  \n          1                   8229.0  \n          2                   4652.0  \nXtohh1400 0                  42140.0  \n          1                  11353.0  \n          2                   7074.0  \nXtohh1600 0                  43073.0  \n          1                  13434.0  \n          2                   8299.0  \nXtohh1800 0                  43753.0  \n          1                  14687.0  \n          2                   8732.0  \nXtohh2000 0                  43918.0  \n          1                  15163.0  \n          2                   8737.0  \nXtohh2500 0                  43889.0  \n          1                  13660.0  \n          2                   6860.0  \nXtohh3000 0                  42510.0  \n          1                  10057.0  \n          2                   4113.0  ",
      "text/html": "<div>\n<style scoped>\n    .dataframe tbody tr th:only-of-type {\n        vertical-align: middle;\n    }\n\n    .dataframe tbody tr th {\n        vertical-align: top;\n    }\n\n    .dataframe thead th {\n        text-align: right;\n    }\n</style>\n<table border=\"1\" class=\"dataframe\">\n  <thead>\n    <tr style=\"text-align: right;\">\n      <th></th>\n      <th></th>\n      <th>signal w-density</th>\n      <th>signal density</th>\n      <th>signal count</th>\n      <th>total count</th>\n    </tr>\n    <tr>\n      <th>dataset</th>\n      <th>m_FJNbtagJets</th>\n      <th></th>\n      <th></th>\n      <th></th>\n      <th></th>\n    </tr>\n  </thead>\n  <tbody>\n    <tr>\n      <th rowspan=\"3\" valign=\"top\">Xtohh1000</th>\n      <th>0</th>\n      <td>0.002050</td>\n      <td>0.022466</td>\n      <td>902.0</td>\n      <td>40150.0</td>\n    </tr>\n    <tr>\n      <th>1</th>\n      <td>0.043697</td>\n      <td>0.401192</td>\n      <td>2154.0</td>\n      <td>5369.0</td>\n    </tr>\n    <tr>\n      <th>2</th>\n      <td>0.323422</td>\n      <td>0.902961</td>\n      <td>1647.0</td>\n      <td>1824.0</td>\n    </tr>\n    <tr>\n      <th rowspan=\"3\" valign=\"top\">Xtohh1200</th>\n      <th>0</th>\n      <td>0.008715</td>\n      <td>0.044387</td>\n      <td>1823.0</td>\n      <td>41071.0</td>\n    </tr>\n    <tr>\n      <th>1</th>\n      <td>0.177675</td>\n      <td>0.609309</td>\n      <td>5014.0</td>\n      <td>8229.0</td>\n    </tr>\n    <tr>\n      <th>2</th>\n      <td>0.722300</td>\n      <td>0.961952</td>\n      <td>4475.0</td>\n      <td>4652.0</td>\n    </tr>\n    <tr>\n      <th rowspan=\"3\" valign=\"top\">Xtohh1400</th>\n      <th>0</th>\n      <td>0.014392</td>\n      <td>0.068628</td>\n      <td>2892.0</td>\n      <td>42140.0</td>\n    </tr>\n    <tr>\n      <th>1</th>\n      <td>0.265908</td>\n      <td>0.716815</td>\n      <td>8138.0</td>\n      <td>11353.0</td>\n    </tr>\n    <tr>\n      <th>2</th>\n      <td>0.801651</td>\n      <td>0.974979</td>\n      <td>6897.0</td>\n      <td>7074.0</td>\n    </tr>\n    <tr>\n      <th rowspan=\"3\" valign=\"top\">Xtohh1600</th>\n      <th>0</th>\n      <td>0.019527</td>\n      <td>0.088803</td>\n      <td>3825.0</td>\n      <td>43073.0</td>\n    </tr>\n    <tr>\n      <th>1</th>\n      <td>0.317951</td>\n      <td>0.760682</td>\n      <td>10219.0</td>\n      <td>13434.0</td>\n    </tr>\n    <tr>\n      <th>2</th>\n      <td>0.827546</td>\n      <td>0.978672</td>\n      <td>8122.0</td>\n      <td>8299.0</td>\n    </tr>\n    <tr>\n      <th rowspan=\"3\" valign=\"top\">Xtohh1800</th>\n      <th>0</th>\n      <td>0.023204</td>\n      <td>0.102964</td>\n      <td>4505.0</td>\n      <td>43753.0</td>\n    </tr>\n    <tr>\n      <th>1</th>\n      <td>0.345857</td>\n      <td>0.781099</td>\n      <td>11472.0</td>\n      <td>14687.0</td>\n    </tr>\n    <tr>\n      <th>2</th>\n      <td>0.836197</td>\n      <td>0.979730</td>\n      <td>8555.0</td>\n      <td>8732.0</td>\n    </tr>\n    <tr>\n      <th rowspan=\"3\" valign=\"top\">Xtohh2000</th>\n      <th>0</th>\n      <td>0.024409</td>\n      <td>0.106335</td>\n      <td>4670.0</td>\n      <td>43918.0</td>\n    </tr>\n    <tr>\n      <th>1</th>\n      <td>0.358223</td>\n      <td>0.787971</td>\n      <td>11948.0</td>\n      <td>15163.0</td>\n    </tr>\n    <tr>\n      <th>2</th>\n      <td>0.835605</td>\n      <td>0.979741</td>\n      <td>8560.0</td>\n      <td>8737.0</td>\n    </tr>\n    <tr>\n      <th rowspan=\"3\" valign=\"top\">Xtohh2500</th>\n      <th>0</th>\n      <td>0.025313</td>\n      <td>0.105744</td>\n      <td>4641.0</td>\n      <td>43889.0</td>\n    </tr>\n    <tr>\n      <th>1</th>\n      <td>0.331801</td>\n      <td>0.764641</td>\n      <td>10445.0</td>\n      <td>13660.0</td>\n    </tr>\n    <tr>\n      <th>2</th>\n      <td>0.801649</td>\n      <td>0.974198</td>\n      <td>6683.0</td>\n      <td>6860.0</td>\n    </tr>\n    <tr>\n      <th rowspan=\"3\" valign=\"top\">Xtohh3000</th>\n      <th>0</th>\n      <td>0.018193</td>\n      <td>0.076735</td>\n      <td>3262.0</td>\n      <td>42510.0</td>\n    </tr>\n    <tr>\n      <th>1</th>\n      <td>0.250274</td>\n      <td>0.680322</td>\n      <td>6842.0</td>\n      <td>10057.0</td>\n    </tr>\n    <tr>\n      <th>2</th>\n      <td>0.706201</td>\n      <td>0.956966</td>\n      <td>3936.0</td>\n      <td>4113.0</td>\n    </tr>\n  </tbody>\n</table>\n</div>"
     },
     "metadata": {},
     "execution_count": 8
    }
   ],
   "source": [
    "SR_tag_distri = ada.signal_distribution_per(datasets_df, [\"dataset\", \"m_FJNbtagJets\"])\n",
    "SR_tag_distri"
   ]
  },
  {
   "cell_type": "code",
   "execution_count": null,
   "metadata": {},
   "outputs": [],
   "source": []
  }
 ],
 "metadata": {
  "language_info": {
   "codemirror_mode": {
    "name": "ipython",
    "version": 3
   },
   "file_extension": ".py",
   "mimetype": "text/x-python",
   "name": "python",
   "nbconvert_exporter": "python",
   "pygments_lexer": "ipython3",
   "version": "3.8.2-final"
  },
  "orig_nbformat": 2,
  "kernelspec": {
   "name": "python38264bit24a033812d7e4debb753145e8e6adfd6",
   "display_name": "Python 3.8.2 64-bit"
  }
 },
 "nbformat": 4,
 "nbformat_minor": 2
}