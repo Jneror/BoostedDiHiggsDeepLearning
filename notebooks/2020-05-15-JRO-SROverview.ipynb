{
 "cells": [
  {
   "cell_type": "markdown",
   "metadata": {},
   "source": [
    "# Generating Training Dataset\n",
    "2020-05-15, John Rodriguez\n",
    "\n",
    "Last time we reviewed the class distribution to analize the imbalance problem. Now a training dataset is formed by taking into account the class distributions."
   ]
  },
  {
   "cell_type": "code",
   "execution_count": 1,
   "metadata": {},
   "outputs": [
    {
     "output_type": "stream",
     "name": "stdout",
     "text": "Welcome to JupyROOT 6.20/02\n"
    }
   ],
   "source": [
    "import pandas as pd\n",
    "from glob import glob\n",
    "ada_parent_dir = \"../\"\n",
    "import sys\n",
    "sys.path.append(ada_parent_dir)\n",
    "import ada\n",
    "import matplotlib.pyplot as plt"
   ]
  },
  {
   "cell_type": "code",
   "execution_count": 2,
   "metadata": {},
   "outputs": [],
   "source": [
    "data_path = \"../processed_data/\"\n",
    "signal = \"Xtohh\""
   ]
  },
  {
   "cell_type": "code",
   "execution_count": 3,
   "metadata": {},
   "outputs": [],
   "source": [
    "#import datasets\n",
    "datasets = {path.split('/')[-1][:-4]: pd.read_csv(path) for path in glob(data_path + signal + \"[0-9]*.csv\")}"
   ]
  },
  {
   "cell_type": "code",
   "execution_count": 4,
   "metadata": {},
   "outputs": [],
   "source": [
    "#filter SR region and drop two dim\n",
    "datasets = {sign_name: ada.drop_twodim(ada.filter_region(sign_df, \"SR\")) for sign_name, sign_df in datasets.items()}"
   ]
  },
  {
   "cell_type": "code",
   "execution_count": 5,
   "metadata": {},
   "outputs": [],
   "source": [
    "#classify\n",
    "datasets = {sign_name: ada.classify_events(sign_df, sign_name, \"signal\") for sign_name, sign_df in datasets.items()}"
   ]
  },
  {
   "cell_type": "code",
   "execution_count": 6,
   "metadata": {},
   "outputs": [],
   "source": [
    "#joining all dataset, creating a new column for the dataset name\n",
    "datasets_df = pd.concat(datasets)\n",
    "datasets_df.index.names = [\"dataset\", None]\n",
    "datasets_df.reset_index(level=[0], inplace = True)"
   ]
  },
  {
   "cell_type": "code",
   "execution_count": 7,
   "metadata": {},
   "outputs": [
    {
     "output_type": "execute_result",
     "data": {
      "text/plain": "           signal w-density  signal density  signal count  total count\ndataset                                                               \nXtohh1000          0.009179        0.099339        4703.0      47343.0\nXtohh1200          0.043242        0.209668       11312.0      53952.0\nXtohh1400          0.068527        0.295986       17927.0      60567.0\nXtohh1600          0.085138        0.342036       22166.0      64806.0\nXtohh1800          0.094526        0.365212       24532.0      67172.0\nXtohh2000          0.097602        0.371258       25178.0      67818.0\nXtohh2500          0.087944        0.337981       21769.0      64409.0\nXtohh3000          0.059922        0.247706       14040.0      56680.0",
      "text/html": "<div>\n<style scoped>\n    .dataframe tbody tr th:only-of-type {\n        vertical-align: middle;\n    }\n\n    .dataframe tbody tr th {\n        vertical-align: top;\n    }\n\n    .dataframe thead th {\n        text-align: right;\n    }\n</style>\n<table border=\"1\" class=\"dataframe\">\n  <thead>\n    <tr style=\"text-align: right;\">\n      <th></th>\n      <th>signal w-density</th>\n      <th>signal density</th>\n      <th>signal count</th>\n      <th>total count</th>\n    </tr>\n    <tr>\n      <th>dataset</th>\n      <th></th>\n      <th></th>\n      <th></th>\n      <th></th>\n    </tr>\n  </thead>\n  <tbody>\n    <tr>\n      <th>Xtohh1000</th>\n      <td>0.009179</td>\n      <td>0.099339</td>\n      <td>4703.0</td>\n      <td>47343.0</td>\n    </tr>\n    <tr>\n      <th>Xtohh1200</th>\n      <td>0.043242</td>\n      <td>0.209668</td>\n      <td>11312.0</td>\n      <td>53952.0</td>\n    </tr>\n    <tr>\n      <th>Xtohh1400</th>\n      <td>0.068527</td>\n      <td>0.295986</td>\n      <td>17927.0</td>\n      <td>60567.0</td>\n    </tr>\n    <tr>\n      <th>Xtohh1600</th>\n      <td>0.085138</td>\n      <td>0.342036</td>\n      <td>22166.0</td>\n      <td>64806.0</td>\n    </tr>\n    <tr>\n      <th>Xtohh1800</th>\n      <td>0.094526</td>\n      <td>0.365212</td>\n      <td>24532.0</td>\n      <td>67172.0</td>\n    </tr>\n    <tr>\n      <th>Xtohh2000</th>\n      <td>0.097602</td>\n      <td>0.371258</td>\n      <td>25178.0</td>\n      <td>67818.0</td>\n    </tr>\n    <tr>\n      <th>Xtohh2500</th>\n      <td>0.087944</td>\n      <td>0.337981</td>\n      <td>21769.0</td>\n      <td>64409.0</td>\n    </tr>\n    <tr>\n      <th>Xtohh3000</th>\n      <td>0.059922</td>\n      <td>0.247706</td>\n      <td>14040.0</td>\n      <td>56680.0</td>\n    </tr>\n  </tbody>\n</table>\n</div>"
     },
     "metadata": {},
     "execution_count": 7
    }
   ],
   "source": [
    "SR_distri = ada.signal_distribution_per(datasets_df, [\"dataset\"])\n",
    "SR_distri\n",
    "#showing just the distribution for SR\n",
    "#signal_distri.loc[pd.IndexSlice[:, 'SR'], :]"
   ]
  },
  {
   "cell_type": "code",
   "execution_count": 8,
   "metadata": {},
   "outputs": [
    {
     "output_type": "execute_result",
     "data": {
      "text/plain": "                         signal w-density  signal density  signal count  \\\ndataset   m_FJNbtagJets                                                   \nXtohh1000 0                      0.002050        0.022466         902.0   \n          1                      0.043697        0.401192        2154.0   \n          2                      0.323422        0.902961        1647.0   \nXtohh1200 0                      0.008715        0.044387        1823.0   \n          1                      0.177675        0.609309        5014.0   \n          2                      0.722300        0.961952        4475.0   \nXtohh1400 0                      0.014392        0.068628        2892.0   \n          1                      0.265908        0.716815        8138.0   \n          2                      0.801651        0.974979        6897.0   \nXtohh1600 0                      0.019527        0.088803        3825.0   \n          1                      0.317951        0.760682       10219.0   \n          2                      0.827546        0.978672        8122.0   \nXtohh1800 0                      0.023204        0.102964        4505.0   \n          1                      0.345857        0.781099       11472.0   \n          2                      0.836197        0.979730        8555.0   \nXtohh2000 0                      0.024409        0.106335        4670.0   \n          1                      0.358223        0.787971       11948.0   \n          2                      0.835605        0.979741        8560.0   \nXtohh2500 0                      0.025313        0.105744        4641.0   \n          1                      0.331801        0.764641       10445.0   \n          2                      0.801649        0.974198        6683.0   \nXtohh3000 0                      0.018193        0.076735        3262.0   \n          1                      0.250274        0.680322        6842.0   \n          2                      0.706201        0.956966        3936.0   \n\n                         total count  \ndataset   m_FJNbtagJets               \nXtohh1000 0                  40150.0  \n          1                   5369.0  \n          2                   1824.0  \nXtohh1200 0                  41071.0  \n          1                   8229.0  \n          2                   4652.0  \nXtohh1400 0                  42140.0  \n          1                  11353.0  \n          2                   7074.0  \nXtohh1600 0                  43073.0  \n          1                  13434.0  \n          2                   8299.0  \nXtohh1800 0                  43753.0  \n          1                  14687.0  \n          2                   8732.0  \nXtohh2000 0                  43918.0  \n          1                  15163.0  \n          2                   8737.0  \nXtohh2500 0                  43889.0  \n          1                  13660.0  \n          2                   6860.0  \nXtohh3000 0                  42510.0  \n          1                  10057.0  \n          2                   4113.0  ",
      "text/html": "<div>\n<style scoped>\n    .dataframe tbody tr th:only-of-type {\n        vertical-align: middle;\n    }\n\n    .dataframe tbody tr th {\n        vertical-align: top;\n    }\n\n    .dataframe thead th {\n        text-align: right;\n    }\n</style>\n<table border=\"1\" class=\"dataframe\">\n  <thead>\n    <tr style=\"text-align: right;\">\n      <th></th>\n      <th></th>\n      <th>signal w-density</th>\n      <th>signal density</th>\n      <th>signal count</th>\n      <th>total count</th>\n    </tr>\n    <tr>\n      <th>dataset</th>\n      <th>m_FJNbtagJets</th>\n      <th></th>\n      <th></th>\n      <th></th>\n      <th></th>\n    </tr>\n  </thead>\n  <tbody>\n    <tr>\n      <th rowspan=\"3\" valign=\"top\">Xtohh1000</th>\n      <th>0</th>\n      <td>0.002050</td>\n      <td>0.022466</td>\n      <td>902.0</td>\n      <td>40150.0</td>\n    </tr>\n    <tr>\n      <th>1</th>\n      <td>0.043697</td>\n      <td>0.401192</td>\n      <td>2154.0</td>\n      <td>5369.0</td>\n    </tr>\n    <tr>\n      <th>2</th>\n      <td>0.323422</td>\n      <td>0.902961</td>\n      <td>1647.0</td>\n      <td>1824.0</td>\n    </tr>\n    <tr>\n      <th rowspan=\"3\" valign=\"top\">Xtohh1200</th>\n      <th>0</th>\n      <td>0.008715</td>\n      <td>0.044387</td>\n      <td>1823.0</td>\n      <td>41071.0</td>\n    </tr>\n    <tr>\n      <th>1</th>\n      <td>0.177675</td>\n      <td>0.609309</td>\n      <td>5014.0</td>\n      <td>8229.0</td>\n    </tr>\n    <tr>\n      <th>2</th>\n      <td>0.722300</td>\n      <td>0.961952</td>\n      <td>4475.0</td>\n      <td>4652.0</td>\n    </tr>\n    <tr>\n      <th rowspan=\"3\" valign=\"top\">Xtohh1400</th>\n      <th>0</th>\n      <td>0.014392</td>\n      <td>0.068628</td>\n      <td>2892.0</td>\n      <td>42140.0</td>\n    </tr>\n    <tr>\n      <th>1</th>\n      <td>0.265908</td>\n      <td>0.716815</td>\n      <td>8138.0</td>\n      <td>11353.0</td>\n    </tr>\n    <tr>\n      <th>2</th>\n      <td>0.801651</td>\n      <td>0.974979</td>\n      <td>6897.0</td>\n      <td>7074.0</td>\n    </tr>\n    <tr>\n      <th rowspan=\"3\" valign=\"top\">Xtohh1600</th>\n      <th>0</th>\n      <td>0.019527</td>\n      <td>0.088803</td>\n      <td>3825.0</td>\n      <td>43073.0</td>\n    </tr>\n    <tr>\n      <th>1</th>\n      <td>0.317951</td>\n      <td>0.760682</td>\n      <td>10219.0</td>\n      <td>13434.0</td>\n    </tr>\n    <tr>\n      <th>2</th>\n      <td>0.827546</td>\n      <td>0.978672</td>\n      <td>8122.0</td>\n      <td>8299.0</td>\n    </tr>\n    <tr>\n      <th rowspan=\"3\" valign=\"top\">Xtohh1800</th>\n      <th>0</th>\n      <td>0.023204</td>\n      <td>0.102964</td>\n      <td>4505.0</td>\n      <td>43753.0</td>\n    </tr>\n    <tr>\n      <th>1</th>\n      <td>0.345857</td>\n      <td>0.781099</td>\n      <td>11472.0</td>\n      <td>14687.0</td>\n    </tr>\n    <tr>\n      <th>2</th>\n      <td>0.836197</td>\n      <td>0.979730</td>\n      <td>8555.0</td>\n      <td>8732.0</td>\n    </tr>\n    <tr>\n      <th rowspan=\"3\" valign=\"top\">Xtohh2000</th>\n      <th>0</th>\n      <td>0.024409</td>\n      <td>0.106335</td>\n      <td>4670.0</td>\n      <td>43918.0</td>\n    </tr>\n    <tr>\n      <th>1</th>\n      <td>0.358223</td>\n      <td>0.787971</td>\n      <td>11948.0</td>\n      <td>15163.0</td>\n    </tr>\n    <tr>\n      <th>2</th>\n      <td>0.835605</td>\n      <td>0.979741</td>\n      <td>8560.0</td>\n      <td>8737.0</td>\n    </tr>\n    <tr>\n      <th rowspan=\"3\" valign=\"top\">Xtohh2500</th>\n      <th>0</th>\n      <td>0.025313</td>\n      <td>0.105744</td>\n      <td>4641.0</td>\n      <td>43889.0</td>\n    </tr>\n    <tr>\n      <th>1</th>\n      <td>0.331801</td>\n      <td>0.764641</td>\n      <td>10445.0</td>\n      <td>13660.0</td>\n    </tr>\n    <tr>\n      <th>2</th>\n      <td>0.801649</td>\n      <td>0.974198</td>\n      <td>6683.0</td>\n      <td>6860.0</td>\n    </tr>\n    <tr>\n      <th rowspan=\"3\" valign=\"top\">Xtohh3000</th>\n      <th>0</th>\n      <td>0.018193</td>\n      <td>0.076735</td>\n      <td>3262.0</td>\n      <td>42510.0</td>\n    </tr>\n    <tr>\n      <th>1</th>\n      <td>0.250274</td>\n      <td>0.680322</td>\n      <td>6842.0</td>\n      <td>10057.0</td>\n    </tr>\n    <tr>\n      <th>2</th>\n      <td>0.706201</td>\n      <td>0.956966</td>\n      <td>3936.0</td>\n      <td>4113.0</td>\n    </tr>\n  </tbody>\n</table>\n</div>"
     },
     "metadata": {},
     "execution_count": 8
    }
   ],
   "source": [
    "SR_tag_distri = ada.signal_distribution_per(datasets_df, [\"dataset\", \"m_FJNbtagJets\"])\n",
    "SR_tag_distri"
   ]
  },
  {
   "cell_type": "code",
   "execution_count": 9,
   "metadata": {},
   "outputs": [
    {
     "output_type": "execute_result",
     "data": {
      "text/plain": "            ...         ...           ...         ...       ...  ...   \n 64404              0           2             2   955.26654  0.028910  ...   \n 64405              0           4             0   735.26514  0.390625  ...   \n 64406              0           3             0   520.63250  1.616675  ...   \n 64407              0           2             2   896.32080 -0.958494  ...   \n 64408              0           1             0   749.22890  1.617457  ...   \n \n        m_dRFJwDT  m_dPhiDTwMET       m_MET       m_hhm    m_bbttpt  \\\n 0       4.089987      0.445187  132.110150  2082.29610  150.148210   \n 1       3.725329     -0.140905  513.648200  1758.10440  403.266940   \n 2       3.535929      0.181399   82.328926  1413.98330   48.423172   \n 3       2.758858      0.394176  236.953540  1762.04630  615.258540   \n 4       2.874210     -0.054439  308.787380  1946.94820  563.980960   \n ...          ...           ...         ...         ...         ...   \n 64404   3.375351     -0.205267   37.255154  2121.19870  160.687380   \n 64405   3.045587      0.100434  501.886800  1068.96910  385.302340   \n 64406   2.286534     -0.079904  203.399960   884.60950  422.395900   \n 64407   3.186618      0.274309   71.177475  1381.49270  467.747860   \n 64408   3.140519     -0.121479  133.400650   972.34766  439.590580   \n \n        m_hhm_Coll  m_hhm_Eff  m_hhm_ConEff  m_hhm_ConVis  signal  \n 0          -999.0  2227.4840    1387.49500     2573.6084       1  \n 1          -999.0  2308.4453    1003.43555     2287.2625       1  \n 2          -999.0  1498.7474    1490.00790     2081.4658       1  \n 3          -999.0  2021.5469    1622.85200     2321.7026       1  \n 4          -999.0  2374.4402    1548.98670     2415.0684       1  \n ...           ...        ...           ...           ...     ...  \n 64404      -999.0  2168.1133    1488.68360     2460.5390       0  \n 64405      -999.0  1690.1998     893.35570     1615.3925       0  \n 64406      -999.0  1254.5435     734.71387     1262.8558       0  \n 64407      -999.0  1537.0200     851.49414     1563.9404       0  \n 64408      -999.0  1344.8140     749.27080     1322.0764       0  \n \n [64409 rows x 39 columns],\n 'Xtohh3000':              sample  EventWeightNoXSec  EventWeight  EventNumber m_region  \\\n 0      Xtohh3000_Hw           0.000308     0.001742        17962       SR   \n 1      Xtohh3000_Hw           0.000215     0.001218        16856       SR   \n 2      Xtohh3000_Hw           0.000226     0.001276        27988       SR   \n 3      Xtohh3000_Hw           0.000250     0.001412        25697       SR   \n 4      Xtohh3000_Hw           0.000328     0.001855        27905       SR   \n ...             ...                ...          ...          ...      ...   \n 56675         fakes          -0.009148    -0.000046      2280213       SR   \n 56676            Zl           0.796442     0.003966      2284791       SR   \n 56677           Zcl           0.922206     0.004592      2284240       SR   \n 56678         fakes          -0.005495    -0.001855     17431377       SR   \n 56679            Zl           0.976895     0.175644      9201154       SR   \n \n        m_FJNbtagJets  m_AntiBTag  m_AntiTauTag      m_FJpt   m_FJeta  ...  \\\n 0                  0           3             0  1109.05530  0.520265  ...   \n 1                  1           4             0  1119.43000  0.743337  ...   \n 2                  0           3             0   834.77900 -1.072651  ...   \n 3                  1           3             0  1080.83230 -0.816572  ...   \n 4                  0           3             0  1014.08180 -1.226238  ...   \n ...              ...         ...           ...         ...       ...  ...   \n 56675              0           2             2   955.26654  0.028910  ...   \n 56676              0           4             0   735.26514  0.390625  ...   \n 56677              0           3             0   520.63250  1.616675  ...   \n 56678              0           2             2   896.32080 -0.958494  ...   \n 56679              0           1             0   749.22890  1.617457  ...   \n \n        m_dRFJwDT  m_dPhiDTwMET       m_MET       m_hhm   m_bbttpt  m_hhm_Coll  \\\n 0       2.982559     -0.227916  370.828280  1988.42350  598.03564      -999.0   \n 1       3.302337      0.052070  230.261640  2581.27930  233.77580      -999.0   \n 2       3.572522     -0.093586  459.702900  2125.96850  421.59134      -999.0   \n 3       3.690979     -0.010380  446.800720  2075.69340  690.64374      -999.0   \n 4       3.437500     -0.051889  355.710600  2553.58280  276.03296      -999.0   \n ...          ...           ...         ...         ...        ...         ...   \n 56675   3.375351     -0.205267   37.255154  2121.19870  160.68738      -999.0   \n 56676   3.045587      0.100434  501.886800  1068.96910  385.30234      -999.0   \n 56677   2.286534     -0.079904  203.399960   884.60950  422.39590      -999.0   \n 56678   3.186618      0.274309   71.177475  1381.49270  467.74786      -999.0   \n 56679   3.140519     -0.121479  133.400650   972.34766  439.59058      -999.0   \n \n        m_hhm_Eff  m_hhm_ConEff  m_hhm_ConVis  signal  \n 0      2384.8298    1346.61990     2742.9475       1  \n 1      2817.0266    1776.98350     3684.4630       1  \n 2      2617.2446    1191.45530     3103.3267       1  \n 3      2626.5530    1214.92880     2790.2017       1  \n 4      2940.7075    1852.58090     2942.2026       1  \n ...          ...           ...           ...     ...  \n 56675  2168.1133    1488.68360     2460.5390       0  \n 56676  1690.1998     893.35570     1615.3925       0  \n 56677  1254.5435     734.71387     1262.8558       0  \n 56678  1537.0200     851.49414     1563.9404       0  \n 56679  1344.8140     749.27080     1322.0764       0  \n \n [56680 rows x 39 columns],\n 'Xtohh1200':              sample  EventWeightNoXSec  EventWeight  EventNumber m_region  \\\n 0      Xtohh1200_Hw           0.565603     0.001186         5954       SR   \n 1      Xtohh1200_Hw           0.534029     0.001120        10630       SR   \n 2      Xtohh1200_Hw           0.550436     0.001155         8752       SR   \n 3      Xtohh1200_Hw           0.570524     0.001197         7023       SR   \n 4      Xtohh1200_Hw           0.504772     0.001059         3997       SR   \n ...             ...                ...          ...          ...      ...   \n 53947         fakes          -0.009148    -0.000046      2280213       SR   \n 53948            Zl           0.796442     0.003966      2284791       SR   \n 53949           Zcl           0.922206     0.004592      2284240       SR   \n 53950         fakes          -0.005495    -0.001855     17431377       SR   \n 53951            Zl           0.976895     0.175644      9201154       SR   \n \n        m_FJNbtagJets  m_AntiBTag  m_AntiTauTag     m_FJpt   m_FJeta  ...  \\\n 0                  1           2             0  605.48760 -0.435227  ...   \n 1                  1           2             0  570.57030  0.551790  ...   \n 2                  2           5             0  580.41034  1.138746  ...   \n 3                  2           2             0  555.73627  0.692180  ...   \n 4                  2           2             0  678.97100 -0.844792  ...   \n ...              ...         ...           ...        ...       ...  ...   \n 53947              0           2             2  955.26654  0.028910  ...   \n 53948              0           4             0  735.26514  0.390625  ...   \n 53949              0           3             0  520.63250  1.616675  ...   \n 53950              0           2             2  896.32080 -0.958494  ...   \n 53951              0           1             0  749.22890  1.617457  ...   \n \n        m_dRFJwDT  m_dPhiDTwMET       m_MET       m_hhm   m_bbttpt  m_hhm_Coll  \\\n 0       2.918601      0.280399  253.450670   904.94980  299.96826      -999.0   \n 1       2.611457      0.634987  150.280580  1045.04300  401.73538      -999.0   \n 2       2.976147      0.194017  147.461320  1166.14200  102.73358      -999.0   \n 3       3.097348     -0.001512   98.959880   983.46423  158.78050      -999.0   \n 4       2.556431     -0.445164  102.375780  1020.20100  467.61383      -999.0   \n ...          ...           ...         ...         ...        ...         ...   \n 53947   3.375351     -0.205267   37.255154  2121.19870  160.68738      -999.0   \n 53948   3.045587      0.100434  501.886800  1068.96910  385.30234      -999.0   \n 53949   2.286534     -0.079904  203.399960   884.60950  422.39590      -999.0   \n 53950   3.186618      0.274309   71.177475  1381.49270  467.74786      -999.0   \n 53951   3.140519     -0.121479  133.400650   972.34766  439.59058      -999.0   \n \n        m_hhm_Eff  m_hhm_ConEff  m_hhm_ConVis  signal  \n 0      1230.0944     929.01385     1346.0579       1  \n 1      1227.7455     899.76410     1192.1351       1  \n 2      1386.1233     875.56384     1293.4480       1  \n 3      1105.0101    1199.30800     1221.9148       1  \n 4      1221.4595     701.61530     1182.2147       1  \n ...          ...           ...           ...     ...  \n 53947  2168.1133    1488.68360     2460.5390       0  \n 53948  1690.1998     893.35570     1615.3925       0  \n 53949  1254.5435     734.71387     1262.8558       0  \n 53950  1537.0200     851.49414     1563.9404       0  \n 53951  1344.8140     749.27080     1322.0764       0  \n \n [53952 rows x 39 columns],\n 'Xtohh1000':              sample  EventWeightNoXSec  EventWeight  EventNumber m_region  \\\n 0      Xtohh1000_Hw           1.988711     0.000564        39094       SR   \n 1      Xtohh1000_Hw           2.562784     0.000727        35478       SR   \n 2      Xtohh1000_Hw           1.969159     0.000558        41627       SR   \n 3      Xtohh1000_Hw           2.296374     0.000651        35901       SR   \n 4      Xtohh1000_Hw           2.553355     0.000724        38610       SR   \n ...             ...                ...          ...          ...      ...   \n 47338         fakes          -0.009148    -0.000046      2280213       SR   \n 47339            Zl           0.796442     0.003966      2284791       SR   \n 47340           Zcl           0.922206     0.004592      2284240       SR   \n 47341         fakes          -0.005495    -0.001855     17431377       SR   \n 47342            Zl           0.976895     0.175644      9201154       SR   \n \n        m_FJNbtagJets  m_AntiBTag  m_AntiTauTag     m_FJpt   m_FJeta  ...  \\\n 0                  1           2             0  469.99335 -0.103794  ...   \n 1                  1           2             0  414.17117 -0.202314  ...   \n 2                  0           2             0  351.65167 -1.617167  ...   \n 3                  0           3             0  340.53226 -1.063241  ...   \n 4                  1           2             0  530.72906 -0.665690  ...   \n ...              ...         ...           ...        ...       ...  ...   \n 47338              0           2             2  955.26654  0.028910  ...   \n 47339              0           4             0  735.26514  0.390625  ...   \n 47340              0           3             0  520.63250  1.616675  ...   \n 47341              0           2             2  896.32080 -0.958494  ...   \n 47342              0           1             0  749.22890  1.617457  ...   \n \n        m_dRFJwDT  m_dPhiDTwMET       m_MET       m_hhm   m_bbttpt  m_hhm_Coll  \\\n 0       3.154116     -0.229120   59.949210   841.53326  120.24736      -999.0   \n 1       3.232054      0.459876   29.781347   795.17010  106.70472      -999.0   \n 2       3.662234      0.021388  177.911560  1292.02100  119.53784      -999.0   \n 3       3.345351     -0.390553   33.973476  1063.40870  176.29050      -999.0   \n 4       3.010438     -0.278436   80.552870   894.42880  190.48480      -999.0   \n ...          ...           ...         ...         ...        ...         ...   \n 47338   3.375351     -0.205267   37.255154  2121.19870  160.68738      -999.0   \n 47339   3.045587      0.100434  501.886800  1068.96910  385.30234      -999.0   \n 47340   2.286534     -0.079904  203.399960   884.60950  422.39590      -999.0   \n 47341   3.186618      0.274309   71.177475  1381.49270  467.74786      -999.0   \n 47342   3.140519     -0.121479  133.400650   972.34766  439.59058      -999.0   \n \n        m_hhm_Eff  m_hhm_ConEff  m_hhm_ConVis  signal  \n 0       907.8290    1041.81980     1059.6683       1  \n 1       828.5234     870.07210      979.0969       1  \n 2      1463.7633    1250.73330     1530.0114       1  \n 3      1093.2030    1114.51930     1191.1151       1  \n 4       996.7346     966.70780     1025.1843       1  \n ...          ...           ...           ...     ...  \n 47338  2168.1133    1488.68360     2460.5390       0  \n 47339  1690.1998     893.35570     1615.3925       0  \n 47340  1254.5435     734.71387     1262.8558       0  \n 47341  1537.0200     851.49414     1563.9404       0  \n 47342  1344.8140     749.27080     1322.0764       0  \n \n [47343 rows x 39 columns],\n 'Xtohh1800':              sample  EventWeightNoXSec  EventWeight  EventNumber m_region  \\\n 0      Xtohh1800_Hw           0.017434     0.000876         7926       SR   \n 1      Xtohh1800_Hw           0.023159     0.001163         7405       SR   \n 2      Xtohh1800_Hw           0.023163     0.001163         1695       SR   \n 3      Xtohh1800_Hw           0.025063     0.001259         7673       SR   \n 4      Xtohh1800_Hw           0.023714     0.001191         8914       SR   \n ...             ...                ...          ...          ...      ...   \n 67167         fakes          -0.009148    -0.000046      2280213       SR   \n 67168            Zl           0.796442     0.003966      2284791       SR   \n 67169           Zcl           0.922206     0.004592      2284240       SR   \n 67170         fakes          -0.005495    -0.001855     17431377       SR   \n 67171            Zl           0.976895     0.175644      9201154       SR   \n \n        m_FJNbtagJets  m_AntiBTag  m_AntiTauTag     m_FJpt   m_FJeta  ...  \\\n 0                  0           3             0  710.91410 -1.409020  ...   \n 1                  2           3             0  620.79390 -0.847054  ...   \n 2                  2           2             0  910.14830  0.100238  ...   \n 3                  1           4             0  635.21390  0.493381  ...   \n 4                  1           2             0  796.91290  0.646383  ...   \n ...              ...         ...           ...        ...       ...  ...   \n 67167              0           2             2  955.26654  0.028910  ...   \n 67168              0           4             0  735.26514  0.390625  ...   \n 67169              0           3             0  520.63250  1.616675  ...   \n 67170              0           2             2  896.32080 -0.958494  ...   \n 67171              0           1             0  749.22890  1.617457  ...   \n \n        m_dRFJwDT  m_dPhiDTwMET       m_MET       m_hhm   m_bbttpt  m_hhm_Coll  \\\n 0       3.205888      0.245063  135.188260  1327.22300  164.64066      -999.0   \n 1       3.503725     -0.310230  172.173130  1341.65170  253.37088      -999.0   \n 2       3.140136     -0.145339  208.693500  1608.76550  229.11479      -999.0   \n 3       3.082753      0.141427  198.790270  1309.06000   79.57760      -999.0   \n 4       3.247743      0.058622  153.512310  1573.89580  156.49289      -999.0   \n ...          ...           ...         ...         ...        ...         ...   \n 67167   3.375351     -0.205267   37.255154  2121.19870  160.68738      -999.0   \n 67168   3.045587      0.100434  501.886800  1068.96910  385.30234      -999.0   \n 67169   2.286534     -0.079904  203.399960   884.60950  422.39590      -999.0   \n 67170   3.186618      0.274309   71.177475  1381.49270  467.74786      -999.0   \n 67171   3.140519     -0.121479  133.400650   972.34766  439.59058      -999.0   \n \n        m_hhm_Eff  m_hhm_ConEff  m_hhm_ConVis  signal  \n 0      1553.7183    1133.19960     1705.9970       1  \n 1      1537.3978    1072.92930     1708.3566       1  \n 2      1838.3855    1474.73860     1878.3806       1  \n 3      1503.4476    1533.60290     1544.8940       1  \n 4      1739.9500    1773.66360     1860.9891       1  \n ...          ...           ...           ...     ...  \n 67167  2168.1133    1488.68360     2460.5390       0  \n 67168  1690.1998     893.35570     1615.3925       0  \n 67169  1254.5435     734.71387     1262.8558       0  \n 67170  1537.0200     851.49414     1563.9404       0  \n 67171  1344.8140     749.27080     1322.0764       0  \n \n [67172 rows x 39 columns],\n 'Xtohh2000':              sample  EventWeightNoXSec  EventWeight  EventNumber m_region  \\\n 0      Xtohh2000_Hw           0.008301     0.001020        46746       SR   \n 1      Xtohh2000_Hw           0.007521     0.000924        45720       SR   \n 2      Xtohh2000_Hw           0.009094     0.001117        47033       SR   \n 3      Xtohh2000_Hw           0.009777     0.001201        48105       SR   \n 4      Xtohh2000_Hw           0.007615     0.000936        43016       SR   \n ...             ...                ...          ...          ...      ...   \n 67813         fakes          -0.009148    -0.000046      2280213       SR   \n 67814            Zl           0.796442     0.003966      2284791       SR   \n 67815           Zcl           0.922206     0.004592      2284240       SR   \n 67816         fakes          -0.005495    -0.001855     17431377       SR   \n 67817            Zl           0.976895     0.175644      9201154       SR   \n \n        m_FJNbtagJets  m_AntiBTag  m_AntiTauTag     m_FJpt   m_FJeta  ...  \\\n 0                  2           3             0  885.55927  0.104927  ...   \n 1                  1           2             0  712.04987  0.777979  ...   \n 2                  2           2             0  855.69904  0.313113  ...   \n 3                  1           3             0  811.50574  0.572188  ...   \n 4                  1           3             0  515.09570 -1.187085  ...   \n ...              ...         ...           ...        ...       ...  ...   \n 67813              0           2             2  955.26654  0.028910  ...   \n 67814              0           4             0  735.26514  0.390625  ...   \n 67815              0           3             0  520.63250  1.616675  ...   \n 67816              0           2             2  896.32080 -0.958494  ...   \n 67817              0           1             0  749.22890  1.617457  ...   \n \n        m_dRFJwDT  m_dPhiDTwMET       m_MET       m_hhm   m_bbttpt  m_hhm_Coll  \\\n 0       3.216185     -0.192894  237.887240  1631.67020  263.69763      -999.0   \n 1       3.562367      0.100524  191.302860  1460.46280  362.49790      -999.0   \n 2       2.848176     -0.019178  485.033330  1293.40280  463.51236      -999.0   \n 3       3.270177     -0.372708   52.183260  1810.26710   76.73227      -999.0   \n 4       3.782085     -0.031341  155.676510  1573.52060   83.30724      -999.0   \n ...          ...           ...         ...         ...        ...         ...   \n 67813   3.375351     -0.205267   37.255154  2121.19870  160.68738      -999.0   \n 67814   3.045587      0.100434  501.886800  1068.96910  385.30234      -999.0   \n 67815   2.286534     -0.079904  203.399960   884.60950  422.39590      -999.0   \n 67816   3.186618      0.274309   71.177475  1381.49270  467.74786      -999.0   \n 67817   3.140519     -0.121479  133.400650   972.34766  439.59058      -999.0   \n \n        m_hhm_Eff  m_hhm_ConEff  m_hhm_ConVis  signal  \n 0      1896.5974    1193.06690     1973.7532       1  \n 1      1687.0303    1088.13530     2005.2303       1  \n 2      1832.4620    1597.40980     1934.0298       1  \n 3      1862.9153    1577.66030     1881.0702       1  \n 4      1731.4364    1151.49610     2059.8613       1  \n ...          ...           ...           ...     ...  \n 67813  2168.1133    1488.68360     2460.5390       0  \n 67814  1690.1998     893.35570     1615.3925       0  \n 67815  1254.5435     734.71387     1262.8558       0  \n 67816  1537.0200     851.49414     1563.9404       0  \n 67817  1344.8140     749.27080     1322.0764       0  \n \n [67818 rows x 39 columns]}"
     },
     "metadata": {},
     "execution_count": 9
    }
   ],
   "source": [
    "#generating the training datasets\n",
    "datasets"
   ]
  },
  {
   "cell_type": "code",
   "execution_count": null,
   "metadata": {},
   "outputs": [],
   "source": []
  }
 ],
 "metadata": {
  "language_info": {
   "codemirror_mode": {
    "name": "ipython",
    "version": 3
   },
   "file_extension": ".py",
   "mimetype": "text/x-python",
   "name": "python",
   "nbconvert_exporter": "python",
   "pygments_lexer": "ipython3",
   "version": "3.8.2-final"
  },
  "orig_nbformat": 2,
  "kernelspec": {
   "name": "python38264bit24a033812d7e4debb753145e8e6adfd6",
   "display_name": "Python 3.8.2 64-bit"
  }
 },
 "nbformat": 4,
 "nbformat_minor": 2
}