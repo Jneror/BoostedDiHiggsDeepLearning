{
 "cells": [
  {
   "cell_type": "markdown",
   "metadata": {},
   "source": [
    "# Simple DNN Model\n",
    "2020-04-19, John Rodriguez"
   ]
  },
  {
   "cell_type": "markdown",
   "metadata": {},
   "source": [
    "A notebook for reading the new notebooks was done: 2020-04-08-JRO-ReadData. This one generates the dataset named **Xtohh300_dataset.csv**"
   ]
  },
  {
   "cell_type": "markdown",
   "metadata": {},
   "source": [
    "##  Data Processing"
   ]
  },
  {
   "cell_type": "code",
   "execution_count": 1,
   "metadata": {},
   "outputs": [
    {
     "name": "stderr",
     "output_type": "stream",
     "text": [
      "Using TensorFlow backend.\n"
     ]
    }
   ],
   "source": [
    "import pandas as pd\n",
    "import matplotlib.pyplot as plt\n",
    "import seaborn as sns\n",
    "from sklearn.preprocessing import StandardScaler\n",
    "from sklearn.model_selection import train_test_split\n",
    "from keras.models import Sequential\n",
    "from keras.layers.core import Dense, Activation\n",
    "from keras.optimizers import SGD"
   ]
  },
  {
   "cell_type": "code",
   "execution_count": 2,
   "metadata": {},
   "outputs": [],
   "source": [
    "dataset = pd.read_csv(\"../processed_data/Xtohh3000_dataset.csv\")"
   ]
  },
  {
   "cell_type": "code",
   "execution_count": 3,
   "metadata": {},
   "outputs": [
    {
     "data": {
      "text/html": [
       "<div>\n",
       "<style scoped>\n",
       "    .dataframe tbody tr th:only-of-type {\n",
       "        vertical-align: middle;\n",
       "    }\n",
       "\n",
       "    .dataframe tbody tr th {\n",
       "        vertical-align: top;\n",
       "    }\n",
       "\n",
       "    .dataframe thead th {\n",
       "        text-align: right;\n",
       "    }\n",
       "</style>\n",
       "<table border=\"1\" class=\"dataframe\">\n",
       "  <thead>\n",
       "    <tr style=\"text-align: right;\">\n",
       "      <th></th>\n",
       "      <th>sample</th>\n",
       "      <th>EventWeightNoXSec</th>\n",
       "      <th>EventWeight</th>\n",
       "      <th>EventNumber</th>\n",
       "      <th>m_region</th>\n",
       "      <th>m_FJNbtagJets</th>\n",
       "      <th>m_AntiBTag</th>\n",
       "      <th>m_AntiTauTag</th>\n",
       "      <th>m_FJpt</th>\n",
       "      <th>m_FJeta</th>\n",
       "      <th>...</th>\n",
       "      <th>m_dRFJwDT</th>\n",
       "      <th>m_dPhiDTwMET</th>\n",
       "      <th>m_MET</th>\n",
       "      <th>m_hhm</th>\n",
       "      <th>m_bbttpt</th>\n",
       "      <th>m_hhm_Coll</th>\n",
       "      <th>m_hhm_Eff</th>\n",
       "      <th>m_hhm_ConEff</th>\n",
       "      <th>m_hhm_ConVis</th>\n",
       "      <th>signal</th>\n",
       "    </tr>\n",
       "  </thead>\n",
       "  <tbody>\n",
       "    <tr>\n",
       "      <th>0</th>\n",
       "      <td>fakes</td>\n",
       "      <td>-0.098973</td>\n",
       "      <td>-0.000892</td>\n",
       "      <td>3994248</td>\n",
       "      <td>QCDCR</td>\n",
       "      <td>1</td>\n",
       "      <td>3</td>\n",
       "      <td>2</td>\n",
       "      <td>614.65607</td>\n",
       "      <td>0.235415</td>\n",
       "      <td>...</td>\n",
       "      <td>2.887342</td>\n",
       "      <td>1.446572</td>\n",
       "      <td>431.10617</td>\n",
       "      <td>1296.25130</td>\n",
       "      <td>487.54608</td>\n",
       "      <td>-999.0</td>\n",
       "      <td>1852.8123</td>\n",
       "      <td>633.1675</td>\n",
       "      <td>1355.1530</td>\n",
       "      <td>0</td>\n",
       "    </tr>\n",
       "    <tr>\n",
       "      <th>1</th>\n",
       "      <td>fakes</td>\n",
       "      <td>-0.204399</td>\n",
       "      <td>-0.001842</td>\n",
       "      <td>4499931</td>\n",
       "      <td>SR</td>\n",
       "      <td>1</td>\n",
       "      <td>3</td>\n",
       "      <td>2</td>\n",
       "      <td>552.74560</td>\n",
       "      <td>0.379534</td>\n",
       "      <td>...</td>\n",
       "      <td>3.171939</td>\n",
       "      <td>-0.179417</td>\n",
       "      <td>146.01396</td>\n",
       "      <td>996.79333</td>\n",
       "      <td>138.95761</td>\n",
       "      <td>-999.0</td>\n",
       "      <td>1172.9274</td>\n",
       "      <td>823.8008</td>\n",
       "      <td>1061.2587</td>\n",
       "      <td>0</td>\n",
       "    </tr>\n",
       "    <tr>\n",
       "      <th>2</th>\n",
       "      <td>fakes</td>\n",
       "      <td>-0.131752</td>\n",
       "      <td>-0.001187</td>\n",
       "      <td>3470245</td>\n",
       "      <td>SR</td>\n",
       "      <td>0</td>\n",
       "      <td>3</td>\n",
       "      <td>2</td>\n",
       "      <td>506.22668</td>\n",
       "      <td>0.974346</td>\n",
       "      <td>...</td>\n",
       "      <td>3.197988</td>\n",
       "      <td>0.382356</td>\n",
       "      <td>196.94255</td>\n",
       "      <td>1062.96140</td>\n",
       "      <td>137.01768</td>\n",
       "      <td>-999.0</td>\n",
       "      <td>1283.1332</td>\n",
       "      <td>1168.3506</td>\n",
       "      <td>1376.2139</td>\n",
       "      <td>0</td>\n",
       "    </tr>\n",
       "    <tr>\n",
       "      <th>3</th>\n",
       "      <td>fakes</td>\n",
       "      <td>-0.131752</td>\n",
       "      <td>-0.001187</td>\n",
       "      <td>3470245</td>\n",
       "      <td>TwoDimMassWindow</td>\n",
       "      <td>0</td>\n",
       "      <td>3</td>\n",
       "      <td>2</td>\n",
       "      <td>506.22668</td>\n",
       "      <td>0.974346</td>\n",
       "      <td>...</td>\n",
       "      <td>3.197988</td>\n",
       "      <td>0.382356</td>\n",
       "      <td>196.94255</td>\n",
       "      <td>1062.96140</td>\n",
       "      <td>137.01768</td>\n",
       "      <td>-999.0</td>\n",
       "      <td>1283.1332</td>\n",
       "      <td>1168.3506</td>\n",
       "      <td>1376.2139</td>\n",
       "      <td>0</td>\n",
       "    </tr>\n",
       "    <tr>\n",
       "      <th>4</th>\n",
       "      <td>fakes</td>\n",
       "      <td>0.101267</td>\n",
       "      <td>0.000913</td>\n",
       "      <td>3325958</td>\n",
       "      <td>SR</td>\n",
       "      <td>1</td>\n",
       "      <td>2</td>\n",
       "      <td>2</td>\n",
       "      <td>496.98544</td>\n",
       "      <td>-0.908197</td>\n",
       "      <td>...</td>\n",
       "      <td>3.238636</td>\n",
       "      <td>-0.063105</td>\n",
       "      <td>226.39677</td>\n",
       "      <td>1006.51030</td>\n",
       "      <td>175.83073</td>\n",
       "      <td>-999.0</td>\n",
       "      <td>1256.6327</td>\n",
       "      <td>1098.9934</td>\n",
       "      <td>1151.8384</td>\n",
       "      <td>0</td>\n",
       "    </tr>\n",
       "  </tbody>\n",
       "</table>\n",
       "<p>5 rows × 39 columns</p>\n",
       "</div>"
      ],
      "text/plain": [
       "  sample  EventWeightNoXSec  EventWeight  EventNumber          m_region  \\\n",
       "0  fakes          -0.098973    -0.000892      3994248             QCDCR   \n",
       "1  fakes          -0.204399    -0.001842      4499931                SR   \n",
       "2  fakes          -0.131752    -0.001187      3470245                SR   \n",
       "3  fakes          -0.131752    -0.001187      3470245  TwoDimMassWindow   \n",
       "4  fakes           0.101267     0.000913      3325958                SR   \n",
       "\n",
       "   m_FJNbtagJets  m_AntiBTag  m_AntiTauTag     m_FJpt   m_FJeta  ...  \\\n",
       "0              1           3             2  614.65607  0.235415  ...   \n",
       "1              1           3             2  552.74560  0.379534  ...   \n",
       "2              0           3             2  506.22668  0.974346  ...   \n",
       "3              0           3             2  506.22668  0.974346  ...   \n",
       "4              1           2             2  496.98544 -0.908197  ...   \n",
       "\n",
       "   m_dRFJwDT  m_dPhiDTwMET      m_MET       m_hhm   m_bbttpt  m_hhm_Coll  \\\n",
       "0   2.887342      1.446572  431.10617  1296.25130  487.54608      -999.0   \n",
       "1   3.171939     -0.179417  146.01396   996.79333  138.95761      -999.0   \n",
       "2   3.197988      0.382356  196.94255  1062.96140  137.01768      -999.0   \n",
       "3   3.197988      0.382356  196.94255  1062.96140  137.01768      -999.0   \n",
       "4   3.238636     -0.063105  226.39677  1006.51030  175.83073      -999.0   \n",
       "\n",
       "   m_hhm_Eff  m_hhm_ConEff  m_hhm_ConVis  signal  \n",
       "0  1852.8123      633.1675     1355.1530       0  \n",
       "1  1172.9274      823.8008     1061.2587       0  \n",
       "2  1283.1332     1168.3506     1376.2139       0  \n",
       "3  1283.1332     1168.3506     1376.2139       0  \n",
       "4  1256.6327     1098.9934     1151.8384       0  \n",
       "\n",
       "[5 rows x 39 columns]"
      ]
     },
     "execution_count": 3,
     "metadata": {},
     "output_type": "execute_result"
    }
   ],
   "source": [
    "dataset.head(5)"
   ]
  },
  {
   "cell_type": "code",
   "execution_count": 4,
   "metadata": {},
   "outputs": [],
   "source": [
    "#moved to ada in 2020-04-28\n",
    "def filter_region(df, region):\n",
    "    \"\"\"Filter dataframe by m_region\"\"\"\n",
    "    return df[df[\"m_region\"] == region]\n",
    "\n",
    "def filter_tag(df, tag):\n",
    "    \"\"\"Filter dataframe by m_FJNbtagJets\"\"\"\n",
    "    return df[df[\"m_FJNbtagJets\"] == tag]"
   ]
  },
  {
   "cell_type": "code",
   "execution_count": 5,
   "metadata": {},
   "outputs": [],
   "source": [
    "#filter by SR region and tag 1\n",
    "SR1tag_data = filter_tag(filter_region(dataset, \"SR\"), 1)"
   ]
  },
  {
   "cell_type": "code",
   "execution_count": 6,
   "metadata": {},
   "outputs": [],
   "source": [
    "weights = SR1tag_data[\"EventWeight\"].values"
   ]
  },
  {
   "cell_type": "code",
   "execution_count": 7,
   "metadata": {},
   "outputs": [],
   "source": [
    "#leave relevant columns\n",
    "SR1tag_data = SR1tag_data[['m_FJpt', 'm_FJm', 'm_DTpt', 'm_DTm', 'm_dPhiFTwDT', 'm_dRFJwDT','m_dPhiDTwMET', 'm_MET', 'm_hhm', 'm_bbttpt', 'signal']]"
   ]
  },
  {
   "cell_type": "code",
   "execution_count": 8,
   "metadata": {},
   "outputs": [
    {
     "data": {
      "text/html": [
       "<div>\n",
       "<style scoped>\n",
       "    .dataframe tbody tr th:only-of-type {\n",
       "        vertical-align: middle;\n",
       "    }\n",
       "\n",
       "    .dataframe tbody tr th {\n",
       "        vertical-align: top;\n",
       "    }\n",
       "\n",
       "    .dataframe thead th {\n",
       "        text-align: right;\n",
       "    }\n",
       "</style>\n",
       "<table border=\"1\" class=\"dataframe\">\n",
       "  <thead>\n",
       "    <tr style=\"text-align: right;\">\n",
       "      <th></th>\n",
       "      <th>m_FJpt</th>\n",
       "      <th>m_FJm</th>\n",
       "      <th>m_DTpt</th>\n",
       "      <th>m_DTm</th>\n",
       "      <th>m_dPhiFTwDT</th>\n",
       "      <th>m_dRFJwDT</th>\n",
       "      <th>m_dPhiDTwMET</th>\n",
       "      <th>m_MET</th>\n",
       "      <th>m_hhm</th>\n",
       "      <th>m_bbttpt</th>\n",
       "      <th>signal</th>\n",
       "    </tr>\n",
       "  </thead>\n",
       "  <tbody>\n",
       "    <tr>\n",
       "      <th>1</th>\n",
       "      <td>552.74560</td>\n",
       "      <td>55207.875</td>\n",
       "      <td>413.79214</td>\n",
       "      <td>110414.460</td>\n",
       "      <td>3.139348</td>\n",
       "      <td>3.171939</td>\n",
       "      <td>-0.179417</td>\n",
       "      <td>146.013960</td>\n",
       "      <td>996.79333</td>\n",
       "      <td>138.957610</td>\n",
       "      <td>0</td>\n",
       "    </tr>\n",
       "    <tr>\n",
       "      <th>4</th>\n",
       "      <td>496.98544</td>\n",
       "      <td>44013.460</td>\n",
       "      <td>335.85046</td>\n",
       "      <td>95668.800</td>\n",
       "      <td>2.969135</td>\n",
       "      <td>3.238636</td>\n",
       "      <td>-0.063105</td>\n",
       "      <td>226.396770</td>\n",
       "      <td>1006.51030</td>\n",
       "      <td>175.830730</td>\n",
       "      <td>0</td>\n",
       "    </tr>\n",
       "    <tr>\n",
       "      <th>11</th>\n",
       "      <td>561.23425</td>\n",
       "      <td>33809.203</td>\n",
       "      <td>458.77080</td>\n",
       "      <td>106337.375</td>\n",
       "      <td>2.811071</td>\n",
       "      <td>2.817163</td>\n",
       "      <td>-0.540567</td>\n",
       "      <td>138.885970</td>\n",
       "      <td>1019.93770</td>\n",
       "      <td>195.886890</td>\n",
       "      <td>0</td>\n",
       "    </tr>\n",
       "    <tr>\n",
       "      <th>19</th>\n",
       "      <td>1021.95917</td>\n",
       "      <td>250556.330</td>\n",
       "      <td>395.77725</td>\n",
       "      <td>85787.470</td>\n",
       "      <td>3.066202</td>\n",
       "      <td>3.169196</td>\n",
       "      <td>0.080569</td>\n",
       "      <td>593.462650</td>\n",
       "      <td>1415.37800</td>\n",
       "      <td>628.014040</td>\n",
       "      <td>0</td>\n",
       "    </tr>\n",
       "    <tr>\n",
       "      <th>20</th>\n",
       "      <td>483.88016</td>\n",
       "      <td>37648.703</td>\n",
       "      <td>697.62854</td>\n",
       "      <td>119724.760</td>\n",
       "      <td>3.052453</td>\n",
       "      <td>3.059698</td>\n",
       "      <td>-0.066707</td>\n",
       "      <td>102.990930</td>\n",
       "      <td>1178.68180</td>\n",
       "      <td>219.929290</td>\n",
       "      <td>0</td>\n",
       "    </tr>\n",
       "    <tr>\n",
       "      <th>...</th>\n",
       "      <td>...</td>\n",
       "      <td>...</td>\n",
       "      <td>...</td>\n",
       "      <td>...</td>\n",
       "      <td>...</td>\n",
       "      <td>...</td>\n",
       "      <td>...</td>\n",
       "      <td>...</td>\n",
       "      <td>...</td>\n",
       "      <td>...</td>\n",
       "      <td>...</td>\n",
       "    </tr>\n",
       "    <tr>\n",
       "      <th>93747</th>\n",
       "      <td>584.35100</td>\n",
       "      <td>152785.880</td>\n",
       "      <td>568.78520</td>\n",
       "      <td>78982.760</td>\n",
       "      <td>3.024037</td>\n",
       "      <td>3.165250</td>\n",
       "      <td>0.152210</td>\n",
       "      <td>20.557467</td>\n",
       "      <td>1301.18140</td>\n",
       "      <td>69.499115</td>\n",
       "      <td>0</td>\n",
       "    </tr>\n",
       "    <tr>\n",
       "      <th>93762</th>\n",
       "      <td>540.96936</td>\n",
       "      <td>175021.450</td>\n",
       "      <td>387.68744</td>\n",
       "      <td>56823.504</td>\n",
       "      <td>3.047778</td>\n",
       "      <td>3.300670</td>\n",
       "      <td>0.207881</td>\n",
       "      <td>98.683650</td>\n",
       "      <td>1130.15770</td>\n",
       "      <td>159.184950</td>\n",
       "      <td>0</td>\n",
       "    </tr>\n",
       "    <tr>\n",
       "      <th>93765</th>\n",
       "      <td>481.96080</td>\n",
       "      <td>137821.230</td>\n",
       "      <td>508.54764</td>\n",
       "      <td>76274.140</td>\n",
       "      <td>3.111821</td>\n",
       "      <td>3.114481</td>\n",
       "      <td>-0.269028</td>\n",
       "      <td>26.319555</td>\n",
       "      <td>1016.92080</td>\n",
       "      <td>30.398745</td>\n",
       "      <td>0</td>\n",
       "    </tr>\n",
       "    <tr>\n",
       "      <th>93787</th>\n",
       "      <td>578.04767</td>\n",
       "      <td>201581.600</td>\n",
       "      <td>451.40220</td>\n",
       "      <td>72284.840</td>\n",
       "      <td>3.004242</td>\n",
       "      <td>3.080201</td>\n",
       "      <td>-0.730236</td>\n",
       "      <td>21.346400</td>\n",
       "      <td>1113.91370</td>\n",
       "      <td>144.754620</td>\n",
       "      <td>0</td>\n",
       "    </tr>\n",
       "    <tr>\n",
       "      <th>93794</th>\n",
       "      <td>564.55133</td>\n",
       "      <td>88892.180</td>\n",
       "      <td>454.78635</td>\n",
       "      <td>148882.220</td>\n",
       "      <td>3.016101</td>\n",
       "      <td>3.024491</td>\n",
       "      <td>-0.584560</td>\n",
       "      <td>61.609560</td>\n",
       "      <td>1050.20400</td>\n",
       "      <td>126.832040</td>\n",
       "      <td>0</td>\n",
       "    </tr>\n",
       "  </tbody>\n",
       "</table>\n",
       "<p>13092 rows × 11 columns</p>\n",
       "</div>"
      ],
      "text/plain": [
       "           m_FJpt       m_FJm     m_DTpt       m_DTm  m_dPhiFTwDT  m_dRFJwDT  \\\n",
       "1       552.74560   55207.875  413.79214  110414.460     3.139348   3.171939   \n",
       "4       496.98544   44013.460  335.85046   95668.800     2.969135   3.238636   \n",
       "11      561.23425   33809.203  458.77080  106337.375     2.811071   2.817163   \n",
       "19     1021.95917  250556.330  395.77725   85787.470     3.066202   3.169196   \n",
       "20      483.88016   37648.703  697.62854  119724.760     3.052453   3.059698   \n",
       "...           ...         ...        ...         ...          ...        ...   \n",
       "93747   584.35100  152785.880  568.78520   78982.760     3.024037   3.165250   \n",
       "93762   540.96936  175021.450  387.68744   56823.504     3.047778   3.300670   \n",
       "93765   481.96080  137821.230  508.54764   76274.140     3.111821   3.114481   \n",
       "93787   578.04767  201581.600  451.40220   72284.840     3.004242   3.080201   \n",
       "93794   564.55133   88892.180  454.78635  148882.220     3.016101   3.024491   \n",
       "\n",
       "       m_dPhiDTwMET       m_MET       m_hhm    m_bbttpt  signal  \n",
       "1         -0.179417  146.013960   996.79333  138.957610       0  \n",
       "4         -0.063105  226.396770  1006.51030  175.830730       0  \n",
       "11        -0.540567  138.885970  1019.93770  195.886890       0  \n",
       "19         0.080569  593.462650  1415.37800  628.014040       0  \n",
       "20        -0.066707  102.990930  1178.68180  219.929290       0  \n",
       "...             ...         ...         ...         ...     ...  \n",
       "93747      0.152210   20.557467  1301.18140   69.499115       0  \n",
       "93762      0.207881   98.683650  1130.15770  159.184950       0  \n",
       "93765     -0.269028   26.319555  1016.92080   30.398745       0  \n",
       "93787     -0.730236   21.346400  1113.91370  144.754620       0  \n",
       "93794     -0.584560   61.609560  1050.20400  126.832040       0  \n",
       "\n",
       "[13092 rows x 11 columns]"
      ]
     },
     "execution_count": 8,
     "metadata": {},
     "output_type": "execute_result"
    }
   ],
   "source": [
    "SR1tag_data"
   ]
  },
  {
   "cell_type": "code",
   "execution_count": 9,
   "metadata": {},
   "outputs": [
    {
     "data": {
      "image/png": "[encoded data removed]",
      "text/plain": [
       "<Figure size 720x720 with 2 Axes>"
      ]
     },
     "metadata": {
      "needs_background": "light"
     },
     "output_type": "display_data"
    }
   ],
   "source": [
    "#confussion matrix\n",
    "plt.figure(figsize=(10,10))\n",
    "sns.heatmap(SR1tag_data.corr(), annot=True, fmt=\".2f\")\n",
    "plt.show()"
   ]
  },
  {
   "cell_type": "code",
   "execution_count": 10,
   "metadata": {},
   "outputs": [],
   "source": [
    "df_X = SR1tag_data.drop(columns = [\"signal\"])\n",
    "df_y = SR1tag_data[\"signal\"]\n",
    "#check weighted mean"
   ]
  },
  {
   "cell_type": "code",
   "execution_count": 11,
   "metadata": {},
   "outputs": [
    {
     "data": {
      "text/plain": [
       "0.5226092270088604"
      ]
     },
     "execution_count": 11,
     "metadata": {},
     "output_type": "execute_result"
    }
   ],
   "source": [
    "df_y.sum()/df_y.size"
   ]
  },
  {
   "cell_type": "code",
   "execution_count": 12,
   "metadata": {},
   "outputs": [],
   "source": [
    "def train_val_test_split(df_X, df_y, train_size, val_size, test_size, random_state = 1):\n",
    "    if train_size + val_size + test_size != 1.0:\n",
    "        print(\"Incorrect sizes!\")\n",
    "        return None\n",
    "    \n",
    "    X_tmp, X_test, y_tmp, y_test = train_test_split(df_X, df_y, test_size = test_size, random_state=random_state)\n",
    "    X_train, X_val, y_train, y_val = train_test_split(X_tmp, y_tmp, test_size = val_size/(test_size + train_size), random_state=random_state)\n",
    "    return X_train, X_val, X_test, y_train, y_val, y_test"
   ]
  },
  {
   "cell_type": "code",
   "execution_count": 13,
   "metadata": {},
   "outputs": [],
   "source": [
    "X_train, X_val, X_test, y_train, y_val, y_test = train_val_test_split(df_X, df_y, .6, .2, .2)"
   ]
  },
  {
   "cell_type": "code",
   "execution_count": 14,
   "metadata": {},
   "outputs": [
    {
     "name": "stdout",
     "output_type": "stream",
     "text": [
      "0.5999083409715857 0.20004582951420716 0.20004582951420716\n"
     ]
    }
   ],
   "source": [
    "train_size = X_train.size\n",
    "test_size = X_test.size\n",
    "val_size = X_val.size\n",
    "total = train_size + test_size + val_size\n",
    "print(train_size/total, val_size/total, test_size/total)"
   ]
  },
  {
   "cell_type": "markdown",
   "metadata": {},
   "source": [
    "## Training"
   ]
  },
  {
   "cell_type": "code",
   "execution_count": 15,
   "metadata": {},
   "outputs": [],
   "source": [
    "def plot_train_val(A, B, n, xlabel, ylabel, title):\n",
    "    plt.figure(1, figsize=(10, 6))\n",
    "    plt.plot(range(n),A)\n",
    "    plt.plot(range(n),B)\n",
    "    plt.ylabel(ylabel)\n",
    "    plt.xlabel(xlabel)\n",
    "    plt.title(title)\n",
    "    plt.grid(True)\n",
    "    plt.legend(['Training', 'Validation'])\n",
    "    plt.show()"
   ]
  },
  {
   "cell_type": "code",
   "execution_count": 16,
   "metadata": {},
   "outputs": [],
   "source": [
    "scaler = StandardScaler().fit(X_train)"
   ]
  },
  {
   "cell_type": "code",
   "execution_count": 17,
   "metadata": {},
   "outputs": [],
   "source": [
    "#All standarized\n",
    "X_train_scaled = pd.DataFrame(scaler.transform(X_train),columns=X_train.columns)\n",
    "X_val_scaled = pd.DataFrame(scaler.transform(X_val),columns=X_val.columns)\n",
    "X_test_saled = pd.DataFrame(scaler.transform(X_test),columns=X_test.columns)\n",
    "\n",
    "#y var's\n",
    "y_train = y_train.values.reshape(-1, 1)\n",
    "y_val = y_val.values.reshape(-1, 1)\n",
    "y_test = y_test.values.reshape(-1, 1)"
   ]
  },
  {
   "cell_type": "code",
   "execution_count": 23,
   "metadata": {},
   "outputs": [],
   "source": [
    "model_v1 = Sequential()"
   ]
  },
  {
   "cell_type": "code",
   "execution_count": 24,
   "metadata": {},
   "outputs": [],
   "source": [
    "model_v1.add(Dense(256, input_dim=X_train_scaled.shape[1], kernel_initializer='uniform',activation='relu'))\n",
    "model_v1.add(Dense(256, kernel_initializer='uniform',activation='relu'))\n",
    "model_v1.add(Dense(1, kernel_initializer='uniform',activation='sigmoid'))"
   ]
  },
  {
   "cell_type": "code",
   "execution_count": 25,
   "metadata": {},
   "outputs": [],
   "source": [
    "model_v1.compile(optimizer=SGD(lr=0.01),loss='mean_squared_error', metrics=['accuracy'])"
   ]
  },
  {
   "cell_type": "code",
   "execution_count": 26,
   "metadata": {},
   "outputs": [
    {
     "name": "stdout",
     "output_type": "stream",
     "text": [
      "Train on 7854 samples, validate on 2619 samples\n",
      "Epoch 1/20\n",
      "7854/7854 [==============================] - 0s 54us/step - loss: 0.2496 - accuracy: 0.5427 - val_loss: 0.2492 - val_accuracy: 0.5262\n",
      "Epoch 2/20\n",
      "7854/7854 [==============================] - 0s 47us/step - loss: 0.2485 - accuracy: 0.5519 - val_loss: 0.2481 - val_accuracy: 0.5368\n",
      "Epoch 3/20\n",
      "7854/7854 [==============================] - 0s 48us/step - loss: 0.2473 - accuracy: 0.5686 - val_loss: 0.2469 - val_accuracy: 0.6067\n",
      "Epoch 4/20\n",
      "7854/7854 [==============================] - 0s 48us/step - loss: 0.2459 - accuracy: 0.6455 - val_loss: 0.2453 - val_accuracy: 0.6754\n",
      "Epoch 5/20\n",
      "7854/7854 [==============================] - 0s 49us/step - loss: 0.2440 - accuracy: 0.7026 - val_loss: 0.2430 - val_accuracy: 0.7041\n",
      "Epoch 6/20\n",
      "7854/7854 [==============================] - 0s 50us/step - loss: 0.2413 - accuracy: 0.7186 - val_loss: 0.2397 - val_accuracy: 0.7190\n",
      "Epoch 7/20\n",
      "7854/7854 [==============================] - 0s 53us/step - loss: 0.2374 - accuracy: 0.7247 - val_loss: 0.2349 - val_accuracy: 0.7243\n",
      "Epoch 8/20\n",
      "7854/7854 [==============================] - 0s 47us/step - loss: 0.2319 - accuracy: 0.7257 - val_loss: 0.2281 - val_accuracy: 0.7243\n",
      "Epoch 9/20\n",
      "7854/7854 [==============================] - 0s 47us/step - loss: 0.2243 - accuracy: 0.7238 - val_loss: 0.2192 - val_accuracy: 0.7243\n",
      "Epoch 10/20\n",
      "7854/7854 [==============================] - 0s 51us/step - loss: 0.2151 - accuracy: 0.7231 - val_loss: 0.2093 - val_accuracy: 0.7243\n",
      "Epoch 11/20\n",
      "7854/7854 [==============================] - 0s 58us/step - loss: 0.2057 - accuracy: 0.7245 - val_loss: 0.2003 - val_accuracy: 0.7255\n",
      "Epoch 12/20\n",
      "7854/7854 [==============================] - 0s 48us/step - loss: 0.1977 - accuracy: 0.7251 - val_loss: 0.1933 - val_accuracy: 0.7251\n",
      "Epoch 13/20\n",
      "7854/7854 [==============================] - 0s 49us/step - loss: 0.1918 - accuracy: 0.7273 - val_loss: 0.1885 - val_accuracy: 0.7274\n",
      "Epoch 14/20\n",
      "7854/7854 [==============================] - 0s 48us/step - loss: 0.1876 - accuracy: 0.7288 - val_loss: 0.1852 - val_accuracy: 0.7297\n",
      "Epoch 15/20\n",
      "7854/7854 [==============================] - 0s 45us/step - loss: 0.1847 - accuracy: 0.7293 - val_loss: 0.1830 - val_accuracy: 0.7297\n",
      "Epoch 16/20\n",
      "7854/7854 [==============================] - 0s 47us/step - loss: 0.1827 - accuracy: 0.7317 - val_loss: 0.1815 - val_accuracy: 0.7293\n",
      "Epoch 17/20\n",
      "7854/7854 [==============================] - 0s 47us/step - loss: 0.1812 - accuracy: 0.7333 - val_loss: 0.1803 - val_accuracy: 0.7308\n",
      "Epoch 18/20\n",
      "7854/7854 [==============================] - 0s 60us/step - loss: 0.1800 - accuracy: 0.7333 - val_loss: 0.1795 - val_accuracy: 0.7316\n",
      "Epoch 19/20\n",
      "7854/7854 [==============================] - 0s 51us/step - loss: 0.1791 - accuracy: 0.7330 - val_loss: 0.1789 - val_accuracy: 0.7320\n",
      "Epoch 20/20\n",
      "7854/7854 [==============================] - 0s 53us/step - loss: 0.1784 - accuracy: 0.7330 - val_loss: 0.1783 - val_accuracy: 0.7327\n"
     ]
    }
   ],
   "source": [
    "history_v1 = model_v1.fit(\n",
    "    X_train_scaled.values,\n",
    "    y_train,\n",
    "    epochs = 20,\n",
    "    verbose = 1,\n",
    "    validation_data = (X_val_scaled.values, y_val)\n",
    ")"
   ]
  },
  {
   "cell_type": "code",
   "execution_count": 27,
   "metadata": {},
   "outputs": [
    {
     "data": {
      "image/png": "[encoded data removed]",
      "text/plain": [
       "<Figure size 720x432 with 1 Axes>"
      ]
     },
     "metadata": {
      "needs_background": "light"
     },
     "output_type": "display_data"
    }
   ],
   "source": [
    "train_loss = history_v1.history['loss']\n",
    "val_loss = history_v1.history['val_loss']\n",
    "plot_train_val(train_loss, val_loss, 20, 'Loss', 'Number of epochs', 'Training loss vs Validation loss')"
   ]
  },
  {
   "cell_type": "code",
   "execution_count": null,
   "metadata": {},
   "outputs": [],
   "source": [
    "#metrics -> confussion matrix\n",
    "#overfitting analysis -> test Kolmogorov-smirnov -> compara distribuciones\n",
    "#histogram -> score distribution alike in training and testing"
   ]
  },
  {
   "cell_type": "markdown",
   "metadata": {},
   "source": [
    "## Prediction"
   ]
  },
  {
   "cell_type": "code",
   "execution_count": null,
   "metadata": {},
   "outputs": [],
   "source": [
    "#coming soon\n",
    "#define threshold for classifier\n",
    "#https://www.itl.nist.gov/div898/handbook/eda/section3/eda35g.htm"
   ]
  }
 ],
 "metadata": {
  "kernelspec": {
   "display_name": "Python 3",
   "language": "python",
   "name": "python3"
  },
  "language_info": {
   "codemirror_mode": {
    "name": "ipython",
    "version": 3
   },
   "file_extension": ".py",
   "mimetype": "text/x-python",
   "name": "python",
   "nbconvert_exporter": "python",
   "pygments_lexer": "ipython3",
   "version": "3.7.3"
  }
 },
 "nbformat": 4,
 "nbformat_minor": 4
}
