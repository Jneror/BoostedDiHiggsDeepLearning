{
 "cells": [
  {
   "cell_type": "markdown",
   "metadata": {},
   "source": [
    "# Check Root Data\n",
    "2020-05-07, John Rodriguez\n",
    "\n",
    "Checking the amount of data in every root file, and how many events per region are there."
   ]
  },
  {
   "cell_type": "code",
   "execution_count": 1,
   "metadata": {},
   "outputs": [
    {
     "name": "stdout",
     "output_type": "stream",
     "text": [
      "Welcome to JupyROOT 6.20/04\n"
     ]
    }
   ],
   "source": [
    "ada_parent_dir = \"../\"\n",
    "import sys\n",
    "sys.path.append(ada_parent_dir)\n",
    "import ada\n",
    "from glob import glob\n",
    "import pandas as pd"
   ]
  },
  {
   "cell_type": "code",
   "execution_count": 2,
   "metadata": {},
   "outputs": [],
   "source": [
    "data_path = \"../raw_data\"\n",
    "signal = \"Xtohh\""
   ]
  },
  {
   "cell_type": "code",
   "execution_count": 3,
   "metadata": {},
   "outputs": [],
   "source": [
    "all_roots = glob(f\"{data_path}/*.root\")\n",
    "signal_roots = glob(f\"{data_path}/{signal}*.root\")\n",
    "bg_roots = list(set(all_roots) - set(signal_roots) - set(glob(f\"{data_path}/data.root\")))\n",
    "\n",
    "signal_roots.sort()\n",
    "bg_roots.sort()"
   ]
  },
  {
   "cell_type": "code",
   "execution_count": 4,
   "metadata": {},
   "outputs": [
    {
     "data": {
      "text/plain": [
       "['../raw_data/WW_Pw.root',\n",
       " '../raw_data/WZ_Pw.root',\n",
       " '../raw_data/Wenu_Pw.root',\n",
       " '../raw_data/Wmunu_Pw.root',\n",
       " '../raw_data/Wtaunu_221.root',\n",
       " '../raw_data/ZZ_Pw.root',\n",
       " '../raw_data/Zee_221.root',\n",
       " '../raw_data/Zmumu_Pw.root',\n",
       " '../raw_data/Ztautau.root',\n",
       " '../raw_data/stopWt.root',\n",
       " '../raw_data/stopschan.root',\n",
       " '../raw_data/stoptchan.root',\n",
       " '../raw_data/ttbar.root']"
      ]
     },
     "execution_count": 4,
     "metadata": {},
     "output_type": "execute_result"
    }
   ],
   "source": [
    "bg_roots"
   ]
  },
  {
   "cell_type": "code",
   "execution_count": 9,
   "metadata": {},
   "outputs": [],
   "source": [
    "signal_dfs = {signal_root.split('/')[-1][:-5]: ada.drop_twodim(ada.drop_fakes(ada.root_to_df(signal_root))) for signal_root in signal_roots}\n",
    "bg_dfs = {bg_root.split('/')[-1][:-5]: ada.drop_twodim(ada.root_to_df(bg_root)) for bg_root in bg_roots}"
   ]
  },
  {
   "cell_type": "code",
   "execution_count": 10,
   "metadata": {},
   "outputs": [],
   "source": [
    "def root_df_info(df):\n",
    "    \"\"\"Returns info about the root dataset\"\"\"\n",
    "    return df.shape[0], df[\"sample\"].unique(), df[\"m_region\"].unique()"
   ]
  },
  {
   "cell_type": "code",
   "execution_count": 11,
   "metadata": {},
   "outputs": [
    {
     "data": {
      "text/html": [
       "<div>\n",
       "<style scoped>\n",
       "    .dataframe tbody tr th:only-of-type {\n",
       "        vertical-align: middle;\n",
       "    }\n",
       "\n",
       "    .dataframe tbody tr th {\n",
       "        vertical-align: top;\n",
       "    }\n",
       "\n",
       "    .dataframe thead th {\n",
       "        text-align: right;\n",
       "    }\n",
       "</style>\n",
       "<table border=\"1\" class=\"dataframe\">\n",
       "  <thead>\n",
       "    <tr style=\"text-align: right;\">\n",
       "      <th></th>\n",
       "      <th>size</th>\n",
       "      <th>samples</th>\n",
       "      <th>regions</th>\n",
       "    </tr>\n",
       "  </thead>\n",
       "  <tbody>\n",
       "    <tr>\n",
       "      <th>Xtohh1000</th>\n",
       "      <td>6213</td>\n",
       "      <td>[Xtohh1000_Hw]</td>\n",
       "      <td>[QCDCR, SR]</td>\n",
       "    </tr>\n",
       "    <tr>\n",
       "      <th>Xtohh1200</th>\n",
       "      <td>13900</td>\n",
       "      <td>[Xtohh1200_Hw]</td>\n",
       "      <td>[SR, QCDCR]</td>\n",
       "    </tr>\n",
       "    <tr>\n",
       "      <th>Xtohh1400</th>\n",
       "      <td>21645</td>\n",
       "      <td>[Xtohh1400_Hw]</td>\n",
       "      <td>[SR, QCDCR]</td>\n",
       "    </tr>\n",
       "    <tr>\n",
       "      <th>Xtohh1600</th>\n",
       "      <td>26443</td>\n",
       "      <td>[Xtohh1600_Hw]</td>\n",
       "      <td>[QCDCR, SR]</td>\n",
       "    </tr>\n",
       "    <tr>\n",
       "      <th>Xtohh1800</th>\n",
       "      <td>28993</td>\n",
       "      <td>[Xtohh1800_Hw]</td>\n",
       "      <td>[SR, QCDCR]</td>\n",
       "    </tr>\n",
       "    <tr>\n",
       "      <th>Xtohh2000</th>\n",
       "      <td>29713</td>\n",
       "      <td>[Xtohh2000_Hw]</td>\n",
       "      <td>[SR, QCDCR]</td>\n",
       "    </tr>\n",
       "    <tr>\n",
       "      <th>Xtohh2500</th>\n",
       "      <td>25488</td>\n",
       "      <td>[Xtohh2500_Hw]</td>\n",
       "      <td>[SR, QCDCR]</td>\n",
       "    </tr>\n",
       "    <tr>\n",
       "      <th>Xtohh3000</th>\n",
       "      <td>16402</td>\n",
       "      <td>[Xtohh3000_Hw]</td>\n",
       "      <td>[SR, QCDCR]</td>\n",
       "    </tr>\n",
       "  </tbody>\n",
       "</table>\n",
       "</div>"
      ],
      "text/plain": [
       "            size         samples      regions\n",
       "Xtohh1000   6213  [Xtohh1000_Hw]  [QCDCR, SR]\n",
       "Xtohh1200  13900  [Xtohh1200_Hw]  [SR, QCDCR]\n",
       "Xtohh1400  21645  [Xtohh1400_Hw]  [SR, QCDCR]\n",
       "Xtohh1600  26443  [Xtohh1600_Hw]  [QCDCR, SR]\n",
       "Xtohh1800  28993  [Xtohh1800_Hw]  [SR, QCDCR]\n",
       "Xtohh2000  29713  [Xtohh2000_Hw]  [SR, QCDCR]\n",
       "Xtohh2500  25488  [Xtohh2500_Hw]  [SR, QCDCR]\n",
       "Xtohh3000  16402  [Xtohh3000_Hw]  [SR, QCDCR]"
      ]
     },
     "execution_count": 11,
     "metadata": {},
     "output_type": "execute_result"
    }
   ],
   "source": [
    "pd.DataFrame.from_dict(\n",
    "    {signal_name: root_df_info(signal_df) for signal_name, signal_df in signal_dfs.items()},\n",
    "    orient = \"index\",\n",
    "    columns = [\"size\", \"samples\", \"regions\"]\n",
    ")"
   ]
  },
  {
   "cell_type": "code",
   "execution_count": 8,
   "metadata": {},
   "outputs": [
    {
     "data": {
      "text/html": [
       "<div>\n",
       "<style scoped>\n",
       "    .dataframe tbody tr th:only-of-type {\n",
       "        vertical-align: middle;\n",
       "    }\n",
       "\n",
       "    .dataframe tbody tr th {\n",
       "        vertical-align: top;\n",
       "    }\n",
       "\n",
       "    .dataframe thead th {\n",
       "        text-align: right;\n",
       "    }\n",
       "</style>\n",
       "<table border=\"1\" class=\"dataframe\">\n",
       "  <thead>\n",
       "    <tr style=\"text-align: right;\">\n",
       "      <th></th>\n",
       "      <th>size</th>\n",
       "      <th>samples</th>\n",
       "      <th>regions</th>\n",
       "    </tr>\n",
       "  </thead>\n",
       "  <tbody>\n",
       "    <tr>\n",
       "      <th>WW_Pw</th>\n",
       "      <td>46</td>\n",
       "      <td>[WWPw, fakes]</td>\n",
       "      <td>[SR, QCDCR]</td>\n",
       "    </tr>\n",
       "    <tr>\n",
       "      <th>WZ_Pw</th>\n",
       "      <td>342</td>\n",
       "      <td>[WZPw, fakes]</td>\n",
       "      <td>[SR, QCDCR]</td>\n",
       "    </tr>\n",
       "    <tr>\n",
       "      <th>Wenu_Pw</th>\n",
       "      <td>0</td>\n",
       "      <td>[]</td>\n",
       "      <td>[]</td>\n",
       "    </tr>\n",
       "    <tr>\n",
       "      <th>Wmunu_Pw</th>\n",
       "      <td>0</td>\n",
       "      <td>[]</td>\n",
       "      <td>[]</td>\n",
       "    </tr>\n",
       "    <tr>\n",
       "      <th>Wtaunu_221</th>\n",
       "      <td>10979</td>\n",
       "      <td>[fakes, Wl, Wcc, Wcl, Wbl, Wbb, Wbc]</td>\n",
       "      <td>[QCDCR, SR]</td>\n",
       "    </tr>\n",
       "    <tr>\n",
       "      <th>ZZ_Pw</th>\n",
       "      <td>285</td>\n",
       "      <td>[fakes, ZZPw]</td>\n",
       "      <td>[SR, QCDCR]</td>\n",
       "    </tr>\n",
       "    <tr>\n",
       "      <th>Zee_221</th>\n",
       "      <td>1120</td>\n",
       "      <td>[Zee_Sh221, fakes]</td>\n",
       "      <td>[SR, QCDCR]</td>\n",
       "    </tr>\n",
       "    <tr>\n",
       "      <th>Zmumu_Pw</th>\n",
       "      <td>0</td>\n",
       "      <td>[]</td>\n",
       "      <td>[]</td>\n",
       "    </tr>\n",
       "    <tr>\n",
       "      <th>Ztautau</th>\n",
       "      <td>34793</td>\n",
       "      <td>[Zl, Zbb, fakes, Zcl, Zcc, Zbl, Zbc]</td>\n",
       "      <td>[SR, QCDCR]</td>\n",
       "    </tr>\n",
       "    <tr>\n",
       "      <th>stopWt</th>\n",
       "      <td>395</td>\n",
       "      <td>[fakes, stopWt]</td>\n",
       "      <td>[SR, QCDCR]</td>\n",
       "    </tr>\n",
       "    <tr>\n",
       "      <th>stopschan</th>\n",
       "      <td>22</td>\n",
       "      <td>[fakes]</td>\n",
       "      <td>[SR, QCDCR]</td>\n",
       "    </tr>\n",
       "    <tr>\n",
       "      <th>stoptchan</th>\n",
       "      <td>22</td>\n",
       "      <td>[fakes, stopt]</td>\n",
       "      <td>[QCDCR, SR]</td>\n",
       "    </tr>\n",
       "    <tr>\n",
       "      <th>ttbar</th>\n",
       "      <td>3805</td>\n",
       "      <td>[fakes, ttbar_nonallhad, ttbar_allhad]</td>\n",
       "      <td>[SR, QCDCR]</td>\n",
       "    </tr>\n",
       "  </tbody>\n",
       "</table>\n",
       "</div>"
      ],
      "text/plain": [
       "             size                                 samples      regions\n",
       "WW_Pw          46                           [WWPw, fakes]  [SR, QCDCR]\n",
       "WZ_Pw         342                           [WZPw, fakes]  [SR, QCDCR]\n",
       "Wenu_Pw         0                                      []           []\n",
       "Wmunu_Pw        0                                      []           []\n",
       "Wtaunu_221  10979    [fakes, Wl, Wcc, Wcl, Wbl, Wbb, Wbc]  [QCDCR, SR]\n",
       "ZZ_Pw         285                           [fakes, ZZPw]  [SR, QCDCR]\n",
       "Zee_221      1120                      [Zee_Sh221, fakes]  [SR, QCDCR]\n",
       "Zmumu_Pw        0                                      []           []\n",
       "Ztautau     34793    [Zl, Zbb, fakes, Zcl, Zcc, Zbl, Zbc]  [SR, QCDCR]\n",
       "stopWt        395                         [fakes, stopWt]  [SR, QCDCR]\n",
       "stopschan      22                                 [fakes]  [SR, QCDCR]\n",
       "stoptchan      22                          [fakes, stopt]  [QCDCR, SR]\n",
       "ttbar        3805  [fakes, ttbar_nonallhad, ttbar_allhad]  [SR, QCDCR]"
      ]
     },
     "execution_count": 8,
     "metadata": {},
     "output_type": "execute_result"
    }
   ],
   "source": [
    "pd.DataFrame.from_dict(\n",
    "    {bg_name: root_df_info(bg_df) for bg_name, bg_df in bg_dfs.items()},\n",
    "    orient = \"index\",\n",
    "    columns = [\"size\", \"samples\", \"regions\"]\n",
    ")"
   ]
  },
  {
   "cell_type": "code",
   "execution_count": null,
   "metadata": {},
   "outputs": [],
   "source": []
  }
 ],
 "metadata": {
  "kernelspec": {
   "display_name": "Python 3",
   "language": "python",
   "name": "python3"
  },
  "language_info": {
   "codemirror_mode": {
    "name": "ipython",
    "version": 3
   },
   "file_extension": ".py",
   "mimetype": "text/x-python",
   "name": "python",
   "nbconvert_exporter": "python",
   "pygments_lexer": "ipython3",
   "version": "3.7.6"
  }
 },
 "nbformat": 4,
 "nbformat_minor": 4
}
