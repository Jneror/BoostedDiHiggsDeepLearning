{
 "cells": [
  {
   "cell_type": "markdown",
   "metadata": {},
   "source": [
    "# Generating all Datasets for Xtohh signal (Last version)\n",
    "2020-04-30, John Rodriguez"
   ]
  },
  {
   "cell_type": "markdown",
   "metadata": {},
   "source": [
    "New way of storing every dataset, based in the original approach of storing the signal and background together, with a column indicating if the event is signal or not"
   ]
  },
  {
   "cell_type": "code",
   "execution_count": 1,
   "metadata": {},
   "outputs": [
    {
     "name": "stdout",
     "output_type": "stream",
     "text": [
      "Welcome to JupyROOT 6.20/04\n"
     ]
    }
   ],
   "source": [
    "ada_parent_dir = \"../\"\n",
    "import sys\n",
    "sys.path.append(ada_parent_dir)\n",
    "import ada\n",
    "from glob import glob\n",
    "import pandas as pd"
   ]
  },
  {
   "cell_type": "code",
   "execution_count": 2,
   "metadata": {},
   "outputs": [],
   "source": [
    "data_path = \"../raw_data\"\n",
    "prodata_path = \"../processed_data\"\n",
    "signal = \"Xtohh\""
   ]
  },
  {
   "cell_type": "code",
   "execution_count": 3,
   "metadata": {},
   "outputs": [
    {
     "name": "stdout",
     "output_type": "stream",
     "text": [
      "['../raw_data/WW_Pw.root', '../raw_data/Wmunu_Pw.root', '../raw_data/Wtaunu_221.root', '../raw_data/Ztautau.root', '../raw_data/Zmumu_Pw.root', '../raw_data/stopWt.root', '../raw_data/ttbar.root', '../raw_data/stopschan.root', '../raw_data/ZZ_Pw.root', '../raw_data/WZ_Pw.root', '../raw_data/Zee_221.root', '../raw_data/stoptchan.root', '../raw_data/Wenu_Pw.root']\n",
      "ReadStreamerInfo, class:string, illegal uid=-2\n",
      "ReadStreamerInfo, class:string, illegal uid=-2\n",
      "ReadStreamerInfo, class:string, illegal uid=-2\n",
      "ReadStreamerInfo, class:string, illegal uid=-2\n",
      "ReadStreamerInfo, class:string, illegal uid=-2\n",
      "ReadStreamerInfo, class:string, illegal uid=-2\n",
      "ReadStreamerInfo, class:string, illegal uid=-2\n",
      "ReadStreamerInfo, class:string, illegal uid=-2\n",
      "ReadStreamerInfo, class:string, illegal uid=-2\n",
      "ReadStreamerInfo, class:string, illegal uid=-2\n",
      "ReadStreamerInfo, class:string, illegal uid=-2\n",
      "ReadStreamerInfo, class:string, illegal uid=-2\n",
      "ReadStreamerInfo, class:string, illegal uid=-2\n",
      "ReadStreamerInfo, class:string, illegal uid=-2\n",
      "ReadStreamerInfo, class:string, illegal uid=-2\n",
      "ReadStreamerInfo, class:string, illegal uid=-2\n"
     ]
    }
   ],
   "source": [
    "ada.gen_signal_datasets(signal, data_path, prodata_path)"
   ]
  }
 ],
 "metadata": {
  "kernelspec": {
   "display_name": "Python 3",
   "language": "python",
   "name": "python3"
  },
  "language_info": {
   "codemirror_mode": {
    "name": "ipython",
    "version": 3
   },
   "file_extension": ".py",
   "mimetype": "text/x-python",
   "name": "python",
   "nbconvert_exporter": "python",
   "pygments_lexer": "ipython3",
   "version": "3.7.6"
  }
 },
 "nbformat": 4,
 "nbformat_minor": 4
}
