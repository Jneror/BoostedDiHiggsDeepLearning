{
 "cells": [
  {
   "cell_type": "markdown",
   "metadata": {},
   "source": [
    "# Feature Selection"
   ]
  },
  {
   "cell_type": "code",
   "execution_count": 3,
   "metadata": {},
   "outputs": [],
   "source": [
    "ada_parent_dir = \"../\"\n",
    "import sys\n",
    "sys.path.append(ada_parent_dir)\n",
    "from ada import root_to_df, filter_region, filter_tag, drop_fakes, drop_twodim\n",
    "from sklearn.feature_selection import chi2\n",
    "from sklearn.feature_selection import SelectKBest\n",
    "import pandas as pd\n",
    "from sklearn import preprocessing\n",
    "from matplotlib import pyplot as plt\n",
    "import seaborn as sns\n",
    "import numpy as np\n",
    "from sklearn.ensemble import ExtraTreesClassifier, RandomForestClassifier\n",
    "from sklearn.feature_selection import SelectFromModel"
   ]
  },
  {
   "cell_type": "markdown",
   "metadata": {},
   "source": [
    "## Definition of type of signal and region"
   ]
  },
  {
   "cell_type": "code",
   "execution_count": 4,
   "metadata": {},
   "outputs": [],
   "source": [
    "data_path = \"../processed_data/\"\n",
    "signal = \"Xtohh2000_Hw\"\n",
    "region = \"SR\"\n",
    "tag=2"
   ]
  },
  {
   "cell_type": "markdown",
   "metadata": {},
   "source": [
    "## Loading root file to pandas dataframe"
   ]
  },
  {
   "cell_type": "code",
   "execution_count": 5,
   "metadata": {},
   "outputs": [],
   "source": [
    "root_file_path = data_path + \"all_2000_full.root\"\n",
    "df = root_to_df(root_file_path)\n",
    "df =  filter_region(df,region )\n",
    "df = filter_tag(df, tag)\n",
    "df = drop_fakes(df) #CHECK THIS DROPPED FAKES!\n",
    "df = drop_twodim(df)"
   ]
  },
  {
   "cell_type": "markdown",
   "metadata": {},
   "source": [
    "## Separating data, fakes and signal"
   ]
  },
  {
   "cell_type": "code",
   "execution_count": 6,
   "metadata": {},
   "outputs": [],
   "source": [
    "df_data = df[df[\"sample\"]==\"data\"]\n",
    "df_fakes = df[df[\"sample\"]==\"fakes\"]\n",
    "\n",
    "df_signal = df[df[\"sample\"]==signal]"
   ]
  },
  {
   "cell_type": "markdown",
   "metadata": {},
   "source": [
    "## Loading csv file $\\rightarrow$ Finally working with this file"
   ]
  },
  {
   "cell_type": "code",
   "execution_count": 7,
   "metadata": {},
   "outputs": [
    {
     "data": {
      "text/plain": [
       "SR    8737\n",
       "Name: m_region, dtype: int64"
      ]
     },
     "metadata": {},
     "output_type": "display_data"
    },
    {
     "data": {
      "text/plain": [
       "Xtohh2000_Hw       8560\n",
       "fakes                84\n",
       "Zbb                  57\n",
       "Zbl                   9\n",
       "ZZPw                  7\n",
       "Zcc                   6\n",
       "Wbb                   6\n",
       "Zbc                   4\n",
       "Wbl                   1\n",
       "Zcl                   1\n",
       "Zl                    1\n",
       "ttbar_nonallhad       1\n",
       "Name: sample, dtype: int64"
      ]
     },
     "metadata": {},
     "output_type": "display_data"
    }
   ],
   "source": [
    "df_csv = pd.read_csv(data_path+\"Xtohh2000.csv\")\n",
    "df_csv =  filter_region(df_csv,region )\n",
    "df_csv = filter_tag(df_csv, tag)\n",
    "display(df_csv[\"m_region\"].value_counts())\n",
    "display(df_csv[\"sample\"].value_counts())"
   ]
  },
  {
   "cell_type": "markdown",
   "metadata": {},
   "source": [
    "## Generating vector of labels $y$"
   ]
  },
  {
   "cell_type": "code",
   "execution_count": 8,
   "metadata": {},
   "outputs": [
    {
     "data": {
      "text/html": [
       "<div>\n",
       "<style scoped>\n",
       "    .dataframe tbody tr th:only-of-type {\n",
       "        vertical-align: middle;\n",
       "    }\n",
       "\n",
       "    .dataframe tbody tr th {\n",
       "        vertical-align: top;\n",
       "    }\n",
       "\n",
       "    .dataframe thead th {\n",
       "        text-align: right;\n",
       "    }\n",
       "</style>\n",
       "<table border=\"1\" class=\"dataframe\">\n",
       "  <thead>\n",
       "    <tr style=\"text-align: right;\">\n",
       "      <th></th>\n",
       "      <th>sample</th>\n",
       "      <th>EventWeightNoXSec</th>\n",
       "      <th>EventWeight</th>\n",
       "      <th>EventNumber</th>\n",
       "      <th>m_region</th>\n",
       "      <th>m_FJNbtagJets</th>\n",
       "      <th>m_AntiBTag</th>\n",
       "      <th>m_AntiTauTag</th>\n",
       "      <th>m_FJpt</th>\n",
       "      <th>m_FJeta</th>\n",
       "      <th>...</th>\n",
       "      <th>m_dPhiFTwDT</th>\n",
       "      <th>m_dRFJwDT</th>\n",
       "      <th>m_dPhiDTwMET</th>\n",
       "      <th>m_MET</th>\n",
       "      <th>m_hhm</th>\n",
       "      <th>m_bbttpt</th>\n",
       "      <th>m_hhm_Coll</th>\n",
       "      <th>m_hhm_Eff</th>\n",
       "      <th>m_hhm_ConEff</th>\n",
       "      <th>m_hhm_ConVis</th>\n",
       "    </tr>\n",
       "  </thead>\n",
       "  <tbody>\n",
       "    <tr>\n",
       "      <td>0</td>\n",
       "      <td>Xtohh2000_Hw</td>\n",
       "      <td>0.008301</td>\n",
       "      <td>0.001020</td>\n",
       "      <td>46746</td>\n",
       "      <td>SR</td>\n",
       "      <td>2</td>\n",
       "      <td>3</td>\n",
       "      <td>0</td>\n",
       "      <td>885.55927</td>\n",
       "      <td>0.104927</td>\n",
       "      <td>...</td>\n",
       "      <td>3.105514</td>\n",
       "      <td>3.216185</td>\n",
       "      <td>-0.192894</td>\n",
       "      <td>237.88724</td>\n",
       "      <td>1631.6702</td>\n",
       "      <td>263.697630</td>\n",
       "      <td>-999.0</td>\n",
       "      <td>1896.5974</td>\n",
       "      <td>1193.0669</td>\n",
       "      <td>1973.7532</td>\n",
       "    </tr>\n",
       "    <tr>\n",
       "      <td>4</td>\n",
       "      <td>Xtohh2000_Hw</td>\n",
       "      <td>0.009094</td>\n",
       "      <td>0.001117</td>\n",
       "      <td>47033</td>\n",
       "      <td>SR</td>\n",
       "      <td>2</td>\n",
       "      <td>2</td>\n",
       "      <td>0</td>\n",
       "      <td>855.69904</td>\n",
       "      <td>0.313113</td>\n",
       "      <td>...</td>\n",
       "      <td>2.779941</td>\n",
       "      <td>2.848176</td>\n",
       "      <td>-0.019178</td>\n",
       "      <td>485.03333</td>\n",
       "      <td>1293.4028</td>\n",
       "      <td>463.512360</td>\n",
       "      <td>-999.0</td>\n",
       "      <td>1832.4620</td>\n",
       "      <td>1597.4098</td>\n",
       "      <td>1934.0298</td>\n",
       "    </tr>\n",
       "    <tr>\n",
       "      <td>15</td>\n",
       "      <td>Xtohh2000_Hw</td>\n",
       "      <td>0.007525</td>\n",
       "      <td>0.000925</td>\n",
       "      <td>47483</td>\n",
       "      <td>SR</td>\n",
       "      <td>2</td>\n",
       "      <td>3</td>\n",
       "      <td>0</td>\n",
       "      <td>552.47845</td>\n",
       "      <td>-0.702952</td>\n",
       "      <td>...</td>\n",
       "      <td>3.122708</td>\n",
       "      <td>3.566858</td>\n",
       "      <td>-0.742126</td>\n",
       "      <td>104.55922</td>\n",
       "      <td>1659.8483</td>\n",
       "      <td>80.008150</td>\n",
       "      <td>-999.0</td>\n",
       "      <td>1759.5939</td>\n",
       "      <td>1056.4438</td>\n",
       "      <td>2125.3684</td>\n",
       "    </tr>\n",
       "    <tr>\n",
       "      <td>18</td>\n",
       "      <td>Xtohh2000_Hw</td>\n",
       "      <td>0.009422</td>\n",
       "      <td>0.001158</td>\n",
       "      <td>42700</td>\n",
       "      <td>SR</td>\n",
       "      <td>2</td>\n",
       "      <td>2</td>\n",
       "      <td>0</td>\n",
       "      <td>525.10590</td>\n",
       "      <td>-0.941433</td>\n",
       "      <td>...</td>\n",
       "      <td>3.111627</td>\n",
       "      <td>3.282524</td>\n",
       "      <td>-0.130256</td>\n",
       "      <td>166.60722</td>\n",
       "      <td>1075.3092</td>\n",
       "      <td>109.524925</td>\n",
       "      <td>-999.0</td>\n",
       "      <td>1262.3474</td>\n",
       "      <td>1561.9706</td>\n",
       "      <td>1574.2820</td>\n",
       "    </tr>\n",
       "    <tr>\n",
       "      <td>20</td>\n",
       "      <td>Xtohh2000_Hw</td>\n",
       "      <td>0.009115</td>\n",
       "      <td>0.001120</td>\n",
       "      <td>43588</td>\n",
       "      <td>SR</td>\n",
       "      <td>2</td>\n",
       "      <td>3</td>\n",
       "      <td>0</td>\n",
       "      <td>916.44147</td>\n",
       "      <td>-0.683193</td>\n",
       "      <td>...</td>\n",
       "      <td>3.079124</td>\n",
       "      <td>3.084862</td>\n",
       "      <td>0.416606</td>\n",
       "      <td>167.35030</td>\n",
       "      <td>1595.7611</td>\n",
       "      <td>244.283460</td>\n",
       "      <td>-999.0</td>\n",
       "      <td>1807.4701</td>\n",
       "      <td>1296.0286</td>\n",
       "      <td>1838.6957</td>\n",
       "    </tr>\n",
       "  </tbody>\n",
       "</table>\n",
       "<p>5 rows × 38 columns</p>\n",
       "</div>"
      ],
      "text/plain": [
       "          sample  EventWeightNoXSec  EventWeight  EventNumber m_region  \\\n",
       "0   Xtohh2000_Hw           0.008301     0.001020        46746       SR   \n",
       "4   Xtohh2000_Hw           0.009094     0.001117        47033       SR   \n",
       "15  Xtohh2000_Hw           0.007525     0.000925        47483       SR   \n",
       "18  Xtohh2000_Hw           0.009422     0.001158        42700       SR   \n",
       "20  Xtohh2000_Hw           0.009115     0.001120        43588       SR   \n",
       "\n",
       "    m_FJNbtagJets  m_AntiBTag  m_AntiTauTag     m_FJpt   m_FJeta  ...  \\\n",
       "0               2           3             0  885.55927  0.104927  ...   \n",
       "4               2           2             0  855.69904  0.313113  ...   \n",
       "15              2           3             0  552.47845 -0.702952  ...   \n",
       "18              2           2             0  525.10590 -0.941433  ...   \n",
       "20              2           3             0  916.44147 -0.683193  ...   \n",
       "\n",
       "    m_dPhiFTwDT  m_dRFJwDT  m_dPhiDTwMET      m_MET      m_hhm    m_bbttpt  \\\n",
       "0      3.105514   3.216185     -0.192894  237.88724  1631.6702  263.697630   \n",
       "4      2.779941   2.848176     -0.019178  485.03333  1293.4028  463.512360   \n",
       "15     3.122708   3.566858     -0.742126  104.55922  1659.8483   80.008150   \n",
       "18     3.111627   3.282524     -0.130256  166.60722  1075.3092  109.524925   \n",
       "20     3.079124   3.084862      0.416606  167.35030  1595.7611  244.283460   \n",
       "\n",
       "    m_hhm_Coll  m_hhm_Eff  m_hhm_ConEff  m_hhm_ConVis  \n",
       "0       -999.0  1896.5974     1193.0669     1973.7532  \n",
       "4       -999.0  1832.4620     1597.4098     1934.0298  \n",
       "15      -999.0  1759.5939     1056.4438     2125.3684  \n",
       "18      -999.0  1262.3474     1561.9706     1574.2820  \n",
       "20      -999.0  1807.4701     1296.0286     1838.6957  \n",
       "\n",
       "[5 rows x 38 columns]"
      ]
     },
     "metadata": {},
     "output_type": "display_data"
    },
    {
     "data": {
      "text/plain": [
       "Index(['sample', 'EventWeightNoXSec', 'EventWeight', 'EventNumber', 'm_region',\n",
       "       'm_FJNbtagJets', 'm_AntiBTag', 'm_AntiTauTag', 'm_FJpt', 'm_FJeta',\n",
       "       'm_FJphi', 'm_FJm', 'm_DTpt', 'm_DTeta', 'm_DTphi', 'm_DTm',\n",
       "       'm_DTpt_Eff', 'm_DTeta_Eff', 'm_DTphi_Eff', 'm_DTm_Eff',\n",
       "       'm_DTpt_ConEff', 'm_DTeta_ConEff', 'm_DTphi_ConEff', 'm_DTm_ConEff',\n",
       "       'm_DTpt_ConVis', 'm_DTeta_ConVis', 'm_DTphi_ConVis', 'm_DTm_ConVis',\n",
       "       'm_dPhiFTwDT', 'm_dRFJwDT', 'm_dPhiDTwMET', 'm_MET', 'm_hhm',\n",
       "       'm_bbttpt', 'm_hhm_Coll', 'm_hhm_Eff', 'm_hhm_ConEff', 'm_hhm_ConVis'],\n",
       "      dtype='object')"
      ]
     },
     "metadata": {},
     "output_type": "display_data"
    }
   ],
   "source": [
    "y = df_csv[\"sample\"] == signal\n",
    "display(df_csv.head())\n",
    "display(df_csv.columns)"
   ]
  },
  {
   "cell_type": "code",
   "execution_count": 9,
   "metadata": {},
   "outputs": [
    {
     "name": "stdout",
     "output_type": "stream",
     "text": [
      "Number of features 14\n"
     ]
    }
   ],
   "source": [
    "features=['m_FJpt','m_FJeta', 'm_FJphi', 'm_FJm', 'm_DTpt', 'm_DTeta', 'm_DTphi', \n",
    "          'm_DTm','m_dPhiFTwDT', 'm_dRFJwDT', 'm_dPhiDTwMET', 'm_MET', 'm_hhm',\n",
    "          'm_bbttpt']\n",
    "print(\"Number of features\", len(features))"
   ]
  },
  {
   "cell_type": "markdown",
   "metadata": {},
   "source": [
    "## Dataframe with the previous features"
   ]
  },
  {
   "cell_type": "code",
   "execution_count": 10,
   "metadata": {},
   "outputs": [],
   "source": [
    "df = df_csv[features]\n",
    "\n"
   ]
  },
  {
   "cell_type": "code",
   "execution_count": 11,
   "metadata": {},
   "outputs": [
    {
     "data": {
      "text/html": [
       "<div>\n",
       "<style scoped>\n",
       "    .dataframe tbody tr th:only-of-type {\n",
       "        vertical-align: middle;\n",
       "    }\n",
       "\n",
       "    .dataframe tbody tr th {\n",
       "        vertical-align: top;\n",
       "    }\n",
       "\n",
       "    .dataframe thead th {\n",
       "        text-align: right;\n",
       "    }\n",
       "</style>\n",
       "<table border=\"1\" class=\"dataframe\">\n",
       "  <thead>\n",
       "    <tr style=\"text-align: right;\">\n",
       "      <th></th>\n",
       "      <th>m_FJpt</th>\n",
       "      <th>m_FJeta</th>\n",
       "      <th>m_FJphi</th>\n",
       "      <th>m_FJm</th>\n",
       "      <th>m_DTpt</th>\n",
       "      <th>m_DTeta</th>\n",
       "      <th>m_DTphi</th>\n",
       "      <th>m_DTm</th>\n",
       "      <th>m_dPhiFTwDT</th>\n",
       "      <th>m_dRFJwDT</th>\n",
       "      <th>m_dPhiDTwMET</th>\n",
       "      <th>m_MET</th>\n",
       "      <th>m_hhm</th>\n",
       "      <th>m_bbttpt</th>\n",
       "    </tr>\n",
       "  </thead>\n",
       "  <tbody>\n",
       "    <tr>\n",
       "      <td>0</td>\n",
       "      <td>885.55927</td>\n",
       "      <td>0.104927</td>\n",
       "      <td>-2.448576</td>\n",
       "      <td>127604.30</td>\n",
       "      <td>623.22710</td>\n",
       "      <td>-0.731510</td>\n",
       "      <td>0.656939</td>\n",
       "      <td>85368.720</td>\n",
       "      <td>3.105514</td>\n",
       "      <td>3.216185</td>\n",
       "      <td>-0.192894</td>\n",
       "      <td>237.88724</td>\n",
       "      <td>1631.6702</td>\n",
       "      <td>263.697630</td>\n",
       "    </tr>\n",
       "    <tr>\n",
       "      <td>4</td>\n",
       "      <td>855.69904</td>\n",
       "      <td>0.313113</td>\n",
       "      <td>-1.859287</td>\n",
       "      <td>122862.90</td>\n",
       "      <td>449.37933</td>\n",
       "      <td>-0.306591</td>\n",
       "      <td>0.920655</td>\n",
       "      <td>55754.656</td>\n",
       "      <td>2.779941</td>\n",
       "      <td>2.848176</td>\n",
       "      <td>-0.019178</td>\n",
       "      <td>485.03333</td>\n",
       "      <td>1293.4028</td>\n",
       "      <td>463.512360</td>\n",
       "    </tr>\n",
       "    <tr>\n",
       "      <td>15</td>\n",
       "      <td>552.47845</td>\n",
       "      <td>-0.702952</td>\n",
       "      <td>-2.549875</td>\n",
       "      <td>109091.67</td>\n",
       "      <td>631.70496</td>\n",
       "      <td>1.020756</td>\n",
       "      <td>0.610602</td>\n",
       "      <td>76213.550</td>\n",
       "      <td>3.122708</td>\n",
       "      <td>3.566858</td>\n",
       "      <td>-0.742126</td>\n",
       "      <td>104.55922</td>\n",
       "      <td>1659.8483</td>\n",
       "      <td>80.008150</td>\n",
       "    </tr>\n",
       "    <tr>\n",
       "      <td>18</td>\n",
       "      <td>525.10590</td>\n",
       "      <td>-0.941433</td>\n",
       "      <td>-1.130162</td>\n",
       "      <td>82382.28</td>\n",
       "      <td>416.48105</td>\n",
       "      <td>0.103909</td>\n",
       "      <td>1.981465</td>\n",
       "      <td>58332.793</td>\n",
       "      <td>3.111627</td>\n",
       "      <td>3.282524</td>\n",
       "      <td>-0.130256</td>\n",
       "      <td>166.60722</td>\n",
       "      <td>1075.3092</td>\n",
       "      <td>109.524925</td>\n",
       "    </tr>\n",
       "    <tr>\n",
       "      <td>20</td>\n",
       "      <td>916.44147</td>\n",
       "      <td>-0.683193</td>\n",
       "      <td>1.804695</td>\n",
       "      <td>115936.01</td>\n",
       "      <td>677.16440</td>\n",
       "      <td>-0.495132</td>\n",
       "      <td>-1.274429</td>\n",
       "      <td>94135.960</td>\n",
       "      <td>3.079124</td>\n",
       "      <td>3.084862</td>\n",
       "      <td>0.416606</td>\n",
       "      <td>167.35030</td>\n",
       "      <td>1595.7611</td>\n",
       "      <td>244.283460</td>\n",
       "    </tr>\n",
       "  </tbody>\n",
       "</table>\n",
       "</div>"
      ],
      "text/plain": [
       "       m_FJpt   m_FJeta   m_FJphi      m_FJm     m_DTpt   m_DTeta   m_DTphi  \\\n",
       "0   885.55927  0.104927 -2.448576  127604.30  623.22710 -0.731510  0.656939   \n",
       "4   855.69904  0.313113 -1.859287  122862.90  449.37933 -0.306591  0.920655   \n",
       "15  552.47845 -0.702952 -2.549875  109091.67  631.70496  1.020756  0.610602   \n",
       "18  525.10590 -0.941433 -1.130162   82382.28  416.48105  0.103909  1.981465   \n",
       "20  916.44147 -0.683193  1.804695  115936.01  677.16440 -0.495132 -1.274429   \n",
       "\n",
       "        m_DTm  m_dPhiFTwDT  m_dRFJwDT  m_dPhiDTwMET      m_MET      m_hhm  \\\n",
       "0   85368.720     3.105514   3.216185     -0.192894  237.88724  1631.6702   \n",
       "4   55754.656     2.779941   2.848176     -0.019178  485.03333  1293.4028   \n",
       "15  76213.550     3.122708   3.566858     -0.742126  104.55922  1659.8483   \n",
       "18  58332.793     3.111627   3.282524     -0.130256  166.60722  1075.3092   \n",
       "20  94135.960     3.079124   3.084862      0.416606  167.35030  1595.7611   \n",
       "\n",
       "      m_bbttpt  \n",
       "0   263.697630  \n",
       "4   463.512360  \n",
       "15   80.008150  \n",
       "18  109.524925  \n",
       "20  244.283460  "
      ]
     },
     "execution_count": 11,
     "metadata": {},
     "output_type": "execute_result"
    }
   ],
   "source": [
    "df.head()"
   ]
  },
  {
   "cell_type": "code",
   "execution_count": 12,
   "metadata": {},
   "outputs": [
    {
     "data": {
      "text/plain": [
       "Index(['m_FJpt', 'm_FJeta', 'm_FJphi', 'm_FJm', 'm_DTpt', 'm_DTeta', 'm_DTphi',\n",
       "       'm_DTm', 'm_dPhiFTwDT', 'm_dRFJwDT', 'm_dPhiDTwMET', 'm_MET', 'm_hhm',\n",
       "       'm_bbttpt'],\n",
       "      dtype='object')"
      ]
     },
     "execution_count": 12,
     "metadata": {},
     "output_type": "execute_result"
    }
   ],
   "source": [
    "df.columns"
   ]
  },
  {
   "cell_type": "markdown",
   "metadata": {},
   "source": [
    "## $Y$ vector: $0 \\rightarrow$ background, $1 \\rightarrow$  signal"
   ]
  },
  {
   "cell_type": "code",
   "execution_count": 13,
   "metadata": {},
   "outputs": [
    {
     "name": "stdout",
     "output_type": "stream",
     "text": [
      "[1 1 1 ... 0 0 0]\n"
     ]
    }
   ],
   "source": [
    "Y = y.to_numpy(dtype=int)\n",
    "print(Y)"
   ]
  },
  {
   "cell_type": "markdown",
   "metadata": {},
   "source": [
    "## $X$ matrix with data"
   ]
  },
  {
   "cell_type": "code",
   "execution_count": 14,
   "metadata": {},
   "outputs": [
    {
     "name": "stdout",
     "output_type": "stream",
     "text": [
      "[[ 8.8555927e+02  1.0492674e-01 -2.4485755e+00 ...  2.3788724e+02\n",
      "   1.6316702e+03  2.6369763e+02]\n",
      " [ 8.5569904e+02  3.1311333e-01 -1.8592868e+00 ...  4.8503333e+02\n",
      "   1.2934028e+03  4.6351236e+02]\n",
      " [ 5.5247845e+02 -7.0295170e-01 -2.5498753e+00 ...  1.0455922e+02\n",
      "   1.6598483e+03  8.0008150e+01]\n",
      " ...\n",
      " [ 7.7756586e+02  1.1878972e+00 -2.5713952e+00 ...  7.7403076e+01\n",
      "   1.1457860e+03  5.1661566e+02]\n",
      " [ 3.5345984e+02  9.7673905e-01 -3.1318066e+00 ...  4.2421673e+01\n",
      "   8.0340930e+02  8.9133310e+01]\n",
      " [ 6.4546620e+02 -5.6686050e-01  1.2123379e+00 ...  2.1359639e+02\n",
      "   1.1137911e+03  3.1636932e+02]]\n"
     ]
    }
   ],
   "source": [
    "X = df.values\n",
    "print(X)"
   ]
  },
  {
   "cell_type": "markdown",
   "metadata": {},
   "source": [
    "## Scaled $X$"
   ]
  },
  {
   "cell_type": "code",
   "execution_count": 15,
   "metadata": {},
   "outputs": [
    {
     "name": "stdout",
     "output_type": "stream",
     "text": [
      "[0.44491035 0.42209011 0.19035826 ... 0.36237799 0.03826124 0.26142278]\n"
     ]
    }
   ],
   "source": [
    "mm_scaler = preprocessing.MinMaxScaler()\n",
    "X_scaled = mm_scaler.fit_transform(X)\n",
    "\n",
    "\n",
    "print(X_scaled[:,0])"
   ]
  },
  {
   "cell_type": "markdown",
   "metadata": {},
   "source": [
    "## Covariance matrix"
   ]
  },
  {
   "cell_type": "code",
   "execution_count": 18,
   "metadata": {},
   "outputs": [
    {
     "data": {
      "text/plain": [
       "<matplotlib.axes._subplots.AxesSubplot at 0x7ff68322d9e8>"
      ]
     },
     "execution_count": 18,
     "metadata": {},
     "output_type": "execute_result"
    },
    {
     "data": {
      "image/png": "[encoded data removed]",
      "text/plain": [
       "<Figure size 864x864 with 2 Axes>"
      ]
     },
     "metadata": {
      "needs_background": "light"
     },
     "output_type": "display_data"
    }
   ],
   "source": [
    "\n",
    "f,ax = plt.subplots(figsize=(12, 12))\n",
    "sns.heatmap(df.corr(), annot=True, linewidths=.5, fmt= '.2f',ax=ax)\n",
    "\n",
    "\n",
    "\n"
   ]
  },
  {
   "cell_type": "code",
   "execution_count": 19,
   "metadata": {},
   "outputs": [],
   "source": [
    "def print_ranking(X, importances):\n",
    "    indices = np.argsort(importances)[::-1]\n",
    "    # Print the feature ranking\n",
    "    print(\"Feature ranking:\")\n",
    "    for f in range(X.shape[1]):\n",
    "        print(\"%d. feature %d (%f)\" % (f + 1, indices[f], importances[indices[f]]))\n",
    "\n"
   ]
  },
  {
   "cell_type": "markdown",
   "metadata": {},
   "source": [
    "## Training data"
   ]
  },
  {
   "cell_type": "code",
   "execution_count": 20,
   "metadata": {},
   "outputs": [
    {
     "name": "stdout",
     "output_type": "stream",
     "text": [
      "(6989, 14)\n",
      "(6989,)\n",
      "[1 1 1 ... 1 1 1]\n"
     ]
    }
   ],
   "source": [
    "from sklearn.model_selection import train_test_split\n",
    "X_train, X_test, Y_train, Y_test = train_test_split(X_scaled, Y, test_size = 0.2)\n",
    "print(X_train.shape)\n",
    "print(Y_train.shape)\n",
    "print(Y_train)"
   ]
  },
  {
   "cell_type": "markdown",
   "metadata": {},
   "source": [
    "## $\\chi^2$ test for feature selection"
   ]
  },
  {
   "cell_type": "code",
   "execution_count": 21,
   "metadata": {},
   "outputs": [],
   "source": [
    "#https://towardsdatascience.com/chi-square-test-for-feature-selection-in-machine-learning-206b1f0b8223\n",
    "stats, pvals = chi2(X_train,Y_train)"
   ]
  },
  {
   "cell_type": "code",
   "execution_count": 22,
   "metadata": {},
   "outputs": [
    {
     "data": {
      "text/plain": [
       "array([9.06724140e+00, 1.27641226e-03, 3.87322921e-04, 1.22085508e-02,\n",
       "       6.05439804e+00, 2.67826887e-01, 7.88715877e-02, 1.34227889e-02,\n",
       "       4.45509794e-02, 4.50155302e-02, 6.85593583e-05, 4.99460105e+00,\n",
       "       8.49133961e+00, 3.27777922e+00])"
      ]
     },
     "execution_count": 22,
     "metadata": {},
     "output_type": "execute_result"
    }
   ],
   "source": [
    "stats"
   ]
  },
  {
   "cell_type": "code",
   "execution_count": 23,
   "metadata": {},
   "outputs": [
    {
     "data": {
      "text/plain": [
       "array([0.00260229, 0.97150011, 0.98429823, 0.91201895, 0.0138717 ,\n",
       "       0.60479325, 0.77883246, 0.90776607, 0.83283185, 0.83197547,\n",
       "       0.99339355, 0.02542651, 0.00356841, 0.07022389])"
      ]
     },
     "execution_count": 23,
     "metadata": {},
     "output_type": "execute_result"
    }
   ],
   "source": [
    "pvals"
   ]
  },
  {
   "cell_type": "code",
   "execution_count": 24,
   "metadata": {},
   "outputs": [
    {
     "name": "stdout",
     "output_type": "stream",
     "text": [
      "Feature ranking:\n",
      "1. feature 10 (0.993394)\n",
      "2. feature 2 (0.984298)\n",
      "3. feature 1 (0.971500)\n",
      "4. feature 3 (0.912019)\n",
      "5. feature 7 (0.907766)\n",
      "6. feature 8 (0.832832)\n",
      "7. feature 9 (0.831975)\n",
      "8. feature 6 (0.778832)\n",
      "9. feature 5 (0.604793)\n",
      "10. feature 13 (0.070224)\n",
      "11. feature 11 (0.025427)\n",
      "12. feature 4 (0.013872)\n",
      "13. feature 12 (0.003568)\n",
      "14. feature 0 (0.002602)\n"
     ]
    }
   ],
   "source": [
    "print_ranking(X,pvals)"
   ]
  },
  {
   "cell_type": "code",
   "execution_count": 25,
   "metadata": {},
   "outputs": [],
   "source": [
    "p_values = pd.Series(pvals,index = df.columns)\n",
    "p_values.sort_values(ascending = False , inplace = True)"
   ]
  },
  {
   "cell_type": "code",
   "execution_count": 26,
   "metadata": {},
   "outputs": [
    {
     "data": {
      "image/png": "[encoded data removed]",
      "text/plain": [
       "<Figure size 432x288 with 1 Axes>"
      ]
     },
     "metadata": {
      "needs_background": "light"
     },
     "output_type": "display_data"
    }
   ],
   "source": [
    "plt.figure()\n",
    "p_values.plot.bar()\n",
    "plt.title(\"P-values\")\n",
    "plt.show()"
   ]
  },
  {
   "cell_type": "code",
   "execution_count": 27,
   "metadata": {},
   "outputs": [
    {
     "name": "stdout",
     "output_type": "stream",
     "text": [
      "Feature ranking:\n",
      "1. feature 0 (9.067241)\n",
      "2. feature 12 (8.491340)\n",
      "3. feature 4 (6.054398)\n",
      "4. feature 11 (4.994601)\n",
      "5. feature 13 (3.277779)\n",
      "6. feature 5 (0.267827)\n",
      "7. feature 6 (0.078872)\n",
      "8. feature 9 (0.045016)\n",
      "9. feature 8 (0.044551)\n",
      "10. feature 7 (0.013423)\n",
      "11. feature 3 (0.012209)\n",
      "12. feature 1 (0.001276)\n",
      "13. feature 2 (0.000387)\n",
      "14. feature 10 (0.000069)\n"
     ]
    },
    {
     "data": {
      "image/png": "[encoded data removed]",
      "text/plain": [
       "<Figure size 432x288 with 1 Axes>"
      ]
     },
     "metadata": {
      "needs_background": "light"
     },
     "output_type": "display_data"
    }
   ],
   "source": [
    "print_ranking(X,stats)\n",
    "s_vals = pd.Series(stats, index=df.columns)\n",
    "s_vals.sort_values(ascending = False , inplace = True)\n",
    "\n",
    "plt.figure()\n",
    "plt.title(\"Chi Statistics\")\n",
    "s_vals.plot.bar()\n",
    "plt.show()"
   ]
  },
  {
   "cell_type": "markdown",
   "metadata": {},
   "source": [
    "## Decision Trees-based Feature Selection"
   ]
  },
  {
   "cell_type": "markdown",
   "metadata": {},
   "source": [
    "### ExtraTrees"
   ]
  },
  {
   "cell_type": "code",
   "execution_count": 28,
   "metadata": {},
   "outputs": [
    {
     "name": "stdout",
     "output_type": "stream",
     "text": [
      "[0.08100006 0.04588648 0.03719856 0.11629671 0.05442372 0.04842418\n",
      " 0.04292295 0.09783834 0.04601263 0.06379242 0.05551763 0.06914986\n",
      " 0.18558889 0.05594759]\n",
      "Feature ranking:\n",
      "1. feature 12 (0.185589)\n",
      "2. feature 3 (0.116297)\n",
      "3. feature 7 (0.097838)\n",
      "4. feature 0 (0.081000)\n",
      "5. feature 11 (0.069150)\n",
      "6. feature 9 (0.063792)\n",
      "7. feature 13 (0.055948)\n",
      "8. feature 10 (0.055518)\n",
      "9. feature 4 (0.054424)\n",
      "10. feature 5 (0.048424)\n",
      "11. feature 8 (0.046013)\n",
      "12. feature 1 (0.045886)\n",
      "13. feature 6 (0.042923)\n",
      "14. feature 2 (0.037199)\n"
     ]
    },
    {
     "data": {
      "image/png": "[encoded data removed]",
      "text/plain": [
       "<Figure size 432x288 with 1 Axes>"
      ]
     },
     "metadata": {
      "needs_background": "light"
     },
     "output_type": "display_data"
    }
   ],
   "source": [
    "clf = ExtraTreesClassifier(n_estimators=50)\n",
    "clf = clf.fit(X_train, Y_train)\n",
    "\n",
    "print(clf.feature_importances_)\n",
    "print_ranking(X, clf.feature_importances_)\n",
    "\n",
    "xTree_vals = pd.Series(clf.feature_importances_, index=df.columns)\n",
    "xTree_vals.sort_values(ascending = False , inplace = True)\n",
    "\n",
    "plt.figure()\n",
    "plt.title(\"ExtraTrees-based Feature Ranking\")\n",
    "xTree_vals.plot.bar()\n",
    "plt.show()\n"
   ]
  },
  {
   "cell_type": "code",
   "execution_count": 29,
   "metadata": {},
   "outputs": [],
   "source": [
    "#https://blog.datadive.net/selecting-good-features-part-iii-random-forests/"
   ]
  },
  {
   "cell_type": "markdown",
   "metadata": {},
   "source": [
    "### Random Forest based"
   ]
  },
  {
   "cell_type": "code",
   "execution_count": 30,
   "metadata": {
    "scrolled": false
   },
   "outputs": [
    {
     "name": "stderr",
     "output_type": "stream",
     "text": [
      "/Users/rpezoa/opt/anaconda3/envs/my_root_env/lib/python3.7/site-packages/sklearn/ensemble/forest.py:246: FutureWarning: The default value of n_estimators will change from 10 in version 0.20 to 100 in 0.22.\n",
      "  \"10 in version 0.20 to 100 in 0.22.\", FutureWarning)\n"
     ]
    },
    {
     "name": "stdout",
     "output_type": "stream",
     "text": [
      "Feature ranking:\n",
      "1. feature 12 (0.245642)\n",
      "2. feature 3 (0.113880)\n",
      "3. feature 7 (0.097742)\n",
      "4. feature 0 (0.075171)\n",
      "5. feature 9 (0.069687)\n",
      "6. feature 11 (0.066923)\n",
      "7. feature 10 (0.053619)\n",
      "8. feature 5 (0.046023)\n",
      "9. feature 13 (0.041988)\n",
      "10. feature 4 (0.041067)\n",
      "11. feature 2 (0.039973)\n",
      "12. feature 1 (0.039783)\n",
      "13. feature 8 (0.035532)\n",
      "14. feature 6 (0.032969)\n"
     ]
    },
    {
     "data": {
      "image/png": "[encoded data removed]",
      "text/plain": [
       "<Figure size 1008x936 with 1 Axes>"
      ]
     },
     "metadata": {
      "needs_background": "light"
     },
     "output_type": "display_data"
    }
   ],
   "source": [
    "#https://www.kaggle.com/kanncaa1/feature-selection-and-data-visualization#Feature-Selection-and-Random-Forest-Classification\n",
    "\n",
    "clf_rf_5 = RandomForestClassifier() \n",
    "clr_rf_5 = clf_rf_5.fit(X_train,Y_train)\n",
    "\n",
    "importances = clr_rf_5.feature_importances_\n",
    "std = np.std([tree.feature_importances_ for tree in clf_rf_5.estimators_],\n",
    "             axis=0)\n",
    "\n",
    "print_ranking(X, importances)\n",
    "# Plot the feature importances of the forest\n",
    "\n",
    "indices = np.argsort(importances)[::-1]\n",
    "plt.figure(1, figsize=(14, 13))\n",
    "plt.title(\"Feature importances\")\n",
    "plt.bar(range(X.shape[1]), importances[indices],\n",
    "       color=\"g\", yerr=std[indices], align=\"center\")\n",
    "plt.xticks(range(X.shape[1]), df.columns[indices],rotation=45)\n",
    "plt.xlim([-1, X.shape[1]])\n",
    "plt.show()"
   ]
  },
  {
   "cell_type": "code",
   "execution_count": null,
   "metadata": {},
   "outputs": [],
   "source": []
  }
 ],
 "metadata": {
  "kernelspec": {
   "display_name": "Python 3",
   "language": "python",
   "name": "python3"
  },
  "language_info": {
   "codemirror_mode": {
    "name": "ipython",
    "version": 3
   },
   "file_extension": ".py",
   "mimetype": "text/x-python",
   "name": "python",
   "nbconvert_exporter": "python",
   "pygments_lexer": "ipython3",
   "version": "3.7.3"
  }
 },
 "nbformat": 4,
 "nbformat_minor": 2
}
