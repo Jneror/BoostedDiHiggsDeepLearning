{
 "cells": [
  {
   "cell_type": "code",
   "execution_count": 2,
   "metadata": {},
   "outputs": [],
   "source": [
    "ada_parent_dir = \"../\"\n",
    "import sys\n",
    "sys.path.append(ada_parent_dir)\n",
    "from ada import root_to_df, filter_region, filter_tag, drop_fakes, drop_twodim\n",
    "from sklearn.feature_selection import chi2\n",
    "from sklearn.feature_selection import SelectKBest\n",
    "import pandas as pd\n",
    "from sklearn import preprocessing"
   ]
  },
  {
   "cell_type": "code",
   "execution_count": 3,
   "metadata": {},
   "outputs": [],
   "source": [
    "data_path = \"../processed_data/\"\n",
    "signal = \"Xtohh2000_Hw\"\n",
    "region = \"SR\"\n",
    "tag=2"
   ]
  },
  {
   "cell_type": "code",
   "execution_count": 4,
   "metadata": {},
   "outputs": [],
   "source": [
    "root_file_path = data_path + \"all_2000_full.root\"\n",
    "df = root_to_df(root_file_path)\n",
    "df =  filter_region(df,region )\n",
    "df = filter_tag(df, tag)\n",
    "df = drop_fakes(df) #CHECK THIS DROPPED FAKES!\n",
    "df = drop_twodim(df)"
   ]
  },
  {
   "cell_type": "code",
   "execution_count": 5,
   "metadata": {},
   "outputs": [],
   "source": [
    "df_data = df[df[\"sample\"]==\"data\"]\n",
    "df_fakes = df[df[\"sample\"]==\"fakes\"]\n",
    "\n",
    "df_signal = df[df[\"sample\"]==signal]"
   ]
  },
  {
   "cell_type": "code",
   "execution_count": 6,
   "metadata": {},
   "outputs": [
    {
     "data": {
      "text/html": [
       "<div>\n",
       "<style scoped>\n",
       "    .dataframe tbody tr th:only-of-type {\n",
       "        vertical-align: middle;\n",
       "    }\n",
       "\n",
       "    .dataframe tbody tr th {\n",
       "        vertical-align: top;\n",
       "    }\n",
       "\n",
       "    .dataframe thead th {\n",
       "        text-align: right;\n",
       "    }\n",
       "</style>\n",
       "<table border=\"1\" class=\"dataframe\">\n",
       "  <thead>\n",
       "    <tr style=\"text-align: right;\">\n",
       "      <th></th>\n",
       "      <th>sample</th>\n",
       "      <th>EventWeightNoXSec</th>\n",
       "      <th>EventWeight</th>\n",
       "      <th>EventNumber</th>\n",
       "      <th>m_region</th>\n",
       "      <th>m_FJNbtagJets</th>\n",
       "      <th>m_AntiBTag</th>\n",
       "      <th>m_AntiTauTag</th>\n",
       "      <th>m_FJpt</th>\n",
       "      <th>m_FJeta</th>\n",
       "      <th>...</th>\n",
       "      <th>m_dPhiFTwDT</th>\n",
       "      <th>m_dRFJwDT</th>\n",
       "      <th>m_dPhiDTwMET</th>\n",
       "      <th>m_MET</th>\n",
       "      <th>m_hhm</th>\n",
       "      <th>m_bbttpt</th>\n",
       "      <th>m_hhm_Coll</th>\n",
       "      <th>m_hhm_Eff</th>\n",
       "      <th>m_hhm_ConEff</th>\n",
       "      <th>m_hhm_ConVis</th>\n",
       "    </tr>\n",
       "  </thead>\n",
       "  <tbody>\n",
       "    <tr>\n",
       "      <td>0</td>\n",
       "      <td>Xtohh2000_Hw</td>\n",
       "      <td>0.008301</td>\n",
       "      <td>0.001020</td>\n",
       "      <td>46746</td>\n",
       "      <td>SR</td>\n",
       "      <td>2</td>\n",
       "      <td>3</td>\n",
       "      <td>0</td>\n",
       "      <td>885.55927</td>\n",
       "      <td>0.104927</td>\n",
       "      <td>...</td>\n",
       "      <td>3.105514</td>\n",
       "      <td>3.216185</td>\n",
       "      <td>-0.192894</td>\n",
       "      <td>237.88724</td>\n",
       "      <td>1631.6702</td>\n",
       "      <td>263.697630</td>\n",
       "      <td>-999.0</td>\n",
       "      <td>1896.5974</td>\n",
       "      <td>1193.0669</td>\n",
       "      <td>1973.7532</td>\n",
       "    </tr>\n",
       "    <tr>\n",
       "      <td>4</td>\n",
       "      <td>Xtohh2000_Hw</td>\n",
       "      <td>0.009094</td>\n",
       "      <td>0.001117</td>\n",
       "      <td>47033</td>\n",
       "      <td>SR</td>\n",
       "      <td>2</td>\n",
       "      <td>2</td>\n",
       "      <td>0</td>\n",
       "      <td>855.69904</td>\n",
       "      <td>0.313113</td>\n",
       "      <td>...</td>\n",
       "      <td>2.779941</td>\n",
       "      <td>2.848176</td>\n",
       "      <td>-0.019178</td>\n",
       "      <td>485.03333</td>\n",
       "      <td>1293.4028</td>\n",
       "      <td>463.512360</td>\n",
       "      <td>-999.0</td>\n",
       "      <td>1832.4620</td>\n",
       "      <td>1597.4098</td>\n",
       "      <td>1934.0298</td>\n",
       "    </tr>\n",
       "    <tr>\n",
       "      <td>15</td>\n",
       "      <td>Xtohh2000_Hw</td>\n",
       "      <td>0.007525</td>\n",
       "      <td>0.000925</td>\n",
       "      <td>47483</td>\n",
       "      <td>SR</td>\n",
       "      <td>2</td>\n",
       "      <td>3</td>\n",
       "      <td>0</td>\n",
       "      <td>552.47845</td>\n",
       "      <td>-0.702952</td>\n",
       "      <td>...</td>\n",
       "      <td>3.122708</td>\n",
       "      <td>3.566858</td>\n",
       "      <td>-0.742126</td>\n",
       "      <td>104.55922</td>\n",
       "      <td>1659.8483</td>\n",
       "      <td>80.008150</td>\n",
       "      <td>-999.0</td>\n",
       "      <td>1759.5939</td>\n",
       "      <td>1056.4438</td>\n",
       "      <td>2125.3684</td>\n",
       "    </tr>\n",
       "    <tr>\n",
       "      <td>18</td>\n",
       "      <td>Xtohh2000_Hw</td>\n",
       "      <td>0.009422</td>\n",
       "      <td>0.001158</td>\n",
       "      <td>42700</td>\n",
       "      <td>SR</td>\n",
       "      <td>2</td>\n",
       "      <td>2</td>\n",
       "      <td>0</td>\n",
       "      <td>525.10590</td>\n",
       "      <td>-0.941433</td>\n",
       "      <td>...</td>\n",
       "      <td>3.111627</td>\n",
       "      <td>3.282524</td>\n",
       "      <td>-0.130256</td>\n",
       "      <td>166.60722</td>\n",
       "      <td>1075.3092</td>\n",
       "      <td>109.524925</td>\n",
       "      <td>-999.0</td>\n",
       "      <td>1262.3474</td>\n",
       "      <td>1561.9706</td>\n",
       "      <td>1574.2820</td>\n",
       "    </tr>\n",
       "    <tr>\n",
       "      <td>20</td>\n",
       "      <td>Xtohh2000_Hw</td>\n",
       "      <td>0.009115</td>\n",
       "      <td>0.001120</td>\n",
       "      <td>43588</td>\n",
       "      <td>SR</td>\n",
       "      <td>2</td>\n",
       "      <td>3</td>\n",
       "      <td>0</td>\n",
       "      <td>916.44147</td>\n",
       "      <td>-0.683193</td>\n",
       "      <td>...</td>\n",
       "      <td>3.079124</td>\n",
       "      <td>3.084862</td>\n",
       "      <td>0.416606</td>\n",
       "      <td>167.35030</td>\n",
       "      <td>1595.7611</td>\n",
       "      <td>244.283460</td>\n",
       "      <td>-999.0</td>\n",
       "      <td>1807.4701</td>\n",
       "      <td>1296.0286</td>\n",
       "      <td>1838.6957</td>\n",
       "    </tr>\n",
       "  </tbody>\n",
       "</table>\n",
       "<p>5 rows × 38 columns</p>\n",
       "</div>"
      ],
      "text/plain": [
       "          sample  EventWeightNoXSec  EventWeight  EventNumber m_region  \\\n",
       "0   Xtohh2000_Hw           0.008301     0.001020        46746       SR   \n",
       "4   Xtohh2000_Hw           0.009094     0.001117        47033       SR   \n",
       "15  Xtohh2000_Hw           0.007525     0.000925        47483       SR   \n",
       "18  Xtohh2000_Hw           0.009422     0.001158        42700       SR   \n",
       "20  Xtohh2000_Hw           0.009115     0.001120        43588       SR   \n",
       "\n",
       "    m_FJNbtagJets  m_AntiBTag  m_AntiTauTag     m_FJpt   m_FJeta  ...  \\\n",
       "0               2           3             0  885.55927  0.104927  ...   \n",
       "4               2           2             0  855.69904  0.313113  ...   \n",
       "15              2           3             0  552.47845 -0.702952  ...   \n",
       "18              2           2             0  525.10590 -0.941433  ...   \n",
       "20              2           3             0  916.44147 -0.683193  ...   \n",
       "\n",
       "    m_dPhiFTwDT  m_dRFJwDT  m_dPhiDTwMET      m_MET      m_hhm    m_bbttpt  \\\n",
       "0      3.105514   3.216185     -0.192894  237.88724  1631.6702  263.697630   \n",
       "4      2.779941   2.848176     -0.019178  485.03333  1293.4028  463.512360   \n",
       "15     3.122708   3.566858     -0.742126  104.55922  1659.8483   80.008150   \n",
       "18     3.111627   3.282524     -0.130256  166.60722  1075.3092  109.524925   \n",
       "20     3.079124   3.084862      0.416606  167.35030  1595.7611  244.283460   \n",
       "\n",
       "    m_hhm_Coll  m_hhm_Eff  m_hhm_ConEff  m_hhm_ConVis  \n",
       "0       -999.0  1896.5974     1193.0669     1973.7532  \n",
       "4       -999.0  1832.4620     1597.4098     1934.0298  \n",
       "15      -999.0  1759.5939     1056.4438     2125.3684  \n",
       "18      -999.0  1262.3474     1561.9706     1574.2820  \n",
       "20      -999.0  1807.4701     1296.0286     1838.6957  \n",
       "\n",
       "[5 rows x 38 columns]"
      ]
     },
     "metadata": {},
     "output_type": "display_data"
    },
    {
     "data": {
      "text/plain": [
       "Index(['sample', 'EventWeightNoXSec', 'EventWeight', 'EventNumber', 'm_region',\n",
       "       'm_FJNbtagJets', 'm_AntiBTag', 'm_AntiTauTag', 'm_FJpt', 'm_FJeta',\n",
       "       'm_FJphi', 'm_FJm', 'm_DTpt', 'm_DTeta', 'm_DTphi', 'm_DTm',\n",
       "       'm_DTpt_Eff', 'm_DTeta_Eff', 'm_DTphi_Eff', 'm_DTm_Eff',\n",
       "       'm_DTpt_ConEff', 'm_DTeta_ConEff', 'm_DTphi_ConEff', 'm_DTm_ConEff',\n",
       "       'm_DTpt_ConVis', 'm_DTeta_ConVis', 'm_DTphi_ConVis', 'm_DTm_ConVis',\n",
       "       'm_dPhiFTwDT', 'm_dRFJwDT', 'm_dPhiDTwMET', 'm_MET', 'm_hhm',\n",
       "       'm_bbttpt', 'm_hhm_Coll', 'm_hhm_Eff', 'm_hhm_ConEff', 'm_hhm_ConVis'],\n",
       "      dtype='object')"
      ]
     },
     "execution_count": 6,
     "metadata": {},
     "output_type": "execute_result"
    }
   ],
   "source": [
    "df_csv = pd.read_csv(data_path+\"Xtohh2000.csv\")\n",
    "df_csv =  filter_region(df_csv,region )\n",
    "df_csv = filter_tag(df_csv, tag)\n",
    "df_csv[\"m_region\"].value_counts()\n",
    "df_csv\n",
    "y = df_csv[\"sample\"] == signal\n",
    "display(df_csv.head())\n",
    "df_csv.columns"
   ]
  },
  {
   "cell_type": "code",
   "execution_count": 7,
   "metadata": {},
   "outputs": [],
   "source": [
    "features=['m_FJpt', \n",
    "          'm_FJeta', 'm_FJphi', 'm_FJm', 'm_DTpt', 'm_DTeta', 'm_DTphi', 'm_DTm','m_dPhiFTwDT', \n",
    "          'm_dRFJwDT', 'm_dPhiDTwMET', 'm_MET', 'm_hhm','m_bbttpt']"
   ]
  },
  {
   "cell_type": "code",
   "execution_count": 8,
   "metadata": {},
   "outputs": [],
   "source": [
    "df = df_csv[features]\n",
    "\n"
   ]
  },
  {
   "cell_type": "code",
   "execution_count": 9,
   "metadata": {},
   "outputs": [
    {
     "data": {
      "text/html": [
       "<div>\n",
       "<style scoped>\n",
       "    .dataframe tbody tr th:only-of-type {\n",
       "        vertical-align: middle;\n",
       "    }\n",
       "\n",
       "    .dataframe tbody tr th {\n",
       "        vertical-align: top;\n",
       "    }\n",
       "\n",
       "    .dataframe thead th {\n",
       "        text-align: right;\n",
       "    }\n",
       "</style>\n",
       "<table border=\"1\" class=\"dataframe\">\n",
       "  <thead>\n",
       "    <tr style=\"text-align: right;\">\n",
       "      <th></th>\n",
       "      <th>m_FJpt</th>\n",
       "      <th>m_FJeta</th>\n",
       "      <th>m_FJphi</th>\n",
       "      <th>m_FJm</th>\n",
       "      <th>m_DTpt</th>\n",
       "      <th>m_DTeta</th>\n",
       "      <th>m_DTphi</th>\n",
       "      <th>m_DTm</th>\n",
       "      <th>m_dPhiFTwDT</th>\n",
       "      <th>m_dRFJwDT</th>\n",
       "      <th>m_dPhiDTwMET</th>\n",
       "      <th>m_MET</th>\n",
       "      <th>m_hhm</th>\n",
       "      <th>m_bbttpt</th>\n",
       "    </tr>\n",
       "  </thead>\n",
       "  <tbody>\n",
       "    <tr>\n",
       "      <td>0</td>\n",
       "      <td>885.55927</td>\n",
       "      <td>0.104927</td>\n",
       "      <td>-2.448576</td>\n",
       "      <td>127604.30</td>\n",
       "      <td>623.22710</td>\n",
       "      <td>-0.731510</td>\n",
       "      <td>0.656939</td>\n",
       "      <td>85368.720</td>\n",
       "      <td>3.105514</td>\n",
       "      <td>3.216185</td>\n",
       "      <td>-0.192894</td>\n",
       "      <td>237.88724</td>\n",
       "      <td>1631.6702</td>\n",
       "      <td>263.697630</td>\n",
       "    </tr>\n",
       "    <tr>\n",
       "      <td>4</td>\n",
       "      <td>855.69904</td>\n",
       "      <td>0.313113</td>\n",
       "      <td>-1.859287</td>\n",
       "      <td>122862.90</td>\n",
       "      <td>449.37933</td>\n",
       "      <td>-0.306591</td>\n",
       "      <td>0.920655</td>\n",
       "      <td>55754.656</td>\n",
       "      <td>2.779941</td>\n",
       "      <td>2.848176</td>\n",
       "      <td>-0.019178</td>\n",
       "      <td>485.03333</td>\n",
       "      <td>1293.4028</td>\n",
       "      <td>463.512360</td>\n",
       "    </tr>\n",
       "    <tr>\n",
       "      <td>15</td>\n",
       "      <td>552.47845</td>\n",
       "      <td>-0.702952</td>\n",
       "      <td>-2.549875</td>\n",
       "      <td>109091.67</td>\n",
       "      <td>631.70496</td>\n",
       "      <td>1.020756</td>\n",
       "      <td>0.610602</td>\n",
       "      <td>76213.550</td>\n",
       "      <td>3.122708</td>\n",
       "      <td>3.566858</td>\n",
       "      <td>-0.742126</td>\n",
       "      <td>104.55922</td>\n",
       "      <td>1659.8483</td>\n",
       "      <td>80.008150</td>\n",
       "    </tr>\n",
       "    <tr>\n",
       "      <td>18</td>\n",
       "      <td>525.10590</td>\n",
       "      <td>-0.941433</td>\n",
       "      <td>-1.130162</td>\n",
       "      <td>82382.28</td>\n",
       "      <td>416.48105</td>\n",
       "      <td>0.103909</td>\n",
       "      <td>1.981465</td>\n",
       "      <td>58332.793</td>\n",
       "      <td>3.111627</td>\n",
       "      <td>3.282524</td>\n",
       "      <td>-0.130256</td>\n",
       "      <td>166.60722</td>\n",
       "      <td>1075.3092</td>\n",
       "      <td>109.524925</td>\n",
       "    </tr>\n",
       "    <tr>\n",
       "      <td>20</td>\n",
       "      <td>916.44147</td>\n",
       "      <td>-0.683193</td>\n",
       "      <td>1.804695</td>\n",
       "      <td>115936.01</td>\n",
       "      <td>677.16440</td>\n",
       "      <td>-0.495132</td>\n",
       "      <td>-1.274429</td>\n",
       "      <td>94135.960</td>\n",
       "      <td>3.079124</td>\n",
       "      <td>3.084862</td>\n",
       "      <td>0.416606</td>\n",
       "      <td>167.35030</td>\n",
       "      <td>1595.7611</td>\n",
       "      <td>244.283460</td>\n",
       "    </tr>\n",
       "  </tbody>\n",
       "</table>\n",
       "</div>"
      ],
      "text/plain": [
       "       m_FJpt   m_FJeta   m_FJphi      m_FJm     m_DTpt   m_DTeta   m_DTphi  \\\n",
       "0   885.55927  0.104927 -2.448576  127604.30  623.22710 -0.731510  0.656939   \n",
       "4   855.69904  0.313113 -1.859287  122862.90  449.37933 -0.306591  0.920655   \n",
       "15  552.47845 -0.702952 -2.549875  109091.67  631.70496  1.020756  0.610602   \n",
       "18  525.10590 -0.941433 -1.130162   82382.28  416.48105  0.103909  1.981465   \n",
       "20  916.44147 -0.683193  1.804695  115936.01  677.16440 -0.495132 -1.274429   \n",
       "\n",
       "        m_DTm  m_dPhiFTwDT  m_dRFJwDT  m_dPhiDTwMET      m_MET      m_hhm  \\\n",
       "0   85368.720     3.105514   3.216185     -0.192894  237.88724  1631.6702   \n",
       "4   55754.656     2.779941   2.848176     -0.019178  485.03333  1293.4028   \n",
       "15  76213.550     3.122708   3.566858     -0.742126  104.55922  1659.8483   \n",
       "18  58332.793     3.111627   3.282524     -0.130256  166.60722  1075.3092   \n",
       "20  94135.960     3.079124   3.084862      0.416606  167.35030  1595.7611   \n",
       "\n",
       "      m_bbttpt  \n",
       "0   263.697630  \n",
       "4   463.512360  \n",
       "15   80.008150  \n",
       "18  109.524925  \n",
       "20  244.283460  "
      ]
     },
     "execution_count": 9,
     "metadata": {},
     "output_type": "execute_result"
    }
   ],
   "source": [
    "df.head()"
   ]
  },
  {
   "cell_type": "code",
   "execution_count": 10,
   "metadata": {},
   "outputs": [
    {
     "data": {
      "text/plain": [
       "Index(['m_FJpt', 'm_FJeta', 'm_FJphi', 'm_FJm', 'm_DTpt', 'm_DTeta', 'm_DTphi',\n",
       "       'm_DTm', 'm_dPhiFTwDT', 'm_dRFJwDT', 'm_dPhiDTwMET', 'm_MET', 'm_hhm',\n",
       "       'm_bbttpt'],\n",
       "      dtype='object')"
      ]
     },
     "execution_count": 10,
     "metadata": {},
     "output_type": "execute_result"
    }
   ],
   "source": [
    "df.columns"
   ]
  },
  {
   "cell_type": "code",
   "execution_count": 11,
   "metadata": {},
   "outputs": [
    {
     "data": {
      "text/html": [
       "<div>\n",
       "<style scoped>\n",
       "    .dataframe tbody tr th:only-of-type {\n",
       "        vertical-align: middle;\n",
       "    }\n",
       "\n",
       "    .dataframe tbody tr th {\n",
       "        vertical-align: top;\n",
       "    }\n",
       "\n",
       "    .dataframe thead th {\n",
       "        text-align: right;\n",
       "    }\n",
       "</style>\n",
       "<table border=\"1\" class=\"dataframe\">\n",
       "  <thead>\n",
       "    <tr style=\"text-align: right;\">\n",
       "      <th></th>\n",
       "      <th>m_FJpt</th>\n",
       "      <th>m_FJeta</th>\n",
       "      <th>m_FJphi</th>\n",
       "      <th>m_FJm</th>\n",
       "      <th>m_DTpt</th>\n",
       "      <th>m_DTeta</th>\n",
       "      <th>m_DTphi</th>\n",
       "      <th>m_DTm</th>\n",
       "      <th>m_dPhiFTwDT</th>\n",
       "      <th>m_dRFJwDT</th>\n",
       "      <th>m_dPhiDTwMET</th>\n",
       "      <th>m_MET</th>\n",
       "      <th>m_hhm</th>\n",
       "      <th>m_bbttpt</th>\n",
       "    </tr>\n",
       "  </thead>\n",
       "  <tbody>\n",
       "    <tr>\n",
       "      <td>0</td>\n",
       "      <td>885.55927</td>\n",
       "      <td>0.104927</td>\n",
       "      <td>-2.448576</td>\n",
       "      <td>127604.300</td>\n",
       "      <td>623.22710</td>\n",
       "      <td>-0.731510</td>\n",
       "      <td>0.656939</td>\n",
       "      <td>85368.720</td>\n",
       "      <td>3.105514</td>\n",
       "      <td>3.216185</td>\n",
       "      <td>-0.192894</td>\n",
       "      <td>237.887240</td>\n",
       "      <td>1631.6702</td>\n",
       "      <td>263.697630</td>\n",
       "    </tr>\n",
       "    <tr>\n",
       "      <td>4</td>\n",
       "      <td>855.69904</td>\n",
       "      <td>0.313113</td>\n",
       "      <td>-1.859287</td>\n",
       "      <td>122862.900</td>\n",
       "      <td>449.37933</td>\n",
       "      <td>-0.306591</td>\n",
       "      <td>0.920655</td>\n",
       "      <td>55754.656</td>\n",
       "      <td>2.779941</td>\n",
       "      <td>2.848176</td>\n",
       "      <td>-0.019178</td>\n",
       "      <td>485.033330</td>\n",
       "      <td>1293.4028</td>\n",
       "      <td>463.512360</td>\n",
       "    </tr>\n",
       "    <tr>\n",
       "      <td>15</td>\n",
       "      <td>552.47845</td>\n",
       "      <td>-0.702952</td>\n",
       "      <td>-2.549875</td>\n",
       "      <td>109091.670</td>\n",
       "      <td>631.70496</td>\n",
       "      <td>1.020756</td>\n",
       "      <td>0.610602</td>\n",
       "      <td>76213.550</td>\n",
       "      <td>3.122708</td>\n",
       "      <td>3.566858</td>\n",
       "      <td>-0.742126</td>\n",
       "      <td>104.559220</td>\n",
       "      <td>1659.8483</td>\n",
       "      <td>80.008150</td>\n",
       "    </tr>\n",
       "    <tr>\n",
       "      <td>18</td>\n",
       "      <td>525.10590</td>\n",
       "      <td>-0.941433</td>\n",
       "      <td>-1.130162</td>\n",
       "      <td>82382.280</td>\n",
       "      <td>416.48105</td>\n",
       "      <td>0.103909</td>\n",
       "      <td>1.981465</td>\n",
       "      <td>58332.793</td>\n",
       "      <td>3.111627</td>\n",
       "      <td>3.282524</td>\n",
       "      <td>-0.130256</td>\n",
       "      <td>166.607220</td>\n",
       "      <td>1075.3092</td>\n",
       "      <td>109.524925</td>\n",
       "    </tr>\n",
       "    <tr>\n",
       "      <td>20</td>\n",
       "      <td>916.44147</td>\n",
       "      <td>-0.683193</td>\n",
       "      <td>1.804695</td>\n",
       "      <td>115936.010</td>\n",
       "      <td>677.16440</td>\n",
       "      <td>-0.495132</td>\n",
       "      <td>-1.274429</td>\n",
       "      <td>94135.960</td>\n",
       "      <td>3.079124</td>\n",
       "      <td>3.084862</td>\n",
       "      <td>0.416606</td>\n",
       "      <td>167.350300</td>\n",
       "      <td>1595.7611</td>\n",
       "      <td>244.283460</td>\n",
       "    </tr>\n",
       "    <tr>\n",
       "      <td>...</td>\n",
       "      <td>...</td>\n",
       "      <td>...</td>\n",
       "      <td>...</td>\n",
       "      <td>...</td>\n",
       "      <td>...</td>\n",
       "      <td>...</td>\n",
       "      <td>...</td>\n",
       "      <td>...</td>\n",
       "      <td>...</td>\n",
       "      <td>...</td>\n",
       "      <td>...</td>\n",
       "      <td>...</td>\n",
       "      <td>...</td>\n",
       "      <td>...</td>\n",
       "    </tr>\n",
       "    <tr>\n",
       "      <td>101826</td>\n",
       "      <td>619.94476</td>\n",
       "      <td>-1.530844</td>\n",
       "      <td>2.352461</td>\n",
       "      <td>93778.555</td>\n",
       "      <td>419.90290</td>\n",
       "      <td>1.224686</td>\n",
       "      <td>-0.896622</td>\n",
       "      <td>40863.637</td>\n",
       "      <td>3.034102</td>\n",
       "      <td>4.098625</td>\n",
       "      <td>-0.280388</td>\n",
       "      <td>286.408970</td>\n",
       "      <td>2155.6992</td>\n",
       "      <td>207.416440</td>\n",
       "    </tr>\n",
       "    <tr>\n",
       "      <td>102176</td>\n",
       "      <td>611.34870</td>\n",
       "      <td>-0.871494</td>\n",
       "      <td>-0.264761</td>\n",
       "      <td>227763.140</td>\n",
       "      <td>467.55270</td>\n",
       "      <td>0.094108</td>\n",
       "      <td>2.768519</td>\n",
       "      <td>98680.410</td>\n",
       "      <td>3.033280</td>\n",
       "      <td>3.183265</td>\n",
       "      <td>-0.295021</td>\n",
       "      <td>169.082120</td>\n",
       "      <td>1239.1935</td>\n",
       "      <td>155.007490</td>\n",
       "    </tr>\n",
       "    <tr>\n",
       "      <td>102488</td>\n",
       "      <td>777.56586</td>\n",
       "      <td>1.187897</td>\n",
       "      <td>-2.571395</td>\n",
       "      <td>48316.727</td>\n",
       "      <td>434.83230</td>\n",
       "      <td>1.713899</td>\n",
       "      <td>-0.107483</td>\n",
       "      <td>67534.984</td>\n",
       "      <td>2.463912</td>\n",
       "      <td>2.519432</td>\n",
       "      <td>0.347042</td>\n",
       "      <td>77.403076</td>\n",
       "      <td>1145.7860</td>\n",
       "      <td>516.615660</td>\n",
       "    </tr>\n",
       "    <tr>\n",
       "      <td>103066</td>\n",
       "      <td>353.45984</td>\n",
       "      <td>0.976739</td>\n",
       "      <td>-3.131807</td>\n",
       "      <td>79305.380</td>\n",
       "      <td>442.49554</td>\n",
       "      <td>0.970799</td>\n",
       "      <td>0.020331</td>\n",
       "      <td>56492.152</td>\n",
       "      <td>3.131047</td>\n",
       "      <td>3.131053</td>\n",
       "      <td>0.771418</td>\n",
       "      <td>42.421673</td>\n",
       "      <td>803.4093</td>\n",
       "      <td>89.133310</td>\n",
       "    </tr>\n",
       "    <tr>\n",
       "      <td>103204</td>\n",
       "      <td>645.46620</td>\n",
       "      <td>-0.566860</td>\n",
       "      <td>1.212338</td>\n",
       "      <td>94722.750</td>\n",
       "      <td>338.86102</td>\n",
       "      <td>0.608576</td>\n",
       "      <td>-1.762296</td>\n",
       "      <td>82194.700</td>\n",
       "      <td>2.974634</td>\n",
       "      <td>3.198452</td>\n",
       "      <td>0.243019</td>\n",
       "      <td>213.596390</td>\n",
       "      <td>1113.7911</td>\n",
       "      <td>316.369320</td>\n",
       "    </tr>\n",
       "  </tbody>\n",
       "</table>\n",
       "<p>8737 rows × 14 columns</p>\n",
       "</div>"
      ],
      "text/plain": [
       "           m_FJpt   m_FJeta   m_FJphi       m_FJm     m_DTpt   m_DTeta  \\\n",
       "0       885.55927  0.104927 -2.448576  127604.300  623.22710 -0.731510   \n",
       "4       855.69904  0.313113 -1.859287  122862.900  449.37933 -0.306591   \n",
       "15      552.47845 -0.702952 -2.549875  109091.670  631.70496  1.020756   \n",
       "18      525.10590 -0.941433 -1.130162   82382.280  416.48105  0.103909   \n",
       "20      916.44147 -0.683193  1.804695  115936.010  677.16440 -0.495132   \n",
       "...           ...       ...       ...         ...        ...       ...   \n",
       "101826  619.94476 -1.530844  2.352461   93778.555  419.90290  1.224686   \n",
       "102176  611.34870 -0.871494 -0.264761  227763.140  467.55270  0.094108   \n",
       "102488  777.56586  1.187897 -2.571395   48316.727  434.83230  1.713899   \n",
       "103066  353.45984  0.976739 -3.131807   79305.380  442.49554  0.970799   \n",
       "103204  645.46620 -0.566860  1.212338   94722.750  338.86102  0.608576   \n",
       "\n",
       "         m_DTphi      m_DTm  m_dPhiFTwDT  m_dRFJwDT  m_dPhiDTwMET       m_MET  \\\n",
       "0       0.656939  85368.720     3.105514   3.216185     -0.192894  237.887240   \n",
       "4       0.920655  55754.656     2.779941   2.848176     -0.019178  485.033330   \n",
       "15      0.610602  76213.550     3.122708   3.566858     -0.742126  104.559220   \n",
       "18      1.981465  58332.793     3.111627   3.282524     -0.130256  166.607220   \n",
       "20     -1.274429  94135.960     3.079124   3.084862      0.416606  167.350300   \n",
       "...          ...        ...          ...        ...           ...         ...   \n",
       "101826 -0.896622  40863.637     3.034102   4.098625     -0.280388  286.408970   \n",
       "102176  2.768519  98680.410     3.033280   3.183265     -0.295021  169.082120   \n",
       "102488 -0.107483  67534.984     2.463912   2.519432      0.347042   77.403076   \n",
       "103066  0.020331  56492.152     3.131047   3.131053      0.771418   42.421673   \n",
       "103204 -1.762296  82194.700     2.974634   3.198452      0.243019  213.596390   \n",
       "\n",
       "            m_hhm    m_bbttpt  \n",
       "0       1631.6702  263.697630  \n",
       "4       1293.4028  463.512360  \n",
       "15      1659.8483   80.008150  \n",
       "18      1075.3092  109.524925  \n",
       "20      1595.7611  244.283460  \n",
       "...           ...         ...  \n",
       "101826  2155.6992  207.416440  \n",
       "102176  1239.1935  155.007490  \n",
       "102488  1145.7860  516.615660  \n",
       "103066   803.4093   89.133310  \n",
       "103204  1113.7911  316.369320  \n",
       "\n",
       "[8737 rows x 14 columns]"
      ]
     },
     "execution_count": 11,
     "metadata": {},
     "output_type": "execute_result"
    }
   ],
   "source": [
    "df"
   ]
  },
  {
   "cell_type": "code",
   "execution_count": 12,
   "metadata": {},
   "outputs": [
    {
     "data": {
      "text/plain": [
       "Index(['m_FJpt', 'm_FJeta', 'm_FJphi', 'm_FJm', 'm_DTpt', 'm_DTeta', 'm_DTphi',\n",
       "       'm_DTm', 'm_dPhiFTwDT', 'm_dRFJwDT', 'm_dPhiDTwMET', 'm_MET', 'm_hhm',\n",
       "       'm_bbttpt'],\n",
       "      dtype='object')"
      ]
     },
     "execution_count": 12,
     "metadata": {},
     "output_type": "execute_result"
    }
   ],
   "source": [
    "df.columns"
   ]
  },
  {
   "cell_type": "code",
   "execution_count": 13,
   "metadata": {},
   "outputs": [],
   "source": [
    "Y = y.to_numpy(dtype=int)"
   ]
  },
  {
   "cell_type": "code",
   "execution_count": 14,
   "metadata": {},
   "outputs": [
    {
     "data": {
      "text/plain": [
       "array([1, 1, 1, ..., 0, 0, 0])"
      ]
     },
     "execution_count": 14,
     "metadata": {},
     "output_type": "execute_result"
    }
   ],
   "source": [
    "Y"
   ]
  },
  {
   "cell_type": "code",
   "execution_count": 15,
   "metadata": {},
   "outputs": [],
   "source": [
    "X = df.values\n"
   ]
  },
  {
   "cell_type": "code",
   "execution_count": 16,
   "metadata": {},
   "outputs": [
    {
     "data": {
      "text/plain": [
       "array([[ 8.8555927e+02,  1.0492674e-01, -2.4485755e+00, ...,\n",
       "         2.3788724e+02,  1.6316702e+03,  2.6369763e+02],\n",
       "       [ 8.5569904e+02,  3.1311333e-01, -1.8592868e+00, ...,\n",
       "         4.8503333e+02,  1.2934028e+03,  4.6351236e+02],\n",
       "       [ 5.5247845e+02, -7.0295170e-01, -2.5498753e+00, ...,\n",
       "         1.0455922e+02,  1.6598483e+03,  8.0008150e+01],\n",
       "       ...,\n",
       "       [ 7.7756586e+02,  1.1878972e+00, -2.5713952e+00, ...,\n",
       "         7.7403076e+01,  1.1457860e+03,  5.1661566e+02],\n",
       "       [ 3.5345984e+02,  9.7673905e-01, -3.1318066e+00, ...,\n",
       "         4.2421673e+01,  8.0340930e+02,  8.9133310e+01],\n",
       "       [ 6.4546620e+02, -5.6686050e-01,  1.2123379e+00, ...,\n",
       "         2.1359639e+02,  1.1137911e+03,  3.1636932e+02]])"
      ]
     },
     "execution_count": 16,
     "metadata": {},
     "output_type": "execute_result"
    }
   ],
   "source": [
    "X"
   ]
  },
  {
   "cell_type": "code",
   "execution_count": 17,
   "metadata": {},
   "outputs": [],
   "source": [
    "mm_scaler = preprocessing.MinMaxScaler()\n",
    "X_scaled = mm_scaler.fit_transform(X)\n",
    "\n"
   ]
  },
  {
   "cell_type": "code",
   "execution_count": 18,
   "metadata": {},
   "outputs": [
    {
     "data": {
      "text/plain": [
       "array([0.44491035, 0.42209011, 0.19035826, ..., 0.36237799, 0.03826124,\n",
       "       0.26142278])"
      ]
     },
     "execution_count": 18,
     "metadata": {},
     "output_type": "execute_result"
    }
   ],
   "source": [
    "X_scaled[:,0]"
   ]
  },
  {
   "cell_type": "markdown",
   "metadata": {},
   "source": [
    "## $\\chi^2$ test for feature selection"
   ]
  },
  {
   "cell_type": "code",
   "execution_count": 31,
   "metadata": {},
   "outputs": [],
   "source": [
    "#https://towardsdatascience.com/chi-square-test-for-feature-selection-in-machine-learning-206b1f0b8223\n",
    "stats, pvals = chi2(X_scaled,Y)"
   ]
  },
  {
   "cell_type": "code",
   "execution_count": 20,
   "metadata": {},
   "outputs": [
    {
     "data": {
      "text/plain": [
       "array([1.07262981e+01, 6.13942870e-03, 5.16073799e-02, 8.42759058e-03,\n",
       "       6.99551374e+00, 5.10781496e-01, 1.06685077e-01, 5.85135795e-03,\n",
       "       4.05183002e-02, 6.11963994e-02, 2.22775227e-03, 6.83438244e+00,\n",
       "       9.91407872e+00, 4.30525661e+00])"
      ]
     },
     "execution_count": 20,
     "metadata": {},
     "output_type": "execute_result"
    }
   ],
   "source": [
    "stats"
   ]
  },
  {
   "cell_type": "code",
   "execution_count": 21,
   "metadata": {},
   "outputs": [
    {
     "data": {
      "text/plain": [
       "array([0.00105624, 0.93754606, 0.82028955, 0.92685543, 0.00817143,\n",
       "       0.47480075, 0.74395016, 0.93902595, 0.84047059, 0.80461488,\n",
       "       0.96235457, 0.00894196, 0.00164019, 0.03799476])"
      ]
     },
     "execution_count": 21,
     "metadata": {},
     "output_type": "execute_result"
    }
   ],
   "source": [
    "pvals"
   ]
  },
  {
   "cell_type": "code",
   "execution_count": 27,
   "metadata": {},
   "outputs": [],
   "source": [
    "p_values = pd.Series(pvals,index = df.columns)\n",
    "p_values.sort_values(ascending = False , inplace = True)"
   ]
  },
  {
   "cell_type": "code",
   "execution_count": 28,
   "metadata": {},
   "outputs": [
    {
     "data": {
      "text/plain": [
       "<matplotlib.axes._subplots.AxesSubplot at 0x14c1740b8>"
      ]
     },
     "execution_count": 28,
     "metadata": {},
     "output_type": "execute_result"
    },
    {
     "data": {
      "image/png": "[encoded data removed]",
      "text/plain": [
       "<Figure size 432x288 with 1 Axes>"
      ]
     },
     "metadata": {
      "needs_background": "light"
     },
     "output_type": "display_data"
    }
   ],
   "source": [
    "p_values.plot.bar()"
   ]
  },
  {
   "cell_type": "code",
   "execution_count": 29,
   "metadata": {},
   "outputs": [
    {
     "data": {
      "text/plain": [
       "<matplotlib.axes._subplots.AxesSubplot at 0x14bbadfd0>"
      ]
     },
     "execution_count": 29,
     "metadata": {},
     "output_type": "execute_result"
    },
    {
     "data": {
      "image/png": "[encoded data removed]",
      "text/plain": [
       "<Figure size 432x288 with 1 Axes>"
      ]
     },
     "metadata": {
      "needs_background": "light"
     },
     "output_type": "display_data"
    }
   ],
   "source": [
    "s_vals = pd.Series(stats, index=df.columns)\n",
    "s_vals.sort_values(ascending = False , inplace = True)\n",
    "s_vals.plot.bar()"
   ]
  },
  {
   "cell_type": "code",
   "execution_count": 35,
   "metadata": {},
   "outputs": [
    {
     "name": "stdout",
     "output_type": "stream",
     "text": [
      "[0.08588025 0.04875413 0.03995514 0.11977058 0.05318857 0.04989595\n",
      " 0.03678708 0.09427755 0.0449037  0.06595248 0.05229242 0.07149175\n",
      " 0.18518318 0.05166722]\n"
     ]
    },
    {
     "data": {
      "text/plain": [
       "<matplotlib.axes._subplots.AxesSubplot at 0x14a2baac8>"
      ]
     },
     "execution_count": 35,
     "metadata": {},
     "output_type": "execute_result"
    },
    {
     "data": {
      "image/png": "[encoded data removed]",
      "text/plain": [
       "<Figure size 432x288 with 1 Axes>"
      ]
     },
     "metadata": {
      "needs_background": "light"
     },
     "output_type": "display_data"
    }
   ],
   "source": [
    "from sklearn.ensemble import ExtraTreesClassifier\n",
    "from sklearn.feature_selection import SelectFromModel\n",
    "\n",
    "clf = ExtraTreesClassifier(n_estimators=50)\n",
    "clf = clf.fit(X, Y)\n",
    "\n",
    "print(clf.feature_importances_)\n",
    "\n",
    "xTree_vals = pd.Series(clf.feature_importances_, index=df.columns)\n",
    "xTree_vals.sort_values(ascending = False , inplace = True)\n",
    "xTree_vals.plot.bar()\n"
   ]
  },
  {
   "cell_type": "code",
   "execution_count": 36,
   "metadata": {},
   "outputs": [
    {
     "data": {
      "text/plain": [
       "Index(['m_FJpt', 'm_FJeta', 'm_FJphi', 'm_FJm', 'm_DTpt', 'm_DTeta', 'm_DTphi',\n",
       "       'm_DTm', 'm_dPhiFTwDT', 'm_dRFJwDT', 'm_dPhiDTwMET', 'm_MET', 'm_hhm',\n",
       "       'm_bbttpt'],\n",
       "      dtype='object')"
      ]
     },
     "execution_count": 36,
     "metadata": {},
     "output_type": "execute_result"
    }
   ],
   "source": [
    "df.columns"
   ]
  },
  {
   "cell_type": "code",
   "execution_count": 33,
   "metadata": {},
   "outputs": [],
   "source": [
    "model = SelectFromModel(clf, prefit=True)\n",
    "X_new = model.transform(X)\n",
    "\n"
   ]
  },
  {
   "cell_type": "code",
   "execution_count": 34,
   "metadata": {},
   "outputs": [
    {
     "data": {
      "text/plain": [
       "(8737, 5)"
      ]
     },
     "execution_count": 34,
     "metadata": {},
     "output_type": "execute_result"
    }
   ],
   "source": [
    "X_new.shape               \n",
    "\n"
   ]
  },
  {
   "cell_type": "code",
   "execution_count": 37,
   "metadata": {},
   "outputs": [],
   "source": [
    "#https://blog.datadive.net/selecting-good-features-part-iii-random-forests/"
   ]
  },
  {
   "cell_type": "code",
   "execution_count": null,
   "metadata": {},
   "outputs": [],
   "source": []
  }
 ],
 "metadata": {
  "kernelspec": {
   "display_name": "Python 3",
   "language": "python",
   "name": "python3"
  },
  "language_info": {
   "codemirror_mode": {
    "name": "ipython",
    "version": 3
   },
   "file_extension": ".py",
   "mimetype": "text/x-python",
   "name": "python",
   "nbconvert_exporter": "python",
   "pygments_lexer": "ipython3",
   "version": "3.7.3"
  }
 },
 "nbformat": 4,
 "nbformat_minor": 2
}
