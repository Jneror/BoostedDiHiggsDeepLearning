{
 "cells": [
  {
   "cell_type": "markdown",
   "metadata": {},
   "source": [
    "# Root to df and df to root\n",
    "2020-04-15 John Rodríguez"
   ]
  },
  {
   "cell_type": "code",
   "execution_count": 1,
   "metadata": {},
   "outputs": [
    {
     "name": "stdout",
     "output_type": "stream",
     "text": [
      "Welcome to JupyROOT 6.20/04\n"
     ]
    }
   ],
   "source": [
    "import pandas as pd\n",
    "from root_pandas import to_root\n",
    "from ROOT import TFile\n",
    "from root_numpy import tree2array\n",
    "\n",
    "data_path = \"../raw_data\"\n",
    "prodata_path = \"../processed_data\"\n",
    "signal = \"Xtohh\"\n",
    "energy = \"3000\""
   ]
  },
  {
   "cell_type": "code",
   "execution_count": 2,
   "metadata": {},
   "outputs": [],
   "source": [
    "def root_to_df(file):\n",
    "    \"\"\"Turns root file into a dataframe\"\"\"\n",
    "    rfile = TFile(file) #root file\n",
    "    intree = rfile.Get(\"Nominal\") #get tree from root file\n",
    "    return pd.DataFrame(tree2array(intree)) #DataFrame from array from root file"
   ]
  },
  {
   "cell_type": "code",
   "execution_count": 26,
   "metadata": {},
   "outputs": [
    {
     "data": {
      "text/plain": [
       "0         b'fakes'\n",
       "1         b'fakes'\n",
       "2         b'fakes'\n",
       "3         b'fakes'\n",
       "4         b'fakes'\n",
       "           ...    \n",
       "93793     b'fakes'\n",
       "93794     b'fakes'\n",
       "93795     b'fakes'\n",
       "93796    b'stopWt'\n",
       "93797     b'fakes'\n",
       "Name: sample2, Length: 93798, dtype: bytes120"
      ]
     },
     "execution_count": 26,
     "metadata": {},
     "output_type": "execute_result"
    }
   ],
   "source": [
    "dataset_file = f\"{prodata_path}/{signal}{energy}_dataset.csv\"\n",
    "df = pd.read_csv(dataset_file)\n",
    "df[\"sample2\"] = df[\"sample\"].astype('S')\n",
    "df[\"sample2\"]"
   ]
  },
  {
   "cell_type": "code",
   "execution_count": 27,
   "metadata": {},
   "outputs": [],
   "source": [
    "to_root(df, f\"{prodata_path}/test.root\", key=\"Nominal\")"
   ]
  },
  {
   "cell_type": "code",
   "execution_count": 28,
   "metadata": {},
   "outputs": [],
   "source": [
    "df1 = root_to_df(f\"{prodata_path}/test.root\")"
   ]
  },
  {
   "cell_type": "code",
   "execution_count": 29,
   "metadata": {},
   "outputs": [],
   "source": [
    "df2 = pd.read_csv(f\"{prodata_path}/{signal}{energy}_dataset.csv\")"
   ]
  },
  {
   "cell_type": "code",
   "execution_count": 31,
   "metadata": {},
   "outputs": [
    {
     "data": {
      "text/plain": [
       "0         b'fakes'\n",
       "1         b'fakes'\n",
       "2         b'fakes'\n",
       "3         b'fakes'\n",
       "4         b'fakes'\n",
       "           ...    \n",
       "93793     b'fakes'\n",
       "93794     b'fakes'\n",
       "93795     b'fakes'\n",
       "93796    b'stopWt'\n",
       "93797     b'fakes'\n",
       "Name: sample2, Length: 93798, dtype: object"
      ]
     },
     "execution_count": 31,
     "metadata": {},
     "output_type": "execute_result"
    }
   ],
   "source": [
    "df1[\"sample2\"]"
   ]
  },
  {
   "cell_type": "code",
   "execution_count": 22,
   "metadata": {},
   "outputs": [
    {
     "data": {
      "text/plain": [
       "0         fakes\n",
       "1         fakes\n",
       "2         fakes\n",
       "3         fakes\n",
       "4         fakes\n",
       "          ...  \n",
       "93793     fakes\n",
       "93794     fakes\n",
       "93795     fakes\n",
       "93796    stopWt\n",
       "93797     fakes\n",
       "Name: sample, Length: 93798, dtype: object"
      ]
     },
     "execution_count": 22,
     "metadata": {},
     "output_type": "execute_result"
    }
   ],
   "source": [
    "df2[\"sample\"]"
   ]
  },
  {
   "cell_type": "code",
   "execution_count": null,
   "metadata": {},
   "outputs": [],
   "source": []
  }
 ],
 "metadata": {
  "kernelspec": {
   "display_name": "Python 3",
   "language": "python",
   "name": "python3"
  },
  "language_info": {
   "codemirror_mode": {
    "name": "ipython",
    "version": 3
   },
   "file_extension": ".py",
   "mimetype": "text/x-python",
   "name": "python",
   "nbconvert_exporter": "python",
   "pygments_lexer": "ipython3",
   "version": "3.7.6"
  }
 },
 "nbformat": 4,
 "nbformat_minor": 4
}
