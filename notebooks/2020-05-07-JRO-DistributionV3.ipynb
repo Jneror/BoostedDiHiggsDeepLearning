{
 "cells": [
  {
   "cell_type": "markdown",
   "metadata": {},
   "source": [
    "# Class Distribution (Region, Tag) v.3\n",
    "2020-05-07, John Rodriguez"
   ]
  },
  {
   "cell_type": "code",
   "execution_count": 1,
   "metadata": {},
   "outputs": [
    {
     "output_type": "stream",
     "name": "stdout",
     "text": "Welcome to JupyROOT 6.20/04\n"
    }
   ],
   "source": [
    "import pandas as pd\n",
    "from glob import glob\n",
    "ada_parent_dir = \"../\"\n",
    "import sys\n",
    "sys.path.append(ada_parent_dir)\n",
    "import ada\n",
    "import matplotlib.pyplot as plt"
   ]
  },
  {
   "cell_type": "code",
   "execution_count": 2,
   "metadata": {},
   "outputs": [],
   "source": [
    "data_path = \"../processed_data/\"\n",
    "signal = \"Xtohh\""
   ]
  },
  {
   "cell_type": "code",
   "execution_count": 3,
   "metadata": {},
   "outputs": [],
   "source": [
    "#import datasets\n",
    "datasets = {path.split('/')[-1][:-4]: pd.read_csv(path) for path in glob(data_path + signal + \"[0-9]*.csv\")}"
   ]
  },
  {
   "cell_type": "code",
   "execution_count": 4,
   "metadata": {},
   "outputs": [],
   "source": [
    "#drop twodim\n",
    "datasets = {sign_name: ada.drop_twodim(sign_df) for sign_name, sign_df in datasets.items()}"
   ]
  },
  {
   "cell_type": "code",
   "execution_count": 5,
   "metadata": {},
   "outputs": [],
   "source": [
    "#classify\n",
    "datasets = {sign_name: ada.classify_events(sign_df, sign_name, \"signal\") for sign_name, sign_df in datasets.items()}"
   ]
  },
  {
   "cell_type": "code",
   "execution_count": 6,
   "metadata": {},
   "outputs": [],
   "source": [
    "datasets_df = pd.concat(datasets)\n",
    "datasets_df.index.names = [\"dataset\", None]"
   ]
  },
  {
   "cell_type": "code",
   "execution_count": 7,
   "metadata": {},
   "outputs": [],
   "source": [
    "datasets_df.reset_index(level=[0], inplace = True)"
   ]
  },
  {
   "cell_type": "code",
   "execution_count": 8,
   "metadata": {},
   "outputs": [
    {
     "output_type": "execute_result",
     "data": {
      "text/plain": "         dataset        sample  EventWeightNoXSec  EventWeight  EventNumber  \\\n0      Xtohh1400  Xtohh1400_Hw           0.103209     0.000693        23467   \n1      Xtohh1400  Xtohh1400_Hw           0.135721     0.000911        30753   \n2      Xtohh1400  Xtohh1400_Hw           0.198280     0.001331        29314   \n3      Xtohh1400  Xtohh1400_Hw           0.215950     0.001449        28811   \n4      Xtohh1400  Xtohh1400_Hw           0.237801     0.001596        21438   \n...          ...           ...                ...          ...          ...   \n81517  Xtohh2000         fakes          -0.009148    -0.000046      2280213   \n81518  Xtohh2000            Zl           0.796442     0.003966      2284791   \n81519  Xtohh2000           Zcl           0.922206     0.004592      2284240   \n81520  Xtohh2000         fakes          -0.005495    -0.001855     17431377   \n81521  Xtohh2000            Zl           0.976895     0.175644      9201154   \n\n      m_region  m_FJNbtagJets  m_AntiBTag  m_AntiTauTag     m_FJpt  ...  \\\n0           SR              2           2             0  615.73050  ...   \n1           SR              1           4             0  610.70575  ...   \n2           SR              0           2             0  597.84280  ...   \n3        QCDCR              0           3             0  560.52810  ...   \n4           SR              0           4             0  618.29407  ...   \n...        ...            ...         ...           ...        ...  ...   \n81517       SR              0           2             2  955.26654  ...   \n81518       SR              0           4             0  735.26514  ...   \n81519       SR              0           3             0  520.63250  ...   \n81520       SR              0           2             2  896.32080  ...   \n81521       SR              0           1             0  749.22890  ...   \n\n       m_dRFJwDT  m_dPhiDTwMET       m_MET       m_hhm   m_bbttpt  m_hhm_Coll  \\\n0       3.125242     -0.308326   60.057304  1220.25820   65.20239      -999.0   \n1       3.152361      0.470769  179.087310  1083.87020  162.51675      -999.0   \n2       2.740905     -0.056900  349.080000  1069.68420  307.83008      -999.0   \n3       3.401015      1.003691   29.163568  1323.73500  108.42584      -999.0   \n4       3.138836     -0.090634  377.762120   920.72974  294.12225      -999.0   \n...          ...           ...         ...         ...        ...         ...   \n81517   3.375351     -0.205267   37.255154  2121.19870  160.68738      -999.0   \n81518   3.045587      0.100434  501.886800  1068.96910  385.30234      -999.0   \n81519   2.286534     -0.079904  203.399960   884.60950  422.39590      -999.0   \n81520   3.186618      0.274309   71.177475  1381.49270  467.74786      -999.0   \n81521   3.140519     -0.121479  133.400650   972.34766  439.59058      -999.0   \n\n       m_hhm_Eff  m_hhm_ConEff  m_hhm_ConVis  signal  \n0      1282.2605    1231.70800     1353.3529       1  \n1      1288.2438    1130.77760     1549.3217       1  \n2      1466.4191    1539.59570     1469.3477       1  \n3      1356.1973    1161.73320     1390.2128       1  \n4      1388.6793    1155.85330     1278.2297       1  \n...          ...           ...           ...     ...  \n81517  2168.1133    1488.68360     2460.5390       0  \n81518  1690.1998     893.35570     1615.3925       0  \n81519  1254.5435     734.71387     1262.8558       0  \n81520  1537.0200     851.49414     1563.9404       0  \n81521  1344.8140     749.27080     1322.0764       0  \n\n[583269 rows x 40 columns]",
      "text/html": "<div>\n<style scoped>\n    .dataframe tbody tr th:only-of-type {\n        vertical-align: middle;\n    }\n\n    .dataframe tbody tr th {\n        vertical-align: top;\n    }\n\n    .dataframe thead th {\n        text-align: right;\n    }\n</style>\n<table border=\"1\" class=\"dataframe\">\n  <thead>\n    <tr style=\"text-align: right;\">\n      <th></th>\n      <th>dataset</th>\n      <th>sample</th>\n      <th>EventWeightNoXSec</th>\n      <th>EventWeight</th>\n      <th>EventNumber</th>\n      <th>m_region</th>\n      <th>m_FJNbtagJets</th>\n      <th>m_AntiBTag</th>\n      <th>m_AntiTauTag</th>\n      <th>m_FJpt</th>\n      <th>...</th>\n      <th>m_dRFJwDT</th>\n      <th>m_dPhiDTwMET</th>\n      <th>m_MET</th>\n      <th>m_hhm</th>\n      <th>m_bbttpt</th>\n      <th>m_hhm_Coll</th>\n      <th>m_hhm_Eff</th>\n      <th>m_hhm_ConEff</th>\n      <th>m_hhm_ConVis</th>\n      <th>signal</th>\n    </tr>\n  </thead>\n  <tbody>\n    <tr>\n      <th>0</th>\n      <td>Xtohh1400</td>\n      <td>Xtohh1400_Hw</td>\n      <td>0.103209</td>\n      <td>0.000693</td>\n      <td>23467</td>\n      <td>SR</td>\n      <td>2</td>\n      <td>2</td>\n      <td>0</td>\n      <td>615.73050</td>\n      <td>...</td>\n      <td>3.125242</td>\n      <td>-0.308326</td>\n      <td>60.057304</td>\n      <td>1220.25820</td>\n      <td>65.20239</td>\n      <td>-999.0</td>\n      <td>1282.2605</td>\n      <td>1231.70800</td>\n      <td>1353.3529</td>\n      <td>1</td>\n    </tr>\n    <tr>\n      <th>1</th>\n      <td>Xtohh1400</td>\n      <td>Xtohh1400_Hw</td>\n      <td>0.135721</td>\n      <td>0.000911</td>\n      <td>30753</td>\n      <td>SR</td>\n      <td>1</td>\n      <td>4</td>\n      <td>0</td>\n      <td>610.70575</td>\n      <td>...</td>\n      <td>3.152361</td>\n      <td>0.470769</td>\n      <td>179.087310</td>\n      <td>1083.87020</td>\n      <td>162.51675</td>\n      <td>-999.0</td>\n      <td>1288.2438</td>\n      <td>1130.77760</td>\n      <td>1549.3217</td>\n      <td>1</td>\n    </tr>\n    <tr>\n      <th>2</th>\n      <td>Xtohh1400</td>\n      <td>Xtohh1400_Hw</td>\n      <td>0.198280</td>\n      <td>0.001331</td>\n      <td>29314</td>\n      <td>SR</td>\n      <td>0</td>\n      <td>2</td>\n      <td>0</td>\n      <td>597.84280</td>\n      <td>...</td>\n      <td>2.740905</td>\n      <td>-0.056900</td>\n      <td>349.080000</td>\n      <td>1069.68420</td>\n      <td>307.83008</td>\n      <td>-999.0</td>\n      <td>1466.4191</td>\n      <td>1539.59570</td>\n      <td>1469.3477</td>\n      <td>1</td>\n    </tr>\n    <tr>\n      <th>3</th>\n      <td>Xtohh1400</td>\n      <td>Xtohh1400_Hw</td>\n      <td>0.215950</td>\n      <td>0.001449</td>\n      <td>28811</td>\n      <td>QCDCR</td>\n      <td>0</td>\n      <td>3</td>\n      <td>0</td>\n      <td>560.52810</td>\n      <td>...</td>\n      <td>3.401015</td>\n      <td>1.003691</td>\n      <td>29.163568</td>\n      <td>1323.73500</td>\n      <td>108.42584</td>\n      <td>-999.0</td>\n      <td>1356.1973</td>\n      <td>1161.73320</td>\n      <td>1390.2128</td>\n      <td>1</td>\n    </tr>\n    <tr>\n      <th>4</th>\n      <td>Xtohh1400</td>\n      <td>Xtohh1400_Hw</td>\n      <td>0.237801</td>\n      <td>0.001596</td>\n      <td>21438</td>\n      <td>SR</td>\n      <td>0</td>\n      <td>4</td>\n      <td>0</td>\n      <td>618.29407</td>\n      <td>...</td>\n      <td>3.138836</td>\n      <td>-0.090634</td>\n      <td>377.762120</td>\n      <td>920.72974</td>\n      <td>294.12225</td>\n      <td>-999.0</td>\n      <td>1388.6793</td>\n      <td>1155.85330</td>\n      <td>1278.2297</td>\n      <td>1</td>\n    </tr>\n    <tr>\n      <th>...</th>\n      <td>...</td>\n      <td>...</td>\n      <td>...</td>\n      <td>...</td>\n      <td>...</td>\n      <td>...</td>\n      <td>...</td>\n      <td>...</td>\n      <td>...</td>\n      <td>...</td>\n      <td>...</td>\n      <td>...</td>\n      <td>...</td>\n      <td>...</td>\n      <td>...</td>\n      <td>...</td>\n      <td>...</td>\n      <td>...</td>\n      <td>...</td>\n      <td>...</td>\n      <td>...</td>\n    </tr>\n    <tr>\n      <th>81517</th>\n      <td>Xtohh2000</td>\n      <td>fakes</td>\n      <td>-0.009148</td>\n      <td>-0.000046</td>\n      <td>2280213</td>\n      <td>SR</td>\n      <td>0</td>\n      <td>2</td>\n      <td>2</td>\n      <td>955.26654</td>\n      <td>...</td>\n      <td>3.375351</td>\n      <td>-0.205267</td>\n      <td>37.255154</td>\n      <td>2121.19870</td>\n      <td>160.68738</td>\n      <td>-999.0</td>\n      <td>2168.1133</td>\n      <td>1488.68360</td>\n      <td>2460.5390</td>\n      <td>0</td>\n    </tr>\n    <tr>\n      <th>81518</th>\n      <td>Xtohh2000</td>\n      <td>Zl</td>\n      <td>0.796442</td>\n      <td>0.003966</td>\n      <td>2284791</td>\n      <td>SR</td>\n      <td>0</td>\n      <td>4</td>\n      <td>0</td>\n      <td>735.26514</td>\n      <td>...</td>\n      <td>3.045587</td>\n      <td>0.100434</td>\n      <td>501.886800</td>\n      <td>1068.96910</td>\n      <td>385.30234</td>\n      <td>-999.0</td>\n      <td>1690.1998</td>\n      <td>893.35570</td>\n      <td>1615.3925</td>\n      <td>0</td>\n    </tr>\n    <tr>\n      <th>81519</th>\n      <td>Xtohh2000</td>\n      <td>Zcl</td>\n      <td>0.922206</td>\n      <td>0.004592</td>\n      <td>2284240</td>\n      <td>SR</td>\n      <td>0</td>\n      <td>3</td>\n      <td>0</td>\n      <td>520.63250</td>\n      <td>...</td>\n      <td>2.286534</td>\n      <td>-0.079904</td>\n      <td>203.399960</td>\n      <td>884.60950</td>\n      <td>422.39590</td>\n      <td>-999.0</td>\n      <td>1254.5435</td>\n      <td>734.71387</td>\n      <td>1262.8558</td>\n      <td>0</td>\n    </tr>\n    <tr>\n      <th>81520</th>\n      <td>Xtohh2000</td>\n      <td>fakes</td>\n      <td>-0.005495</td>\n      <td>-0.001855</td>\n      <td>17431377</td>\n      <td>SR</td>\n      <td>0</td>\n      <td>2</td>\n      <td>2</td>\n      <td>896.32080</td>\n      <td>...</td>\n      <td>3.186618</td>\n      <td>0.274309</td>\n      <td>71.177475</td>\n      <td>1381.49270</td>\n      <td>467.74786</td>\n      <td>-999.0</td>\n      <td>1537.0200</td>\n      <td>851.49414</td>\n      <td>1563.9404</td>\n      <td>0</td>\n    </tr>\n    <tr>\n      <th>81521</th>\n      <td>Xtohh2000</td>\n      <td>Zl</td>\n      <td>0.976895</td>\n      <td>0.175644</td>\n      <td>9201154</td>\n      <td>SR</td>\n      <td>0</td>\n      <td>1</td>\n      <td>0</td>\n      <td>749.22890</td>\n      <td>...</td>\n      <td>3.140519</td>\n      <td>-0.121479</td>\n      <td>133.400650</td>\n      <td>972.34766</td>\n      <td>439.59058</td>\n      <td>-999.0</td>\n      <td>1344.8140</td>\n      <td>749.27080</td>\n      <td>1322.0764</td>\n      <td>0</td>\n    </tr>\n  </tbody>\n</table>\n<p>583269 rows × 40 columns</p>\n</div>"
     },
     "metadata": {},
     "execution_count": 8
    }
   ],
   "source": [
    "datasets_df"
   ]
  },
  {
   "cell_type": "code",
   "execution_count": 9,
   "metadata": {},
   "outputs": [],
   "source": [
    "signal_distri = datasets_df.groupby([\"dataset\", \"m_region\",\"m_FJNbtagJets\"]).apply(ada.signal_distribution, \"signal\", \"EventWeight\")"
   ]
  },
  {
   "cell_type": "code",
   "execution_count": 10,
   "metadata": {},
   "outputs": [],
   "source": [
    "datasets_df_nofakes = datasets_df[datasets_df[\"sample\"] != \"fakes\"]"
   ]
  },
  {
   "cell_type": "code",
   "execution_count": 11,
   "metadata": {},
   "outputs": [],
   "source": [
    "signal_distri_nofakes = datasets_df_nofakes.groupby([\"dataset\", \"m_region\",\"m_FJNbtagJets\"]).apply(ada.signal_distribution, \"signal\", \"EventWeight\")"
   ]
  },
  {
   "cell_type": "code",
   "execution_count": 12,
   "metadata": {},
   "outputs": [
    {
     "output_type": "execute_result",
     "data": {
      "text/plain": "               signal w-density  signal density  signal count  total count\nm_FJNbtagJets                                                             \n0                      0.002050        0.022466         902.0      40150.0\n1                      0.043697        0.401192        2154.0       5369.0\n2                      0.323422        0.902961        1647.0       1824.0",
      "text/html": "<div>\n<style scoped>\n    .dataframe tbody tr th:only-of-type {\n        vertical-align: middle;\n    }\n\n    .dataframe tbody tr th {\n        vertical-align: top;\n    }\n\n    .dataframe thead th {\n        text-align: right;\n    }\n</style>\n<table border=\"1\" class=\"dataframe\">\n  <thead>\n    <tr style=\"text-align: right;\">\n      <th></th>\n      <th>signal w-density</th>\n      <th>signal density</th>\n      <th>signal count</th>\n      <th>total count</th>\n    </tr>\n    <tr>\n      <th>m_FJNbtagJets</th>\n      <th></th>\n      <th></th>\n      <th></th>\n      <th></th>\n    </tr>\n  </thead>\n  <tbody>\n    <tr>\n      <th>0</th>\n      <td>0.002050</td>\n      <td>0.022466</td>\n      <td>902.0</td>\n      <td>40150.0</td>\n    </tr>\n    <tr>\n      <th>1</th>\n      <td>0.043697</td>\n      <td>0.401192</td>\n      <td>2154.0</td>\n      <td>5369.0</td>\n    </tr>\n    <tr>\n      <th>2</th>\n      <td>0.323422</td>\n      <td>0.902961</td>\n      <td>1647.0</td>\n      <td>1824.0</td>\n    </tr>\n  </tbody>\n</table>\n</div>"
     },
     "metadata": {},
     "execution_count": 12
    }
   ],
   "source": [
    "signal_distri.loc[\"Xtohh1000\"].loc[\"SR\"]"
   ]
  },
  {
   "cell_type": "code",
   "execution_count": 13,
   "metadata": {},
   "outputs": [
    {
     "output_type": "execute_result",
     "data": {
      "text/plain": "               signal w-density  signal density  signal count  total count\nm_FJNbtagJets                                                             \n0                      0.002029        0.038396         902.0      23492.0\n1                      0.042589        0.579188        2154.0       3719.0\n2                      0.321030        0.946552        1647.0       1740.0",
      "text/html": "<div>\n<style scoped>\n    .dataframe tbody tr th:only-of-type {\n        vertical-align: middle;\n    }\n\n    .dataframe tbody tr th {\n        vertical-align: top;\n    }\n\n    .dataframe thead th {\n        text-align: right;\n    }\n</style>\n<table border=\"1\" class=\"dataframe\">\n  <thead>\n    <tr style=\"text-align: right;\">\n      <th></th>\n      <th>signal w-density</th>\n      <th>signal density</th>\n      <th>signal count</th>\n      <th>total count</th>\n    </tr>\n    <tr>\n      <th>m_FJNbtagJets</th>\n      <th></th>\n      <th></th>\n      <th></th>\n      <th></th>\n    </tr>\n  </thead>\n  <tbody>\n    <tr>\n      <th>0</th>\n      <td>0.002029</td>\n      <td>0.038396</td>\n      <td>902.0</td>\n      <td>23492.0</td>\n    </tr>\n    <tr>\n      <th>1</th>\n      <td>0.042589</td>\n      <td>0.579188</td>\n      <td>2154.0</td>\n      <td>3719.0</td>\n    </tr>\n    <tr>\n      <th>2</th>\n      <td>0.321030</td>\n      <td>0.946552</td>\n      <td>1647.0</td>\n      <td>1740.0</td>\n    </tr>\n  </tbody>\n</table>\n</div>"
     },
     "metadata": {},
     "execution_count": 13
    }
   ],
   "source": [
    "signal_distri_nofakes.loc[\"Xtohh1000\"].loc[\"SR\"]"
   ]
  }
 ],
 "metadata": {
  "kernelspec": {
   "display_name": "Python 3",
   "language": "python",
   "name": "python3"
  },
  "language_info": {
   "codemirror_mode": {
    "name": "ipython",
    "version": 3
   },
   "file_extension": ".py",
   "mimetype": "text/x-python",
   "name": "python",
   "nbconvert_exporter": "python",
   "pygments_lexer": "ipython3",
   "version": "3.8.2-final"
  }
 },
 "nbformat": 4,
 "nbformat_minor": 4
}