{
 "metadata": {
  "language_info": {
   "codemirror_mode": {
    "name": "ipython",
    "version": 3
   },
   "file_extension": ".py",
   "mimetype": "text/x-python",
   "name": "python",
   "nbconvert_exporter": "python",
   "pygments_lexer": "ipython3",
   "version": "3.7.6-final"
  },
  "orig_nbformat": 2,
  "kernelspec": {
   "name": "python3",
   "display_name": "Python 3"
  }
 },
 "nbformat": 4,
 "nbformat_minor": 2,
 "cells": [
  {
   "source": [
    "<center><h1> Hypertuner </h1>\n",
    "John Ignacio R.M. Martes 13 SPOOKY month 2020 MUAJAJAJAJA </center>"
   ],
   "cell_type": "markdown",
   "metadata": {}
  },
  {
   "cell_type": "code",
   "execution_count": 1,
   "metadata": {},
   "outputs": [
    {
     "output_type": "stream",
     "name": "stderr",
     "text": [
      "Using TensorFlow backend.\n",
      "Welcome to JupyROOT 6.20/04\n"
     ]
    }
   ],
   "source": [
    "#ada library\n",
    "ada_parent_dir = \"../\"\n",
    "import sys\n",
    "sys.path.append(ada_parent_dir)\n",
    "from ada2.data import read_dataset, split_dataset, all_hyperparams_comb\n",
    "from ada2.model import BinaryClassifier\n",
    "from ada2.plot import plot_confidence_matrix\n",
    "import pandas as pd\n",
    "from IPython.core.display import display, HTML\n",
    "\n",
    "#keras\n",
    "from tensorflow.keras.optimizers import Adam, Adadelta, Adagrad, Adamax\n",
    "from tensorflow.keras.layers import Input, Dense, Activation, Dropout\n",
    "from tensorflow.keras.models import Model, Sequential"
   ]
  },
  {
   "cell_type": "code",
   "execution_count": 2,
   "metadata": {},
   "outputs": [],
   "source": [
    "from kerastuner import HyperModel, Hyperband, RandomSearch\n",
    "from tensorflow.keras.callbacks import Callback\n",
    "from IPython.display import clear_output"
   ]
  },
  {
   "cell_type": "code",
   "execution_count": 3,
   "metadata": {},
   "outputs": [],
   "source": [
    "source_path = \"../processed_data/xtohhOct2020\"\n",
    "bg = \"Xtohh_background\"\n",
    "seed = 420\n",
    "signal = \"Xtohh2000\""
   ]
  },
  {
   "cell_type": "code",
   "execution_count": 4,
   "metadata": {},
   "outputs": [
    {
     "output_type": "execute_result",
     "data": {
      "text/plain": [
       "      EventWeight  label     m_FJpt   m_FJeta   m_FJphi      m_FJm     m_DTpt  \\\n",
       "0        0.001020      1  885.55927  0.104927 -2.448576  127604.30  623.22710   \n",
       "1        0.001117      1  855.69904  0.313113 -1.859287  122862.90  449.37933   \n",
       "2        0.000925      1  552.47845 -0.702952 -2.549875  109091.67  631.70496   \n",
       "3        0.001158      1  525.10590 -0.941433 -1.130162   82382.28  416.48105   \n",
       "4        0.001120      1  916.44147 -0.683193  1.804695  115936.01  677.16440   \n",
       "...           ...    ...        ...       ...       ...        ...        ...   \n",
       "8801     0.006433      0  402.06714  0.109710 -1.277847   68576.34  486.71262   \n",
       "8802     0.004849      0  542.29900  1.579771 -2.624035   84161.26  411.07132   \n",
       "8803     0.004849      0  548.63104 -0.033452  2.621298   79095.04  416.03915   \n",
       "8804     0.007816      0  683.98340 -0.029910 -0.760806  110728.80  609.47140   \n",
       "8805     0.004849      0  533.04846  0.334293  1.772496  172521.42  414.05844   \n",
       "\n",
       "       m_DTeta   m_DTphi       m_DTm  m_dPhiFTwDT  m_dRFJwDT  m_dPhiDTwMET  \\\n",
       "0    -0.731510  0.656939   85368.720     3.105514   3.216185     -0.192894   \n",
       "1    -0.306591  0.920655   55754.656     2.779941   2.848176     -0.019178   \n",
       "2     1.020756  0.610602   76213.550     3.122708   3.566858     -0.742126   \n",
       "3     0.103909  1.981465   58332.793     3.111627   3.282524     -0.130256   \n",
       "4    -0.495132 -1.274429   94135.960     3.079124   3.084862      0.416606   \n",
       "...        ...       ...         ...          ...        ...           ...   \n",
       "8801 -0.060529  1.469456  120999.410     2.747302   2.752572     -0.883233   \n",
       "8802  1.205967  0.438185   56194.777     3.062220   3.084951     -0.216563   \n",
       "8803  0.336025 -0.553298   70408.830     3.108589   3.130470     -0.352454   \n",
       "8804  0.094448  2.401307  148632.220     3.121072   3.123549      0.351719   \n",
       "8805 -1.568559 -1.097320   74110.530     2.869815   3.443354      0.771053   \n",
       "\n",
       "           m_MET       m_hhm    m_bbttpt  \n",
       "0     237.887240  1631.67020  263.697630  \n",
       "1     485.033330  1293.40280  463.512360  \n",
       "2     104.559220  1659.84830   80.008150  \n",
       "3     166.607220  1075.30920  109.524925  \n",
       "4     167.350300  1595.76110  244.283460  \n",
       "...          ...         ...         ...  \n",
       "8801   84.210686   891.92240  192.862270  \n",
       "8802   59.169407   970.41110  136.471160  \n",
       "8803   34.371227   983.20233  133.526060  \n",
       "8804   55.616740  1320.47700   75.680750  \n",
       "8805   29.818922  1424.76920  174.244190  \n",
       "\n",
       "[8806 rows x 16 columns]"
      ],
      "text/html": "<div>\n<style scoped>\n    .dataframe tbody tr th:only-of-type {\n        vertical-align: middle;\n    }\n\n    .dataframe tbody tr th {\n        vertical-align: top;\n    }\n\n    .dataframe thead th {\n        text-align: right;\n    }\n</style>\n<table border=\"1\" class=\"dataframe\">\n  <thead>\n    <tr style=\"text-align: right;\">\n      <th></th>\n      <th>EventWeight</th>\n      <th>label</th>\n      <th>m_FJpt</th>\n      <th>m_FJeta</th>\n      <th>m_FJphi</th>\n      <th>m_FJm</th>\n      <th>m_DTpt</th>\n      <th>m_DTeta</th>\n      <th>m_DTphi</th>\n      <th>m_DTm</th>\n      <th>m_dPhiFTwDT</th>\n      <th>m_dRFJwDT</th>\n      <th>m_dPhiDTwMET</th>\n      <th>m_MET</th>\n      <th>m_hhm</th>\n      <th>m_bbttpt</th>\n    </tr>\n  </thead>\n  <tbody>\n    <tr>\n      <th>0</th>\n      <td>0.001020</td>\n      <td>1</td>\n      <td>885.55927</td>\n      <td>0.104927</td>\n      <td>-2.448576</td>\n      <td>127604.30</td>\n      <td>623.22710</td>\n      <td>-0.731510</td>\n      <td>0.656939</td>\n      <td>85368.720</td>\n      <td>3.105514</td>\n      <td>3.216185</td>\n      <td>-0.192894</td>\n      <td>237.887240</td>\n      <td>1631.67020</td>\n      <td>263.697630</td>\n    </tr>\n    <tr>\n      <th>1</th>\n      <td>0.001117</td>\n      <td>1</td>\n      <td>855.69904</td>\n      <td>0.313113</td>\n      <td>-1.859287</td>\n      <td>122862.90</td>\n      <td>449.37933</td>\n      <td>-0.306591</td>\n      <td>0.920655</td>\n      <td>55754.656</td>\n      <td>2.779941</td>\n      <td>2.848176</td>\n      <td>-0.019178</td>\n      <td>485.033330</td>\n      <td>1293.40280</td>\n      <td>463.512360</td>\n    </tr>\n    <tr>\n      <th>2</th>\n      <td>0.000925</td>\n      <td>1</td>\n      <td>552.47845</td>\n      <td>-0.702952</td>\n      <td>-2.549875</td>\n      <td>109091.67</td>\n      <td>631.70496</td>\n      <td>1.020756</td>\n      <td>0.610602</td>\n      <td>76213.550</td>\n      <td>3.122708</td>\n      <td>3.566858</td>\n      <td>-0.742126</td>\n      <td>104.559220</td>\n      <td>1659.84830</td>\n      <td>80.008150</td>\n    </tr>\n    <tr>\n      <th>3</th>\n      <td>0.001158</td>\n      <td>1</td>\n      <td>525.10590</td>\n      <td>-0.941433</td>\n      <td>-1.130162</td>\n      <td>82382.28</td>\n      <td>416.48105</td>\n      <td>0.103909</td>\n      <td>1.981465</td>\n      <td>58332.793</td>\n      <td>3.111627</td>\n      <td>3.282524</td>\n      <td>-0.130256</td>\n      <td>166.607220</td>\n      <td>1075.30920</td>\n      <td>109.524925</td>\n    </tr>\n    <tr>\n      <th>4</th>\n      <td>0.001120</td>\n      <td>1</td>\n      <td>916.44147</td>\n      <td>-0.683193</td>\n      <td>1.804695</td>\n      <td>115936.01</td>\n      <td>677.16440</td>\n      <td>-0.495132</td>\n      <td>-1.274429</td>\n      <td>94135.960</td>\n      <td>3.079124</td>\n      <td>3.084862</td>\n      <td>0.416606</td>\n      <td>167.350300</td>\n      <td>1595.76110</td>\n      <td>244.283460</td>\n    </tr>\n    <tr>\n      <th>...</th>\n      <td>...</td>\n      <td>...</td>\n      <td>...</td>\n      <td>...</td>\n      <td>...</td>\n      <td>...</td>\n      <td>...</td>\n      <td>...</td>\n      <td>...</td>\n      <td>...</td>\n      <td>...</td>\n      <td>...</td>\n      <td>...</td>\n      <td>...</td>\n      <td>...</td>\n      <td>...</td>\n    </tr>\n    <tr>\n      <th>8801</th>\n      <td>0.006433</td>\n      <td>0</td>\n      <td>402.06714</td>\n      <td>0.109710</td>\n      <td>-1.277847</td>\n      <td>68576.34</td>\n      <td>486.71262</td>\n      <td>-0.060529</td>\n      <td>1.469456</td>\n      <td>120999.410</td>\n      <td>2.747302</td>\n      <td>2.752572</td>\n      <td>-0.883233</td>\n      <td>84.210686</td>\n      <td>891.92240</td>\n      <td>192.862270</td>\n    </tr>\n    <tr>\n      <th>8802</th>\n      <td>0.004849</td>\n      <td>0</td>\n      <td>542.29900</td>\n      <td>1.579771</td>\n      <td>-2.624035</td>\n      <td>84161.26</td>\n      <td>411.07132</td>\n      <td>1.205967</td>\n      <td>0.438185</td>\n      <td>56194.777</td>\n      <td>3.062220</td>\n      <td>3.084951</td>\n      <td>-0.216563</td>\n      <td>59.169407</td>\n      <td>970.41110</td>\n      <td>136.471160</td>\n    </tr>\n    <tr>\n      <th>8803</th>\n      <td>0.004849</td>\n      <td>0</td>\n      <td>548.63104</td>\n      <td>-0.033452</td>\n      <td>2.621298</td>\n      <td>79095.04</td>\n      <td>416.03915</td>\n      <td>0.336025</td>\n      <td>-0.553298</td>\n      <td>70408.830</td>\n      <td>3.108589</td>\n      <td>3.130470</td>\n      <td>-0.352454</td>\n      <td>34.371227</td>\n      <td>983.20233</td>\n      <td>133.526060</td>\n    </tr>\n    <tr>\n      <th>8804</th>\n      <td>0.007816</td>\n      <td>0</td>\n      <td>683.98340</td>\n      <td>-0.029910</td>\n      <td>-0.760806</td>\n      <td>110728.80</td>\n      <td>609.47140</td>\n      <td>0.094448</td>\n      <td>2.401307</td>\n      <td>148632.220</td>\n      <td>3.121072</td>\n      <td>3.123549</td>\n      <td>0.351719</td>\n      <td>55.616740</td>\n      <td>1320.47700</td>\n      <td>75.680750</td>\n    </tr>\n    <tr>\n      <th>8805</th>\n      <td>0.004849</td>\n      <td>0</td>\n      <td>533.04846</td>\n      <td>0.334293</td>\n      <td>1.772496</td>\n      <td>172521.42</td>\n      <td>414.05844</td>\n      <td>-1.568559</td>\n      <td>-1.097320</td>\n      <td>74110.530</td>\n      <td>2.869815</td>\n      <td>3.443354</td>\n      <td>0.771053</td>\n      <td>29.818922</td>\n      <td>1424.76920</td>\n      <td>174.244190</td>\n    </tr>\n  </tbody>\n</table>\n<p>8806 rows × 16 columns</p>\n</div>"
     },
     "metadata": {},
     "execution_count": 4
    }
   ],
   "source": [
    "# Read xtohh dataset in SR tag 2\n",
    "df = read_dataset(source_path, signal, bg, \"SR\", 2)\n",
    "df"
   ]
  },
  {
   "cell_type": "code",
   "execution_count": 5,
   "metadata": {},
   "outputs": [],
   "source": [
    "sets = split_dataset(df, 0.6, 0.2, 0.2, seed)"
   ]
  },
  {
   "cell_type": "code",
   "execution_count": 6,
   "metadata": {},
   "outputs": [
    {
     "output_type": "stream",
     "name": "stdout",
     "text": [
      "(5283, 14) (1761, 14) (1762, 14)\n"
     ]
    }
   ],
   "source": [
    "x_train, x_val, x_test = sets[\"x\"].values()\n",
    "y_train, y_val, y_test = sets[\"y\"].values()\n",
    "w_train, w_val, w_test = sets[\"w\"].values()\n",
    "print(x_train.shape, x_val.shape, x_test.shape)"
   ]
  },
  {
   "source": [
    "# Model builder"
   ],
   "cell_type": "markdown",
   "metadata": {}
  },
  {
   "cell_type": "code",
   "execution_count": 7,
   "metadata": {},
   "outputs": [],
   "source": [
    "class NeuralNetworkBuilder(HyperModel, BinaryClassifier):\n",
    "    def __init__(self, n_features, optimizer):\n",
    "        self.n_features = n_features\n",
    "        self.optimizer = optimizer\n",
    "\n",
    "    def build(self, hp):\n",
    "        # Model\n",
    "        self.model = Sequential()\n",
    "\n",
    "        # Input and 1st hidden layer\n",
    "        self.model.add(Dense(\n",
    "            units = hp.Choice(\"units_1\", values = [32, 64, 128]),\n",
    "            input_dim = self.n_features, kernel_initializer='uniform',\n",
    "            activation = hp.Choice('activation_1', values=['relu', 'softplus']),\n",
    "        ))\n",
    "        self.model.add(Dropout(hp.Choice('dropout_1', values=[0.1, 0.2])))\n",
    "\n",
    "        # 2nd hidden layer\n",
    "        self.model.add(Dense(\n",
    "            units = hp.Choice(\"units_2\", values = [64, 128, 256]),\n",
    "            input_dim = self.n_features, kernel_initializer='uniform',\n",
    "            activation = hp.Choice('activation_2', values=['relu', 'softplus']),\n",
    "        ))\n",
    "        self.model.add(Dropout(hp.Choice('dropout_2', values=[0.1, 0.2])))\n",
    "\n",
    "        # 3rd hidden layer\n",
    "        self.model.add(Dense(\n",
    "            units = hp.Choice(\"units_3\", values = [32, 64, 128]),\n",
    "            input_dim = self.n_features, kernel_initializer='uniform',\n",
    "            activation = hp.Choice('activation_3', values=['relu', 'softplus']),\n",
    "        ))\n",
    "        self.model.add(Dropout(hp.Choice('dropout_3', values=[0.1, 0.2])))\n",
    "\n",
    "        # Output\n",
    "        self.model.add(Dense(1, kernel_initializer=\"he_uniform\", activation = 'sigmoid'))\n",
    "\n",
    "        # Compile\n",
    "        self.model.compile(\n",
    "            optimizer = self.optimizer(lr = hp.Choice('lr', values = [5e-3, 1e-2, 5e-2, 1e-1])),\n",
    "            loss='binary_crossentropy'\n",
    "        )\n",
    "\n",
    "        return self.model"
   ]
  },
  {
   "cell_type": "code",
   "execution_count": 8,
   "metadata": {},
   "outputs": [],
   "source": [
    "class ClearTrainingOutput(Callback):\n",
    "    def on_train_end(*args, **kwargs):\n",
    "        clear_output(wait = True)"
   ]
  },
  {
   "cell_type": "code",
   "execution_count": 9,
   "metadata": {},
   "outputs": [],
   "source": [
    "hypermodel = NeuralNetworkBuilder(x_train.shape[1], Adam)"
   ]
  },
  {
   "cell_type": "code",
   "execution_count": 10,
   "metadata": {},
   "outputs": [
    {
     "output_type": "stream",
     "name": "stderr",
     "text": [
      "2020-10-15 16:24:40.061853: I tensorflow/stream_executor/platform/default/dso_loader.cc:44] Successfully opened dynamic library libcuda.so.1\n2020-10-15 16:24:40.093324: I tensorflow/stream_executor/cuda/cuda_gpu_executor.cc:981] successful NUMA node read from SysFS had negative value (-1), but there must be at least one NUMA node, so returning NUMA node zero\n2020-10-15 16:24:40.094005: I tensorflow/core/common_runtime/gpu/gpu_device.cc:1555] Found device 0 with properties: \npciBusID: 0000:01:00.0 name: GeForce GTX 960M computeCapability: 5.0\ncoreClock: 1.176GHz coreCount: 5 deviceMemorySize: 1.96GiB deviceMemoryBandwidth: 74.65GiB/s\n2020-10-15 16:24:40.094077: I tensorflow/stream_executor/platform/default/dso_loader.cc:44] Successfully opened dynamic library libcudart.so.10.1\n2020-10-15 16:24:40.094141: I tensorflow/stream_executor/platform/default/dso_loader.cc:44] Successfully opened dynamic library libcublas.so.10\n2020-10-15 16:24:40.123656: I tensorflow/stream_executor/platform/default/dso_loader.cc:44] Successfully opened dynamic library libcufft.so.10\n2020-10-15 16:24:40.142187: I tensorflow/stream_executor/platform/default/dso_loader.cc:44] Successfully opened dynamic library libcurand.so.10\n2020-10-15 16:24:40.168832: I tensorflow/stream_executor/platform/default/dso_loader.cc:44] Successfully opened dynamic library libcusolver.so.10\n2020-10-15 16:24:40.180212: I tensorflow/stream_executor/platform/default/dso_loader.cc:44] Successfully opened dynamic library libcusparse.so.10\n2020-10-15 16:24:40.180357: I tensorflow/stream_executor/platform/default/dso_loader.cc:44] Successfully opened dynamic library libcudnn.so.7\n2020-10-15 16:24:40.180641: I tensorflow/stream_executor/cuda/cuda_gpu_executor.cc:981] successful NUMA node read from SysFS had negative value (-1), but there must be at least one NUMA node, so returning NUMA node zero\n2020-10-15 16:24:40.181469: I tensorflow/stream_executor/cuda/cuda_gpu_executor.cc:981] successful NUMA node read from SysFS had negative value (-1), but there must be at least one NUMA node, so returning NUMA node zero\n2020-10-15 16:24:40.182011: I tensorflow/core/common_runtime/gpu/gpu_device.cc:1697] Adding visible gpu devices: 0\n2020-10-15 16:24:40.183341: I tensorflow/core/platform/cpu_feature_guard.cc:142] Your CPU supports instructions that this TensorFlow binary was not compiled to use: AVX2 FMA\n2020-10-15 16:24:40.222525: I tensorflow/core/platform/profile_utils/cpu_utils.cc:94] CPU Frequency: 2304000000 Hz\n2020-10-15 16:24:40.223073: I tensorflow/compiler/xla/service/service.cc:168] XLA service 0x555e477c32c0 initialized for platform Host (this does not guarantee that XLA will be used). Devices:\n2020-10-15 16:24:40.223128: I tensorflow/compiler/xla/service/service.cc:176]   StreamExecutor device (0): Host, Default Version\n2020-10-15 16:24:40.274834: I tensorflow/stream_executor/cuda/cuda_gpu_executor.cc:981] successful NUMA node read from SysFS had negative value (-1), but there must be at least one NUMA node, so returning NUMA node zero\n2020-10-15 16:24:40.275139: I tensorflow/compiler/xla/service/service.cc:168] XLA service 0x555e48133270 initialized for platform CUDA (this does not guarantee that XLA will be used). Devices:\n2020-10-15 16:24:40.275158: I tensorflow/compiler/xla/service/service.cc:176]   StreamExecutor device (0): GeForce GTX 960M, Compute Capability 5.0\n2020-10-15 16:24:40.275336: I tensorflow/stream_executor/cuda/cuda_gpu_executor.cc:981] successful NUMA node read from SysFS had negative value (-1), but there must be at least one NUMA node, so returning NUMA node zero\n2020-10-15 16:24:40.275567: I tensorflow/core/common_runtime/gpu/gpu_device.cc:1555] Found device 0 with properties: \npciBusID: 0000:01:00.0 name: GeForce GTX 960M computeCapability: 5.0\ncoreClock: 1.176GHz coreCount: 5 deviceMemorySize: 1.96GiB deviceMemoryBandwidth: 74.65GiB/s\n2020-10-15 16:24:40.275602: I tensorflow/stream_executor/platform/default/dso_loader.cc:44] Successfully opened dynamic library libcudart.so.10.1\n2020-10-15 16:24:40.275617: I tensorflow/stream_executor/platform/default/dso_loader.cc:44] Successfully opened dynamic library libcublas.so.10\n2020-10-15 16:24:40.275644: I tensorflow/stream_executor/platform/default/dso_loader.cc:44] Successfully opened dynamic library libcufft.so.10\n2020-10-15 16:24:40.275665: I tensorflow/stream_executor/platform/default/dso_loader.cc:44] Successfully opened dynamic library libcurand.so.10\n2020-10-15 16:24:40.275685: I tensorflow/stream_executor/platform/default/dso_loader.cc:44] Successfully opened dynamic library libcusolver.so.10\n2020-10-15 16:24:40.275705: I tensorflow/stream_executor/platform/default/dso_loader.cc:44] Successfully opened dynamic library libcusparse.so.10\n2020-10-15 16:24:40.275720: I tensorflow/stream_executor/platform/default/dso_loader.cc:44] Successfully opened dynamic library libcudnn.so.7\n2020-10-15 16:24:40.275792: I tensorflow/stream_executor/cuda/cuda_gpu_executor.cc:981] successful NUMA node read from SysFS had negative value (-1), but there must be at least one NUMA node, so returning NUMA node zero\n2020-10-15 16:24:40.276053: I tensorflow/stream_executor/cuda/cuda_gpu_executor.cc:981] successful NUMA node read from SysFS had negative value (-1), but there must be at least one NUMA node, so returning NUMA node zero\n2020-10-15 16:24:40.276254: I tensorflow/core/common_runtime/gpu/gpu_device.cc:1697] Adding visible gpu devices: 0\n2020-10-15 16:24:40.276286: I tensorflow/stream_executor/platform/default/dso_loader.cc:44] Successfully opened dynamic library libcudart.so.10.1\n2020-10-15 16:24:40.480854: I tensorflow/core/common_runtime/gpu/gpu_device.cc:1096] Device interconnect StreamExecutor with strength 1 edge matrix:\n2020-10-15 16:24:40.480882: I tensorflow/core/common_runtime/gpu/gpu_device.cc:1102]      0 \n2020-10-15 16:24:40.480890: I tensorflow/core/common_runtime/gpu/gpu_device.cc:1115] 0:   N \n2020-10-15 16:24:40.481112: I tensorflow/stream_executor/cuda/cuda_gpu_executor.cc:981] successful NUMA node read from SysFS had negative value (-1), but there must be at least one NUMA node, so returning NUMA node zero\n2020-10-15 16:24:40.481438: I tensorflow/stream_executor/cuda/cuda_gpu_executor.cc:981] successful NUMA node read from SysFS had negative value (-1), but there must be at least one NUMA node, so returning NUMA node zero\n2020-10-15 16:24:40.481672: I tensorflow/core/common_runtime/gpu/gpu_device.cc:1241] Created TensorFlow device (/job:localhost/replica:0/task:0/device:GPU:0 with 1172 MB memory) -> physical GPU (device: 0, name: GeForce GTX 960M, pci bus id: 0000:01:00.0, compute capability: 5.0)\n"
     ]
    }
   ],
   "source": [
    "tuner = RandomSearch(\n",
    "    hypermodel,\n",
    "    objective = 'val_loss',\n",
    "    max_trials = 50,\n",
    "    executions_per_trial=2,\n",
    "    seed = 420,\n",
    ")"
   ]
  },
  {
   "cell_type": "code",
   "execution_count": 11,
   "metadata": {},
   "outputs": [
    {
     "output_type": "display_data",
     "data": {
      "text/plain": "<IPython.core.display.HTML object>",
      "text/html": "<span style=\"color:#4527A0\"><h1 style=\"font-size:18px\">Trial complete</h1></span>"
     },
     "metadata": {}
    },
    {
     "output_type": "display_data",
     "data": {
      "text/plain": "<IPython.core.display.HTML object>",
      "text/html": "<span style=\"color:#4527A0\"><h1 style=\"font-size:18px\">Trial summary</h1></span>"
     },
     "metadata": {}
    },
    {
     "output_type": "display_data",
     "data": {
      "text/plain": "<IPython.core.display.HTML object>",
      "text/html": "<span style=\"color:cyan\"> |-Trial ID: d754cc87fd799e8a67c2ae90dc8ce4dd</span>"
     },
     "metadata": {}
    },
    {
     "output_type": "display_data",
     "data": {
      "text/plain": "<IPython.core.display.HTML object>",
      "text/html": "<span style=\"color:cyan\"> |-Score: 0.0002568580180094857</span>"
     },
     "metadata": {}
    },
    {
     "output_type": "display_data",
     "data": {
      "text/plain": "<IPython.core.display.HTML object>",
      "text/html": "<span style=\"color:cyan\"> |-Best step: 0</span>"
     },
     "metadata": {}
    },
    {
     "output_type": "display_data",
     "data": {
      "text/plain": "<IPython.core.display.HTML object>",
      "text/html": "<span style=\"color:#7E57C2\"><h2 style=\"font-size:16px\">Hyperparameters:</h2></span>"
     },
     "metadata": {}
    },
    {
     "output_type": "display_data",
     "data": {
      "text/plain": "<IPython.core.display.HTML object>",
      "text/html": "<span style=\"color:cyan\"> |-activation_1: softplus</span>"
     },
     "metadata": {}
    },
    {
     "output_type": "display_data",
     "data": {
      "text/plain": "<IPython.core.display.HTML object>",
      "text/html": "<span style=\"color:blue\"> |-activation_2: softplus</span>"
     },
     "metadata": {}
    },
    {
     "output_type": "display_data",
     "data": {
      "text/plain": "<IPython.core.display.HTML object>",
      "text/html": "<span style=\"color:cyan\"> |-activation_3: softplus</span>"
     },
     "metadata": {}
    },
    {
     "output_type": "display_data",
     "data": {
      "text/plain": "<IPython.core.display.HTML object>",
      "text/html": "<span style=\"color:blue\"> |-dropout_1: 0.1</span>"
     },
     "metadata": {}
    },
    {
     "output_type": "display_data",
     "data": {
      "text/plain": "<IPython.core.display.HTML object>",
      "text/html": "<span style=\"color:cyan\"> |-dropout_2: 0.1</span>"
     },
     "metadata": {}
    },
    {
     "output_type": "display_data",
     "data": {
      "text/plain": "<IPython.core.display.HTML object>",
      "text/html": "<span style=\"color:blue\"> |-dropout_3: 0.1</span>"
     },
     "metadata": {}
    },
    {
     "output_type": "display_data",
     "data": {
      "text/plain": "<IPython.core.display.HTML object>",
      "text/html": "<span style=\"color:cyan\"> |-lr: 0.05</span>"
     },
     "metadata": {}
    },
    {
     "output_type": "display_data",
     "data": {
      "text/plain": "<IPython.core.display.HTML object>",
      "text/html": "<span style=\"color:blue\"> |-units_1: 64</span>"
     },
     "metadata": {}
    },
    {
     "output_type": "display_data",
     "data": {
      "text/plain": "<IPython.core.display.HTML object>",
      "text/html": "<span style=\"color:cyan\"> |-units_2: 64</span>"
     },
     "metadata": {}
    },
    {
     "output_type": "display_data",
     "data": {
      "text/plain": "<IPython.core.display.HTML object>",
      "text/html": "<span style=\"color:blue\"> |-units_3: 32</span>"
     },
     "metadata": {}
    },
    {
     "output_type": "stream",
     "name": "stdout",
     "text": [
      "INFO:tensorflow:Oracle triggered exit\n",
      "2020-10-15 16:17:40.533500: I tensorflow/stream_executor/platform/default/dso_loader.cc:44] Successfully opened dynamic library libcublas.so.10\n"
     ]
    }
   ],
   "source": [
    "tuner.search(\n",
    "    x_train, y_train, sample_weight = w_train,\n",
    "    epochs = 50,\n",
    "    validation_data = (x_val, y_val, w_val),\n",
    "    callbacks = [ClearTrainingOutput()],\n",
    ")"
   ]
  },
  {
   "cell_type": "code",
   "execution_count": 12,
   "metadata": {},
   "outputs": [
    {
     "output_type": "stream",
     "name": "stdout",
     "text": [
      "Model: \"sequential\"\n",
      "_________________________________________________________________\n",
      "Layer (type)                 Output Shape              Param #   \n",
      "=================================================================\n",
      "dense (Dense)                (None, 32)                480       \n",
      "_________________________________________________________________\n",
      "dropout (Dropout)            (None, 32)                0         \n",
      "_________________________________________________________________\n",
      "dense_1 (Dense)              (None, 64)                2112      \n",
      "_________________________________________________________________\n",
      "dropout_1 (Dropout)          (None, 64)                0         \n",
      "_________________________________________________________________\n",
      "dense_2 (Dense)              (None, 64)                4160      \n",
      "_________________________________________________________________\n",
      "dropout_2 (Dropout)          (None, 64)                0         \n",
      "_________________________________________________________________\n",
      "dense_3 (Dense)              (None, 1)                 65        \n",
      "=================================================================\n",
      "Total params: 6,817\n",
      "Trainable params: 6,817\n",
      "Non-trainable params: 0\n",
      "_________________________________________________________________\n"
     ]
    }
   ],
   "source": [
    "model = tuner.get_best_models(num_models=1)[0]\n",
    "model.summary()"
   ]
  },
  {
   "cell_type": "code",
   "execution_count": 13,
   "metadata": {},
   "outputs": [
    {
     "output_type": "stream",
     "name": "stdout",
     "text": [
      "WARNING:tensorflow:sample_weight modes were coerced from\n",
      "  ...\n",
      "    to  \n",
      "  ['...']\n",
      "WARNING:tensorflow:sample_weight modes were coerced from\n",
      "  ...\n",
      "    to  \n",
      "  ['...']\n",
      "Train on 5283 samples, validate on 1761 samples\n",
      "Epoch 1/50\n",
      "5283/5283 [==============================] - 1s 236us/sample - loss: 1.8132e-04 - val_loss: 2.0636e-04\n",
      "Epoch 2/50\n",
      "5283/5283 [==============================] - 1s 112us/sample - loss: 2.0319e-04 - val_loss: 2.2662e-04\n",
      "Epoch 3/50\n",
      "5283/5283 [==============================] - 1s 118us/sample - loss: 1.8428e-04 - val_loss: 2.2776e-04\n",
      "Epoch 4/50\n",
      "5283/5283 [==============================] - 1s 119us/sample - loss: 1.5053e-04 - val_loss: 2.6788e-04\n",
      "Epoch 5/50\n",
      "5283/5283 [==============================] - 1s 118us/sample - loss: 1.4845e-04 - val_loss: 2.2981e-04\n",
      "Epoch 6/50\n",
      "5283/5283 [==============================] - 1s 116us/sample - loss: 1.3522e-04 - val_loss: 2.6806e-04\n",
      "Epoch 7/50\n",
      "5283/5283 [==============================] - 1s 114us/sample - loss: 1.4874e-04 - val_loss: 2.1803e-04\n",
      "Epoch 8/50\n",
      "5283/5283 [==============================] - 1s 116us/sample - loss: 1.4772e-04 - val_loss: 3.3142e-04\n",
      "Epoch 9/50\n",
      "5283/5283 [==============================] - 1s 120us/sample - loss: 1.4420e-04 - val_loss: 2.2958e-04\n",
      "Epoch 10/50\n",
      "5283/5283 [==============================] - 1s 118us/sample - loss: 1.5397e-04 - val_loss: 2.7040e-04\n",
      "Epoch 11/50\n",
      "5283/5283 [==============================] - 1s 113us/sample - loss: 1.2084e-04 - val_loss: 2.2684e-04\n",
      "Epoch 12/50\n",
      "5283/5283 [==============================] - 1s 121us/sample - loss: 1.5586e-04 - val_loss: 2.0780e-04\n",
      "Epoch 13/50\n",
      "5283/5283 [==============================] - 1s 126us/sample - loss: 1.2595e-04 - val_loss: 2.5249e-04\n",
      "Epoch 14/50\n",
      "5283/5283 [==============================] - 1s 139us/sample - loss: 1.5153e-04 - val_loss: 2.8777e-04\n",
      "Epoch 15/50\n",
      "5283/5283 [==============================] - 1s 123us/sample - loss: 1.6385e-04 - val_loss: 2.4270e-04\n",
      "Epoch 16/50\n",
      "5283/5283 [==============================] - 1s 126us/sample - loss: 1.8388e-04 - val_loss: 2.1920e-04\n",
      "Epoch 17/50\n",
      "5283/5283 [==============================] - 1s 145us/sample - loss: 1.3139e-04 - val_loss: 4.1404e-04\n",
      "Epoch 18/50\n",
      "5283/5283 [==============================] - 1s 122us/sample - loss: 1.4207e-04 - val_loss: 3.3280e-04\n",
      "Epoch 19/50\n",
      "5283/5283 [==============================] - 1s 152us/sample - loss: 1.9469e-04 - val_loss: 1.9151e-04\n",
      "Epoch 20/50\n",
      "5283/5283 [==============================] - 1s 123us/sample - loss: 1.2386e-04 - val_loss: 1.7211e-04\n",
      "Epoch 21/50\n",
      "5283/5283 [==============================] - 1s 116us/sample - loss: 1.0526e-04 - val_loss: 3.1439e-04\n",
      "Epoch 22/50\n",
      "5283/5283 [==============================] - 1s 120us/sample - loss: 1.5803e-04 - val_loss: 3.0180e-04\n",
      "Epoch 23/50\n",
      "5283/5283 [==============================] - 1s 118us/sample - loss: 1.2599e-04 - val_loss: 3.6195e-04\n",
      "Epoch 24/50\n",
      "5283/5283 [==============================] - 1s 115us/sample - loss: 1.5382e-04 - val_loss: 2.9815e-04\n",
      "Epoch 25/50\n",
      "5283/5283 [==============================] - 1s 115us/sample - loss: 2.0891e-04 - val_loss: 3.1627e-04\n",
      "Epoch 26/50\n",
      "5283/5283 [==============================] - 1s 169us/sample - loss: 1.4323e-04 - val_loss: 2.4640e-04\n",
      "Epoch 27/50\n",
      "5283/5283 [==============================] - 1s 143us/sample - loss: 1.8291e-04 - val_loss: 2.5311e-04\n",
      "Epoch 28/50\n",
      "5283/5283 [==============================] - 1s 147us/sample - loss: 1.5285e-04 - val_loss: 4.1234e-04\n",
      "Epoch 29/50\n",
      "5283/5283 [==============================] - 1s 134us/sample - loss: 1.0613e-04 - val_loss: 4.7102e-04\n",
      "Epoch 30/50\n",
      "5283/5283 [==============================] - 1s 137us/sample - loss: 1.5724e-04 - val_loss: 2.4456e-04\n",
      "Epoch 31/50\n",
      "5283/5283 [==============================] - 1s 146us/sample - loss: 2.1642e-04 - val_loss: 2.2311e-04\n",
      "Epoch 32/50\n",
      "5283/5283 [==============================] - 1s 158us/sample - loss: 2.0309e-04 - val_loss: 2.4849e-04\n",
      "Epoch 33/50\n",
      "5283/5283 [==============================] - 1s 131us/sample - loss: 1.8328e-04 - val_loss: 3.0856e-04\n",
      "Epoch 34/50\n",
      "5283/5283 [==============================] - 1s 120us/sample - loss: 1.9347e-04 - val_loss: 2.0145e-04\n",
      "Epoch 35/50\n",
      "5283/5283 [==============================] - 1s 129us/sample - loss: 1.6166e-04 - val_loss: 2.1655e-04\n",
      "Epoch 36/50\n",
      "5283/5283 [==============================] - 1s 131us/sample - loss: 1.1897e-04 - val_loss: 3.6334e-04\n",
      "Epoch 37/50\n",
      "5283/5283 [==============================] - 1s 121us/sample - loss: 1.4026e-04 - val_loss: 4.5806e-04\n",
      "Epoch 38/50\n",
      "5283/5283 [==============================] - 1s 119us/sample - loss: 9.5897e-05 - val_loss: 4.4743e-04\n",
      "Epoch 39/50\n",
      "5283/5283 [==============================] - 1s 124us/sample - loss: 9.2125e-05 - val_loss: 5.2496e-04\n",
      "Epoch 40/50\n",
      "5283/5283 [==============================] - 1s 121us/sample - loss: 0.0022 - val_loss: 6.6778e-04\n",
      "Epoch 41/50\n",
      "5283/5283 [==============================] - 1s 122us/sample - loss: 6.9088e-04 - val_loss: 3.2978e-04\n",
      "Epoch 42/50\n",
      "5283/5283 [==============================] - 1s 129us/sample - loss: 2.4175e-04 - val_loss: 3.1096e-04\n",
      "Epoch 43/50\n",
      "5283/5283 [==============================] - 1s 149us/sample - loss: 1.7035e-04 - val_loss: 3.3504e-04\n",
      "Epoch 44/50\n",
      "5283/5283 [==============================] - 1s 133us/sample - loss: 8.8044e-05 - val_loss: 4.3223e-04\n",
      "Epoch 45/50\n",
      "5283/5283 [==============================] - 1s 147us/sample - loss: 1.4842e-04 - val_loss: 4.0580e-04\n",
      "Epoch 46/50\n",
      "5283/5283 [==============================] - 1s 132us/sample - loss: 2.0398e-04 - val_loss: 4.2991e-04\n",
      "Epoch 47/50\n",
      "5283/5283 [==============================] - 1s 121us/sample - loss: 1.2855e-04 - val_loss: 6.0258e-04\n",
      "Epoch 48/50\n",
      "5283/5283 [==============================] - 1s 117us/sample - loss: 6.8266e-05 - val_loss: 7.5118e-04\n",
      "Epoch 49/50\n",
      "5283/5283 [==============================] - 1s 115us/sample - loss: 6.3623e-05 - val_loss: 0.0015\n",
      "Epoch 50/50\n",
      "5283/5283 [==============================] - 1s 131us/sample - loss: -2.0607e-04 - val_loss: 0.0031\n"
     ]
    },
    {
     "output_type": "display_data",
     "data": {
      "text/plain": "<Figure size 720x432 with 1 Axes>",
      "image/svg+xml": "<?xml version=\"1.0\" encoding=\"utf-8\" standalone=\"no\"?>\n<!DOCTYPE svg PUBLIC \"-//W3C//DTD SVG 1.1//EN\"\n  \"http://www.w3.org/Graphics/SVG/1.1/DTD/svg11.dtd\">\n<!-- Created with matplotlib (https://matplotlib.org/) -->\n<svg height=\"386.034375pt\" version=\"1.1\" viewBox=\"0 0 628.06875 386.034375\" width=\"628.06875pt\" xmlns=\"http://www.w3.org/2000/svg\" xmlns:xlink=\"http://www.w3.org/1999/xlink\">\n <defs>\n  <style type=\"text/css\">\n*{stroke-linecap:butt;stroke-linejoin:round;}\n  </style>\n </defs>\n <g id=\"figure_1\">\n  <g id=\"patch_1\">\n   <path d=\"M 0 386.034375 \nL 628.06875 386.034375 \nL 628.06875 0 \nL 0 0 \nz\n\" style=\"fill:none;\"/>\n  </g>\n  <g id=\"axes_1\">\n   <g id=\"patch_2\">\n    <path d=\"M 62.86875 348.478125 \nL 620.86875 348.478125 \nL 620.86875 22.318125 \nL 62.86875 22.318125 \nz\n\" style=\"fill:#ffffff;\"/>\n   </g>\n   <g id=\"matplotlib.axis_1\">\n    <g id=\"xtick_1\">\n     <g id=\"line2d_1\">\n      <path clip-path=\"url(#pc752c735b7)\" d=\"M 88.232386 348.478125 \nL 88.232386 22.318125 \n\" style=\"fill:none;stroke:#b0b0b0;stroke-linecap:square;stroke-width:0.8;\"/>\n     </g>\n     <g id=\"line2d_2\">\n      <defs>\n       <path d=\"M 0 0 \nL 0 3.5 \n\" id=\"m9535dcdc74\" style=\"stroke:#000000;stroke-width:0.8;\"/>\n      </defs>\n      <g>\n       <use style=\"stroke:#000000;stroke-width:0.8;\" x=\"88.232386\" xlink:href=\"#m9535dcdc74\" y=\"348.478125\"/>\n      </g>\n     </g>\n     <g id=\"text_1\">\n      <!-- 0 -->\n      <defs>\n       <path d=\"M 31.78125 66.40625 \nQ 24.171875 66.40625 20.328125 58.90625 \nQ 16.5 51.421875 16.5 36.375 \nQ 16.5 21.390625 20.328125 13.890625 \nQ 24.171875 6.390625 31.78125 6.390625 \nQ 39.453125 6.390625 43.28125 13.890625 \nQ 47.125 21.390625 47.125 36.375 \nQ 47.125 51.421875 43.28125 58.90625 \nQ 39.453125 66.40625 31.78125 66.40625 \nz\nM 31.78125 74.21875 \nQ 44.046875 74.21875 50.515625 64.515625 \nQ 56.984375 54.828125 56.984375 36.375 \nQ 56.984375 17.96875 50.515625 8.265625 \nQ 44.046875 -1.421875 31.78125 -1.421875 \nQ 19.53125 -1.421875 13.0625 8.265625 \nQ 6.59375 17.96875 6.59375 36.375 \nQ 6.59375 54.828125 13.0625 64.515625 \nQ 19.53125 74.21875 31.78125 74.21875 \nz\n\" id=\"DejaVuSans-48\"/>\n      </defs>\n      <g transform=\"translate(85.051136 363.076562)scale(0.1 -0.1)\">\n       <use xlink:href=\"#DejaVuSans-48\"/>\n      </g>\n     </g>\n    </g>\n    <g id=\"xtick_2\">\n     <g id=\"line2d_3\">\n      <path clip-path=\"url(#pc752c735b7)\" d=\"M 191.757433 348.478125 \nL 191.757433 22.318125 \n\" style=\"fill:none;stroke:#b0b0b0;stroke-linecap:square;stroke-width:0.8;\"/>\n     </g>\n     <g id=\"line2d_4\">\n      <g>\n       <use style=\"stroke:#000000;stroke-width:0.8;\" x=\"191.757433\" xlink:href=\"#m9535dcdc74\" y=\"348.478125\"/>\n      </g>\n     </g>\n     <g id=\"text_2\">\n      <!-- 10 -->\n      <defs>\n       <path d=\"M 12.40625 8.296875 \nL 28.515625 8.296875 \nL 28.515625 63.921875 \nL 10.984375 60.40625 \nL 10.984375 69.390625 \nL 28.421875 72.90625 \nL 38.28125 72.90625 \nL 38.28125 8.296875 \nL 54.390625 8.296875 \nL 54.390625 0 \nL 12.40625 0 \nz\n\" id=\"DejaVuSans-49\"/>\n      </defs>\n      <g transform=\"translate(185.394933 363.076562)scale(0.1 -0.1)\">\n       <use xlink:href=\"#DejaVuSans-49\"/>\n       <use x=\"63.623047\" xlink:href=\"#DejaVuSans-48\"/>\n      </g>\n     </g>\n    </g>\n    <g id=\"xtick_3\">\n     <g id=\"line2d_5\">\n      <path clip-path=\"url(#pc752c735b7)\" d=\"M 295.282479 348.478125 \nL 295.282479 22.318125 \n\" style=\"fill:none;stroke:#b0b0b0;stroke-linecap:square;stroke-width:0.8;\"/>\n     </g>\n     <g id=\"line2d_6\">\n      <g>\n       <use style=\"stroke:#000000;stroke-width:0.8;\" x=\"295.282479\" xlink:href=\"#m9535dcdc74\" y=\"348.478125\"/>\n      </g>\n     </g>\n     <g id=\"text_3\">\n      <!-- 20 -->\n      <defs>\n       <path d=\"M 19.1875 8.296875 \nL 53.609375 8.296875 \nL 53.609375 0 \nL 7.328125 0 \nL 7.328125 8.296875 \nQ 12.9375 14.109375 22.625 23.890625 \nQ 32.328125 33.6875 34.8125 36.53125 \nQ 39.546875 41.84375 41.421875 45.53125 \nQ 43.3125 49.21875 43.3125 52.78125 \nQ 43.3125 58.59375 39.234375 62.25 \nQ 35.15625 65.921875 28.609375 65.921875 \nQ 23.96875 65.921875 18.8125 64.3125 \nQ 13.671875 62.703125 7.8125 59.421875 \nL 7.8125 69.390625 \nQ 13.765625 71.78125 18.9375 73 \nQ 24.125 74.21875 28.421875 74.21875 \nQ 39.75 74.21875 46.484375 68.546875 \nQ 53.21875 62.890625 53.21875 53.421875 \nQ 53.21875 48.921875 51.53125 44.890625 \nQ 49.859375 40.875 45.40625 35.40625 \nQ 44.1875 33.984375 37.640625 27.21875 \nQ 31.109375 20.453125 19.1875 8.296875 \nz\n\" id=\"DejaVuSans-50\"/>\n      </defs>\n      <g transform=\"translate(288.919979 363.076562)scale(0.1 -0.1)\">\n       <use xlink:href=\"#DejaVuSans-50\"/>\n       <use x=\"63.623047\" xlink:href=\"#DejaVuSans-48\"/>\n      </g>\n     </g>\n    </g>\n    <g id=\"xtick_4\">\n     <g id=\"line2d_7\">\n      <path clip-path=\"url(#pc752c735b7)\" d=\"M 398.807526 348.478125 \nL 398.807526 22.318125 \n\" style=\"fill:none;stroke:#b0b0b0;stroke-linecap:square;stroke-width:0.8;\"/>\n     </g>\n     <g id=\"line2d_8\">\n      <g>\n       <use style=\"stroke:#000000;stroke-width:0.8;\" x=\"398.807526\" xlink:href=\"#m9535dcdc74\" y=\"348.478125\"/>\n      </g>\n     </g>\n     <g id=\"text_4\">\n      <!-- 30 -->\n      <defs>\n       <path d=\"M 40.578125 39.3125 \nQ 47.65625 37.796875 51.625 33 \nQ 55.609375 28.21875 55.609375 21.1875 \nQ 55.609375 10.40625 48.1875 4.484375 \nQ 40.765625 -1.421875 27.09375 -1.421875 \nQ 22.515625 -1.421875 17.65625 -0.515625 \nQ 12.796875 0.390625 7.625 2.203125 \nL 7.625 11.71875 \nQ 11.71875 9.328125 16.59375 8.109375 \nQ 21.484375 6.890625 26.8125 6.890625 \nQ 36.078125 6.890625 40.9375 10.546875 \nQ 45.796875 14.203125 45.796875 21.1875 \nQ 45.796875 27.640625 41.28125 31.265625 \nQ 36.765625 34.90625 28.71875 34.90625 \nL 20.21875 34.90625 \nL 20.21875 43.015625 \nL 29.109375 43.015625 \nQ 36.375 43.015625 40.234375 45.921875 \nQ 44.09375 48.828125 44.09375 54.296875 \nQ 44.09375 59.90625 40.109375 62.90625 \nQ 36.140625 65.921875 28.71875 65.921875 \nQ 24.65625 65.921875 20.015625 65.03125 \nQ 15.375 64.15625 9.8125 62.3125 \nL 9.8125 71.09375 \nQ 15.4375 72.65625 20.34375 73.4375 \nQ 25.25 74.21875 29.59375 74.21875 \nQ 40.828125 74.21875 47.359375 69.109375 \nQ 53.90625 64.015625 53.90625 55.328125 \nQ 53.90625 49.265625 50.4375 45.09375 \nQ 46.96875 40.921875 40.578125 39.3125 \nz\n\" id=\"DejaVuSans-51\"/>\n      </defs>\n      <g transform=\"translate(392.445026 363.076562)scale(0.1 -0.1)\">\n       <use xlink:href=\"#DejaVuSans-51\"/>\n       <use x=\"63.623047\" xlink:href=\"#DejaVuSans-48\"/>\n      </g>\n     </g>\n    </g>\n    <g id=\"xtick_5\">\n     <g id=\"line2d_9\">\n      <path clip-path=\"url(#pc752c735b7)\" d=\"M 502.332572 348.478125 \nL 502.332572 22.318125 \n\" style=\"fill:none;stroke:#b0b0b0;stroke-linecap:square;stroke-width:0.8;\"/>\n     </g>\n     <g id=\"line2d_10\">\n      <g>\n       <use style=\"stroke:#000000;stroke-width:0.8;\" x=\"502.332572\" xlink:href=\"#m9535dcdc74\" y=\"348.478125\"/>\n      </g>\n     </g>\n     <g id=\"text_5\">\n      <!-- 40 -->\n      <defs>\n       <path d=\"M 37.796875 64.3125 \nL 12.890625 25.390625 \nL 37.796875 25.390625 \nz\nM 35.203125 72.90625 \nL 47.609375 72.90625 \nL 47.609375 25.390625 \nL 58.015625 25.390625 \nL 58.015625 17.1875 \nL 47.609375 17.1875 \nL 47.609375 0 \nL 37.796875 0 \nL 37.796875 17.1875 \nL 4.890625 17.1875 \nL 4.890625 26.703125 \nz\n\" id=\"DejaVuSans-52\"/>\n      </defs>\n      <g transform=\"translate(495.970072 363.076562)scale(0.1 -0.1)\">\n       <use xlink:href=\"#DejaVuSans-52\"/>\n       <use x=\"63.623047\" xlink:href=\"#DejaVuSans-48\"/>\n      </g>\n     </g>\n    </g>\n    <g id=\"xtick_6\">\n     <g id=\"line2d_11\">\n      <path clip-path=\"url(#pc752c735b7)\" d=\"M 605.857618 348.478125 \nL 605.857618 22.318125 \n\" style=\"fill:none;stroke:#b0b0b0;stroke-linecap:square;stroke-width:0.8;\"/>\n     </g>\n     <g id=\"line2d_12\">\n      <g>\n       <use style=\"stroke:#000000;stroke-width:0.8;\" x=\"605.857618\" xlink:href=\"#m9535dcdc74\" y=\"348.478125\"/>\n      </g>\n     </g>\n     <g id=\"text_6\">\n      <!-- 50 -->\n      <defs>\n       <path d=\"M 10.796875 72.90625 \nL 49.515625 72.90625 \nL 49.515625 64.59375 \nL 19.828125 64.59375 \nL 19.828125 46.734375 \nQ 21.96875 47.46875 24.109375 47.828125 \nQ 26.265625 48.1875 28.421875 48.1875 \nQ 40.625 48.1875 47.75 41.5 \nQ 54.890625 34.8125 54.890625 23.390625 \nQ 54.890625 11.625 47.5625 5.09375 \nQ 40.234375 -1.421875 26.90625 -1.421875 \nQ 22.3125 -1.421875 17.546875 -0.640625 \nQ 12.796875 0.140625 7.71875 1.703125 \nL 7.71875 11.625 \nQ 12.109375 9.234375 16.796875 8.0625 \nQ 21.484375 6.890625 26.703125 6.890625 \nQ 35.15625 6.890625 40.078125 11.328125 \nQ 45.015625 15.765625 45.015625 23.390625 \nQ 45.015625 31 40.078125 35.4375 \nQ 35.15625 39.890625 26.703125 39.890625 \nQ 22.75 39.890625 18.8125 39.015625 \nQ 14.890625 38.140625 10.796875 36.28125 \nz\n\" id=\"DejaVuSans-53\"/>\n      </defs>\n      <g transform=\"translate(599.495118 363.076562)scale(0.1 -0.1)\">\n       <use xlink:href=\"#DejaVuSans-53\"/>\n       <use x=\"63.623047\" xlink:href=\"#DejaVuSans-48\"/>\n      </g>\n     </g>\n    </g>\n    <g id=\"text_7\">\n     <!-- Epoch -->\n     <defs>\n      <path d=\"M 9.8125 72.90625 \nL 55.90625 72.90625 \nL 55.90625 64.59375 \nL 19.671875 64.59375 \nL 19.671875 43.015625 \nL 54.390625 43.015625 \nL 54.390625 34.71875 \nL 19.671875 34.71875 \nL 19.671875 8.296875 \nL 56.78125 8.296875 \nL 56.78125 0 \nL 9.8125 0 \nz\n\" id=\"DejaVuSans-69\"/>\n      <path d=\"M 18.109375 8.203125 \nL 18.109375 -20.796875 \nL 9.078125 -20.796875 \nL 9.078125 54.6875 \nL 18.109375 54.6875 \nL 18.109375 46.390625 \nQ 20.953125 51.265625 25.265625 53.625 \nQ 29.59375 56 35.59375 56 \nQ 45.5625 56 51.78125 48.09375 \nQ 58.015625 40.1875 58.015625 27.296875 \nQ 58.015625 14.40625 51.78125 6.484375 \nQ 45.5625 -1.421875 35.59375 -1.421875 \nQ 29.59375 -1.421875 25.265625 0.953125 \nQ 20.953125 3.328125 18.109375 8.203125 \nz\nM 48.6875 27.296875 \nQ 48.6875 37.203125 44.609375 42.84375 \nQ 40.53125 48.484375 33.40625 48.484375 \nQ 26.265625 48.484375 22.1875 42.84375 \nQ 18.109375 37.203125 18.109375 27.296875 \nQ 18.109375 17.390625 22.1875 11.75 \nQ 26.265625 6.109375 33.40625 6.109375 \nQ 40.53125 6.109375 44.609375 11.75 \nQ 48.6875 17.390625 48.6875 27.296875 \nz\n\" id=\"DejaVuSans-112\"/>\n      <path d=\"M 30.609375 48.390625 \nQ 23.390625 48.390625 19.1875 42.75 \nQ 14.984375 37.109375 14.984375 27.296875 \nQ 14.984375 17.484375 19.15625 11.84375 \nQ 23.34375 6.203125 30.609375 6.203125 \nQ 37.796875 6.203125 41.984375 11.859375 \nQ 46.1875 17.53125 46.1875 27.296875 \nQ 46.1875 37.015625 41.984375 42.703125 \nQ 37.796875 48.390625 30.609375 48.390625 \nz\nM 30.609375 56 \nQ 42.328125 56 49.015625 48.375 \nQ 55.71875 40.765625 55.71875 27.296875 \nQ 55.71875 13.875 49.015625 6.21875 \nQ 42.328125 -1.421875 30.609375 -1.421875 \nQ 18.84375 -1.421875 12.171875 6.21875 \nQ 5.515625 13.875 5.515625 27.296875 \nQ 5.515625 40.765625 12.171875 48.375 \nQ 18.84375 56 30.609375 56 \nz\n\" id=\"DejaVuSans-111\"/>\n      <path d=\"M 48.78125 52.59375 \nL 48.78125 44.1875 \nQ 44.96875 46.296875 41.140625 47.34375 \nQ 37.3125 48.390625 33.40625 48.390625 \nQ 24.65625 48.390625 19.8125 42.84375 \nQ 14.984375 37.3125 14.984375 27.296875 \nQ 14.984375 17.28125 19.8125 11.734375 \nQ 24.65625 6.203125 33.40625 6.203125 \nQ 37.3125 6.203125 41.140625 7.25 \nQ 44.96875 8.296875 48.78125 10.40625 \nL 48.78125 2.09375 \nQ 45.015625 0.34375 40.984375 -0.53125 \nQ 36.96875 -1.421875 32.421875 -1.421875 \nQ 20.0625 -1.421875 12.78125 6.34375 \nQ 5.515625 14.109375 5.515625 27.296875 \nQ 5.515625 40.671875 12.859375 48.328125 \nQ 20.21875 56 33.015625 56 \nQ 37.15625 56 41.109375 55.140625 \nQ 45.0625 54.296875 48.78125 52.59375 \nz\n\" id=\"DejaVuSans-99\"/>\n      <path d=\"M 54.890625 33.015625 \nL 54.890625 0 \nL 45.90625 0 \nL 45.90625 32.71875 \nQ 45.90625 40.484375 42.875 44.328125 \nQ 39.84375 48.1875 33.796875 48.1875 \nQ 26.515625 48.1875 22.3125 43.546875 \nQ 18.109375 38.921875 18.109375 30.90625 \nL 18.109375 0 \nL 9.078125 0 \nL 9.078125 75.984375 \nL 18.109375 75.984375 \nL 18.109375 46.1875 \nQ 21.34375 51.125 25.703125 53.5625 \nQ 30.078125 56 35.796875 56 \nQ 45.21875 56 50.046875 50.171875 \nQ 54.890625 44.34375 54.890625 33.015625 \nz\n\" id=\"DejaVuSans-104\"/>\n     </defs>\n     <g transform=\"translate(326.557812 376.754687)scale(0.1 -0.1)\">\n      <use xlink:href=\"#DejaVuSans-69\"/>\n      <use x=\"63.183594\" xlink:href=\"#DejaVuSans-112\"/>\n      <use x=\"126.660156\" xlink:href=\"#DejaVuSans-111\"/>\n      <use x=\"187.841797\" xlink:href=\"#DejaVuSans-99\"/>\n      <use x=\"242.822266\" xlink:href=\"#DejaVuSans-104\"/>\n     </g>\n    </g>\n   </g>\n   <g id=\"matplotlib.axis_2\">\n    <g id=\"ytick_1\">\n     <g id=\"line2d_13\">\n      <path clip-path=\"url(#pc752c735b7)\" d=\"M 62.86875 314.894683 \nL 620.86875 314.894683 \n\" style=\"fill:none;stroke:#b0b0b0;stroke-linecap:square;stroke-width:0.8;\"/>\n     </g>\n     <g id=\"line2d_14\">\n      <defs>\n       <path d=\"M 0 0 \nL -3.5 0 \n\" id=\"m046ccfc57b\" style=\"stroke:#000000;stroke-width:0.8;\"/>\n      </defs>\n      <g>\n       <use style=\"stroke:#000000;stroke-width:0.8;\" x=\"62.86875\" xlink:href=\"#m046ccfc57b\" y=\"314.894683\"/>\n      </g>\n     </g>\n     <g id=\"text_8\">\n      <!-- 0.0000 -->\n      <defs>\n       <path d=\"M 10.6875 12.40625 \nL 21 12.40625 \nL 21 0 \nL 10.6875 0 \nz\n\" id=\"DejaVuSans-46\"/>\n      </defs>\n      <g transform=\"translate(20.878125 318.693902)scale(0.1 -0.1)\">\n       <use xlink:href=\"#DejaVuSans-48\"/>\n       <use x=\"63.623047\" xlink:href=\"#DejaVuSans-46\"/>\n       <use x=\"95.410156\" xlink:href=\"#DejaVuSans-48\"/>\n       <use x=\"159.033203\" xlink:href=\"#DejaVuSans-48\"/>\n       <use x=\"222.65625\" xlink:href=\"#DejaVuSans-48\"/>\n       <use x=\"286.279297\" xlink:href=\"#DejaVuSans-48\"/>\n      </g>\n     </g>\n    </g>\n    <g id=\"ytick_2\">\n     <g id=\"line2d_15\">\n      <path clip-path=\"url(#pc752c735b7)\" d=\"M 62.86875 269.380059 \nL 620.86875 269.380059 \n\" style=\"fill:none;stroke:#b0b0b0;stroke-linecap:square;stroke-width:0.8;\"/>\n     </g>\n     <g id=\"line2d_16\">\n      <g>\n       <use style=\"stroke:#000000;stroke-width:0.8;\" x=\"62.86875\" xlink:href=\"#m046ccfc57b\" y=\"269.380059\"/>\n      </g>\n     </g>\n     <g id=\"text_9\">\n      <!-- 0.0005 -->\n      <g transform=\"translate(20.878125 273.179277)scale(0.1 -0.1)\">\n       <use xlink:href=\"#DejaVuSans-48\"/>\n       <use x=\"63.623047\" xlink:href=\"#DejaVuSans-46\"/>\n       <use x=\"95.410156\" xlink:href=\"#DejaVuSans-48\"/>\n       <use x=\"159.033203\" xlink:href=\"#DejaVuSans-48\"/>\n       <use x=\"222.65625\" xlink:href=\"#DejaVuSans-48\"/>\n       <use x=\"286.279297\" xlink:href=\"#DejaVuSans-53\"/>\n      </g>\n     </g>\n    </g>\n    <g id=\"ytick_3\">\n     <g id=\"line2d_17\">\n      <path clip-path=\"url(#pc752c735b7)\" d=\"M 62.86875 223.865434 \nL 620.86875 223.865434 \n\" style=\"fill:none;stroke:#b0b0b0;stroke-linecap:square;stroke-width:0.8;\"/>\n     </g>\n     <g id=\"line2d_18\">\n      <g>\n       <use style=\"stroke:#000000;stroke-width:0.8;\" x=\"62.86875\" xlink:href=\"#m046ccfc57b\" y=\"223.865434\"/>\n      </g>\n     </g>\n     <g id=\"text_10\">\n      <!-- 0.0010 -->\n      <g transform=\"translate(20.878125 227.664653)scale(0.1 -0.1)\">\n       <use xlink:href=\"#DejaVuSans-48\"/>\n       <use x=\"63.623047\" xlink:href=\"#DejaVuSans-46\"/>\n       <use x=\"95.410156\" xlink:href=\"#DejaVuSans-48\"/>\n       <use x=\"159.033203\" xlink:href=\"#DejaVuSans-48\"/>\n       <use x=\"222.65625\" xlink:href=\"#DejaVuSans-49\"/>\n       <use x=\"286.279297\" xlink:href=\"#DejaVuSans-48\"/>\n      </g>\n     </g>\n    </g>\n    <g id=\"ytick_4\">\n     <g id=\"line2d_19\">\n      <path clip-path=\"url(#pc752c735b7)\" d=\"M 62.86875 178.35081 \nL 620.86875 178.35081 \n\" style=\"fill:none;stroke:#b0b0b0;stroke-linecap:square;stroke-width:0.8;\"/>\n     </g>\n     <g id=\"line2d_20\">\n      <g>\n       <use style=\"stroke:#000000;stroke-width:0.8;\" x=\"62.86875\" xlink:href=\"#m046ccfc57b\" y=\"178.35081\"/>\n      </g>\n     </g>\n     <g id=\"text_11\">\n      <!-- 0.0015 -->\n      <g transform=\"translate(20.878125 182.150028)scale(0.1 -0.1)\">\n       <use xlink:href=\"#DejaVuSans-48\"/>\n       <use x=\"63.623047\" xlink:href=\"#DejaVuSans-46\"/>\n       <use x=\"95.410156\" xlink:href=\"#DejaVuSans-48\"/>\n       <use x=\"159.033203\" xlink:href=\"#DejaVuSans-48\"/>\n       <use x=\"222.65625\" xlink:href=\"#DejaVuSans-49\"/>\n       <use x=\"286.279297\" xlink:href=\"#DejaVuSans-53\"/>\n      </g>\n     </g>\n    </g>\n    <g id=\"ytick_5\">\n     <g id=\"line2d_21\">\n      <path clip-path=\"url(#pc752c735b7)\" d=\"M 62.86875 132.836185 \nL 620.86875 132.836185 \n\" style=\"fill:none;stroke:#b0b0b0;stroke-linecap:square;stroke-width:0.8;\"/>\n     </g>\n     <g id=\"line2d_22\">\n      <g>\n       <use style=\"stroke:#000000;stroke-width:0.8;\" x=\"62.86875\" xlink:href=\"#m046ccfc57b\" y=\"132.836185\"/>\n      </g>\n     </g>\n     <g id=\"text_12\">\n      <!-- 0.0020 -->\n      <g transform=\"translate(20.878125 136.635404)scale(0.1 -0.1)\">\n       <use xlink:href=\"#DejaVuSans-48\"/>\n       <use x=\"63.623047\" xlink:href=\"#DejaVuSans-46\"/>\n       <use x=\"95.410156\" xlink:href=\"#DejaVuSans-48\"/>\n       <use x=\"159.033203\" xlink:href=\"#DejaVuSans-48\"/>\n       <use x=\"222.65625\" xlink:href=\"#DejaVuSans-50\"/>\n       <use x=\"286.279297\" xlink:href=\"#DejaVuSans-48\"/>\n      </g>\n     </g>\n    </g>\n    <g id=\"ytick_6\">\n     <g id=\"line2d_23\">\n      <path clip-path=\"url(#pc752c735b7)\" d=\"M 62.86875 87.321561 \nL 620.86875 87.321561 \n\" style=\"fill:none;stroke:#b0b0b0;stroke-linecap:square;stroke-width:0.8;\"/>\n     </g>\n     <g id=\"line2d_24\">\n      <g>\n       <use style=\"stroke:#000000;stroke-width:0.8;\" x=\"62.86875\" xlink:href=\"#m046ccfc57b\" y=\"87.321561\"/>\n      </g>\n     </g>\n     <g id=\"text_13\">\n      <!-- 0.0025 -->\n      <g transform=\"translate(20.878125 91.120779)scale(0.1 -0.1)\">\n       <use xlink:href=\"#DejaVuSans-48\"/>\n       <use x=\"63.623047\" xlink:href=\"#DejaVuSans-46\"/>\n       <use x=\"95.410156\" xlink:href=\"#DejaVuSans-48\"/>\n       <use x=\"159.033203\" xlink:href=\"#DejaVuSans-48\"/>\n       <use x=\"222.65625\" xlink:href=\"#DejaVuSans-50\"/>\n       <use x=\"286.279297\" xlink:href=\"#DejaVuSans-53\"/>\n      </g>\n     </g>\n    </g>\n    <g id=\"ytick_7\">\n     <g id=\"line2d_25\">\n      <path clip-path=\"url(#pc752c735b7)\" d=\"M 62.86875 41.806936 \nL 620.86875 41.806936 \n\" style=\"fill:none;stroke:#b0b0b0;stroke-linecap:square;stroke-width:0.8;\"/>\n     </g>\n     <g id=\"line2d_26\">\n      <g>\n       <use style=\"stroke:#000000;stroke-width:0.8;\" x=\"62.86875\" xlink:href=\"#m046ccfc57b\" y=\"41.806936\"/>\n      </g>\n     </g>\n     <g id=\"text_14\">\n      <!-- 0.0030 -->\n      <g transform=\"translate(20.878125 45.606155)scale(0.1 -0.1)\">\n       <use xlink:href=\"#DejaVuSans-48\"/>\n       <use x=\"63.623047\" xlink:href=\"#DejaVuSans-46\"/>\n       <use x=\"95.410156\" xlink:href=\"#DejaVuSans-48\"/>\n       <use x=\"159.033203\" xlink:href=\"#DejaVuSans-48\"/>\n       <use x=\"222.65625\" xlink:href=\"#DejaVuSans-51\"/>\n       <use x=\"286.279297\" xlink:href=\"#DejaVuSans-48\"/>\n      </g>\n     </g>\n    </g>\n    <g id=\"text_15\">\n     <!-- Loss -->\n     <defs>\n      <path d=\"M 9.8125 72.90625 \nL 19.671875 72.90625 \nL 19.671875 8.296875 \nL 55.171875 8.296875 \nL 55.171875 0 \nL 9.8125 0 \nz\n\" id=\"DejaVuSans-76\"/>\n      <path d=\"M 44.28125 53.078125 \nL 44.28125 44.578125 \nQ 40.484375 46.53125 36.375 47.5 \nQ 32.28125 48.484375 27.875 48.484375 \nQ 21.1875 48.484375 17.84375 46.4375 \nQ 14.5 44.390625 14.5 40.28125 \nQ 14.5 37.15625 16.890625 35.375 \nQ 19.28125 33.59375 26.515625 31.984375 \nL 29.59375 31.296875 \nQ 39.15625 29.25 43.1875 25.515625 \nQ 47.21875 21.78125 47.21875 15.09375 \nQ 47.21875 7.46875 41.1875 3.015625 \nQ 35.15625 -1.421875 24.609375 -1.421875 \nQ 20.21875 -1.421875 15.453125 -0.5625 \nQ 10.6875 0.296875 5.421875 2 \nL 5.421875 11.28125 \nQ 10.40625 8.6875 15.234375 7.390625 \nQ 20.0625 6.109375 24.8125 6.109375 \nQ 31.15625 6.109375 34.5625 8.28125 \nQ 37.984375 10.453125 37.984375 14.40625 \nQ 37.984375 18.0625 35.515625 20.015625 \nQ 33.0625 21.96875 24.703125 23.78125 \nL 21.578125 24.515625 \nQ 13.234375 26.265625 9.515625 29.90625 \nQ 5.8125 33.546875 5.8125 39.890625 \nQ 5.8125 47.609375 11.28125 51.796875 \nQ 16.75 56 26.8125 56 \nQ 31.78125 56 36.171875 55.265625 \nQ 40.578125 54.546875 44.28125 53.078125 \nz\n\" id=\"DejaVuSans-115\"/>\n     </defs>\n     <g transform=\"translate(14.798438 196.365312)rotate(-90)scale(0.1 -0.1)\">\n      <use xlink:href=\"#DejaVuSans-76\"/>\n      <use x=\"53.962891\" xlink:href=\"#DejaVuSans-111\"/>\n      <use x=\"115.144531\" xlink:href=\"#DejaVuSans-115\"/>\n      <use x=\"167.244141\" xlink:href=\"#DejaVuSans-115\"/>\n     </g>\n    </g>\n   </g>\n   <g id=\"line2d_27\">\n    <path clip-path=\"url(#pc752c735b7)\" d=\"M 88.232386 298.388807 \nL 98.584891 296.398256 \nL 108.937396 298.119909 \nL 119.2899 301.191932 \nL 129.642405 301.380985 \nL 139.99491 302.585263 \nL 150.347414 301.354769 \nL 160.699919 301.447956 \nL 171.052423 301.768466 \nL 181.404928 300.879056 \nL 191.757433 303.894996 \nL 202.109937 300.706875 \nL 212.462442 303.429387 \nL 222.814947 301.101175 \nL 233.167451 299.979768 \nL 243.519956 298.156415 \nL 253.872461 302.934205 \nL 264.224965 301.962454 \nL 274.57747 297.17206 \nL 284.929974 303.619471 \nL 295.282479 305.312798 \nL 305.634984 300.509454 \nL 315.987488 303.425593 \nL 326.339993 300.892286 \nL 336.692498 295.877836 \nL 347.045002 301.856552 \nL 357.397507 298.244137 \nL 367.750012 300.980621 \nL 378.102516 305.234026 \nL 388.455021 300.581643 \nL 398.807526 295.194422 \nL 409.16003 296.407867 \nL 419.512535 298.210966 \nL 429.865039 297.282902 \nL 440.217544 300.178607 \nL 450.570049 304.064483 \nL 460.922553 302.12706 \nL 471.275058 306.16525 \nL 481.627563 306.508623 \nL 491.980067 111.642949 \nL 502.332572 252.004191 \nL 512.685077 292.88832 \nL 523.037581 299.387959 \nL 533.390086 306.880115 \nL 543.74259 301.384542 \nL 554.095095 296.326157 \nL 564.4476 303.193271 \nL 574.800104 308.680476 \nL 585.152609 309.103153 \nL 595.505114 333.65267 \n\" style=\"fill:none;stroke:#1f77b4;stroke-linecap:square;stroke-width:1.5;\"/>\n   </g>\n   <g id=\"line2d_28\">\n    <path clip-path=\"url(#pc752c735b7)\" d=\"M 88.232386 296.110247 \nL 98.584891 294.265662 \nL 108.937396 294.161455 \nL 119.2899 290.509663 \nL 129.642405 293.975124 \nL 139.99491 290.493418 \nL 150.347414 295.047186 \nL 160.699919 284.72571 \nL 171.052423 293.996594 \nL 181.404928 290.280475 \nL 191.757433 294.245838 \nL 202.109937 295.978808 \nL 212.462442 291.911048 \nL 222.814947 288.699009 \nL 233.167451 292.801851 \nL 243.519956 294.940728 \nL 253.872461 277.204507 \nL 264.224965 284.60045 \nL 274.57747 297.461881 \nL 284.929974 299.227638 \nL 295.282479 286.275676 \nL 305.634984 287.421717 \nL 315.987488 281.946822 \nL 326.339993 287.754041 \nL 336.692498 286.105071 \nL 347.045002 292.46536 \nL 357.397507 291.854635 \nL 367.750012 277.359396 \nL 378.102516 272.018133 \nL 388.455021 292.632163 \nL 398.807526 294.585356 \nL 409.16003 292.274891 \nL 419.512535 286.806939 \nL 429.865039 296.557277 \nL 440.217544 295.18209 \nL 450.570049 281.82051 \nL 460.922553 273.19781 \nL 471.275058 274.165642 \nL 481.627563 267.108043 \nL 491.980067 254.107068 \nL 502.332572 284.87498 \nL 512.685077 286.588668 \nL 523.037581 284.396234 \nL 533.390086 275.548759 \nL 543.74259 277.954826 \nL 554.095095 275.760181 \nL 564.4476 260.04257 \nL 574.800104 246.515222 \nL 585.152609 181.454045 \nL 595.505114 37.14358 \n\" style=\"fill:none;stroke:#ff7f0e;stroke-linecap:square;stroke-width:1.5;\"/>\n   </g>\n   <g id=\"patch_3\">\n    <path d=\"M 62.86875 348.478125 \nL 62.86875 22.318125 \n\" style=\"fill:none;stroke:#000000;stroke-linecap:square;stroke-linejoin:miter;stroke-width:0.8;\"/>\n   </g>\n   <g id=\"patch_4\">\n    <path d=\"M 620.86875 348.478125 \nL 620.86875 22.318125 \n\" style=\"fill:none;stroke:#000000;stroke-linecap:square;stroke-linejoin:miter;stroke-width:0.8;\"/>\n   </g>\n   <g id=\"patch_5\">\n    <path d=\"M 62.86875 348.478125 \nL 620.86875 348.478125 \n\" style=\"fill:none;stroke:#000000;stroke-linecap:square;stroke-linejoin:miter;stroke-width:0.8;\"/>\n   </g>\n   <g id=\"patch_6\">\n    <path d=\"M 62.86875 22.318125 \nL 620.86875 22.318125 \n\" style=\"fill:none;stroke:#000000;stroke-linecap:square;stroke-linejoin:miter;stroke-width:0.8;\"/>\n   </g>\n   <g id=\"text_16\">\n    <!-- Training vs Validation Loss -->\n    <defs>\n     <path d=\"M -0.296875 72.90625 \nL 61.375 72.90625 \nL 61.375 64.59375 \nL 35.5 64.59375 \nL 35.5 0 \nL 25.59375 0 \nL 25.59375 64.59375 \nL -0.296875 64.59375 \nz\n\" id=\"DejaVuSans-84\"/>\n     <path d=\"M 41.109375 46.296875 \nQ 39.59375 47.171875 37.8125 47.578125 \nQ 36.03125 48 33.890625 48 \nQ 26.265625 48 22.1875 43.046875 \nQ 18.109375 38.09375 18.109375 28.8125 \nL 18.109375 0 \nL 9.078125 0 \nL 9.078125 54.6875 \nL 18.109375 54.6875 \nL 18.109375 46.1875 \nQ 20.953125 51.171875 25.484375 53.578125 \nQ 30.03125 56 36.53125 56 \nQ 37.453125 56 38.578125 55.875 \nQ 39.703125 55.765625 41.0625 55.515625 \nz\n\" id=\"DejaVuSans-114\"/>\n     <path d=\"M 34.28125 27.484375 \nQ 23.390625 27.484375 19.1875 25 \nQ 14.984375 22.515625 14.984375 16.5 \nQ 14.984375 11.71875 18.140625 8.90625 \nQ 21.296875 6.109375 26.703125 6.109375 \nQ 34.1875 6.109375 38.703125 11.40625 \nQ 43.21875 16.703125 43.21875 25.484375 \nL 43.21875 27.484375 \nz\nM 52.203125 31.203125 \nL 52.203125 0 \nL 43.21875 0 \nL 43.21875 8.296875 \nQ 40.140625 3.328125 35.546875 0.953125 \nQ 30.953125 -1.421875 24.3125 -1.421875 \nQ 15.921875 -1.421875 10.953125 3.296875 \nQ 6 8.015625 6 15.921875 \nQ 6 25.140625 12.171875 29.828125 \nQ 18.359375 34.515625 30.609375 34.515625 \nL 43.21875 34.515625 \nL 43.21875 35.40625 \nQ 43.21875 41.609375 39.140625 45 \nQ 35.0625 48.390625 27.6875 48.390625 \nQ 23 48.390625 18.546875 47.265625 \nQ 14.109375 46.140625 10.015625 43.890625 \nL 10.015625 52.203125 \nQ 14.9375 54.109375 19.578125 55.046875 \nQ 24.21875 56 28.609375 56 \nQ 40.484375 56 46.34375 49.84375 \nQ 52.203125 43.703125 52.203125 31.203125 \nz\n\" id=\"DejaVuSans-97\"/>\n     <path d=\"M 9.421875 54.6875 \nL 18.40625 54.6875 \nL 18.40625 0 \nL 9.421875 0 \nz\nM 9.421875 75.984375 \nL 18.40625 75.984375 \nL 18.40625 64.59375 \nL 9.421875 64.59375 \nz\n\" id=\"DejaVuSans-105\"/>\n     <path d=\"M 54.890625 33.015625 \nL 54.890625 0 \nL 45.90625 0 \nL 45.90625 32.71875 \nQ 45.90625 40.484375 42.875 44.328125 \nQ 39.84375 48.1875 33.796875 48.1875 \nQ 26.515625 48.1875 22.3125 43.546875 \nQ 18.109375 38.921875 18.109375 30.90625 \nL 18.109375 0 \nL 9.078125 0 \nL 9.078125 54.6875 \nL 18.109375 54.6875 \nL 18.109375 46.1875 \nQ 21.34375 51.125 25.703125 53.5625 \nQ 30.078125 56 35.796875 56 \nQ 45.21875 56 50.046875 50.171875 \nQ 54.890625 44.34375 54.890625 33.015625 \nz\n\" id=\"DejaVuSans-110\"/>\n     <path d=\"M 45.40625 27.984375 \nQ 45.40625 37.75 41.375 43.109375 \nQ 37.359375 48.484375 30.078125 48.484375 \nQ 22.859375 48.484375 18.828125 43.109375 \nQ 14.796875 37.75 14.796875 27.984375 \nQ 14.796875 18.265625 18.828125 12.890625 \nQ 22.859375 7.515625 30.078125 7.515625 \nQ 37.359375 7.515625 41.375 12.890625 \nQ 45.40625 18.265625 45.40625 27.984375 \nz\nM 54.390625 6.78125 \nQ 54.390625 -7.171875 48.1875 -13.984375 \nQ 42 -20.796875 29.203125 -20.796875 \nQ 24.46875 -20.796875 20.265625 -20.09375 \nQ 16.0625 -19.390625 12.109375 -17.921875 \nL 12.109375 -9.1875 \nQ 16.0625 -11.328125 19.921875 -12.34375 \nQ 23.78125 -13.375 27.78125 -13.375 \nQ 36.625 -13.375 41.015625 -8.765625 \nQ 45.40625 -4.15625 45.40625 5.171875 \nL 45.40625 9.625 \nQ 42.625 4.78125 38.28125 2.390625 \nQ 33.9375 0 27.875 0 \nQ 17.828125 0 11.671875 7.65625 \nQ 5.515625 15.328125 5.515625 27.984375 \nQ 5.515625 40.671875 11.671875 48.328125 \nQ 17.828125 56 27.875 56 \nQ 33.9375 56 38.28125 53.609375 \nQ 42.625 51.21875 45.40625 46.390625 \nL 45.40625 54.6875 \nL 54.390625 54.6875 \nz\n\" id=\"DejaVuSans-103\"/>\n     <path id=\"DejaVuSans-32\"/>\n     <path d=\"M 2.984375 54.6875 \nL 12.5 54.6875 \nL 29.59375 8.796875 \nL 46.6875 54.6875 \nL 56.203125 54.6875 \nL 35.6875 0 \nL 23.484375 0 \nz\n\" id=\"DejaVuSans-118\"/>\n     <path d=\"M 28.609375 0 \nL 0.78125 72.90625 \nL 11.078125 72.90625 \nL 34.1875 11.53125 \nL 57.328125 72.90625 \nL 67.578125 72.90625 \nL 39.796875 0 \nz\n\" id=\"DejaVuSans-86\"/>\n     <path d=\"M 9.421875 75.984375 \nL 18.40625 75.984375 \nL 18.40625 0 \nL 9.421875 0 \nz\n\" id=\"DejaVuSans-108\"/>\n     <path d=\"M 45.40625 46.390625 \nL 45.40625 75.984375 \nL 54.390625 75.984375 \nL 54.390625 0 \nL 45.40625 0 \nL 45.40625 8.203125 \nQ 42.578125 3.328125 38.25 0.953125 \nQ 33.9375 -1.421875 27.875 -1.421875 \nQ 17.96875 -1.421875 11.734375 6.484375 \nQ 5.515625 14.40625 5.515625 27.296875 \nQ 5.515625 40.1875 11.734375 48.09375 \nQ 17.96875 56 27.875 56 \nQ 33.9375 56 38.25 53.625 \nQ 42.578125 51.265625 45.40625 46.390625 \nz\nM 14.796875 27.296875 \nQ 14.796875 17.390625 18.875 11.75 \nQ 22.953125 6.109375 30.078125 6.109375 \nQ 37.203125 6.109375 41.296875 11.75 \nQ 45.40625 17.390625 45.40625 27.296875 \nQ 45.40625 37.203125 41.296875 42.84375 \nQ 37.203125 48.484375 30.078125 48.484375 \nQ 22.953125 48.484375 18.875 42.84375 \nQ 14.796875 37.203125 14.796875 27.296875 \nz\n\" id=\"DejaVuSans-100\"/>\n     <path d=\"M 18.3125 70.21875 \nL 18.3125 54.6875 \nL 36.8125 54.6875 \nL 36.8125 47.703125 \nL 18.3125 47.703125 \nL 18.3125 18.015625 \nQ 18.3125 11.328125 20.140625 9.421875 \nQ 21.96875 7.515625 27.59375 7.515625 \nL 36.8125 7.515625 \nL 36.8125 0 \nL 27.59375 0 \nQ 17.1875 0 13.234375 3.875 \nQ 9.28125 7.765625 9.28125 18.015625 \nL 9.28125 47.703125 \nL 2.6875 47.703125 \nL 2.6875 54.6875 \nL 9.28125 54.6875 \nL 9.28125 70.21875 \nz\n\" id=\"DejaVuSans-116\"/>\n    </defs>\n    <g transform=\"translate(263.010937 16.318125)scale(0.12 -0.12)\">\n     <use xlink:href=\"#DejaVuSans-84\"/>\n     <use x=\"46.333984\" xlink:href=\"#DejaVuSans-114\"/>\n     <use x=\"87.447266\" xlink:href=\"#DejaVuSans-97\"/>\n     <use x=\"148.726562\" xlink:href=\"#DejaVuSans-105\"/>\n     <use x=\"176.509766\" xlink:href=\"#DejaVuSans-110\"/>\n     <use x=\"239.888672\" xlink:href=\"#DejaVuSans-105\"/>\n     <use x=\"267.671875\" xlink:href=\"#DejaVuSans-110\"/>\n     <use x=\"331.050781\" xlink:href=\"#DejaVuSans-103\"/>\n     <use x=\"394.527344\" xlink:href=\"#DejaVuSans-32\"/>\n     <use x=\"426.314453\" xlink:href=\"#DejaVuSans-118\"/>\n     <use x=\"485.494141\" xlink:href=\"#DejaVuSans-115\"/>\n     <use x=\"537.59375\" xlink:href=\"#DejaVuSans-32\"/>\n     <use x=\"569.380859\" xlink:href=\"#DejaVuSans-86\"/>\n     <use x=\"630.039062\" xlink:href=\"#DejaVuSans-97\"/>\n     <use x=\"691.318359\" xlink:href=\"#DejaVuSans-108\"/>\n     <use x=\"719.101562\" xlink:href=\"#DejaVuSans-105\"/>\n     <use x=\"746.884766\" xlink:href=\"#DejaVuSans-100\"/>\n     <use x=\"810.361328\" xlink:href=\"#DejaVuSans-97\"/>\n     <use x=\"871.640625\" xlink:href=\"#DejaVuSans-116\"/>\n     <use x=\"910.849609\" xlink:href=\"#DejaVuSans-105\"/>\n     <use x=\"938.632812\" xlink:href=\"#DejaVuSans-111\"/>\n     <use x=\"999.814453\" xlink:href=\"#DejaVuSans-110\"/>\n     <use x=\"1063.193359\" xlink:href=\"#DejaVuSans-32\"/>\n     <use x=\"1094.980469\" xlink:href=\"#DejaVuSans-76\"/>\n     <use x=\"1148.943359\" xlink:href=\"#DejaVuSans-111\"/>\n     <use x=\"1210.125\" xlink:href=\"#DejaVuSans-115\"/>\n     <use x=\"1262.224609\" xlink:href=\"#DejaVuSans-115\"/>\n    </g>\n   </g>\n   <g id=\"legend_1\">\n    <g id=\"patch_7\">\n     <path d=\"M 69.86875 59.674375 \nL 151.25 59.674375 \nQ 153.25 59.674375 153.25 57.674375 \nL 153.25 29.318125 \nQ 153.25 27.318125 151.25 27.318125 \nL 69.86875 27.318125 \nQ 67.86875 27.318125 67.86875 29.318125 \nL 67.86875 57.674375 \nQ 67.86875 59.674375 69.86875 59.674375 \nz\n\" style=\"fill:#ffffff;opacity:0.8;stroke:#cccccc;stroke-linejoin:miter;\"/>\n    </g>\n    <g id=\"line2d_29\">\n     <path d=\"M 71.86875 35.416562 \nL 91.86875 35.416562 \n\" style=\"fill:none;stroke:#1f77b4;stroke-linecap:square;stroke-width:1.5;\"/>\n    </g>\n    <g id=\"line2d_30\"/>\n    <g id=\"text_17\">\n     <!-- Training -->\n     <g transform=\"translate(99.86875 38.916562)scale(0.1 -0.1)\">\n      <use xlink:href=\"#DejaVuSans-84\"/>\n      <use x=\"46.333984\" xlink:href=\"#DejaVuSans-114\"/>\n      <use x=\"87.447266\" xlink:href=\"#DejaVuSans-97\"/>\n      <use x=\"148.726562\" xlink:href=\"#DejaVuSans-105\"/>\n      <use x=\"176.509766\" xlink:href=\"#DejaVuSans-110\"/>\n      <use x=\"239.888672\" xlink:href=\"#DejaVuSans-105\"/>\n      <use x=\"267.671875\" xlink:href=\"#DejaVuSans-110\"/>\n      <use x=\"331.050781\" xlink:href=\"#DejaVuSans-103\"/>\n     </g>\n    </g>\n    <g id=\"line2d_31\">\n     <path d=\"M 71.86875 50.094687 \nL 91.86875 50.094687 \n\" style=\"fill:none;stroke:#ff7f0e;stroke-linecap:square;stroke-width:1.5;\"/>\n    </g>\n    <g id=\"line2d_32\"/>\n    <g id=\"text_18\">\n     <!-- Validation -->\n     <g transform=\"translate(99.86875 53.594687)scale(0.1 -0.1)\">\n      <use xlink:href=\"#DejaVuSans-86\"/>\n      <use x=\"60.658203\" xlink:href=\"#DejaVuSans-97\"/>\n      <use x=\"121.9375\" xlink:href=\"#DejaVuSans-108\"/>\n      <use x=\"149.720703\" xlink:href=\"#DejaVuSans-105\"/>\n      <use x=\"177.503906\" xlink:href=\"#DejaVuSans-100\"/>\n      <use x=\"240.980469\" xlink:href=\"#DejaVuSans-97\"/>\n      <use x=\"302.259766\" xlink:href=\"#DejaVuSans-116\"/>\n      <use x=\"341.46875\" xlink:href=\"#DejaVuSans-105\"/>\n      <use x=\"369.251953\" xlink:href=\"#DejaVuSans-111\"/>\n      <use x=\"430.433594\" xlink:href=\"#DejaVuSans-110\"/>\n     </g>\n    </g>\n   </g>\n  </g>\n </g>\n <defs>\n  <clipPath id=\"pc752c735b7\">\n   <rect height=\"326.16\" width=\"558\" x=\"62.86875\" y=\"22.318125\"/>\n  </clipPath>\n </defs>\n</svg>\n",
      "image/png": "[encoded data removed]"
     },
     "metadata": {
      "needs_background": "light"
     }
    }
   ],
   "source": [
    "hypermodel.model = model\n",
    "hypermodel.fit(x_train, y_train, w_train, x_val, y_val, w_val, 50)\n",
    "hypermodel.plot_loss()"
   ]
  },
  {
   "cell_type": "code",
   "execution_count": null,
   "metadata": {},
   "outputs": [],
   "source": []
  }
 ]
}