{
 "cells": [
  {
   "cell_type": "markdown",
   "metadata": {},
   "source": [
    "# Generating all Datasets for Xtohh signal V.1\n",
    "2020-04-27, John Rodriguez"
   ]
  },
  {
   "cell_type": "code",
   "execution_count": 2,
   "metadata": {},
   "outputs": [],
   "source": [
    "ada_parent_dir = \"../\"\n",
    "import sys\n",
    "sys.path.append(ada_parent_dir)\n",
    "import ada\n",
    "from glob import glob\n",
    "import pandas as pd"
   ]
  },
  {
   "cell_type": "code",
   "execution_count": 3,
   "metadata": {},
   "outputs": [],
   "source": [
    "data_path = \"../raw_data\"\n",
    "prodata_path = \"../processed_data\"\n",
    "signal = \"Xtohh\""
   ]
  },
  {
   "cell_type": "code",
   "execution_count": 4,
   "metadata": {},
   "outputs": [],
   "source": [
    "#moved to ada in 2020-04-28\n",
    "#removed from ada in 2020-04-30\n",
    "def generate_signal_datasets(signal, data_path, prodata_path):\n",
    "    \"\"\"Takes all root files from a directory and split them into signals and background csv's\"\"\"\n",
    "    \n",
    "    #get roots\n",
    "    all_roots = glob(f\"{data_path}/*.root\")\n",
    "    signal_roots = glob(f\"{data_path}/{signal}*.root\")\n",
    "    bg_roots = list(set(all_roots) - set(signal_roots) - set(glob(f\"{data_path}/data.root\")))\n",
    "    \n",
    "    #turn into dfs\n",
    "    signal_dfs = {signal_root.split('/')[-1].split('.')[0]: ada.root_to_df(signal_root) for signal_root in signal_roots}\n",
    "    bg_dfs = [ada.root_to_df(bg_root) for bg_root in bg_roots]\n",
    "    \n",
    "    #join all backgrounds\n",
    "    bg_df = pd.concat(bg_dfs, axis = 0)\n",
    "    \n",
    "    #save background\n",
    "    bg_df.to_csv(f\"{prodata_path}/{signal}_background.csv\", index = False)\n",
    "    \n",
    "    #save signals\n",
    "    for signal_name, signal_df in signal_dfs.items():\n",
    "        signal_df.to_csv(f\"{prodata_path}/{signal_name}.csv\", index = False)"
   ]
  },
  {
   "cell_type": "code",
   "execution_count": 5,
   "metadata": {},
   "outputs": [
    {
     "ename": "AttributeError",
     "evalue": "module 'ada' has no attribute 'generate_signal_datasets'",
     "output_type": "error",
     "traceback": [
      "\u001b[0;31m---------------------------------------------------------------------------\u001b[0m",
      "\u001b[0;31mAttributeError\u001b[0m                            Traceback (most recent call last)",
      "\u001b[0;32m<ipython-input-5-00d51d38c2ea>\u001b[0m in \u001b[0;36m<module>\u001b[0;34m\u001b[0m\n\u001b[0;32m----> 1\u001b[0;31m \u001b[0mada\u001b[0m\u001b[0;34m.\u001b[0m\u001b[0mgenerate_signal_datasets\u001b[0m\u001b[0;34m(\u001b[0m\u001b[0msignal\u001b[0m\u001b[0;34m,\u001b[0m \u001b[0mdata_path\u001b[0m\u001b[0;34m,\u001b[0m \u001b[0mprodata_path\u001b[0m\u001b[0;34m)\u001b[0m\u001b[0;34m\u001b[0m\u001b[0;34m\u001b[0m\u001b[0m\n\u001b[0m",
      "\u001b[0;31mAttributeError\u001b[0m: module 'ada' has no attribute 'generate_signal_datasets'"
     ]
    }
   ],
   "source": [
    "ada.generate_signal_datasets(signal, data_path, prodata_path)"
   ]
  },
  {
   "cell_type": "code",
   "execution_count": null,
   "metadata": {},
   "outputs": [],
   "source": []
  }
 ],
 "metadata": {
  "kernelspec": {
   "display_name": "Python 3",
   "language": "python",
   "name": "python3"
  },
  "language_info": {
   "codemirror_mode": {
    "name": "ipython",
    "version": 3
   },
   "file_extension": ".py",
   "mimetype": "text/x-python",
   "name": "python",
   "nbconvert_exporter": "python",
   "pygments_lexer": "ipython3",
   "version": "3.7.3"
  }
 },
 "nbformat": 4,
 "nbformat_minor": 4
}
