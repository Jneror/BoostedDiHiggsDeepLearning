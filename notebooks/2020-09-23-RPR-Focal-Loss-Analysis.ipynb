{
 "cells": [
  {
   "cell_type": "code",
   "execution_count": 83,
   "metadata": {},
   "outputs": [],
   "source": [
    "import numpy as np\n",
    "ada_parent_dir = \"../\"\n",
    "import sys\n",
    "sys.path.append(ada_parent_dir)\n",
    "from ada2.model import BinaryClassifier, Sequential, Dense, Dropout, adagrad\n",
    "from ada2.data import read_dataset, split_dataset\n",
    "import pandas as pd\n",
    "from functools import partial\n",
    "from tensorflow.keras import initializers\n",
    "from matplotlib import pyplot as plt"
   ]
  },
  {
   "cell_type": "code",
   "execution_count": 3,
   "metadata": {},
   "outputs": [],
   "source": [
    "source_path = \"../processed_data/xtohh\"\n",
    "signal = \"Xtohh2000\"\n",
    "bg = \"Xtohh_background\"\n",
    "seed = 420"
   ]
  },
  {
   "cell_type": "code",
   "execution_count": 4,
   "metadata": {},
   "outputs": [],
   "source": [
    "#read xtohh dataset\n",
    "df = read_dataset(source_path, signal, bg, \"SR\", 2)\n",
    "sets = split_dataset(df, 0.6, 0.2, 0.2, seed)"
   ]
  },
  {
   "cell_type": "code",
   "execution_count": 20,
   "metadata": {},
   "outputs": [
    {
     "name": "stdout",
     "output_type": "stream",
     "text": [
      "246 8560\n"
     ]
    }
   ],
   "source": [
    "neg, pos = np.bincount(df['label'])\n",
    "print(neg,pos)"
   ]
  },
  {
   "cell_type": "code",
   "execution_count": 5,
   "metadata": {},
   "outputs": [
    {
     "data": {
      "text/html": [
       "<div>\n",
       "<style scoped>\n",
       "    .dataframe tbody tr th:only-of-type {\n",
       "        vertical-align: middle;\n",
       "    }\n",
       "\n",
       "    .dataframe tbody tr th {\n",
       "        vertical-align: top;\n",
       "    }\n",
       "\n",
       "    .dataframe thead th {\n",
       "        text-align: right;\n",
       "    }\n",
       "</style>\n",
       "<table border=\"1\" class=\"dataframe\">\n",
       "  <thead>\n",
       "    <tr style=\"text-align: right;\">\n",
       "      <th></th>\n",
       "      <th>EventWeight</th>\n",
       "      <th>label</th>\n",
       "      <th>m_FJpt</th>\n",
       "      <th>m_FJeta</th>\n",
       "      <th>m_FJphi</th>\n",
       "      <th>m_FJm</th>\n",
       "      <th>m_DTpt</th>\n",
       "      <th>m_DTeta</th>\n",
       "      <th>m_DTphi</th>\n",
       "      <th>m_DTm</th>\n",
       "      <th>m_dPhiFTwDT</th>\n",
       "      <th>m_dRFJwDT</th>\n",
       "      <th>m_dPhiDTwMET</th>\n",
       "      <th>m_MET</th>\n",
       "      <th>m_hhm</th>\n",
       "      <th>m_bbttpt</th>\n",
       "    </tr>\n",
       "  </thead>\n",
       "  <tbody>\n",
       "    <tr>\n",
       "      <td>0</td>\n",
       "      <td>0.001020</td>\n",
       "      <td>1</td>\n",
       "      <td>885.55927</td>\n",
       "      <td>0.104927</td>\n",
       "      <td>-2.448576</td>\n",
       "      <td>127604.30</td>\n",
       "      <td>623.22710</td>\n",
       "      <td>-0.731510</td>\n",
       "      <td>0.656939</td>\n",
       "      <td>85368.720</td>\n",
       "      <td>3.105514</td>\n",
       "      <td>3.216185</td>\n",
       "      <td>-0.192894</td>\n",
       "      <td>237.887240</td>\n",
       "      <td>1631.67020</td>\n",
       "      <td>263.697630</td>\n",
       "    </tr>\n",
       "    <tr>\n",
       "      <td>1</td>\n",
       "      <td>0.001117</td>\n",
       "      <td>1</td>\n",
       "      <td>855.69904</td>\n",
       "      <td>0.313113</td>\n",
       "      <td>-1.859287</td>\n",
       "      <td>122862.90</td>\n",
       "      <td>449.37933</td>\n",
       "      <td>-0.306591</td>\n",
       "      <td>0.920655</td>\n",
       "      <td>55754.656</td>\n",
       "      <td>2.779941</td>\n",
       "      <td>2.848176</td>\n",
       "      <td>-0.019178</td>\n",
       "      <td>485.033330</td>\n",
       "      <td>1293.40280</td>\n",
       "      <td>463.512360</td>\n",
       "    </tr>\n",
       "    <tr>\n",
       "      <td>2</td>\n",
       "      <td>0.000925</td>\n",
       "      <td>1</td>\n",
       "      <td>552.47845</td>\n",
       "      <td>-0.702952</td>\n",
       "      <td>-2.549875</td>\n",
       "      <td>109091.67</td>\n",
       "      <td>631.70496</td>\n",
       "      <td>1.020756</td>\n",
       "      <td>0.610602</td>\n",
       "      <td>76213.550</td>\n",
       "      <td>3.122708</td>\n",
       "      <td>3.566858</td>\n",
       "      <td>-0.742126</td>\n",
       "      <td>104.559220</td>\n",
       "      <td>1659.84830</td>\n",
       "      <td>80.008150</td>\n",
       "    </tr>\n",
       "    <tr>\n",
       "      <td>3</td>\n",
       "      <td>0.001158</td>\n",
       "      <td>1</td>\n",
       "      <td>525.10590</td>\n",
       "      <td>-0.941433</td>\n",
       "      <td>-1.130162</td>\n",
       "      <td>82382.28</td>\n",
       "      <td>416.48105</td>\n",
       "      <td>0.103909</td>\n",
       "      <td>1.981465</td>\n",
       "      <td>58332.793</td>\n",
       "      <td>3.111627</td>\n",
       "      <td>3.282524</td>\n",
       "      <td>-0.130256</td>\n",
       "      <td>166.607220</td>\n",
       "      <td>1075.30920</td>\n",
       "      <td>109.524925</td>\n",
       "    </tr>\n",
       "    <tr>\n",
       "      <td>4</td>\n",
       "      <td>0.001120</td>\n",
       "      <td>1</td>\n",
       "      <td>916.44147</td>\n",
       "      <td>-0.683193</td>\n",
       "      <td>1.804695</td>\n",
       "      <td>115936.01</td>\n",
       "      <td>677.16440</td>\n",
       "      <td>-0.495132</td>\n",
       "      <td>-1.274429</td>\n",
       "      <td>94135.960</td>\n",
       "      <td>3.079124</td>\n",
       "      <td>3.084862</td>\n",
       "      <td>0.416606</td>\n",
       "      <td>167.350300</td>\n",
       "      <td>1595.76110</td>\n",
       "      <td>244.283460</td>\n",
       "    </tr>\n",
       "    <tr>\n",
       "      <td>...</td>\n",
       "      <td>...</td>\n",
       "      <td>...</td>\n",
       "      <td>...</td>\n",
       "      <td>...</td>\n",
       "      <td>...</td>\n",
       "      <td>...</td>\n",
       "      <td>...</td>\n",
       "      <td>...</td>\n",
       "      <td>...</td>\n",
       "      <td>...</td>\n",
       "      <td>...</td>\n",
       "      <td>...</td>\n",
       "      <td>...</td>\n",
       "      <td>...</td>\n",
       "      <td>...</td>\n",
       "      <td>...</td>\n",
       "    </tr>\n",
       "    <tr>\n",
       "      <td>8801</td>\n",
       "      <td>0.006433</td>\n",
       "      <td>0</td>\n",
       "      <td>402.06714</td>\n",
       "      <td>0.109710</td>\n",
       "      <td>-1.277847</td>\n",
       "      <td>68576.34</td>\n",
       "      <td>486.71262</td>\n",
       "      <td>-0.060529</td>\n",
       "      <td>1.469456</td>\n",
       "      <td>120999.410</td>\n",
       "      <td>2.747302</td>\n",
       "      <td>2.752572</td>\n",
       "      <td>-0.883233</td>\n",
       "      <td>84.210686</td>\n",
       "      <td>891.92240</td>\n",
       "      <td>192.862270</td>\n",
       "    </tr>\n",
       "    <tr>\n",
       "      <td>8802</td>\n",
       "      <td>0.004849</td>\n",
       "      <td>0</td>\n",
       "      <td>542.29900</td>\n",
       "      <td>1.579771</td>\n",
       "      <td>-2.624035</td>\n",
       "      <td>84161.26</td>\n",
       "      <td>411.07132</td>\n",
       "      <td>1.205967</td>\n",
       "      <td>0.438185</td>\n",
       "      <td>56194.777</td>\n",
       "      <td>3.062220</td>\n",
       "      <td>3.084951</td>\n",
       "      <td>-0.216563</td>\n",
       "      <td>59.169407</td>\n",
       "      <td>970.41110</td>\n",
       "      <td>136.471160</td>\n",
       "    </tr>\n",
       "    <tr>\n",
       "      <td>8803</td>\n",
       "      <td>0.004849</td>\n",
       "      <td>0</td>\n",
       "      <td>548.63104</td>\n",
       "      <td>-0.033452</td>\n",
       "      <td>2.621298</td>\n",
       "      <td>79095.04</td>\n",
       "      <td>416.03915</td>\n",
       "      <td>0.336025</td>\n",
       "      <td>-0.553298</td>\n",
       "      <td>70408.830</td>\n",
       "      <td>3.108589</td>\n",
       "      <td>3.130470</td>\n",
       "      <td>-0.352454</td>\n",
       "      <td>34.371227</td>\n",
       "      <td>983.20233</td>\n",
       "      <td>133.526060</td>\n",
       "    </tr>\n",
       "    <tr>\n",
       "      <td>8804</td>\n",
       "      <td>0.007816</td>\n",
       "      <td>0</td>\n",
       "      <td>683.98340</td>\n",
       "      <td>-0.029910</td>\n",
       "      <td>-0.760806</td>\n",
       "      <td>110728.80</td>\n",
       "      <td>609.47140</td>\n",
       "      <td>0.094448</td>\n",
       "      <td>2.401307</td>\n",
       "      <td>148632.220</td>\n",
       "      <td>3.121072</td>\n",
       "      <td>3.123549</td>\n",
       "      <td>0.351719</td>\n",
       "      <td>55.616740</td>\n",
       "      <td>1320.47700</td>\n",
       "      <td>75.680750</td>\n",
       "    </tr>\n",
       "    <tr>\n",
       "      <td>8805</td>\n",
       "      <td>0.004849</td>\n",
       "      <td>0</td>\n",
       "      <td>533.04846</td>\n",
       "      <td>0.334293</td>\n",
       "      <td>1.772496</td>\n",
       "      <td>172521.42</td>\n",
       "      <td>414.05844</td>\n",
       "      <td>-1.568559</td>\n",
       "      <td>-1.097320</td>\n",
       "      <td>74110.530</td>\n",
       "      <td>2.869815</td>\n",
       "      <td>3.443354</td>\n",
       "      <td>0.771053</td>\n",
       "      <td>29.818922</td>\n",
       "      <td>1424.76920</td>\n",
       "      <td>174.244190</td>\n",
       "    </tr>\n",
       "  </tbody>\n",
       "</table>\n",
       "<p>8806 rows × 16 columns</p>\n",
       "</div>"
      ],
      "text/plain": [
       "      EventWeight  label     m_FJpt   m_FJeta   m_FJphi      m_FJm     m_DTpt  \\\n",
       "0        0.001020      1  885.55927  0.104927 -2.448576  127604.30  623.22710   \n",
       "1        0.001117      1  855.69904  0.313113 -1.859287  122862.90  449.37933   \n",
       "2        0.000925      1  552.47845 -0.702952 -2.549875  109091.67  631.70496   \n",
       "3        0.001158      1  525.10590 -0.941433 -1.130162   82382.28  416.48105   \n",
       "4        0.001120      1  916.44147 -0.683193  1.804695  115936.01  677.16440   \n",
       "...           ...    ...        ...       ...       ...        ...        ...   \n",
       "8801     0.006433      0  402.06714  0.109710 -1.277847   68576.34  486.71262   \n",
       "8802     0.004849      0  542.29900  1.579771 -2.624035   84161.26  411.07132   \n",
       "8803     0.004849      0  548.63104 -0.033452  2.621298   79095.04  416.03915   \n",
       "8804     0.007816      0  683.98340 -0.029910 -0.760806  110728.80  609.47140   \n",
       "8805     0.004849      0  533.04846  0.334293  1.772496  172521.42  414.05844   \n",
       "\n",
       "       m_DTeta   m_DTphi       m_DTm  m_dPhiFTwDT  m_dRFJwDT  m_dPhiDTwMET  \\\n",
       "0    -0.731510  0.656939   85368.720     3.105514   3.216185     -0.192894   \n",
       "1    -0.306591  0.920655   55754.656     2.779941   2.848176     -0.019178   \n",
       "2     1.020756  0.610602   76213.550     3.122708   3.566858     -0.742126   \n",
       "3     0.103909  1.981465   58332.793     3.111627   3.282524     -0.130256   \n",
       "4    -0.495132 -1.274429   94135.960     3.079124   3.084862      0.416606   \n",
       "...        ...       ...         ...          ...        ...           ...   \n",
       "8801 -0.060529  1.469456  120999.410     2.747302   2.752572     -0.883233   \n",
       "8802  1.205967  0.438185   56194.777     3.062220   3.084951     -0.216563   \n",
       "8803  0.336025 -0.553298   70408.830     3.108589   3.130470     -0.352454   \n",
       "8804  0.094448  2.401307  148632.220     3.121072   3.123549      0.351719   \n",
       "8805 -1.568559 -1.097320   74110.530     2.869815   3.443354      0.771053   \n",
       "\n",
       "           m_MET       m_hhm    m_bbttpt  \n",
       "0     237.887240  1631.67020  263.697630  \n",
       "1     485.033330  1293.40280  463.512360  \n",
       "2     104.559220  1659.84830   80.008150  \n",
       "3     166.607220  1075.30920  109.524925  \n",
       "4     167.350300  1595.76110  244.283460  \n",
       "...          ...         ...         ...  \n",
       "8801   84.210686   891.92240  192.862270  \n",
       "8802   59.169407   970.41110  136.471160  \n",
       "8803   34.371227   983.20233  133.526060  \n",
       "8804   55.616740  1320.47700   75.680750  \n",
       "8805   29.818922  1424.76920  174.244190  \n",
       "\n",
       "[8806 rows x 16 columns]"
      ]
     },
     "execution_count": 5,
     "metadata": {},
     "output_type": "execute_result"
    }
   ],
   "source": [
    "df"
   ]
  },
  {
   "cell_type": "code",
   "execution_count": 6,
   "metadata": {},
   "outputs": [
    {
     "name": "stdout",
     "output_type": "stream",
     "text": [
      "14\n"
     ]
    }
   ],
   "source": [
    "n_input = sets[\"x\"][\"train\"].shape[1]\n",
    "print(n_input)"
   ]
  },
  {
   "cell_type": "code",
   "execution_count": 7,
   "metadata": {},
   "outputs": [],
   "source": [
    "from tensorflow import convert_to_tensor, constant, clip_by_value, math\n",
    "from tensorflow.keras.backend import mean, epsilon\n",
    "from tensorflow import nn\n",
    "\n",
    "def get_focal_loss(target, output, alpha, gamma):\n",
    "    epsilon_ = constant(epsilon(), output.dtype.base_dtype)\n",
    "    output = clip_by_value(output, epsilon_, 1. - epsilon_)\n",
    "\n",
    "    bce = target * math.log(output + epsilon()) * (1 - output)**gamma\n",
    "    bce += (1 - target) * math.log(1 - output + epsilon()) * (output)**gamma\n",
    "    return -alpha * bce\n",
    "\n",
    "def focal_loss(alpha, gamma):\n",
    "\n",
    "    def focal_loss_aux(y_true, y_pred):\n",
    "        return mean(get_focal_loss(y_true, y_pred, alpha, gamma), axis=-1)\n",
    "        \n",
    "    return focal_loss_aux\n",
    "\n",
    "\n",
    "\n"
   ]
  },
  {
   "cell_type": "code",
   "execution_count": 23,
   "metadata": {},
   "outputs": [],
   "source": [
    "output_bias = np.log([pos/neg])\n",
    "output_bias = initializers.Constant(output_bias)"
   ]
  },
  {
   "cell_type": "code",
   "execution_count": 86,
   "metadata": {},
   "outputs": [],
   "source": [
    "model = Sequential()\n",
    "model.add(Dense(32, input_dim = n_input, kernel_initializer='uniform',activation='softplus'))\n",
    "model.add(Dropout(rate=0.2))\n",
    "model.add(Dense(64, kernel_initializer='he_uniform', activation='softplus'))\n",
    "model.add(Dropout(rate=0.2))\n",
    "model.add(Dense(128, kernel_initializer='he_uniform', activation='softplus'))\n",
    "model.add(Dropout(rate=0.2))\n",
    "#model.add(Dense(256, kernel_initializer='he_uniform', activation='softplus'))\n",
    "#model.add(Dropout(rate=0.2))\n",
    "#model.add(Dense(128, kernel_initializer='he_uniform', activation='softplus'))\n",
    "#model.add(Dropout(rate=0.2))\n",
    "#model.add(Dense(64, kernel_initializer='he_uniform', activation='softplus'))\n",
    "#model.add(Dropout(rate=0.2))\n",
    "model.add(Dense(32, kernel_initializer='he_uniform', activation='softplus'))\n",
    "model.add(Dropout(rate=0.2))\n",
    "model.add(Dense(1, kernel_initializer='he_uniform', activation='sigmoid',bias_initializer=output_bias))\n",
    "model.compile(optimizer=adagrad(lr=0.05), loss = focal_loss(1,2))\n",
    "#model.compile(optimizer=optmizers.RMSProp(lr=0.01), loss = focal_loss(1,2))\n",
    "\n"
   ]
  },
  {
   "cell_type": "code",
   "execution_count": 87,
   "metadata": {},
   "outputs": [
    {
     "name": "stdout",
     "output_type": "stream",
     "text": [
      "Train on 4226 samples, validate on 1057 samples\n",
      "Epoch 1/20\n",
      "4226/4226 [==============================] - 2s 566us/step - loss: 1.4597 - val_loss: 0.0411\n",
      "Epoch 2/20\n",
      "4226/4226 [==============================] - 0s 116us/step - loss: 0.0414 - val_loss: 0.0281\n",
      "Epoch 3/20\n",
      "4226/4226 [==============================] - 1s 136us/step - loss: 0.0345 - val_loss: 0.0209\n",
      "Epoch 4/20\n",
      "4226/4226 [==============================] - 0s 110us/step - loss: 0.0349 - val_loss: 0.0239\n",
      "Epoch 5/20\n",
      "4226/4226 [==============================] - 0s 70us/step - loss: 0.0299 - val_loss: 0.0186\n",
      "Epoch 6/20\n",
      "4226/4226 [==============================] - 0s 77us/step - loss: 0.0277 - val_loss: 0.0180\n",
      "Epoch 7/20\n",
      "4226/4226 [==============================] - 0s 80us/step - loss: 0.0257 - val_loss: 0.0150\n",
      "Epoch 8/20\n",
      "4226/4226 [==============================] - 0s 109us/step - loss: 0.0282 - val_loss: 0.0145\n",
      "Epoch 9/20\n",
      "4226/4226 [==============================] - 0s 84us/step - loss: 0.0235 - val_loss: 0.0154\n",
      "Epoch 10/20\n",
      "4226/4226 [==============================] - 0s 75us/step - loss: 0.0231 - val_loss: 0.0137\n",
      "Epoch 11/20\n",
      "4226/4226 [==============================] - 0s 78us/step - loss: 0.0253 - val_loss: 0.0142\n",
      "Epoch 12/20\n",
      "4226/4226 [==============================] - 0s 102us/step - loss: 0.0240 - val_loss: 0.0124\n",
      "Epoch 13/20\n",
      "4226/4226 [==============================] - 0s 96us/step - loss: 0.0234 - val_loss: 0.0127\n",
      "Epoch 14/20\n",
      "4226/4226 [==============================] - 0s 88us/step - loss: 0.0234 - val_loss: 0.0170\n",
      "Epoch 15/20\n",
      "4226/4226 [==============================] - 0s 76us/step - loss: 0.0232 - val_loss: 0.0142\n",
      "Epoch 16/20\n",
      "4226/4226 [==============================] - 0s 77us/step - loss: 0.0226 - val_loss: 0.0199\n",
      "Epoch 17/20\n",
      "4226/4226 [==============================] - 0s 109us/step - loss: 0.0233 - val_loss: 0.0120\n",
      "Epoch 18/20\n",
      "4226/4226 [==============================] - 1s 124us/step - loss: 0.0221 - val_loss: 0.0190\n",
      "Epoch 19/20\n",
      "4226/4226 [==============================] - 1s 146us/step - loss: 0.0233 - val_loss: 0.0149\n",
      "Epoch 20/20\n",
      "4226/4226 [==============================] - 0s 104us/step - loss: 0.0217 - val_loss: 0.0131\n"
     ]
    }
   ],
   "source": [
    "history  =model.fit(sets[\"x\"][\"train\"], sets[\"y\"][\"train\"],batch_size = 200, \n",
    "                    epochs = 20, class_weight=sets[\"w\"][\"train\"], validation_split=0.2)"
   ]
  },
  {
   "cell_type": "code",
   "execution_count": 66,
   "metadata": {},
   "outputs": [
    {
     "data": {
      "text/plain": [
       "dict_keys(['val_loss', 'loss'])"
      ]
     },
     "execution_count": 66,
     "metadata": {},
     "output_type": "execute_result"
    }
   ],
   "source": [
    "history.history.keys()"
   ]
  },
  {
   "cell_type": "code",
   "execution_count": 67,
   "metadata": {},
   "outputs": [
    {
     "data": {
      "image/png": "[encoded data removed]",
      "text/plain": [
       "<Figure size 432x288 with 1 Axes>"
      ]
     },
     "metadata": {
      "needs_background": "light"
     },
     "output_type": "display_data"
    }
   ],
   "source": [
    "plt.figure()\n",
    "plt.plot(history.history[\"loss\"])\n",
    "plt.plot(history.history[\"val_loss\"])\n",
    "plt.show()"
   ]
  },
  {
   "cell_type": "code",
   "execution_count": 68,
   "metadata": {},
   "outputs": [
    {
     "data": {
      "image/png": "[encoded data removed]",
      "text/plain": [
       "<Figure size 432x288 with 1 Axes>"
      ]
     },
     "metadata": {
      "needs_background": "light"
     },
     "output_type": "display_data"
    }
   ],
   "source": [
    "plt.figure()\n",
    "plt.plot(history.history[\"loss\"][1:-1])\n",
    "plt.plot(history.history[\"val_loss\"][1:-1])\n",
    "plt.show()"
   ]
  },
  {
   "cell_type": "code",
   "execution_count": 69,
   "metadata": {},
   "outputs": [],
   "source": [
    "x_train = sets[\"x\"][\"train\"]\n",
    "y_train = sets[\"y\"][\"train\"]\n",
    "w_train = sets[\"w\"][\"train\"]\n",
    "x_val = sets[\"x\"][\"val\"]\n",
    "y_val = sets[\"y\"][\"val\"]\n",
    "w_val = sets[\"w\"][\"val\"]\n",
    "\n",
    "x_test = sets[\"x\"][\"test\"]\n",
    "y_test = sets[\"y\"][\"test\"]\n",
    "w_test = sets[\"w\"][\"test\"]"
   ]
  },
  {
   "cell_type": "code",
   "execution_count": 70,
   "metadata": {},
   "outputs": [],
   "source": [
    "from sklearn.metrics import confusion_matrix, accuracy_score, precision_score, recall_score, f1_score, classification_report"
   ]
  },
  {
   "cell_type": "code",
   "execution_count": 71,
   "metadata": {},
   "outputs": [
    {
     "name": "stdout",
     "output_type": "stream",
     "text": [
      "0.9829642248722317 0.9836632711896982 0.9990240093695101 0.9912841371295759\n"
     ]
    }
   ],
   "source": [
    "th = 0.5\n",
    "y_pred_train = model.predict(x_train)\n",
    "y_pred_train = (y_pred_train > th).astype(int)\n",
    "\n",
    "acc= accuracy_score(y_train, y_pred_train)\n",
    "prec = precision_score(y_train, y_pred_train)\n",
    "rec = recall_score(y_train, y_pred_train)\n",
    "f1 = f1_score(y_train, y_pred_train)\n",
    "print(acc, prec, rec, f1)"
   ]
  },
  {
   "cell_type": "code",
   "execution_count": 72,
   "metadata": {},
   "outputs": [
    {
     "name": "stdout",
     "output_type": "stream",
     "text": [
      "0.9824063564131669 0.9844738355376653 0.9976689976689976 0.991027496382055\n"
     ]
    }
   ],
   "source": [
    "y_pred_test = model.predict(x_test)\n",
    "y_pred_test = (y_pred_test> th).astype(int)\n",
    "\n",
    "acc= accuracy_score(y_test, y_pred_test)\n",
    "prec = precision_score(y_test, y_pred_test)\n",
    "rec = recall_score(y_test, y_pred_test)\n",
    "f1 = f1_score(y_test, y_pred_test)\n",
    "print(acc, prec, rec, f1)"
   ]
  },
  {
   "cell_type": "code",
   "execution_count": 73,
   "metadata": {},
   "outputs": [
    {
     "name": "stdout",
     "output_type": "stream",
     "text": [
      "0.9880749574105622 0.9885057471264368 0.999418942475305 0.9939323894828084\n"
     ]
    }
   ],
   "source": [
    "y_pred_val = model.predict(x_val)\n",
    "y_pred_val = (y_pred_val > th).astype(int)\n",
    "\n",
    "\n",
    "\n",
    "acc= accuracy_score(y_val, y_pred_val)\n",
    "prec = precision_score(y_val, y_pred_val)\n",
    "rec = recall_score(y_val, y_pred_val)\n",
    "f1 = f1_score(y_val, y_pred_val)\n",
    "print(acc, prec, rec, f1)"
   ]
  },
  {
   "cell_type": "code",
   "execution_count": 74,
   "metadata": {},
   "outputs": [
    {
     "name": "stdout",
     "output_type": "stream",
     "text": [
      "------- train\n",
      "5123 (5283, 1) 160\n",
      "[[  75   85]\n",
      " [   5 5118]]\n",
      "0.9829642248722317 0.9836632711896982 0.9990240093695101\n",
      "------- val\n",
      "1721 (1761, 1) 40\n",
      "[[  20   20]\n",
      " [   1 1720]]\n",
      "0.9880749574105622 0.9885057471264368 0.999418942475305\n",
      "------- test\n",
      "1716 (1762, 1) 46\n",
      "[[  19   27]\n",
      " [   4 1712]]\n",
      "0.9824063564131669 0.9844738355376653 0.9976689976689976\n"
     ]
    }
   ],
   "source": [
    "for key in sets[\"y\"].keys():\n",
    "    print(\"-------\", key)\n",
    "    print(sets[\"y\"][key].sum(),sets[\"y\"][key].shape,sets[\"y\"][key].shape[0]- sets[\"y\"][key].sum())\n",
    "    pred = model.predict(sets[\"x\"][key])\n",
    "    pred = (pred > th).astype(int)\n",
    "\n",
    "\n",
    "    cm1= confusion_matrix(sets[\"y\"][key], pred)\n",
    "    acc = accuracy_score(sets[\"y\"][key], pred)\n",
    "    prec = precision_score(sets[\"y\"][key], pred)\n",
    "    rec = recall_score(sets[\"y\"][key], pred)\n",
    "    print(cm1)\n",
    "    print(acc, prec, rec)"
   ]
  },
  {
   "cell_type": "code",
   "execution_count": null,
   "metadata": {},
   "outputs": [],
   "source": []
  }
 ],
 "metadata": {
  "kernelspec": {
   "display_name": "Python 3",
   "language": "python",
   "name": "python3"
  },
  "language_info": {
   "codemirror_mode": {
    "name": "ipython",
    "version": 3
   },
   "file_extension": ".py",
   "mimetype": "text/x-python",
   "name": "python",
   "nbconvert_exporter": "python",
   "pygments_lexer": "ipython3",
   "version": "3.7.3"
  }
 },
 "nbformat": 4,
 "nbformat_minor": 2
}
