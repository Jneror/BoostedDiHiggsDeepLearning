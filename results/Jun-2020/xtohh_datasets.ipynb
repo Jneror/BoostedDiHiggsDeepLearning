{
 "cells": [
  {
   "cell_type": "markdown",
   "metadata": {},
   "source": [
    "# Xtohh datasets\n",
    "John Ignacio R.M. Jun 2020\n",
    "\n",
    "Notebook to generate csv's for the Xtohh signal, storing both signal and background in separate csv's."
   ]
  },
  {
   "cell_type": "code",
   "execution_count": 12,
   "metadata": {
    "tags": []
   },
   "outputs": [],
   "source": [
    "ada_parent_dir = \"../\"\n",
    "import sys\n",
    "sys.path.append(ada_parent_dir)\n",
    "from ada import gen_signal_datasets, read_dataset, split_dataset\n",
    "\n",
    "from glob import glob\n",
    "import pandas as pd"
   ]
  },
  {
   "cell_type": "markdown",
   "metadata": {},
   "source": [
    "## Generate Xtohh datasets"
   ]
  },
  {
   "cell_type": "code",
   "execution_count": 2,
   "metadata": {},
   "outputs": [],
   "source": [
    "source_path = \"../../raw_data\"\n",
    "dest_path = \"../../processed_data/xtohh\"\n",
    "signal = \"Xtohh\""
   ]
  },
  {
   "cell_type": "code",
   "execution_count": 3,
   "metadata": {
    "tags": []
   },
   "outputs": [
    {
     "output_type": "stream",
     "name": "stdout",
     "text": "ReadStreamerInfo, class:string, illegal uid=-2\nReadStreamerInfo, class:string, illegal uid=-2\nReadStreamerInfo, class:string, illegal uid=-2\nReadStreamerInfo, class:string, illegal uid=-2\nReadStreamerInfo, class:string, illegal uid=-2\nReadStreamerInfo, class:string, illegal uid=-2\nReadStreamerInfo, class:string, illegal uid=-2\nReadStreamerInfo, class:string, illegal uid=-2\nReadStreamerInfo, class:string, illegal uid=-2\nReadStreamerInfo, class:string, illegal uid=-2\nReadStreamerInfo, class:string, illegal uid=-2\nReadStreamerInfo, class:string, illegal uid=-2\nReadStreamerInfo, class:string, illegal uid=-2\nReadStreamerInfo, class:string, illegal uid=-2\nReadStreamerInfo, class:string, illegal uid=-2\nReadStreamerInfo, class:string, illegal uid=-2\nReadStreamerInfo, class:string, illegal uid=-2\n"
    }
   ],
   "source": [
    "#function from ada to generate csv datasets\n",
    "gen_signal_datasets(signal, source_path, dest_path)"
   ]
  },
  {
   "cell_type": "markdown",
   "metadata": {},
   "source": [
    "## How to use this sets"
   ]
  },
  {
   "cell_type": "code",
   "execution_count": 9,
   "metadata": {},
   "outputs": [],
   "source": [
    "signal = \"Xtohh2000\"\n",
    "bg = \"Xtohh_background\"\n",
    "source_path = \"../../processed_data/xtohh\"\n",
    "region = \"SR\"\n",
    "tag = 2\n",
    "seed = 420\n",
    "train_size = 0.6\n",
    "val_size = 0.2\n",
    "test_size = 0.2"
   ]
  },
  {
   "cell_type": "code",
   "execution_count": 10,
   "metadata": {},
   "outputs": [],
   "source": [
    "#read xtohh datasets generated earlier, with the read_dataset from the ada library\n",
    "df = read_dataset(source_path, signal, bg, region, tag)"
   ]
  },
  {
   "cell_type": "code",
   "execution_count": 14,
   "metadata": {},
   "outputs": [
    {
     "output_type": "display_data",
     "data": {
      "text/plain": "      EventWeight  label     m_FJpt   m_FJeta   m_FJphi      m_FJm     m_DTpt  \\\n0        0.001020      1  885.55927  0.104927 -2.448576  127604.30  623.22710   \n1        0.001117      1  855.69904  0.313113 -1.859287  122862.90  449.37933   \n2        0.000925      1  552.47845 -0.702952 -2.549875  109091.67  631.70496   \n3        0.001158      1  525.10590 -0.941433 -1.130162   82382.28  416.48105   \n4        0.001120      1  916.44147 -0.683193  1.804695  115936.01  677.16440   \n...           ...    ...        ...       ...       ...        ...        ...   \n8801     0.006433      0  402.06714  0.109710 -1.277847   68576.34  486.71262   \n8802     0.004849      0  542.29900  1.579771 -2.624035   84161.26  411.07132   \n8803     0.004849      0  548.63104 -0.033452  2.621298   79095.04  416.03915   \n8804     0.007816      0  683.98340 -0.029910 -0.760806  110728.80  609.47140   \n8805     0.004849      0  533.04846  0.334293  1.772496  172521.42  414.05844   \n\n       m_DTeta   m_DTphi       m_DTm  m_dPhiFTwDT  m_dRFJwDT  m_dPhiDTwMET  \\\n0    -0.731510  0.656939   85368.720     3.105514   3.216185     -0.192894   \n1    -0.306591  0.920655   55754.656     2.779941   2.848176     -0.019178   \n2     1.020756  0.610602   76213.550     3.122708   3.566858     -0.742126   \n3     0.103909  1.981465   58332.793     3.111627   3.282524     -0.130256   \n4    -0.495132 -1.274429   94135.960     3.079124   3.084862      0.416606   \n...        ...       ...         ...          ...        ...           ...   \n8801 -0.060529  1.469456  120999.410     2.747302   2.752572     -0.883233   \n8802  1.205967  0.438185   56194.777     3.062220   3.084951     -0.216563   \n8803  0.336025 -0.553298   70408.830     3.108589   3.130470     -0.352454   \n8804  0.094448  2.401307  148632.220     3.121072   3.123549      0.351719   \n8805 -1.568559 -1.097320   74110.530     2.869815   3.443354      0.771053   \n\n           m_MET       m_hhm    m_bbttpt  \n0     237.887240  1631.67020  263.697630  \n1     485.033330  1293.40280  463.512360  \n2     104.559220  1659.84830   80.008150  \n3     166.607220  1075.30920  109.524925  \n4     167.350300  1595.76110  244.283460  \n...          ...         ...         ...  \n8801   84.210686   891.92240  192.862270  \n8802   59.169407   970.41110  136.471160  \n8803   34.371227   983.20233  133.526060  \n8804   55.616740  1320.47700   75.680750  \n8805   29.818922  1424.76920  174.244190  \n\n[8806 rows x 16 columns]",
      "text/html": "<div>\n<style scoped>\n    .dataframe tbody tr th:only-of-type {\n        vertical-align: middle;\n    }\n\n    .dataframe tbody tr th {\n        vertical-align: top;\n    }\n\n    .dataframe thead th {\n        text-align: right;\n    }\n</style>\n<table border=\"1\" class=\"dataframe\">\n  <thead>\n    <tr style=\"text-align: right;\">\n      <th></th>\n      <th>EventWeight</th>\n      <th>label</th>\n      <th>m_FJpt</th>\n      <th>m_FJeta</th>\n      <th>m_FJphi</th>\n      <th>m_FJm</th>\n      <th>m_DTpt</th>\n      <th>m_DTeta</th>\n      <th>m_DTphi</th>\n      <th>m_DTm</th>\n      <th>m_dPhiFTwDT</th>\n      <th>m_dRFJwDT</th>\n      <th>m_dPhiDTwMET</th>\n      <th>m_MET</th>\n      <th>m_hhm</th>\n      <th>m_bbttpt</th>\n    </tr>\n  </thead>\n  <tbody>\n    <tr>\n      <th>0</th>\n      <td>0.001020</td>\n      <td>1</td>\n      <td>885.55927</td>\n      <td>0.104927</td>\n      <td>-2.448576</td>\n      <td>127604.30</td>\n      <td>623.22710</td>\n      <td>-0.731510</td>\n      <td>0.656939</td>\n      <td>85368.720</td>\n      <td>3.105514</td>\n      <td>3.216185</td>\n      <td>-0.192894</td>\n      <td>237.887240</td>\n      <td>1631.67020</td>\n      <td>263.697630</td>\n    </tr>\n    <tr>\n      <th>1</th>\n      <td>0.001117</td>\n      <td>1</td>\n      <td>855.69904</td>\n      <td>0.313113</td>\n      <td>-1.859287</td>\n      <td>122862.90</td>\n      <td>449.37933</td>\n      <td>-0.306591</td>\n      <td>0.920655</td>\n      <td>55754.656</td>\n      <td>2.779941</td>\n      <td>2.848176</td>\n      <td>-0.019178</td>\n      <td>485.033330</td>\n      <td>1293.40280</td>\n      <td>463.512360</td>\n    </tr>\n    <tr>\n      <th>2</th>\n      <td>0.000925</td>\n      <td>1</td>\n      <td>552.47845</td>\n      <td>-0.702952</td>\n      <td>-2.549875</td>\n      <td>109091.67</td>\n      <td>631.70496</td>\n      <td>1.020756</td>\n      <td>0.610602</td>\n      <td>76213.550</td>\n      <td>3.122708</td>\n      <td>3.566858</td>\n      <td>-0.742126</td>\n      <td>104.559220</td>\n      <td>1659.84830</td>\n      <td>80.008150</td>\n    </tr>\n    <tr>\n      <th>3</th>\n      <td>0.001158</td>\n      <td>1</td>\n      <td>525.10590</td>\n      <td>-0.941433</td>\n      <td>-1.130162</td>\n      <td>82382.28</td>\n      <td>416.48105</td>\n      <td>0.103909</td>\n      <td>1.981465</td>\n      <td>58332.793</td>\n      <td>3.111627</td>\n      <td>3.282524</td>\n      <td>-0.130256</td>\n      <td>166.607220</td>\n      <td>1075.30920</td>\n      <td>109.524925</td>\n    </tr>\n    <tr>\n      <th>4</th>\n      <td>0.001120</td>\n      <td>1</td>\n      <td>916.44147</td>\n      <td>-0.683193</td>\n      <td>1.804695</td>\n      <td>115936.01</td>\n      <td>677.16440</td>\n      <td>-0.495132</td>\n      <td>-1.274429</td>\n      <td>94135.960</td>\n      <td>3.079124</td>\n      <td>3.084862</td>\n      <td>0.416606</td>\n      <td>167.350300</td>\n      <td>1595.76110</td>\n      <td>244.283460</td>\n    </tr>\n    <tr>\n      <th>...</th>\n      <td>...</td>\n      <td>...</td>\n      <td>...</td>\n      <td>...</td>\n      <td>...</td>\n      <td>...</td>\n      <td>...</td>\n      <td>...</td>\n      <td>...</td>\n      <td>...</td>\n      <td>...</td>\n      <td>...</td>\n      <td>...</td>\n      <td>...</td>\n      <td>...</td>\n      <td>...</td>\n    </tr>\n    <tr>\n      <th>8801</th>\n      <td>0.006433</td>\n      <td>0</td>\n      <td>402.06714</td>\n      <td>0.109710</td>\n      <td>-1.277847</td>\n      <td>68576.34</td>\n      <td>486.71262</td>\n      <td>-0.060529</td>\n      <td>1.469456</td>\n      <td>120999.410</td>\n      <td>2.747302</td>\n      <td>2.752572</td>\n      <td>-0.883233</td>\n      <td>84.210686</td>\n      <td>891.92240</td>\n      <td>192.862270</td>\n    </tr>\n    <tr>\n      <th>8802</th>\n      <td>0.004849</td>\n      <td>0</td>\n      <td>542.29900</td>\n      <td>1.579771</td>\n      <td>-2.624035</td>\n      <td>84161.26</td>\n      <td>411.07132</td>\n      <td>1.205967</td>\n      <td>0.438185</td>\n      <td>56194.777</td>\n      <td>3.062220</td>\n      <td>3.084951</td>\n      <td>-0.216563</td>\n      <td>59.169407</td>\n      <td>970.41110</td>\n      <td>136.471160</td>\n    </tr>\n    <tr>\n      <th>8803</th>\n      <td>0.004849</td>\n      <td>0</td>\n      <td>548.63104</td>\n      <td>-0.033452</td>\n      <td>2.621298</td>\n      <td>79095.04</td>\n      <td>416.03915</td>\n      <td>0.336025</td>\n      <td>-0.553298</td>\n      <td>70408.830</td>\n      <td>3.108589</td>\n      <td>3.130470</td>\n      <td>-0.352454</td>\n      <td>34.371227</td>\n      <td>983.20233</td>\n      <td>133.526060</td>\n    </tr>\n    <tr>\n      <th>8804</th>\n      <td>0.007816</td>\n      <td>0</td>\n      <td>683.98340</td>\n      <td>-0.029910</td>\n      <td>-0.760806</td>\n      <td>110728.80</td>\n      <td>609.47140</td>\n      <td>0.094448</td>\n      <td>2.401307</td>\n      <td>148632.220</td>\n      <td>3.121072</td>\n      <td>3.123549</td>\n      <td>0.351719</td>\n      <td>55.616740</td>\n      <td>1320.47700</td>\n      <td>75.680750</td>\n    </tr>\n    <tr>\n      <th>8805</th>\n      <td>0.004849</td>\n      <td>0</td>\n      <td>533.04846</td>\n      <td>0.334293</td>\n      <td>1.772496</td>\n      <td>172521.42</td>\n      <td>414.05844</td>\n      <td>-1.568559</td>\n      <td>-1.097320</td>\n      <td>74110.530</td>\n      <td>2.869815</td>\n      <td>3.443354</td>\n      <td>0.771053</td>\n      <td>29.818922</td>\n      <td>1424.76920</td>\n      <td>174.244190</td>\n    </tr>\n  </tbody>\n</table>\n<p>8806 rows × 16 columns</p>\n</div>"
     },
     "metadata": {}
    }
   ],
   "source": [
    "display(df)"
   ]
  },
  {
   "cell_type": "code",
   "execution_count": 13,
   "metadata": {},
   "outputs": [],
   "source": [
    "#split the datasets into train, val, test sets for training\n",
    "sets = split_dataset(df, train_size, val_size, test_size, seed)"
   ]
  },
  {
   "cell_type": "code",
   "execution_count": 15,
   "metadata": {},
   "outputs": [
    {
     "output_type": "display_data",
     "data": {
      "text/plain": "        m_FJpt   m_FJeta   m_FJphi     m_FJm    m_DTpt   m_DTeta   m_DTphi  \\\n0     0.130367  0.444366 -0.742402 -1.667881 -0.481700 -0.821738  0.986630   \n1    -0.154324 -0.757036 -1.493544 -0.589215  0.568245 -0.957618  0.263328   \n2     0.909062 -0.559545 -1.666243  1.438288  0.033011  0.764030  0.097340   \n3     0.198608 -0.114302  1.325361  0.481073  0.195452 -1.168931 -0.468388   \n4     0.395712 -0.212834 -1.236288 -0.036609 -0.663686  0.235153  0.669041   \n...        ...       ...       ...       ...       ...       ...       ...   \n5278  1.006586 -1.203436  1.147857  0.296199  1.519482 -1.396847 -0.717064   \n5279  0.253378 -0.715191 -1.411146  0.170946 -1.587858  0.634470  0.309185   \n5280  1.116477 -0.891618  1.407078  0.634957  0.027375 -0.174677 -0.310801   \n5281  2.507211 -0.224940 -0.344746  2.868119  1.793621  0.556566  1.447281   \n5282  0.380785  0.754449 -1.534583 -0.044316 -0.510736 -0.227782  0.326142   \n\n         m_DTm  m_dPhiFTwDT  m_dRFJwDT  m_dPhiDTwMET     m_MET     m_hhm  \\\n0    -0.707962     0.286199  -0.060604     -0.308809  1.122165 -0.536045   \n1    -0.190632     0.639077  -0.390635     -0.565153 -0.441870 -0.438832   \n2    -0.283146     0.723747   0.299002      0.002110  0.820174  0.623691   \n3    -0.280492    -0.281793  -0.609963      0.190788  1.189810 -0.078685   \n4    -0.908677    -0.627592  -1.114341      0.051936  1.887263 -1.088247   \n...        ...          ...        ...           ...       ...       ...   \n5278  0.889192    -1.087038  -1.490045      0.650951  0.020919  0.920436   \n5279 -0.954919     0.217630   0.029663     -0.824980  1.388334 -1.497685   \n5280 -0.717282     0.581552  -0.208877     -0.380010  1.149826  0.147164   \n5281  0.089437     0.708526  -0.124289      0.312249  0.913922  2.569620   \n5282 -1.147674    -0.131569  -0.518063      0.110734  1.402074 -0.632428   \n\n      m_bbttpt  \n0     0.343074  \n1    -0.838744  \n2     0.595543  \n3    -0.048231  \n4     0.856897  \n...        ...  \n5278  0.139965  \n5279  1.398417  \n5280  0.796604  \n5281  0.556335  \n5282  0.642768  \n\n[5283 rows x 14 columns]",
      "text/html": "<div>\n<style scoped>\n    .dataframe tbody tr th:only-of-type {\n        vertical-align: middle;\n    }\n\n    .dataframe tbody tr th {\n        vertical-align: top;\n    }\n\n    .dataframe thead th {\n        text-align: right;\n    }\n</style>\n<table border=\"1\" class=\"dataframe\">\n  <thead>\n    <tr style=\"text-align: right;\">\n      <th></th>\n      <th>m_FJpt</th>\n      <th>m_FJeta</th>\n      <th>m_FJphi</th>\n      <th>m_FJm</th>\n      <th>m_DTpt</th>\n      <th>m_DTeta</th>\n      <th>m_DTphi</th>\n      <th>m_DTm</th>\n      <th>m_dPhiFTwDT</th>\n      <th>m_dRFJwDT</th>\n      <th>m_dPhiDTwMET</th>\n      <th>m_MET</th>\n      <th>m_hhm</th>\n      <th>m_bbttpt</th>\n    </tr>\n  </thead>\n  <tbody>\n    <tr>\n      <th>0</th>\n      <td>0.130367</td>\n      <td>0.444366</td>\n      <td>-0.742402</td>\n      <td>-1.667881</td>\n      <td>-0.481700</td>\n      <td>-0.821738</td>\n      <td>0.986630</td>\n      <td>-0.707962</td>\n      <td>0.286199</td>\n      <td>-0.060604</td>\n      <td>-0.308809</td>\n      <td>1.122165</td>\n      <td>-0.536045</td>\n      <td>0.343074</td>\n    </tr>\n    <tr>\n      <th>1</th>\n      <td>-0.154324</td>\n      <td>-0.757036</td>\n      <td>-1.493544</td>\n      <td>-0.589215</td>\n      <td>0.568245</td>\n      <td>-0.957618</td>\n      <td>0.263328</td>\n      <td>-0.190632</td>\n      <td>0.639077</td>\n      <td>-0.390635</td>\n      <td>-0.565153</td>\n      <td>-0.441870</td>\n      <td>-0.438832</td>\n      <td>-0.838744</td>\n    </tr>\n    <tr>\n      <th>2</th>\n      <td>0.909062</td>\n      <td>-0.559545</td>\n      <td>-1.666243</td>\n      <td>1.438288</td>\n      <td>0.033011</td>\n      <td>0.764030</td>\n      <td>0.097340</td>\n      <td>-0.283146</td>\n      <td>0.723747</td>\n      <td>0.299002</td>\n      <td>0.002110</td>\n      <td>0.820174</td>\n      <td>0.623691</td>\n      <td>0.595543</td>\n    </tr>\n    <tr>\n      <th>3</th>\n      <td>0.198608</td>\n      <td>-0.114302</td>\n      <td>1.325361</td>\n      <td>0.481073</td>\n      <td>0.195452</td>\n      <td>-1.168931</td>\n      <td>-0.468388</td>\n      <td>-0.280492</td>\n      <td>-0.281793</td>\n      <td>-0.609963</td>\n      <td>0.190788</td>\n      <td>1.189810</td>\n      <td>-0.078685</td>\n      <td>-0.048231</td>\n    </tr>\n    <tr>\n      <th>4</th>\n      <td>0.395712</td>\n      <td>-0.212834</td>\n      <td>-1.236288</td>\n      <td>-0.036609</td>\n      <td>-0.663686</td>\n      <td>0.235153</td>\n      <td>0.669041</td>\n      <td>-0.908677</td>\n      <td>-0.627592</td>\n      <td>-1.114341</td>\n      <td>0.051936</td>\n      <td>1.887263</td>\n      <td>-1.088247</td>\n      <td>0.856897</td>\n    </tr>\n    <tr>\n      <th>...</th>\n      <td>...</td>\n      <td>...</td>\n      <td>...</td>\n      <td>...</td>\n      <td>...</td>\n      <td>...</td>\n      <td>...</td>\n      <td>...</td>\n      <td>...</td>\n      <td>...</td>\n      <td>...</td>\n      <td>...</td>\n      <td>...</td>\n      <td>...</td>\n    </tr>\n    <tr>\n      <th>5278</th>\n      <td>1.006586</td>\n      <td>-1.203436</td>\n      <td>1.147857</td>\n      <td>0.296199</td>\n      <td>1.519482</td>\n      <td>-1.396847</td>\n      <td>-0.717064</td>\n      <td>0.889192</td>\n      <td>-1.087038</td>\n      <td>-1.490045</td>\n      <td>0.650951</td>\n      <td>0.020919</td>\n      <td>0.920436</td>\n      <td>0.139965</td>\n    </tr>\n    <tr>\n      <th>5279</th>\n      <td>0.253378</td>\n      <td>-0.715191</td>\n      <td>-1.411146</td>\n      <td>0.170946</td>\n      <td>-1.587858</td>\n      <td>0.634470</td>\n      <td>0.309185</td>\n      <td>-0.954919</td>\n      <td>0.217630</td>\n      <td>0.029663</td>\n      <td>-0.824980</td>\n      <td>1.388334</td>\n      <td>-1.497685</td>\n      <td>1.398417</td>\n    </tr>\n    <tr>\n      <th>5280</th>\n      <td>1.116477</td>\n      <td>-0.891618</td>\n      <td>1.407078</td>\n      <td>0.634957</td>\n      <td>0.027375</td>\n      <td>-0.174677</td>\n      <td>-0.310801</td>\n      <td>-0.717282</td>\n      <td>0.581552</td>\n      <td>-0.208877</td>\n      <td>-0.380010</td>\n      <td>1.149826</td>\n      <td>0.147164</td>\n      <td>0.796604</td>\n    </tr>\n    <tr>\n      <th>5281</th>\n      <td>2.507211</td>\n      <td>-0.224940</td>\n      <td>-0.344746</td>\n      <td>2.868119</td>\n      <td>1.793621</td>\n      <td>0.556566</td>\n      <td>1.447281</td>\n      <td>0.089437</td>\n      <td>0.708526</td>\n      <td>-0.124289</td>\n      <td>0.312249</td>\n      <td>0.913922</td>\n      <td>2.569620</td>\n      <td>0.556335</td>\n    </tr>\n    <tr>\n      <th>5282</th>\n      <td>0.380785</td>\n      <td>0.754449</td>\n      <td>-1.534583</td>\n      <td>-0.044316</td>\n      <td>-0.510736</td>\n      <td>-0.227782</td>\n      <td>0.326142</td>\n      <td>-1.147674</td>\n      <td>-0.131569</td>\n      <td>-0.518063</td>\n      <td>0.110734</td>\n      <td>1.402074</td>\n      <td>-0.632428</td>\n      <td>0.642768</td>\n    </tr>\n  </tbody>\n</table>\n<p>5283 rows × 14 columns</p>\n</div>"
     },
     "metadata": {}
    }
   ],
   "source": [
    "display(sets[\"x\"][\"train\"])"
   ]
  },
  {
   "cell_type": "code",
   "execution_count": null,
   "metadata": {},
   "outputs": [],
   "source": []
  }
 ],
 "metadata": {
  "language_info": {
   "codemirror_mode": {
    "name": "ipython",
    "version": 3
   },
   "file_extension": ".py",
   "mimetype": "text/x-python",
   "name": "python",
   "nbconvert_exporter": "python",
   "pygments_lexer": "ipython3",
   "version": "3.7.6-final"
  },
  "orig_nbformat": 2,
  "kernelspec": {
   "name": "python3",
   "display_name": "Python 3"
  }
 },
 "nbformat": 4,
 "nbformat_minor": 2
}