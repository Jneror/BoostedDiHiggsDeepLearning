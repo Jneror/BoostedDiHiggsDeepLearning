{
 "cells": [
  {
   "cell_type": "markdown",
   "metadata": {},
   "source": [
    "# Xtohh datasets\n",
    "John Ignacio R.M. Jun 2020\n",
    "\n",
    "Notebook to generate csv's for the Xtohh signal, storing both signal and background in separate csv's."
   ]
  },
  {
   "cell_type": "code",
   "execution_count": 1,
   "metadata": {
    "tags": []
   },
   "outputs": [
    {
     "output_type": "stream",
     "name": "stdout",
     "text": [
      "Welcome to JupyROOT 6.20/04\n",
      "Using TensorFlow backend.\n"
     ]
    }
   ],
   "source": [
    "ada_parent_dir = \"../\"\n",
    "import sys\n",
    "sys.path.append(ada_parent_dir)\n",
    "from ada import gen_signal_datasets, read_dataset, split_dataset\n",
    "\n",
    "from glob import glob\n",
    "import pandas as pd"
   ]
  },
  {
   "cell_type": "markdown",
   "metadata": {},
   "source": [
    "## Generate Xtohh datasets"
   ]
  },
  {
   "cell_type": "code",
   "execution_count": 2,
   "metadata": {},
   "outputs": [],
   "source": [
    "source_path = \"../../raw_data\"\n",
    "dest_path = \"../../processed_data/xtohhOct2020\"\n",
    "signal = \"Xtohh\""
   ]
  },
  {
   "cell_type": "code",
   "execution_count": 3,
   "metadata": {
    "tags": []
   },
   "outputs": [
    {
     "output_type": "stream",
     "name": "stdout",
     "text": [
      "ReadStreamerInfo, class:string, illegal uid=-2\nReadStreamerInfo, class:string, illegal uid=-2\nReadStreamerInfo, class:string, illegal uid=-2\nReadStreamerInfo, class:string, illegal uid=-2\nReadStreamerInfo, class:string, illegal uid=-2\nReadStreamerInfo, class:string, illegal uid=-2\nReadStreamerInfo, class:string, illegal uid=-2\nReadStreamerInfo, class:string, illegal uid=-2\nReadStreamerInfo, class:string, illegal uid=-2\nReadStreamerInfo, class:string, illegal uid=-2\nReadStreamerInfo, class:string, illegal uid=-2\nReadStreamerInfo, class:string, illegal uid=-2\nReadStreamerInfo, class:string, illegal uid=-2\nReadStreamerInfo, class:string, illegal uid=-2\nReadStreamerInfo, class:string, illegal uid=-2\nReadStreamerInfo, class:string, illegal uid=-2\nReadStreamerInfo, class:string, illegal uid=-2\n"
     ]
    }
   ],
   "source": [
    "#function from ada to generate csv datasets\n",
    "gen_signal_datasets(signal, source_path, dest_path)"
   ]
  },
  {
   "cell_type": "markdown",
   "metadata": {},
   "source": [
    "## How to use this sets"
   ]
  },
  {
   "cell_type": "code",
   "execution_count": 4,
   "metadata": {},
   "outputs": [],
   "source": [
    "signal = \"Xtohh2000\"\n",
    "bg = \"Xtohh_background\"\n",
    "source_path = \"../../processed_data/xtohh\"\n",
    "region = \"SR\"\n",
    "tag = 2\n",
    "seed = 420\n",
    "train_size = 0.6\n",
    "val_size = 0.2\n",
    "test_size = 0.2"
   ]
  },
  {
   "cell_type": "code",
   "execution_count": 5,
   "metadata": {},
   "outputs": [],
   "source": [
    "#read xtohh datasets generated earlier, with the read_dataset from the ada library\n",
    "df = read_dataset(source_path, signal, bg, region, tag)"
   ]
  },
  {
   "cell_type": "code",
   "execution_count": 6,
   "metadata": {},
   "outputs": [
    {
     "output_type": "display_data",
     "data": {
      "text/plain": "      EventWeight  label     m_FJpt   m_FJeta   m_FJphi      m_FJm     m_DTpt  \\\n0        0.001020      1  885.55927  0.104927 -2.448576  127604.30  623.22710   \n1        0.001117      1  855.69904  0.313113 -1.859287  122862.90  449.37933   \n2        0.000925      1  552.47845 -0.702952 -2.549875  109091.67  631.70496   \n3        0.001158      1  525.10590 -0.941433 -1.130162   82382.28  416.48105   \n4        0.001120      1  916.44147 -0.683193  1.804695  115936.01  677.16440   \n...           ...    ...        ...       ...       ...        ...        ...   \n8978     0.006433      0  402.06714  0.109710 -1.277847   68576.34  486.71262   \n8979     0.004849      0  542.29900  1.579771 -2.624035   84161.26  411.07132   \n8980     0.004849      0  548.63104 -0.033452  2.621298   79095.04  416.03915   \n8981     0.007816      0  683.98340 -0.029910 -0.760806  110728.80  609.47140   \n8982     0.004849      0  533.04846  0.334293  1.772496  172521.42  414.05844   \n\n       m_DTeta   m_DTphi       m_DTm  m_dPhiFTwDT  m_dRFJwDT  m_dPhiDTwMET  \\\n0    -0.731510  0.656939   85368.720     3.105514   3.216185     -0.192894   \n1    -0.306591  0.920655   55754.656     2.779941   2.848176     -0.019178   \n2     1.020756  0.610602   76213.550     3.122708   3.566858     -0.742126   \n3     0.103909  1.981465   58332.793     3.111627   3.282524     -0.130256   \n4    -0.495132 -1.274429   94135.960     3.079124   3.084862      0.416606   \n...        ...       ...         ...          ...        ...           ...   \n8978 -0.060529  1.469456  120999.410     2.747302   2.752572     -0.883233   \n8979  1.205967  0.438185   56194.777     3.062220   3.084951     -0.216563   \n8980  0.336025 -0.553298   70408.830     3.108589   3.130470     -0.352454   \n8981  0.094448  2.401307  148632.220     3.121072   3.123549      0.351719   \n8982 -1.568559 -1.097320   74110.530     2.869815   3.443354      0.771053   \n\n           m_MET       m_hhm    m_bbttpt  \n0     237.887240  1631.67020  263.697630  \n1     485.033330  1293.40280  463.512360  \n2     104.559220  1659.84830   80.008150  \n3     166.607220  1075.30920  109.524925  \n4     167.350300  1595.76110  244.283460  \n...          ...         ...         ...  \n8978   84.210686   891.92240  192.862270  \n8979   59.169407   970.41110  136.471160  \n8980   34.371227   983.20233  133.526060  \n8981   55.616740  1320.47700   75.680750  \n8982   29.818922  1424.76920  174.244190  \n\n[8983 rows x 16 columns]",
      "text/html": "<div>\n<style scoped>\n    .dataframe tbody tr th:only-of-type {\n        vertical-align: middle;\n    }\n\n    .dataframe tbody tr th {\n        vertical-align: top;\n    }\n\n    .dataframe thead th {\n        text-align: right;\n    }\n</style>\n<table border=\"1\" class=\"dataframe\">\n  <thead>\n    <tr style=\"text-align: right;\">\n      <th></th>\n      <th>EventWeight</th>\n      <th>label</th>\n      <th>m_FJpt</th>\n      <th>m_FJeta</th>\n      <th>m_FJphi</th>\n      <th>m_FJm</th>\n      <th>m_DTpt</th>\n      <th>m_DTeta</th>\n      <th>m_DTphi</th>\n      <th>m_DTm</th>\n      <th>m_dPhiFTwDT</th>\n      <th>m_dRFJwDT</th>\n      <th>m_dPhiDTwMET</th>\n      <th>m_MET</th>\n      <th>m_hhm</th>\n      <th>m_bbttpt</th>\n    </tr>\n  </thead>\n  <tbody>\n    <tr>\n      <th>0</th>\n      <td>0.001020</td>\n      <td>1</td>\n      <td>885.55927</td>\n      <td>0.104927</td>\n      <td>-2.448576</td>\n      <td>127604.30</td>\n      <td>623.22710</td>\n      <td>-0.731510</td>\n      <td>0.656939</td>\n      <td>85368.720</td>\n      <td>3.105514</td>\n      <td>3.216185</td>\n      <td>-0.192894</td>\n      <td>237.887240</td>\n      <td>1631.67020</td>\n      <td>263.697630</td>\n    </tr>\n    <tr>\n      <th>1</th>\n      <td>0.001117</td>\n      <td>1</td>\n      <td>855.69904</td>\n      <td>0.313113</td>\n      <td>-1.859287</td>\n      <td>122862.90</td>\n      <td>449.37933</td>\n      <td>-0.306591</td>\n      <td>0.920655</td>\n      <td>55754.656</td>\n      <td>2.779941</td>\n      <td>2.848176</td>\n      <td>-0.019178</td>\n      <td>485.033330</td>\n      <td>1293.40280</td>\n      <td>463.512360</td>\n    </tr>\n    <tr>\n      <th>2</th>\n      <td>0.000925</td>\n      <td>1</td>\n      <td>552.47845</td>\n      <td>-0.702952</td>\n      <td>-2.549875</td>\n      <td>109091.67</td>\n      <td>631.70496</td>\n      <td>1.020756</td>\n      <td>0.610602</td>\n      <td>76213.550</td>\n      <td>3.122708</td>\n      <td>3.566858</td>\n      <td>-0.742126</td>\n      <td>104.559220</td>\n      <td>1659.84830</td>\n      <td>80.008150</td>\n    </tr>\n    <tr>\n      <th>3</th>\n      <td>0.001158</td>\n      <td>1</td>\n      <td>525.10590</td>\n      <td>-0.941433</td>\n      <td>-1.130162</td>\n      <td>82382.28</td>\n      <td>416.48105</td>\n      <td>0.103909</td>\n      <td>1.981465</td>\n      <td>58332.793</td>\n      <td>3.111627</td>\n      <td>3.282524</td>\n      <td>-0.130256</td>\n      <td>166.607220</td>\n      <td>1075.30920</td>\n      <td>109.524925</td>\n    </tr>\n    <tr>\n      <th>4</th>\n      <td>0.001120</td>\n      <td>1</td>\n      <td>916.44147</td>\n      <td>-0.683193</td>\n      <td>1.804695</td>\n      <td>115936.01</td>\n      <td>677.16440</td>\n      <td>-0.495132</td>\n      <td>-1.274429</td>\n      <td>94135.960</td>\n      <td>3.079124</td>\n      <td>3.084862</td>\n      <td>0.416606</td>\n      <td>167.350300</td>\n      <td>1595.76110</td>\n      <td>244.283460</td>\n    </tr>\n    <tr>\n      <th>...</th>\n      <td>...</td>\n      <td>...</td>\n      <td>...</td>\n      <td>...</td>\n      <td>...</td>\n      <td>...</td>\n      <td>...</td>\n      <td>...</td>\n      <td>...</td>\n      <td>...</td>\n      <td>...</td>\n      <td>...</td>\n      <td>...</td>\n      <td>...</td>\n      <td>...</td>\n      <td>...</td>\n    </tr>\n    <tr>\n      <th>8978</th>\n      <td>0.006433</td>\n      <td>0</td>\n      <td>402.06714</td>\n      <td>0.109710</td>\n      <td>-1.277847</td>\n      <td>68576.34</td>\n      <td>486.71262</td>\n      <td>-0.060529</td>\n      <td>1.469456</td>\n      <td>120999.410</td>\n      <td>2.747302</td>\n      <td>2.752572</td>\n      <td>-0.883233</td>\n      <td>84.210686</td>\n      <td>891.92240</td>\n      <td>192.862270</td>\n    </tr>\n    <tr>\n      <th>8979</th>\n      <td>0.004849</td>\n      <td>0</td>\n      <td>542.29900</td>\n      <td>1.579771</td>\n      <td>-2.624035</td>\n      <td>84161.26</td>\n      <td>411.07132</td>\n      <td>1.205967</td>\n      <td>0.438185</td>\n      <td>56194.777</td>\n      <td>3.062220</td>\n      <td>3.084951</td>\n      <td>-0.216563</td>\n      <td>59.169407</td>\n      <td>970.41110</td>\n      <td>136.471160</td>\n    </tr>\n    <tr>\n      <th>8980</th>\n      <td>0.004849</td>\n      <td>0</td>\n      <td>548.63104</td>\n      <td>-0.033452</td>\n      <td>2.621298</td>\n      <td>79095.04</td>\n      <td>416.03915</td>\n      <td>0.336025</td>\n      <td>-0.553298</td>\n      <td>70408.830</td>\n      <td>3.108589</td>\n      <td>3.130470</td>\n      <td>-0.352454</td>\n      <td>34.371227</td>\n      <td>983.20233</td>\n      <td>133.526060</td>\n    </tr>\n    <tr>\n      <th>8981</th>\n      <td>0.007816</td>\n      <td>0</td>\n      <td>683.98340</td>\n      <td>-0.029910</td>\n      <td>-0.760806</td>\n      <td>110728.80</td>\n      <td>609.47140</td>\n      <td>0.094448</td>\n      <td>2.401307</td>\n      <td>148632.220</td>\n      <td>3.121072</td>\n      <td>3.123549</td>\n      <td>0.351719</td>\n      <td>55.616740</td>\n      <td>1320.47700</td>\n      <td>75.680750</td>\n    </tr>\n    <tr>\n      <th>8982</th>\n      <td>0.004849</td>\n      <td>0</td>\n      <td>533.04846</td>\n      <td>0.334293</td>\n      <td>1.772496</td>\n      <td>172521.42</td>\n      <td>414.05844</td>\n      <td>-1.568559</td>\n      <td>-1.097320</td>\n      <td>74110.530</td>\n      <td>2.869815</td>\n      <td>3.443354</td>\n      <td>0.771053</td>\n      <td>29.818922</td>\n      <td>1424.76920</td>\n      <td>174.244190</td>\n    </tr>\n  </tbody>\n</table>\n<p>8983 rows × 16 columns</p>\n</div>"
     },
     "metadata": {}
    }
   ],
   "source": [
    "display(df)"
   ]
  },
  {
   "cell_type": "code",
   "execution_count": 7,
   "metadata": {},
   "outputs": [],
   "source": [
    "#split the datasets into train, val, test sets for training\n",
    "sets = split_dataset(df, train_size, val_size, test_size, seed)"
   ]
  },
  {
   "cell_type": "code",
   "execution_count": 8,
   "metadata": {},
   "outputs": [
    {
     "output_type": "display_data",
     "data": {
      "text/plain": "        m_FJpt   m_FJeta   m_FJphi     m_FJm    m_DTpt   m_DTeta   m_DTphi  \\\n0    -1.826991  2.312275  1.744360 -0.190318 -1.233515 -1.159678  0.020713   \n1     0.152414  0.198406  0.524223  1.798227  1.178759 -0.438315 -1.181547   \n2     0.663978  0.646833 -0.537787 -1.738627 -0.074303 -0.736482  1.244079   \n3     1.042899  1.034500  0.417959  0.109906  2.281720  1.157447 -1.241459   \n4     0.815791 -0.496898  0.765137  0.131237  1.309134 -0.444548 -0.912284   \n...        ...       ...       ...       ...       ...       ...       ...   \n5384 -1.045337 -1.600001 -0.794063 -0.739646  0.414702 -0.800751  1.005793   \n5385 -0.403490 -0.150903  0.737227 -1.899947 -0.698748  1.542041 -0.946799   \n5386 -1.756651  0.545688  0.333326 -1.643850 -1.530253 -1.476055 -1.527945   \n5387  0.447265 -0.722158  0.542898 -0.137156  1.703195  0.422882 -1.108371   \n5388 -0.675259  0.031769 -1.710461 -0.679096  0.486680 -0.775458  0.013115   \n\n         m_DTm  m_dPhiFTwDT  m_dRFJwDT  m_dPhiDTwMET     m_MET     m_hhm  \\\n0     0.586477     0.808702   3.600897      0.066249 -0.873314  1.007955   \n1     0.830467     0.781215  -0.154731      0.663899 -0.742510  0.478856   \n2     0.352974     0.542793   0.230931      0.092346  0.186733  0.345036   \n3    -0.152726     0.266360  -0.621208     -1.195276 -0.722160  1.529274   \n4     0.643926     0.421938  -0.519881      0.823852 -0.320580  0.724877   \n...        ...          ...        ...           ...       ...       ...   \n5384 -0.092625     0.374161  -0.259623      2.113213 -1.309286 -0.785101   \n5385 -1.279474     0.501553   0.495211      0.147980  0.866403 -0.596736   \n5386 -0.651602    -0.887727   0.112184      1.705224 -0.939067 -1.970992   \n5387  0.636632     0.155016  -0.194057     -0.433093 -0.940421  1.452142   \n5388  0.140126     0.320376  -0.366666      1.665779 -1.123167 -0.562044   \n\n      m_bbttpt  \n0    -0.851349  \n1    -1.112874  \n2     0.468067  \n3    -1.058687  \n4    -0.564976  \n...        ...  \n5384 -1.444621  \n5385  0.018669  \n5386 -0.370154  \n5387 -1.068937  \n5388 -1.192266  \n\n[5389 rows x 14 columns]",
      "text/html": "<div>\n<style scoped>\n    .dataframe tbody tr th:only-of-type {\n        vertical-align: middle;\n    }\n\n    .dataframe tbody tr th {\n        vertical-align: top;\n    }\n\n    .dataframe thead th {\n        text-align: right;\n    }\n</style>\n<table border=\"1\" class=\"dataframe\">\n  <thead>\n    <tr style=\"text-align: right;\">\n      <th></th>\n      <th>m_FJpt</th>\n      <th>m_FJeta</th>\n      <th>m_FJphi</th>\n      <th>m_FJm</th>\n      <th>m_DTpt</th>\n      <th>m_DTeta</th>\n      <th>m_DTphi</th>\n      <th>m_DTm</th>\n      <th>m_dPhiFTwDT</th>\n      <th>m_dRFJwDT</th>\n      <th>m_dPhiDTwMET</th>\n      <th>m_MET</th>\n      <th>m_hhm</th>\n      <th>m_bbttpt</th>\n    </tr>\n  </thead>\n  <tbody>\n    <tr>\n      <th>0</th>\n      <td>-1.826991</td>\n      <td>2.312275</td>\n      <td>1.744360</td>\n      <td>-0.190318</td>\n      <td>-1.233515</td>\n      <td>-1.159678</td>\n      <td>0.020713</td>\n      <td>0.586477</td>\n      <td>0.808702</td>\n      <td>3.600897</td>\n      <td>0.066249</td>\n      <td>-0.873314</td>\n      <td>1.007955</td>\n      <td>-0.851349</td>\n    </tr>\n    <tr>\n      <th>1</th>\n      <td>0.152414</td>\n      <td>0.198406</td>\n      <td>0.524223</td>\n      <td>1.798227</td>\n      <td>1.178759</td>\n      <td>-0.438315</td>\n      <td>-1.181547</td>\n      <td>0.830467</td>\n      <td>0.781215</td>\n      <td>-0.154731</td>\n      <td>0.663899</td>\n      <td>-0.742510</td>\n      <td>0.478856</td>\n      <td>-1.112874</td>\n    </tr>\n    <tr>\n      <th>2</th>\n      <td>0.663978</td>\n      <td>0.646833</td>\n      <td>-0.537787</td>\n      <td>-1.738627</td>\n      <td>-0.074303</td>\n      <td>-0.736482</td>\n      <td>1.244079</td>\n      <td>0.352974</td>\n      <td>0.542793</td>\n      <td>0.230931</td>\n      <td>0.092346</td>\n      <td>0.186733</td>\n      <td>0.345036</td>\n      <td>0.468067</td>\n    </tr>\n    <tr>\n      <th>3</th>\n      <td>1.042899</td>\n      <td>1.034500</td>\n      <td>0.417959</td>\n      <td>0.109906</td>\n      <td>2.281720</td>\n      <td>1.157447</td>\n      <td>-1.241459</td>\n      <td>-0.152726</td>\n      <td>0.266360</td>\n      <td>-0.621208</td>\n      <td>-1.195276</td>\n      <td>-0.722160</td>\n      <td>1.529274</td>\n      <td>-1.058687</td>\n    </tr>\n    <tr>\n      <th>4</th>\n      <td>0.815791</td>\n      <td>-0.496898</td>\n      <td>0.765137</td>\n      <td>0.131237</td>\n      <td>1.309134</td>\n      <td>-0.444548</td>\n      <td>-0.912284</td>\n      <td>0.643926</td>\n      <td>0.421938</td>\n      <td>-0.519881</td>\n      <td>0.823852</td>\n      <td>-0.320580</td>\n      <td>0.724877</td>\n      <td>-0.564976</td>\n    </tr>\n    <tr>\n      <th>...</th>\n      <td>...</td>\n      <td>...</td>\n      <td>...</td>\n      <td>...</td>\n      <td>...</td>\n      <td>...</td>\n      <td>...</td>\n      <td>...</td>\n      <td>...</td>\n      <td>...</td>\n      <td>...</td>\n      <td>...</td>\n      <td>...</td>\n      <td>...</td>\n    </tr>\n    <tr>\n      <th>5384</th>\n      <td>-1.045337</td>\n      <td>-1.600001</td>\n      <td>-0.794063</td>\n      <td>-0.739646</td>\n      <td>0.414702</td>\n      <td>-0.800751</td>\n      <td>1.005793</td>\n      <td>-0.092625</td>\n      <td>0.374161</td>\n      <td>-0.259623</td>\n      <td>2.113213</td>\n      <td>-1.309286</td>\n      <td>-0.785101</td>\n      <td>-1.444621</td>\n    </tr>\n    <tr>\n      <th>5385</th>\n      <td>-0.403490</td>\n      <td>-0.150903</td>\n      <td>0.737227</td>\n      <td>-1.899947</td>\n      <td>-0.698748</td>\n      <td>1.542041</td>\n      <td>-0.946799</td>\n      <td>-1.279474</td>\n      <td>0.501553</td>\n      <td>0.495211</td>\n      <td>0.147980</td>\n      <td>0.866403</td>\n      <td>-0.596736</td>\n      <td>0.018669</td>\n    </tr>\n    <tr>\n      <th>5386</th>\n      <td>-1.756651</td>\n      <td>0.545688</td>\n      <td>0.333326</td>\n      <td>-1.643850</td>\n      <td>-1.530253</td>\n      <td>-1.476055</td>\n      <td>-1.527945</td>\n      <td>-0.651602</td>\n      <td>-0.887727</td>\n      <td>0.112184</td>\n      <td>1.705224</td>\n      <td>-0.939067</td>\n      <td>-1.970992</td>\n      <td>-0.370154</td>\n    </tr>\n    <tr>\n      <th>5387</th>\n      <td>0.447265</td>\n      <td>-0.722158</td>\n      <td>0.542898</td>\n      <td>-0.137156</td>\n      <td>1.703195</td>\n      <td>0.422882</td>\n      <td>-1.108371</td>\n      <td>0.636632</td>\n      <td>0.155016</td>\n      <td>-0.194057</td>\n      <td>-0.433093</td>\n      <td>-0.940421</td>\n      <td>1.452142</td>\n      <td>-1.068937</td>\n    </tr>\n    <tr>\n      <th>5388</th>\n      <td>-0.675259</td>\n      <td>0.031769</td>\n      <td>-1.710461</td>\n      <td>-0.679096</td>\n      <td>0.486680</td>\n      <td>-0.775458</td>\n      <td>0.013115</td>\n      <td>0.140126</td>\n      <td>0.320376</td>\n      <td>-0.366666</td>\n      <td>1.665779</td>\n      <td>-1.123167</td>\n      <td>-0.562044</td>\n      <td>-1.192266</td>\n    </tr>\n  </tbody>\n</table>\n<p>5389 rows × 14 columns</p>\n</div>"
     },
     "metadata": {}
    }
   ],
   "source": [
    "display(sets[\"x\"][\"train\"])"
   ]
  },
  {
   "cell_type": "code",
   "execution_count": null,
   "metadata": {},
   "outputs": [],
   "source": []
  }
 ],
 "metadata": {
  "language_info": {
   "codemirror_mode": {
    "name": "ipython",
    "version": 3
   },
   "file_extension": ".py",
   "mimetype": "text/x-python",
   "name": "python",
   "nbconvert_exporter": "python",
   "pygments_lexer": "ipython3",
   "version": "3.7.6-final"
  },
  "orig_nbformat": 2,
  "kernelspec": {
   "name": "python3",
   "display_name": "Python 3"
  }
 },
 "nbformat": 4,
 "nbformat_minor": 2
}