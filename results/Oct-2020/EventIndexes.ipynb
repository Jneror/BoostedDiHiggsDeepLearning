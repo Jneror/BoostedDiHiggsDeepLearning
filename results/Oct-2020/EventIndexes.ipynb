{
 "metadata": {
  "language_info": {
   "codemirror_mode": {
    "name": "ipython",
    "version": 3
   },
   "file_extension": ".py",
   "mimetype": "text/x-python",
   "name": "python",
   "nbconvert_exporter": "python",
   "pygments_lexer": "ipython3",
   "version": "3.7.6-final"
  },
  "orig_nbformat": 2,
  "kernelspec": {
   "name": "python3",
   "display_name": "Python 3"
  }
 },
 "nbformat": 4,
 "nbformat_minor": 2,
 "cells": [
  {
   "source": [
    "<center><h1> Getting Event IDs </h1>\n",
    "John Ignacio R.M. Nov 2020</center>"
   ],
   "cell_type": "markdown",
   "metadata": {}
  },
  {
   "cell_type": "code",
   "execution_count": 1,
   "metadata": {},
   "outputs": [
    {
     "output_type": "stream",
     "name": "stderr",
     "text": [
      "Using TensorFlow backend.\n",
      "Welcome to JupyROOT 6.20/04\n"
     ]
    }
   ],
   "source": [
    "# Libraries\n",
    "ada_parent_dir = \"../\"\n",
    "import sys\n",
    "sys.path.append(ada_parent_dir)\n",
    "from ada.data import read_dataset, split_dataset, split_dataset_by_mass\n",
    "from ada.model import BinaryClassifierModel4 as BC4\n",
    "from ada.plot import plot_confidence_matrix\n",
    "import pandas as pd\n",
    "import pickle"
   ]
  },
  {
   "source": [
    "# No parameterized methods"
   ],
   "cell_type": "markdown",
   "metadata": {}
  },
  {
   "cell_type": "code",
   "execution_count": 2,
   "metadata": {},
   "outputs": [],
   "source": [
    "# Constants\n",
    "source_path = \"../../processed_data/xtohhOct2020\"\n",
    "dest_path = \"../../saved_models/oct_2020\"\n",
    "signal = \"Xtohh2000\"\n",
    "bg = \"Xtohh_background\"\n",
    "seed = 420\n",
    "region = \"SR\"\n",
    "tag = 2"
   ]
  },
  {
   "cell_type": "code",
   "execution_count": 3,
   "metadata": {},
   "outputs": [
    {
     "output_type": "execute_result",
     "data": {
      "text/plain": [
       "   EventWeight  label  EventNumber     m_FJpt   m_FJeta   m_FJphi      m_FJm  \\\n",
       "0     0.001020      1        46746  885.55927  0.104927 -2.448576  127604.30   \n",
       "1     0.001117      1        47033  855.69904  0.313113 -1.859287  122862.90   \n",
       "2     0.000925      1        47483  552.47845 -0.702952 -2.549875  109091.67   \n",
       "3     0.001158      1        42700  525.10590 -0.941433 -1.130162   82382.28   \n",
       "4     0.001120      1        43588  916.44147 -0.683193  1.804695  115936.01   \n",
       "\n",
       "      m_DTpt   m_DTeta   m_DTphi      m_DTm  m_dPhiFTwDT  m_dRFJwDT  \\\n",
       "0  623.22710 -0.731510  0.656939  85368.720     3.105514   3.216185   \n",
       "1  449.37933 -0.306591  0.920655  55754.656     2.779941   2.848176   \n",
       "2  631.70496  1.020756  0.610602  76213.550     3.122708   3.566858   \n",
       "3  416.48105  0.103909  1.981465  58332.793     3.111627   3.282524   \n",
       "4  677.16440 -0.495132 -1.274429  94135.960     3.079124   3.084862   \n",
       "\n",
       "   m_dPhiDTwMET      m_MET      m_hhm    m_bbttpt  \n",
       "0     -0.192894  237.88724  1631.6702  263.697630  \n",
       "1     -0.019178  485.03333  1293.4028  463.512360  \n",
       "2     -0.742126  104.55922  1659.8483   80.008150  \n",
       "3     -0.130256  166.60722  1075.3092  109.524925  \n",
       "4      0.416606  167.35030  1595.7611  244.283460  "
      ],
      "text/html": "<div>\n<style scoped>\n    .dataframe tbody tr th:only-of-type {\n        vertical-align: middle;\n    }\n\n    .dataframe tbody tr th {\n        vertical-align: top;\n    }\n\n    .dataframe thead th {\n        text-align: right;\n    }\n</style>\n<table border=\"1\" class=\"dataframe\">\n  <thead>\n    <tr style=\"text-align: right;\">\n      <th></th>\n      <th>EventWeight</th>\n      <th>label</th>\n      <th>EventNumber</th>\n      <th>m_FJpt</th>\n      <th>m_FJeta</th>\n      <th>m_FJphi</th>\n      <th>m_FJm</th>\n      <th>m_DTpt</th>\n      <th>m_DTeta</th>\n      <th>m_DTphi</th>\n      <th>m_DTm</th>\n      <th>m_dPhiFTwDT</th>\n      <th>m_dRFJwDT</th>\n      <th>m_dPhiDTwMET</th>\n      <th>m_MET</th>\n      <th>m_hhm</th>\n      <th>m_bbttpt</th>\n    </tr>\n  </thead>\n  <tbody>\n    <tr>\n      <th>0</th>\n      <td>0.001020</td>\n      <td>1</td>\n      <td>46746</td>\n      <td>885.55927</td>\n      <td>0.104927</td>\n      <td>-2.448576</td>\n      <td>127604.30</td>\n      <td>623.22710</td>\n      <td>-0.731510</td>\n      <td>0.656939</td>\n      <td>85368.720</td>\n      <td>3.105514</td>\n      <td>3.216185</td>\n      <td>-0.192894</td>\n      <td>237.88724</td>\n      <td>1631.6702</td>\n      <td>263.697630</td>\n    </tr>\n    <tr>\n      <th>1</th>\n      <td>0.001117</td>\n      <td>1</td>\n      <td>47033</td>\n      <td>855.69904</td>\n      <td>0.313113</td>\n      <td>-1.859287</td>\n      <td>122862.90</td>\n      <td>449.37933</td>\n      <td>-0.306591</td>\n      <td>0.920655</td>\n      <td>55754.656</td>\n      <td>2.779941</td>\n      <td>2.848176</td>\n      <td>-0.019178</td>\n      <td>485.03333</td>\n      <td>1293.4028</td>\n      <td>463.512360</td>\n    </tr>\n    <tr>\n      <th>2</th>\n      <td>0.000925</td>\n      <td>1</td>\n      <td>47483</td>\n      <td>552.47845</td>\n      <td>-0.702952</td>\n      <td>-2.549875</td>\n      <td>109091.67</td>\n      <td>631.70496</td>\n      <td>1.020756</td>\n      <td>0.610602</td>\n      <td>76213.550</td>\n      <td>3.122708</td>\n      <td>3.566858</td>\n      <td>-0.742126</td>\n      <td>104.55922</td>\n      <td>1659.8483</td>\n      <td>80.008150</td>\n    </tr>\n    <tr>\n      <th>3</th>\n      <td>0.001158</td>\n      <td>1</td>\n      <td>42700</td>\n      <td>525.10590</td>\n      <td>-0.941433</td>\n      <td>-1.130162</td>\n      <td>82382.28</td>\n      <td>416.48105</td>\n      <td>0.103909</td>\n      <td>1.981465</td>\n      <td>58332.793</td>\n      <td>3.111627</td>\n      <td>3.282524</td>\n      <td>-0.130256</td>\n      <td>166.60722</td>\n      <td>1075.3092</td>\n      <td>109.524925</td>\n    </tr>\n    <tr>\n      <th>4</th>\n      <td>0.001120</td>\n      <td>1</td>\n      <td>43588</td>\n      <td>916.44147</td>\n      <td>-0.683193</td>\n      <td>1.804695</td>\n      <td>115936.01</td>\n      <td>677.16440</td>\n      <td>-0.495132</td>\n      <td>-1.274429</td>\n      <td>94135.960</td>\n      <td>3.079124</td>\n      <td>3.084862</td>\n      <td>0.416606</td>\n      <td>167.35030</td>\n      <td>1595.7611</td>\n      <td>244.283460</td>\n    </tr>\n  </tbody>\n</table>\n</div>"
     },
     "metadata": {},
     "execution_count": 3
    }
   ],
   "source": [
    "# Read dataset\n",
    "df = read_dataset(source_path, signal, bg, region, tag, includeEventNumber=True)\n",
    "df.head()"
   ]
  },
  {
   "cell_type": "code",
   "execution_count": 4,
   "metadata": {},
   "outputs": [],
   "source": [
    "# Splitting dataset\n",
    "sets = split_dataset(df, 0.5, 0.3, 0.2, seed)"
   ]
  },
  {
   "cell_type": "code",
   "execution_count": 5,
   "metadata": {},
   "outputs": [
    {
     "output_type": "execute_result",
     "data": {
      "text/plain": [
       "        m_FJpt   m_FJeta   m_FJphi     m_FJm    m_DTpt   m_DTeta   m_DTphi  \\\n",
       "0     0.827847 -0.314893  1.368961 -0.191919 -1.574508  0.587112 -0.218562   \n",
       "1    -2.090397  1.152870  1.215035  0.008585 -0.848421  0.892328 -0.506509   \n",
       "2     0.091487 -0.776562 -0.056368 -0.224844  0.024554  0.073132 -1.696344   \n",
       "3    -2.111163  1.705717 -0.781418 -0.577296 -0.557163 -1.171468  0.940387   \n",
       "4    -1.701825  1.252580  0.127648 -0.022834 -1.494951 -1.258084 -1.577730   \n",
       "...        ...       ...       ...       ...       ...       ...       ...   \n",
       "4020  1.002168 -1.202891  1.159054  0.287033  1.504488 -1.424706 -0.720914   \n",
       "4021  0.251713 -0.712676 -1.406567  0.165451 -1.582295  0.618638  0.304204   \n",
       "4022  1.111657 -0.889814  1.418946  0.615864  0.022252 -0.195299 -0.315099   \n",
       "4023  2.497307 -0.220446 -0.337409  2.783586  1.776812  0.540273  1.441045   \n",
       "4024  0.378654  0.762895 -1.530324 -0.043503 -0.512300 -0.248719  0.321142   \n",
       "\n",
       "         m_DTm  m_dPhiFTwDT  m_dRFJwDT  m_dPhiDTwMET     m_MET     m_hhm  \\\n",
       "0    -0.547542    -0.552870  -0.815764     -0.547898  1.811293 -1.593004   \n",
       "1    -0.227130     0.722139  -0.301069     -0.146605 -1.554302 -2.616303   \n",
       "2    -0.951311     0.035988  -0.456565      0.986953  0.336859 -0.356872   \n",
       "3     0.720116     0.341807   2.155725     -1.972810 -1.260696  0.131294   \n",
       "4    -0.323814     0.777901   1.751913      0.114206 -0.376900 -1.239552   \n",
       "...        ...          ...        ...           ...       ...       ...   \n",
       "4020  0.875852    -1.073042  -1.484756      0.646524  0.024455  0.917756   \n",
       "4021 -0.959552     0.219210   0.036988     -0.809148  1.388175 -1.488102   \n",
       "4022 -0.723037     0.579669  -0.201872     -0.370286  1.150312  0.148405   \n",
       "4023  0.079873     0.705435  -0.117171      0.312471  0.915044  2.558575   \n",
       "4024 -1.151397    -0.126666  -0.511473      0.113723  1.401878 -0.627233   \n",
       "\n",
       "      m_bbttpt  \n",
       "0     1.989317  \n",
       "1    -1.425038  \n",
       "2    -0.081265  \n",
       "3    -1.576849  \n",
       "4    -0.502106  \n",
       "...        ...  \n",
       "4020  0.141872  \n",
       "4021  1.407916  \n",
       "4022  0.802472  \n",
       "4023  0.560754  \n",
       "4024  0.647709  \n",
       "\n",
       "[4025 rows x 14 columns]"
      ],
      "text/html": "<div>\n<style scoped>\n    .dataframe tbody tr th:only-of-type {\n        vertical-align: middle;\n    }\n\n    .dataframe tbody tr th {\n        vertical-align: top;\n    }\n\n    .dataframe thead th {\n        text-align: right;\n    }\n</style>\n<table border=\"1\" class=\"dataframe\">\n  <thead>\n    <tr style=\"text-align: right;\">\n      <th></th>\n      <th>m_FJpt</th>\n      <th>m_FJeta</th>\n      <th>m_FJphi</th>\n      <th>m_FJm</th>\n      <th>m_DTpt</th>\n      <th>m_DTeta</th>\n      <th>m_DTphi</th>\n      <th>m_DTm</th>\n      <th>m_dPhiFTwDT</th>\n      <th>m_dRFJwDT</th>\n      <th>m_dPhiDTwMET</th>\n      <th>m_MET</th>\n      <th>m_hhm</th>\n      <th>m_bbttpt</th>\n    </tr>\n  </thead>\n  <tbody>\n    <tr>\n      <th>0</th>\n      <td>0.827847</td>\n      <td>-0.314893</td>\n      <td>1.368961</td>\n      <td>-0.191919</td>\n      <td>-1.574508</td>\n      <td>0.587112</td>\n      <td>-0.218562</td>\n      <td>-0.547542</td>\n      <td>-0.552870</td>\n      <td>-0.815764</td>\n      <td>-0.547898</td>\n      <td>1.811293</td>\n      <td>-1.593004</td>\n      <td>1.989317</td>\n    </tr>\n    <tr>\n      <th>1</th>\n      <td>-2.090397</td>\n      <td>1.152870</td>\n      <td>1.215035</td>\n      <td>0.008585</td>\n      <td>-0.848421</td>\n      <td>0.892328</td>\n      <td>-0.506509</td>\n      <td>-0.227130</td>\n      <td>0.722139</td>\n      <td>-0.301069</td>\n      <td>-0.146605</td>\n      <td>-1.554302</td>\n      <td>-2.616303</td>\n      <td>-1.425038</td>\n    </tr>\n    <tr>\n      <th>2</th>\n      <td>0.091487</td>\n      <td>-0.776562</td>\n      <td>-0.056368</td>\n      <td>-0.224844</td>\n      <td>0.024554</td>\n      <td>0.073132</td>\n      <td>-1.696344</td>\n      <td>-0.951311</td>\n      <td>0.035988</td>\n      <td>-0.456565</td>\n      <td>0.986953</td>\n      <td>0.336859</td>\n      <td>-0.356872</td>\n      <td>-0.081265</td>\n    </tr>\n    <tr>\n      <th>3</th>\n      <td>-2.111163</td>\n      <td>1.705717</td>\n      <td>-0.781418</td>\n      <td>-0.577296</td>\n      <td>-0.557163</td>\n      <td>-1.171468</td>\n      <td>0.940387</td>\n      <td>0.720116</td>\n      <td>0.341807</td>\n      <td>2.155725</td>\n      <td>-1.972810</td>\n      <td>-1.260696</td>\n      <td>0.131294</td>\n      <td>-1.576849</td>\n    </tr>\n    <tr>\n      <th>4</th>\n      <td>-1.701825</td>\n      <td>1.252580</td>\n      <td>0.127648</td>\n      <td>-0.022834</td>\n      <td>-1.494951</td>\n      <td>-1.258084</td>\n      <td>-1.577730</td>\n      <td>-0.323814</td>\n      <td>0.777901</td>\n      <td>1.751913</td>\n      <td>0.114206</td>\n      <td>-0.376900</td>\n      <td>-1.239552</td>\n      <td>-0.502106</td>\n    </tr>\n    <tr>\n      <th>...</th>\n      <td>...</td>\n      <td>...</td>\n      <td>...</td>\n      <td>...</td>\n      <td>...</td>\n      <td>...</td>\n      <td>...</td>\n      <td>...</td>\n      <td>...</td>\n      <td>...</td>\n      <td>...</td>\n      <td>...</td>\n      <td>...</td>\n      <td>...</td>\n    </tr>\n    <tr>\n      <th>4020</th>\n      <td>1.002168</td>\n      <td>-1.202891</td>\n      <td>1.159054</td>\n      <td>0.287033</td>\n      <td>1.504488</td>\n      <td>-1.424706</td>\n      <td>-0.720914</td>\n      <td>0.875852</td>\n      <td>-1.073042</td>\n      <td>-1.484756</td>\n      <td>0.646524</td>\n      <td>0.024455</td>\n      <td>0.917756</td>\n      <td>0.141872</td>\n    </tr>\n    <tr>\n      <th>4021</th>\n      <td>0.251713</td>\n      <td>-0.712676</td>\n      <td>-1.406567</td>\n      <td>0.165451</td>\n      <td>-1.582295</td>\n      <td>0.618638</td>\n      <td>0.304204</td>\n      <td>-0.959552</td>\n      <td>0.219210</td>\n      <td>0.036988</td>\n      <td>-0.809148</td>\n      <td>1.388175</td>\n      <td>-1.488102</td>\n      <td>1.407916</td>\n    </tr>\n    <tr>\n      <th>4022</th>\n      <td>1.111657</td>\n      <td>-0.889814</td>\n      <td>1.418946</td>\n      <td>0.615864</td>\n      <td>0.022252</td>\n      <td>-0.195299</td>\n      <td>-0.315099</td>\n      <td>-0.723037</td>\n      <td>0.579669</td>\n      <td>-0.201872</td>\n      <td>-0.370286</td>\n      <td>1.150312</td>\n      <td>0.148405</td>\n      <td>0.802472</td>\n    </tr>\n    <tr>\n      <th>4023</th>\n      <td>2.497307</td>\n      <td>-0.220446</td>\n      <td>-0.337409</td>\n      <td>2.783586</td>\n      <td>1.776812</td>\n      <td>0.540273</td>\n      <td>1.441045</td>\n      <td>0.079873</td>\n      <td>0.705435</td>\n      <td>-0.117171</td>\n      <td>0.312471</td>\n      <td>0.915044</td>\n      <td>2.558575</td>\n      <td>0.560754</td>\n    </tr>\n    <tr>\n      <th>4024</th>\n      <td>0.378654</td>\n      <td>0.762895</td>\n      <td>-1.530324</td>\n      <td>-0.043503</td>\n      <td>-0.512300</td>\n      <td>-0.248719</td>\n      <td>0.321142</td>\n      <td>-1.151397</td>\n      <td>-0.126666</td>\n      <td>-0.511473</td>\n      <td>0.113723</td>\n      <td>1.401878</td>\n      <td>-0.627233</td>\n      <td>0.647709</td>\n    </tr>\n  </tbody>\n</table>\n<p>4025 rows × 14 columns</p>\n</div>"
     },
     "metadata": {},
     "execution_count": 5
    }
   ],
   "source": [
    "sets[\"x\"][\"train\"]"
   ]
  },
  {
   "cell_type": "code",
   "execution_count": 6,
   "metadata": {},
   "outputs": [
    {
     "output_type": "execute_result",
     "data": {
      "text/plain": [
       "array([   62599, 30878767,   121415, ...,   147935,   139413,    23673])"
      ]
     },
     "metadata": {},
     "execution_count": 6
    }
   ],
   "source": [
    "sets[\"idx\"][\"train\"]"
   ]
  },
  {
   "cell_type": "code",
   "execution_count": 13,
   "metadata": {},
   "outputs": [],
   "source": [
    "for dataset, ids in sets[\"idx\"].items():\n",
    "    with open(f\"./events/{dataset}_ids.txt\", 'w') as outfile:\n",
    "        for id in ids:\n",
    "            outfile.write(f\"{id}\\n\")"
   ]
  },
  {
   "source": [
    "# Parameterized methods"
   ],
   "cell_type": "markdown",
   "metadata": {}
  },
  {
   "cell_type": "code",
   "execution_count": 2,
   "metadata": {},
   "outputs": [],
   "source": [
    "# Constants\n",
    "seed = 420\n",
    "source_path = \"../../processed_data/xtohhOct2020\"\n",
    "dest_path = \"../../saved_models/oct_2020\"\n",
    "signal = \"Xtohh\"\n",
    "bg = \"Xtohh_background\"\n",
    "region = \"SR\"\n",
    "tag = 2\n",
    "masses = [1000, 1200, 1400, 1600, 1800, 2000, 2500, 3000]"
   ]
  },
  {
   "cell_type": "code",
   "execution_count": 3,
   "metadata": {},
   "outputs": [
    {
     "output_type": "execute_result",
     "data": {
      "text/plain": [
       "   mass  EventWeight  label  EventNumber     m_FJpt   m_FJeta   m_FJphi  \\\n",
       "0  1000     0.000457      1        34641  498.51450 -0.536601 -2.818808   \n",
       "1  1000     0.000348      1        41471  549.95325 -1.375417  1.734355   \n",
       "2  1000     0.000591      1        39279  513.64594  0.340504 -2.402172   \n",
       "3  1000     0.000620      1        42277  483.49622 -1.430659 -0.469333   \n",
       "4  1000     0.000562      1        33144  456.22528 -0.444622  0.358149   \n",
       "\n",
       "       m_FJm     m_DTpt   m_DTeta   m_DTphi      m_DTm  m_dPhiFTwDT  \\\n",
       "0  119716.39  447.70572 -1.163481  1.234735   97467.30     2.229642   \n",
       "1  121275.48  302.23140 -1.598841 -1.238216   96785.60     2.972570   \n",
       "2  134068.61  362.13004 -0.013702  0.731264  100451.04     3.133436   \n",
       "3  111137.67  410.57037 -1.323875  2.663501  105842.83     3.132834   \n",
       "4  165661.98  363.99133 -0.550266 -2.998335   94892.64     2.926702   \n",
       "\n",
       "   m_dRFJwDT  m_dPhiDTwMET      m_MET      m_hhm    m_bbttpt  \n",
       "0   2.316092      0.605876   71.70186  927.69910  419.146580  \n",
       "1   2.980955     -0.169232   84.82113  846.36835  257.105600  \n",
       "2   3.153392      0.193749   81.10068  907.06665  151.556750  \n",
       "3   3.134654      0.164603   64.79518  918.62680   73.030174  \n",
       "4   2.928608     -0.206495  151.07983  853.51350  127.067240  "
      ],
      "text/html": "<div>\n<style scoped>\n    .dataframe tbody tr th:only-of-type {\n        vertical-align: middle;\n    }\n\n    .dataframe tbody tr th {\n        vertical-align: top;\n    }\n\n    .dataframe thead th {\n        text-align: right;\n    }\n</style>\n<table border=\"1\" class=\"dataframe\">\n  <thead>\n    <tr style=\"text-align: right;\">\n      <th></th>\n      <th>mass</th>\n      <th>EventWeight</th>\n      <th>label</th>\n      <th>EventNumber</th>\n      <th>m_FJpt</th>\n      <th>m_FJeta</th>\n      <th>m_FJphi</th>\n      <th>m_FJm</th>\n      <th>m_DTpt</th>\n      <th>m_DTeta</th>\n      <th>m_DTphi</th>\n      <th>m_DTm</th>\n      <th>m_dPhiFTwDT</th>\n      <th>m_dRFJwDT</th>\n      <th>m_dPhiDTwMET</th>\n      <th>m_MET</th>\n      <th>m_hhm</th>\n      <th>m_bbttpt</th>\n    </tr>\n  </thead>\n  <tbody>\n    <tr>\n      <th>0</th>\n      <td>1000</td>\n      <td>0.000457</td>\n      <td>1</td>\n      <td>34641</td>\n      <td>498.51450</td>\n      <td>-0.536601</td>\n      <td>-2.818808</td>\n      <td>119716.39</td>\n      <td>447.70572</td>\n      <td>-1.163481</td>\n      <td>1.234735</td>\n      <td>97467.30</td>\n      <td>2.229642</td>\n      <td>2.316092</td>\n      <td>0.605876</td>\n      <td>71.70186</td>\n      <td>927.69910</td>\n      <td>419.146580</td>\n    </tr>\n    <tr>\n      <th>1</th>\n      <td>1000</td>\n      <td>0.000348</td>\n      <td>1</td>\n      <td>41471</td>\n      <td>549.95325</td>\n      <td>-1.375417</td>\n      <td>1.734355</td>\n      <td>121275.48</td>\n      <td>302.23140</td>\n      <td>-1.598841</td>\n      <td>-1.238216</td>\n      <td>96785.60</td>\n      <td>2.972570</td>\n      <td>2.980955</td>\n      <td>-0.169232</td>\n      <td>84.82113</td>\n      <td>846.36835</td>\n      <td>257.105600</td>\n    </tr>\n    <tr>\n      <th>2</th>\n      <td>1000</td>\n      <td>0.000591</td>\n      <td>1</td>\n      <td>39279</td>\n      <td>513.64594</td>\n      <td>0.340504</td>\n      <td>-2.402172</td>\n      <td>134068.61</td>\n      <td>362.13004</td>\n      <td>-0.013702</td>\n      <td>0.731264</td>\n      <td>100451.04</td>\n      <td>3.133436</td>\n      <td>3.153392</td>\n      <td>0.193749</td>\n      <td>81.10068</td>\n      <td>907.06665</td>\n      <td>151.556750</td>\n    </tr>\n    <tr>\n      <th>3</th>\n      <td>1000</td>\n      <td>0.000620</td>\n      <td>1</td>\n      <td>42277</td>\n      <td>483.49622</td>\n      <td>-1.430659</td>\n      <td>-0.469333</td>\n      <td>111137.67</td>\n      <td>410.57037</td>\n      <td>-1.323875</td>\n      <td>2.663501</td>\n      <td>105842.83</td>\n      <td>3.132834</td>\n      <td>3.134654</td>\n      <td>0.164603</td>\n      <td>64.79518</td>\n      <td>918.62680</td>\n      <td>73.030174</td>\n    </tr>\n    <tr>\n      <th>4</th>\n      <td>1000</td>\n      <td>0.000562</td>\n      <td>1</td>\n      <td>33144</td>\n      <td>456.22528</td>\n      <td>-0.444622</td>\n      <td>0.358149</td>\n      <td>165661.98</td>\n      <td>363.99133</td>\n      <td>-0.550266</td>\n      <td>-2.998335</td>\n      <td>94892.64</td>\n      <td>2.926702</td>\n      <td>2.928608</td>\n      <td>-0.206495</td>\n      <td>151.07983</td>\n      <td>853.51350</td>\n      <td>127.067240</td>\n    </tr>\n  </tbody>\n</table>\n</div>"
     },
     "metadata": {},
     "execution_count": 3
    }
   ],
   "source": [
    "# Read dataset\n",
    "dfs = {mass: read_dataset(source_path, signal+str(mass), bg, region, tag, includeEventNumber=True) for mass in masses}\n",
    "df = pd.concat(dfs, names = [\"mass\", None])\n",
    "df = df.reset_index(level = 0).reset_index(drop = True)\n",
    "df.head()"
   ]
  },
  {
   "cell_type": "code",
   "execution_count": 4,
   "metadata": {},
   "outputs": [
    {
     "output_type": "execute_result",
     "data": {
      "text/plain": [
       "           mass    m_FJpt   m_FJeta   m_FJphi     m_FJm    m_DTpt   m_DTeta  \\\n",
       "0     -0.103132 -1.081378 -1.561519  0.770015  0.002674 -0.462546 -2.602616   \n",
       "1     -1.627252 -1.854947  0.935572  1.193299  0.049201 -0.310186 -0.199290   \n",
       "2      0.277897 -0.007381 -1.590420 -1.081853 -0.264277  0.043084  0.021906   \n",
       "3      1.230472  0.835134  1.513247  0.276911 -0.197858  0.066589 -0.591119   \n",
       "4     -0.484162  0.048727  0.912956 -0.547311 -0.577162 -0.230616  0.511062   \n",
       "...         ...       ...       ...       ...       ...       ...       ...   \n",
       "23232  0.277897  1.061254 -1.088178 -1.084860 -0.076494 -0.713517 -0.770491   \n",
       "23233  1.230472  0.394801  2.063056  0.462199  0.082994  1.187936 -0.137103   \n",
       "23234  1.230472 -0.369736 -1.404929 -1.301822 -0.689007  0.637324  0.965766   \n",
       "23235  1.230472  1.615623  0.303707 -0.068053 -0.246743  0.849442 -0.160408   \n",
       "23236 -0.103132 -0.407945 -0.741644  0.515866 -0.148963  0.491616  0.483478   \n",
       "\n",
       "        m_DTphi     m_DTm  m_dPhiFTwDT  m_dRFJwDT  m_dPhiDTwMET     m_MET  \\\n",
       "0     -1.019711 -1.775361     0.155736  -0.306168     -2.107158 -1.030440   \n",
       "1     -0.431959  1.217161    -0.280747  -0.373159      0.394894 -0.773211   \n",
       "2      0.640364  0.084791     0.583685   0.651673     -0.407285  0.279459   \n",
       "3     -1.356283 -0.396464    -0.054032   0.846411      0.277642  0.631689   \n",
       "4      1.147272  1.098089     0.369477  -0.377204      0.648391 -0.108955   \n",
       "...         ...       ...          ...        ...           ...       ...   \n",
       "23232  0.651681 -0.986836     0.737047  -0.160921     -0.232235  1.982732   \n",
       "23233 -1.345573  0.707605    -0.085580   1.016671      0.483154 -0.500179   \n",
       "23234  0.441196  0.526783     0.773105   1.679836     -3.854815 -1.198623   \n",
       "23235  1.647579 -0.612600     0.669516  -0.184259      0.258870  2.050509   \n",
       "23236 -1.210385  0.168761     0.798141   0.355126     -0.140215 -0.709638   \n",
       "\n",
       "          m_hhm  m_bbttpt  \n",
       "0     -0.975948 -1.042351  \n",
       "1     -1.266130 -0.819643  \n",
       "2      0.265933 -0.270389  \n",
       "3      1.168457  0.806253  \n",
       "4     -0.450609  0.058277  \n",
       "...         ...       ...  \n",
       "23232 -0.354397  1.711138  \n",
       "23233  1.818419 -0.561552  \n",
       "23234  1.116445 -1.255485  \n",
       "23235  0.757219  0.985509  \n",
       "23236 -0.023023 -1.173307  \n",
       "\n",
       "[23237 rows x 15 columns]"
      ],
      "text/html": "<div>\n<style scoped>\n    .dataframe tbody tr th:only-of-type {\n        vertical-align: middle;\n    }\n\n    .dataframe tbody tr th {\n        vertical-align: top;\n    }\n\n    .dataframe thead th {\n        text-align: right;\n    }\n</style>\n<table border=\"1\" class=\"dataframe\">\n  <thead>\n    <tr style=\"text-align: right;\">\n      <th></th>\n      <th>mass</th>\n      <th>m_FJpt</th>\n      <th>m_FJeta</th>\n      <th>m_FJphi</th>\n      <th>m_FJm</th>\n      <th>m_DTpt</th>\n      <th>m_DTeta</th>\n      <th>m_DTphi</th>\n      <th>m_DTm</th>\n      <th>m_dPhiFTwDT</th>\n      <th>m_dRFJwDT</th>\n      <th>m_dPhiDTwMET</th>\n      <th>m_MET</th>\n      <th>m_hhm</th>\n      <th>m_bbttpt</th>\n    </tr>\n  </thead>\n  <tbody>\n    <tr>\n      <th>0</th>\n      <td>-0.103132</td>\n      <td>-1.081378</td>\n      <td>-1.561519</td>\n      <td>0.770015</td>\n      <td>0.002674</td>\n      <td>-0.462546</td>\n      <td>-2.602616</td>\n      <td>-1.019711</td>\n      <td>-1.775361</td>\n      <td>0.155736</td>\n      <td>-0.306168</td>\n      <td>-2.107158</td>\n      <td>-1.030440</td>\n      <td>-0.975948</td>\n      <td>-1.042351</td>\n    </tr>\n    <tr>\n      <th>1</th>\n      <td>-1.627252</td>\n      <td>-1.854947</td>\n      <td>0.935572</td>\n      <td>1.193299</td>\n      <td>0.049201</td>\n      <td>-0.310186</td>\n      <td>-0.199290</td>\n      <td>-0.431959</td>\n      <td>1.217161</td>\n      <td>-0.280747</td>\n      <td>-0.373159</td>\n      <td>0.394894</td>\n      <td>-0.773211</td>\n      <td>-1.266130</td>\n      <td>-0.819643</td>\n    </tr>\n    <tr>\n      <th>2</th>\n      <td>0.277897</td>\n      <td>-0.007381</td>\n      <td>-1.590420</td>\n      <td>-1.081853</td>\n      <td>-0.264277</td>\n      <td>0.043084</td>\n      <td>0.021906</td>\n      <td>0.640364</td>\n      <td>0.084791</td>\n      <td>0.583685</td>\n      <td>0.651673</td>\n      <td>-0.407285</td>\n      <td>0.279459</td>\n      <td>0.265933</td>\n      <td>-0.270389</td>\n    </tr>\n    <tr>\n      <th>3</th>\n      <td>1.230472</td>\n      <td>0.835134</td>\n      <td>1.513247</td>\n      <td>0.276911</td>\n      <td>-0.197858</td>\n      <td>0.066589</td>\n      <td>-0.591119</td>\n      <td>-1.356283</td>\n      <td>-0.396464</td>\n      <td>-0.054032</td>\n      <td>0.846411</td>\n      <td>0.277642</td>\n      <td>0.631689</td>\n      <td>1.168457</td>\n      <td>0.806253</td>\n    </tr>\n    <tr>\n      <th>4</th>\n      <td>-0.484162</td>\n      <td>0.048727</td>\n      <td>0.912956</td>\n      <td>-0.547311</td>\n      <td>-0.577162</td>\n      <td>-0.230616</td>\n      <td>0.511062</td>\n      <td>1.147272</td>\n      <td>1.098089</td>\n      <td>0.369477</td>\n      <td>-0.377204</td>\n      <td>0.648391</td>\n      <td>-0.108955</td>\n      <td>-0.450609</td>\n      <td>0.058277</td>\n    </tr>\n    <tr>\n      <th>...</th>\n      <td>...</td>\n      <td>...</td>\n      <td>...</td>\n      <td>...</td>\n      <td>...</td>\n      <td>...</td>\n      <td>...</td>\n      <td>...</td>\n      <td>...</td>\n      <td>...</td>\n      <td>...</td>\n      <td>...</td>\n      <td>...</td>\n      <td>...</td>\n      <td>...</td>\n    </tr>\n    <tr>\n      <th>23232</th>\n      <td>0.277897</td>\n      <td>1.061254</td>\n      <td>-1.088178</td>\n      <td>-1.084860</td>\n      <td>-0.076494</td>\n      <td>-0.713517</td>\n      <td>-0.770491</td>\n      <td>0.651681</td>\n      <td>-0.986836</td>\n      <td>0.737047</td>\n      <td>-0.160921</td>\n      <td>-0.232235</td>\n      <td>1.982732</td>\n      <td>-0.354397</td>\n      <td>1.711138</td>\n    </tr>\n    <tr>\n      <th>23233</th>\n      <td>1.230472</td>\n      <td>0.394801</td>\n      <td>2.063056</td>\n      <td>0.462199</td>\n      <td>0.082994</td>\n      <td>1.187936</td>\n      <td>-0.137103</td>\n      <td>-1.345573</td>\n      <td>0.707605</td>\n      <td>-0.085580</td>\n      <td>1.016671</td>\n      <td>0.483154</td>\n      <td>-0.500179</td>\n      <td>1.818419</td>\n      <td>-0.561552</td>\n    </tr>\n    <tr>\n      <th>23234</th>\n      <td>1.230472</td>\n      <td>-0.369736</td>\n      <td>-1.404929</td>\n      <td>-1.301822</td>\n      <td>-0.689007</td>\n      <td>0.637324</td>\n      <td>0.965766</td>\n      <td>0.441196</td>\n      <td>0.526783</td>\n      <td>0.773105</td>\n      <td>1.679836</td>\n      <td>-3.854815</td>\n      <td>-1.198623</td>\n      <td>1.116445</td>\n      <td>-1.255485</td>\n    </tr>\n    <tr>\n      <th>23235</th>\n      <td>1.230472</td>\n      <td>1.615623</td>\n      <td>0.303707</td>\n      <td>-0.068053</td>\n      <td>-0.246743</td>\n      <td>0.849442</td>\n      <td>-0.160408</td>\n      <td>1.647579</td>\n      <td>-0.612600</td>\n      <td>0.669516</td>\n      <td>-0.184259</td>\n      <td>0.258870</td>\n      <td>2.050509</td>\n      <td>0.757219</td>\n      <td>0.985509</td>\n    </tr>\n    <tr>\n      <th>23236</th>\n      <td>-0.103132</td>\n      <td>-0.407945</td>\n      <td>-0.741644</td>\n      <td>0.515866</td>\n      <td>-0.148963</td>\n      <td>0.491616</td>\n      <td>0.483478</td>\n      <td>-1.210385</td>\n      <td>0.168761</td>\n      <td>0.798141</td>\n      <td>0.355126</td>\n      <td>-0.140215</td>\n      <td>-0.709638</td>\n      <td>-0.023023</td>\n      <td>-1.173307</td>\n    </tr>\n  </tbody>\n</table>\n<p>23237 rows × 15 columns</p>\n</div>"
     },
     "metadata": {},
     "execution_count": 4
    }
   ],
   "source": [
    "sets = split_dataset_by_mass(df, 0.5, 0.3, 0.2, seed, masses)\n",
    "sets[\"x\"][\"train\"]"
   ]
  },
  {
   "cell_type": "code",
   "execution_count": 8,
   "metadata": {},
   "outputs": [],
   "source": [
    "for dataset, ids in sets[\"idx\"].items():\n",
    "    with open(f\"./events/{dataset}_ids_MP.txt\", 'w') as outfile:\n",
    "        for id in ids:\n",
    "            outfile.write(f\"{id}\\n\")"
   ]
  },
  {
   "cell_type": "code",
   "execution_count": 9,
   "metadata": {},
   "outputs": [],
   "source": [
    "for mass in masses:\n",
    "    with open(f\"./events/test_ids_MP{mass}.txt\", 'w') as outfile:\n",
    "        for id in sets[mass][\"ids_test\"]:\n",
    "            outfile.write(f\"{id}\\n\")"
   ]
  }
 ]
}