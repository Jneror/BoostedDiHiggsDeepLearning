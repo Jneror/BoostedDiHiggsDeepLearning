{
 "metadata": {
  "language_info": {
   "codemirror_mode": {
    "name": "ipython",
    "version": 3
   },
   "file_extension": ".py",
   "mimetype": "text/x-python",
   "name": "python",
   "nbconvert_exporter": "python",
   "pygments_lexer": "ipython3",
   "version": "3.7.6-final"
  },
  "orig_nbformat": 2,
  "kernelspec": {
   "name": "python3",
   "display_name": "Python 3"
  }
 },
 "nbformat": 4,
 "nbformat_minor": 2,
 "cells": [
  {
   "source": [
    "<center><h1>Tuning Mass parameterized neural network with class weights on SR2 with Feature Selection </h1>\n",
    "John Ignacio R.M. Oct 2020</center>"
   ],
   "cell_type": "markdown",
   "metadata": {}
  },
  {
   "cell_type": "code",
   "execution_count": 1,
   "metadata": {},
   "outputs": [
    {
     "output_type": "stream",
     "name": "stderr",
     "text": [
      "Using TensorFlow backend.\n",
      "Welcome to JupyROOT 6.20/04\n"
     ]
    }
   ],
   "source": [
    "# Ada library\n",
    "ada_parent_dir = \"../\"\n",
    "import sys\n",
    "sys.path.append(ada_parent_dir)\n",
    "from ada.data import read_dataset, split_dataset_by_mass, scores_per_class_weights, scores_per_mass\n",
    "from ada.model import BinaryClassifierModel4 as BC4\n",
    "from ada.plot import plot_confidence_matrix\n",
    "import pandas as pd\n",
    "import numpy as np"
   ]
  },
  {
   "cell_type": "code",
   "execution_count": 2,
   "metadata": {},
   "outputs": [],
   "source": [
    "# Constants\n",
    "seed = 420\n",
    "source_path = \"../../processed_data/xtohhOct2020\"\n",
    "dest_path = \"../../saved_models/oct_2020\"\n",
    "signal = \"Xtohh\"\n",
    "bg = \"Xtohh_background\"\n",
    "region = \"SR\"\n",
    "tag = 2\n",
    "masses = [1000, 1200, 1400, 1600, 1800, 2000, 2500, 3000]\n",
    "chi = ['m_FJpt', 'm_hhm', 'm_DTpt', 'm_MET', 'm_bbttpt']\n",
    "extra_trees = ['m_hhm', 'm_FJm', 'm_DTm', 'm_FJpt', 'm_MET']\n",
    "random_forest = ['m_hhm', 'm_FJm', 'm_DTm', 'm_dRFJwDT', 'm_MET']\n",
    "all_feats = [\n",
    "    'm_FJpt', 'm_FJeta', 'm_FJphi', 'm_FJm', 'm_DTpt', 'm_DTeta', 'm_DTphi', 'm_DTm',\n",
    "    'm_dPhiFTwDT', 'm_dRFJwDT', 'm_dPhiDTwMET', 'm_MET', 'm_hhm', 'm_bbttpt',\n",
    "]"
   ]
  },
  {
   "cell_type": "code",
   "execution_count": 3,
   "metadata": {},
   "outputs": [
    {
     "output_type": "execute_result",
     "data": {
      "text/plain": [
       "   mass  EventWeight  label     m_FJpt   m_FJeta   m_FJphi      m_FJm  \\\n",
       "0  1000     0.000457      1  498.51450 -0.536601 -2.818808  119716.39   \n",
       "1  1000     0.000348      1  549.95325 -1.375417  1.734355  121275.48   \n",
       "2  1000     0.000591      1  513.64594  0.340504 -2.402172  134068.61   \n",
       "3  1000     0.000620      1  483.49622 -1.430659 -0.469333  111137.67   \n",
       "4  1000     0.000562      1  456.22528 -0.444622  0.358149  165661.98   \n",
       "\n",
       "      m_DTpt   m_DTeta   m_DTphi      m_DTm  m_dPhiFTwDT  m_dRFJwDT  \\\n",
       "0  447.70572 -1.163481  1.234735   97467.30     2.229642   2.316092   \n",
       "1  302.23140 -1.598841 -1.238216   96785.60     2.972570   2.980955   \n",
       "2  362.13004 -0.013702  0.731264  100451.04     3.133436   3.153392   \n",
       "3  410.57037 -1.323875  2.663501  105842.83     3.132834   3.134654   \n",
       "4  363.99133 -0.550266 -2.998335   94892.64     2.926702   2.928608   \n",
       "\n",
       "   m_dPhiDTwMET      m_MET      m_hhm    m_bbttpt  \n",
       "0      0.605876   71.70186  927.69910  419.146580  \n",
       "1     -0.169232   84.82113  846.36835  257.105600  \n",
       "2      0.193749   81.10068  907.06665  151.556750  \n",
       "3      0.164603   64.79518  918.62680   73.030174  \n",
       "4     -0.206495  151.07983  853.51350  127.067240  "
      ],
      "text/html": "<div>\n<style scoped>\n    .dataframe tbody tr th:only-of-type {\n        vertical-align: middle;\n    }\n\n    .dataframe tbody tr th {\n        vertical-align: top;\n    }\n\n    .dataframe thead th {\n        text-align: right;\n    }\n</style>\n<table border=\"1\" class=\"dataframe\">\n  <thead>\n    <tr style=\"text-align: right;\">\n      <th></th>\n      <th>mass</th>\n      <th>EventWeight</th>\n      <th>label</th>\n      <th>m_FJpt</th>\n      <th>m_FJeta</th>\n      <th>m_FJphi</th>\n      <th>m_FJm</th>\n      <th>m_DTpt</th>\n      <th>m_DTeta</th>\n      <th>m_DTphi</th>\n      <th>m_DTm</th>\n      <th>m_dPhiFTwDT</th>\n      <th>m_dRFJwDT</th>\n      <th>m_dPhiDTwMET</th>\n      <th>m_MET</th>\n      <th>m_hhm</th>\n      <th>m_bbttpt</th>\n    </tr>\n  </thead>\n  <tbody>\n    <tr>\n      <th>0</th>\n      <td>1000</td>\n      <td>0.000457</td>\n      <td>1</td>\n      <td>498.51450</td>\n      <td>-0.536601</td>\n      <td>-2.818808</td>\n      <td>119716.39</td>\n      <td>447.70572</td>\n      <td>-1.163481</td>\n      <td>1.234735</td>\n      <td>97467.30</td>\n      <td>2.229642</td>\n      <td>2.316092</td>\n      <td>0.605876</td>\n      <td>71.70186</td>\n      <td>927.69910</td>\n      <td>419.146580</td>\n    </tr>\n    <tr>\n      <th>1</th>\n      <td>1000</td>\n      <td>0.000348</td>\n      <td>1</td>\n      <td>549.95325</td>\n      <td>-1.375417</td>\n      <td>1.734355</td>\n      <td>121275.48</td>\n      <td>302.23140</td>\n      <td>-1.598841</td>\n      <td>-1.238216</td>\n      <td>96785.60</td>\n      <td>2.972570</td>\n      <td>2.980955</td>\n      <td>-0.169232</td>\n      <td>84.82113</td>\n      <td>846.36835</td>\n      <td>257.105600</td>\n    </tr>\n    <tr>\n      <th>2</th>\n      <td>1000</td>\n      <td>0.000591</td>\n      <td>1</td>\n      <td>513.64594</td>\n      <td>0.340504</td>\n      <td>-2.402172</td>\n      <td>134068.61</td>\n      <td>362.13004</td>\n      <td>-0.013702</td>\n      <td>0.731264</td>\n      <td>100451.04</td>\n      <td>3.133436</td>\n      <td>3.153392</td>\n      <td>0.193749</td>\n      <td>81.10068</td>\n      <td>907.06665</td>\n      <td>151.556750</td>\n    </tr>\n    <tr>\n      <th>3</th>\n      <td>1000</td>\n      <td>0.000620</td>\n      <td>1</td>\n      <td>483.49622</td>\n      <td>-1.430659</td>\n      <td>-0.469333</td>\n      <td>111137.67</td>\n      <td>410.57037</td>\n      <td>-1.323875</td>\n      <td>2.663501</td>\n      <td>105842.83</td>\n      <td>3.132834</td>\n      <td>3.134654</td>\n      <td>0.164603</td>\n      <td>64.79518</td>\n      <td>918.62680</td>\n      <td>73.030174</td>\n    </tr>\n    <tr>\n      <th>4</th>\n      <td>1000</td>\n      <td>0.000562</td>\n      <td>1</td>\n      <td>456.22528</td>\n      <td>-0.444622</td>\n      <td>0.358149</td>\n      <td>165661.98</td>\n      <td>363.99133</td>\n      <td>-0.550266</td>\n      <td>-2.998335</td>\n      <td>94892.64</td>\n      <td>2.926702</td>\n      <td>2.928608</td>\n      <td>-0.206495</td>\n      <td>151.07983</td>\n      <td>853.51350</td>\n      <td>127.067240</td>\n    </tr>\n  </tbody>\n</table>\n</div>"
     },
     "metadata": {},
     "execution_count": 3
    }
   ],
   "source": [
    "# Read dataset\n",
    "dfs = {mass: read_dataset(source_path, signal+str(mass), bg, region, tag) for mass in masses}\n",
    "df = pd.concat(dfs, names = [\"mass\", None])\n",
    "df = df.reset_index(level = 0).reset_index(drop = True)\n",
    "df.head()"
   ]
  },
  {
   "cell_type": "code",
   "execution_count": 4,
   "metadata": {},
   "outputs": [],
   "source": [
    "def get_feature_set_score(BC, feature_set, signal_weight, bg_weight_list, th_list, dest_path, title, seed):\n",
    "    print(\"Features:\", feature_set)\n",
    "    dfs = {mass: read_dataset(source_path, signal+str(mass), bg, region, tag, features=feature_set) for mass in masses}\n",
    "    df = pd.concat(dfs, names = [\"mass\", None])\n",
    "    df = df.reset_index(level = 0).reset_index(drop = True)\n",
    "    df.head()\n",
    "\n",
    "    sets = split_dataset_by_mass(df, 0.5, 0.3, 0.2, seed, masses)\n",
    "\n",
    "    return scores_per_class_weights(BC4, sets, signal_weight, bg_weight_list, th_list, dest_path, title)"
   ]
  },
  {
   "cell_type": "code",
   "execution_count": 5,
   "metadata": {},
   "outputs": [],
   "source": [
    "def scores_by_feature_set(BC, features, signal_weight, bg_weight_list, th_list, dest_path, seed):\n",
    "    return pd.concat({\n",
    "        name: get_feature_set_score(BC4, feature_set, signal_weight, bg_weight_list, th_list, dest_path, f\"SR2_MP_{name}_Oct2020\", seed)\n",
    "        for name, feature_set in features.items()\n",
    "    }, names = [\"feature_set\", \"bg_weight\", \"th\"])"
   ]
  },
  {
   "cell_type": "code",
   "execution_count": 6,
   "metadata": {},
   "outputs": [
    {
     "output_type": "stream",
     "name": "stdout",
     "text": [
      "Features: ['m_FJpt', 'm_hhm', 'm_DTpt', 'm_MET', 'm_bbttpt']\n",
      "Loading bg weight: 10\n",
      "Loading bg weight: 11\n",
      "Training with bg weight: 12\n",
      "Training with bg weight: 13\n",
      "Training with bg weight: 14\n",
      "Training with bg weight: 15\n",
      "Training with bg weight: 16\n",
      "Training with bg weight: 17\n",
      "Training with bg weight: 18\n",
      "Training with bg weight: 19\n",
      "Training with bg weight: 20\n",
      "Features: ['m_hhm', 'm_FJm', 'm_DTm', 'm_FJpt', 'm_MET']\n",
      "Loading bg weight: 10\n",
      "Loading bg weight: 11\n",
      "Training with bg weight: 12\n",
      "Training with bg weight: 13\n",
      "Training with bg weight: 14\n",
      "Training with bg weight: 15\n",
      "Training with bg weight: 16\n",
      "Training with bg weight: 17\n",
      "Training with bg weight: 18\n",
      "Training with bg weight: 19\n",
      "Training with bg weight: 20\n",
      "Features: ['m_hhm', 'm_FJm', 'm_DTm', 'm_dRFJwDT', 'm_MET']\n",
      "Training with bg weight: 10\n",
      "Training with bg weight: 11\n",
      "Training with bg weight: 12\n",
      "Training with bg weight: 13\n",
      "Training with bg weight: 14\n",
      "Training with bg weight: 15\n",
      "Training with bg weight: 16\n",
      "Training with bg weight: 17\n",
      "Training with bg weight: 18\n",
      "Training with bg weight: 19\n",
      "Training with bg weight: 20\n",
      "Features: ['m_FJpt', 'm_FJeta', 'm_FJphi', 'm_FJm', 'm_DTpt', 'm_DTeta', 'm_DTphi', 'm_DTm', 'm_dPhiFTwDT', 'm_dRFJwDT', 'm_dPhiDTwMET', 'm_MET', 'm_hhm', 'm_bbttpt']\n",
      "Training with bg weight: 10\n",
      "Training with bg weight: 11\n",
      "Training with bg weight: 12\n",
      "Training with bg weight: 13\n",
      "Training with bg weight: 14\n",
      "Training with bg weight: 15\n",
      "Training with bg weight: 16\n",
      "Training with bg weight: 17\n",
      "Training with bg weight: 18\n",
      "Training with bg weight: 19\n",
      "Training with bg weight: 20\n",
      "2020-11-15 00:19:01.521057: I tensorflow/stream_executor/platform/default/dso_loader.cc:44] Successfully opened dynamic library libcuda.so.1\n",
      "2020-11-15 00:19:01.538762: E tensorflow/stream_executor/cuda/cuda_driver.cc:351] failed call to cuInit: CUDA_ERROR_NO_DEVICE: no CUDA-capable device is detected\n",
      "2020-11-15 00:19:01.538808: I tensorflow/stream_executor/cuda/cuda_diagnostics.cc:156] kernel driver does not appear to be running on this host (valkyrie): /proc/driver/nvidia/version does not exist\n",
      "2020-11-15 00:19:01.539428: I tensorflow/core/platform/cpu_feature_guard.cc:142] Your CPU supports instructions that this TensorFlow binary was not compiled to use: AVX2 FMA\n",
      "2020-11-15 00:19:01.563490: I tensorflow/core/platform/profile_utils/cpu_utils.cc:94] CPU Frequency: 2299965000 Hz\n",
      "2020-11-15 00:19:01.563800: I tensorflow/compiler/xla/service/service.cc:168] XLA service 0x55ad247206a0 initialized for platform Host (this does not guarantee that XLA will be used). Devices:\n",
      "2020-11-15 00:19:01.563818: I tensorflow/compiler/xla/service/service.cc:176]   StreamExecutor device (0): Host, Default Version\n"
     ]
    }
   ],
   "source": [
    "scores = scores_by_feature_set(BC4, {\"chi\": chi, \"et\": extra_trees, \"rf\": random_forest, \"all\": all_feats}, 10, range(10, 21, 1), np.arange(0.1, 0.9, 0.1), dest_path, seed)\n",
    "#scores_by_feature_set(BC4, {\"chi\": chi, \"et\": extra_trees}, 10, [10, 11], [0.1, 0.2], dest_path, seed)"
   ]
  },
  {
   "cell_type": "code",
   "execution_count": 7,
   "metadata": {},
   "outputs": [
    {
     "output_type": "execute_result",
     "data": {
      "text/plain": [
       "                                  0         1      wavg\n",
       "feature_set bg_weight th                               \n",
       "chi         10        0.1  0.600793  0.917659  0.843292\n",
       "                      0.2  0.638059  0.921193  0.854742\n",
       "                      0.3  0.663071  0.923188  0.862140\n",
       "                      0.4  0.727068  0.931821  0.883766\n",
       "                      0.5  0.728853  0.928442  0.881599\n",
       "...                             ...       ...       ...\n",
       "all         20        0.4  0.922097  0.976542  0.963764\n",
       "                      0.5  0.926112  0.977216  0.965222\n",
       "                      0.6  0.931862  0.978248  0.967362\n",
       "                      0.7  0.921544  0.974401  0.961996\n",
       "                      0.8  0.905104  0.967824  0.953103\n",
       "\n",
       "[352 rows x 3 columns]"
      ],
      "text/html": "<div>\n<style scoped>\n    .dataframe tbody tr th:only-of-type {\n        vertical-align: middle;\n    }\n\n    .dataframe tbody tr th {\n        vertical-align: top;\n    }\n\n    .dataframe thead th {\n        text-align: right;\n    }\n</style>\n<table border=\"1\" class=\"dataframe\">\n  <thead>\n    <tr style=\"text-align: right;\">\n      <th></th>\n      <th></th>\n      <th></th>\n      <th>0</th>\n      <th>1</th>\n      <th>wavg</th>\n    </tr>\n    <tr>\n      <th>feature_set</th>\n      <th>bg_weight</th>\n      <th>th</th>\n      <th></th>\n      <th></th>\n      <th></th>\n    </tr>\n  </thead>\n  <tbody>\n    <tr>\n      <th rowspan=\"5\" valign=\"top\">chi</th>\n      <th rowspan=\"5\" valign=\"top\">10</th>\n      <th>0.1</th>\n      <td>0.600793</td>\n      <td>0.917659</td>\n      <td>0.843292</td>\n    </tr>\n    <tr>\n      <th>0.2</th>\n      <td>0.638059</td>\n      <td>0.921193</td>\n      <td>0.854742</td>\n    </tr>\n    <tr>\n      <th>0.3</th>\n      <td>0.663071</td>\n      <td>0.923188</td>\n      <td>0.862140</td>\n    </tr>\n    <tr>\n      <th>0.4</th>\n      <td>0.727068</td>\n      <td>0.931821</td>\n      <td>0.883766</td>\n    </tr>\n    <tr>\n      <th>0.5</th>\n      <td>0.728853</td>\n      <td>0.928442</td>\n      <td>0.881599</td>\n    </tr>\n    <tr>\n      <th>...</th>\n      <th>...</th>\n      <th>...</th>\n      <td>...</td>\n      <td>...</td>\n      <td>...</td>\n    </tr>\n    <tr>\n      <th rowspan=\"5\" valign=\"top\">all</th>\n      <th rowspan=\"5\" valign=\"top\">20</th>\n      <th>0.4</th>\n      <td>0.922097</td>\n      <td>0.976542</td>\n      <td>0.963764</td>\n    </tr>\n    <tr>\n      <th>0.5</th>\n      <td>0.926112</td>\n      <td>0.977216</td>\n      <td>0.965222</td>\n    </tr>\n    <tr>\n      <th>0.6</th>\n      <td>0.931862</td>\n      <td>0.978248</td>\n      <td>0.967362</td>\n    </tr>\n    <tr>\n      <th>0.7</th>\n      <td>0.921544</td>\n      <td>0.974401</td>\n      <td>0.961996</td>\n    </tr>\n    <tr>\n      <th>0.8</th>\n      <td>0.905104</td>\n      <td>0.967824</td>\n      <td>0.953103</td>\n    </tr>\n  </tbody>\n</table>\n<p>352 rows × 3 columns</p>\n</div>"
     },
     "metadata": {},
     "execution_count": 7
    }
   ],
   "source": [
    "scores"
   ]
  },
  {
   "cell_type": "code",
   "execution_count": 14,
   "metadata": {},
   "outputs": [
    {
     "output_type": "execute_result",
     "data": {
      "text/plain": [
       "                                  0         1      wavg\n",
       "feature_set bg_weight th                               \n",
       "all         10        0.5  0.932530  0.979570  0.968530\n",
       "            20        0.6  0.931862  0.978248  0.967362\n",
       "            15        0.5  0.930409  0.978358  0.967104\n",
       "            14        0.6  0.929715  0.978392  0.966968\n",
       "            12        0.5  0.929177  0.978536  0.966952\n",
       "                      0.6  0.929164  0.977960  0.966508\n",
       "            19        0.3  0.928962  0.978245  0.966679\n",
       "            14        0.7  0.928136  0.976950  0.965494\n",
       "            12        0.7  0.927577  0.976586  0.965084\n",
       "            10        0.6  0.927412  0.977559  0.965790"
      ],
      "text/html": "<div>\n<style scoped>\n    .dataframe tbody tr th:only-of-type {\n        vertical-align: middle;\n    }\n\n    .dataframe tbody tr th {\n        vertical-align: top;\n    }\n\n    .dataframe thead th {\n        text-align: right;\n    }\n</style>\n<table border=\"1\" class=\"dataframe\">\n  <thead>\n    <tr style=\"text-align: right;\">\n      <th></th>\n      <th></th>\n      <th></th>\n      <th>0</th>\n      <th>1</th>\n      <th>wavg</th>\n    </tr>\n    <tr>\n      <th>feature_set</th>\n      <th>bg_weight</th>\n      <th>th</th>\n      <th></th>\n      <th></th>\n      <th></th>\n    </tr>\n  </thead>\n  <tbody>\n    <tr>\n      <th rowspan=\"10\" valign=\"top\">all</th>\n      <th>10</th>\n      <th>0.5</th>\n      <td>0.932530</td>\n      <td>0.979570</td>\n      <td>0.968530</td>\n    </tr>\n    <tr>\n      <th>20</th>\n      <th>0.6</th>\n      <td>0.931862</td>\n      <td>0.978248</td>\n      <td>0.967362</td>\n    </tr>\n    <tr>\n      <th>15</th>\n      <th>0.5</th>\n      <td>0.930409</td>\n      <td>0.978358</td>\n      <td>0.967104</td>\n    </tr>\n    <tr>\n      <th>14</th>\n      <th>0.6</th>\n      <td>0.929715</td>\n      <td>0.978392</td>\n      <td>0.966968</td>\n    </tr>\n    <tr>\n      <th rowspan=\"2\" valign=\"top\">12</th>\n      <th>0.5</th>\n      <td>0.929177</td>\n      <td>0.978536</td>\n      <td>0.966952</td>\n    </tr>\n    <tr>\n      <th>0.6</th>\n      <td>0.929164</td>\n      <td>0.977960</td>\n      <td>0.966508</td>\n    </tr>\n    <tr>\n      <th>19</th>\n      <th>0.3</th>\n      <td>0.928962</td>\n      <td>0.978245</td>\n      <td>0.966679</td>\n    </tr>\n    <tr>\n      <th>14</th>\n      <th>0.7</th>\n      <td>0.928136</td>\n      <td>0.976950</td>\n      <td>0.965494</td>\n    </tr>\n    <tr>\n      <th>12</th>\n      <th>0.7</th>\n      <td>0.927577</td>\n      <td>0.976586</td>\n      <td>0.965084</td>\n    </tr>\n    <tr>\n      <th>10</th>\n      <th>0.6</th>\n      <td>0.927412</td>\n      <td>0.977559</td>\n      <td>0.965790</td>\n    </tr>\n  </tbody>\n</table>\n</div>"
     },
     "metadata": {},
     "execution_count": 14
    }
   ],
   "source": [
    "scores.nlargest(10, [0])"
   ]
  },
  {
   "cell_type": "code",
   "execution_count": 9,
   "metadata": {},
   "outputs": [
    {
     "output_type": "execute_result",
     "data": {
      "text/plain": [
       "                                  0         1      wavg\n",
       "feature_set bg_weight th                               \n",
       "all         10        0.5  0.932530  0.979570  0.968530\n",
       "            20        0.6  0.931862  0.978248  0.967362\n",
       "            15        0.5  0.930409  0.978358  0.967104\n",
       "            14        0.6  0.929715  0.978392  0.966968\n",
       "            12        0.5  0.929177  0.978536  0.966952\n",
       "            19        0.3  0.928962  0.978245  0.966679\n",
       "            12        0.6  0.929164  0.977960  0.966508\n",
       "                      0.4  0.926378  0.978200  0.966038\n",
       "            10        0.6  0.927412  0.977559  0.965790\n",
       "            18        0.3  0.925512  0.977790  0.965520"
      ],
      "text/html": "<div>\n<style scoped>\n    .dataframe tbody tr th:only-of-type {\n        vertical-align: middle;\n    }\n\n    .dataframe tbody tr th {\n        vertical-align: top;\n    }\n\n    .dataframe thead th {\n        text-align: right;\n    }\n</style>\n<table border=\"1\" class=\"dataframe\">\n  <thead>\n    <tr style=\"text-align: right;\">\n      <th></th>\n      <th></th>\n      <th></th>\n      <th>0</th>\n      <th>1</th>\n      <th>wavg</th>\n    </tr>\n    <tr>\n      <th>feature_set</th>\n      <th>bg_weight</th>\n      <th>th</th>\n      <th></th>\n      <th></th>\n      <th></th>\n    </tr>\n  </thead>\n  <tbody>\n    <tr>\n      <th rowspan=\"10\" valign=\"top\">all</th>\n      <th>10</th>\n      <th>0.5</th>\n      <td>0.932530</td>\n      <td>0.979570</td>\n      <td>0.968530</td>\n    </tr>\n    <tr>\n      <th>20</th>\n      <th>0.6</th>\n      <td>0.931862</td>\n      <td>0.978248</td>\n      <td>0.967362</td>\n    </tr>\n    <tr>\n      <th>15</th>\n      <th>0.5</th>\n      <td>0.930409</td>\n      <td>0.978358</td>\n      <td>0.967104</td>\n    </tr>\n    <tr>\n      <th>14</th>\n      <th>0.6</th>\n      <td>0.929715</td>\n      <td>0.978392</td>\n      <td>0.966968</td>\n    </tr>\n    <tr>\n      <th>12</th>\n      <th>0.5</th>\n      <td>0.929177</td>\n      <td>0.978536</td>\n      <td>0.966952</td>\n    </tr>\n    <tr>\n      <th>19</th>\n      <th>0.3</th>\n      <td>0.928962</td>\n      <td>0.978245</td>\n      <td>0.966679</td>\n    </tr>\n    <tr>\n      <th rowspan=\"2\" valign=\"top\">12</th>\n      <th>0.6</th>\n      <td>0.929164</td>\n      <td>0.977960</td>\n      <td>0.966508</td>\n    </tr>\n    <tr>\n      <th>0.4</th>\n      <td>0.926378</td>\n      <td>0.978200</td>\n      <td>0.966038</td>\n    </tr>\n    <tr>\n      <th>10</th>\n      <th>0.6</th>\n      <td>0.927412</td>\n      <td>0.977559</td>\n      <td>0.965790</td>\n    </tr>\n    <tr>\n      <th>18</th>\n      <th>0.3</th>\n      <td>0.925512</td>\n      <td>0.977790</td>\n      <td>0.965520</td>\n    </tr>\n  </tbody>\n</table>\n</div>"
     },
     "metadata": {},
     "execution_count": 9
    }
   ],
   "source": [
    "scores.nlargest(10, [\"wavg\"])"
   ]
  }
 ]
}