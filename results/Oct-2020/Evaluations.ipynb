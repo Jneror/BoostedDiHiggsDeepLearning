{
 "metadata": {
  "language_info": {
   "codemirror_mode": {
    "name": "ipython",
    "version": 3
   },
   "file_extension": ".py",
   "mimetype": "text/x-python",
   "name": "python",
   "nbconvert_exporter": "python",
   "pygments_lexer": "ipython3",
   "version": "3.7.6-final"
  },
  "orig_nbformat": 2,
  "kernelspec": {
   "name": "python3",
   "display_name": "Python 3"
  }
 },
 "nbformat": 4,
 "nbformat_minor": 2,
 "cells": [
  {
   "source": [
    "<center><h1>Evaluations </h1>\n",
    "John Ignacio R.M. Nov 2020</center>"
   ],
   "cell_type": "markdown",
   "metadata": {}
  },
  {
   "cell_type": "code",
   "execution_count": 1,
   "metadata": {},
   "outputs": [
    {
     "output_type": "stream",
     "name": "stderr",
     "text": [
      "Using TensorFlow backend.\n",
      "Welcome to JupyROOT 6.20/04\n"
     ]
    }
   ],
   "source": [
    "# Libraries\n",
    "ada_parent_dir = \"../\"\n",
    "import sys\n",
    "sys.path.append(ada_parent_dir)\n",
    "from ada.data import get_scores_from_json\n",
    "import pandas as pd\n",
    "import matplotlib.pyplot as plt\n",
    "%matplotlib inline\n",
    "import seaborn as sns"
   ]
  },
  {
   "cell_type": "code",
   "execution_count": 2,
   "metadata": {},
   "outputs": [],
   "source": [
    "# Constants\n",
    "masses = [1000, 1200, 1400, 1600, 1800, 2000, 2500, 3000]\n",
    "source_path = \"./scores\"\n",
    "dest_path = \"./figures/cm\""
   ]
  },
  {
   "cell_type": "code",
   "execution_count": 3,
   "metadata": {},
   "outputs": [],
   "source": [
    "# Deep neural networks\n",
    "bc4 = get_scores_from_json(source_path, f\"eval_BC4_SR2_Oct2020.json\")\n",
    "bc1 = get_scores_from_json(source_path, f\"eval_BC4_SR2_Oct2020.json\")\n",
    "\n",
    "# Autoencoders\n",
    "a1 = get_scores_from_json(source_path, f\"eval_A1_SR2_Oct2020.json\")\n",
    "a2 = get_scores_from_json(source_path, f\"eval_A2_SR2_Oct2020.json\")\n",
    "\n",
    "# Mass Parameterized\n",
    "bc4_mass_param = {mass: get_scores_from_json(source_path, f\"eval_BC4_{mass}_SR2_Oct2020.json\") for mass in masses}\n",
    "bc1_mass_param = {mass: get_scores_from_json(source_path, f\"eval_BC1_{mass}_SR2_Oct2020.json\") for mass in masses}\n",
    "\n",
    "# Class weights\n",
    "bc4_cw = get_scores_from_json(source_path, f\"eval_BC4_bg11signal10_SR2_Oct2020.json\")\n",
    "\n",
    "# Oversampling\n",
    "bc4_os = get_scores_from_json(source_path, f\"eval_BC4_adasyn_20_SR2_Oct2020.json\")\n",
    "\n",
    "# Mass Parameterized with Class weights\n",
    "bc4_cw_mp = {mass: get_scores_from_json(source_path, f\"eval_BC4_{mass}_bg13signal10_SR2_MassParam_Oct2020.json\") for mass in masses}"
   ]
  },
  {
   "cell_type": "code",
   "execution_count": 4,
   "metadata": {},
   "outputs": [],
   "source": [
    "def plot_confidence_matrix(arr, fmt, title, save = False, dest_path = './', name = 'cm'):\n",
    "    df_cm = pd.DataFrame(arr, index = range(2), columns = range(2))\n",
    "    fig = plt.figure()\n",
    "    fig.set_size_inches(2.5, 2.5)\n",
    "    sns.heatmap(df_cm, annot=True, fmt = fmt)\n",
    "    #plt.title(title)\n",
    "    plt.ylabel(\"True class\")\n",
    "    plt.xlabel(\"Predicted class\")\n",
    "    if save:\n",
    "        plt.savefig(f'{dest_path}/{name}.png', bbox_inches=\"tight\", dpi=200)\n",
    "        plt.close(fig)\n",
    "    else:\n",
    "        plt.show()"
   ]
  },
  {
   "source": [
    "# DNNs"
   ],
   "cell_type": "markdown",
   "metadata": {}
  },
  {
   "source": [
    "## BC4"
   ],
   "cell_type": "markdown",
   "metadata": {}
  },
  {
   "cell_type": "code",
   "execution_count": 5,
   "metadata": {},
   "outputs": [],
   "source": [
    "cm = bc4['cm']\n",
    "wcm = bc4['weighted_cm']\n",
    "plot_confidence_matrix(cm, 'd', f\"BC4 CM Xtohh2000\", save=True, dest_path=dest_path, name = f\"BC4_SR2_CM\")\n",
    "plot_confidence_matrix(wcm,'.3f', f\"BC4 Weighted CM Xtohh2000\", save=True, dest_path=dest_path, name = f\"BC4_SR2_WCM\")"
   ]
  },
  {
   "source": [
    "## BC1"
   ],
   "cell_type": "markdown",
   "metadata": {}
  },
  {
   "cell_type": "code",
   "execution_count": 6,
   "metadata": {},
   "outputs": [],
   "source": [
    "cm = bc1['cm']\n",
    "wcm = bc1['weighted_cm']\n",
    "plot_confidence_matrix(cm, 'd', f\"BC1 CM Xtohh2000\", save=True, dest_path=dest_path, name = f\"BC1_SR2_CM\")\n",
    "plot_confidence_matrix(wcm, '.3f', f\"BC1 Weighted CM Xtohh2000\", save=True, dest_path=dest_path, name = f\"BC1_SR2_WCM\")"
   ]
  },
  {
   "source": [
    "# Parameterized Models"
   ],
   "cell_type": "markdown",
   "metadata": {}
  },
  {
   "source": [
    "## BC4-MP"
   ],
   "cell_type": "markdown",
   "metadata": {}
  },
  {
   "cell_type": "code",
   "execution_count": 7,
   "metadata": {},
   "outputs": [],
   "source": [
    "for mass in masses:\n",
    "    cm = bc4_mass_param[mass]['cm']\n",
    "    wcm = bc4_mass_param[mass]['weighted_cm']\n",
    "    plot_confidence_matrix(cm, 'd', f\"BC4-MP CM Xtohh{mass}\", save=True, dest_path=dest_path, name = f\"BC4MP_SR2_{mass}_CM\")\n",
    "    plot_confidence_matrix(wcm, '.3f', f\"BC4-MP Weighted CM Xtohh{mass}\", save=True, dest_path=dest_path, name = f\"BC4MP_SR2_{mass}_WCM\")"
   ]
  },
  {
   "source": [
    "## BC1-MP"
   ],
   "cell_type": "markdown",
   "metadata": {}
  },
  {
   "cell_type": "code",
   "execution_count": 8,
   "metadata": {},
   "outputs": [],
   "source": [
    "for mass in masses:\n",
    "    cm = bc1_mass_param[mass]['cm']\n",
    "    wcm = bc1_mass_param[mass]['weighted_cm']\n",
    "    plot_confidence_matrix(cm, 'd', f\"BC1-MP CM Xtohh{mass}\", save=True, dest_path=dest_path, name = f\"BC1MP_SR2_{mass}_CM\")\n",
    "    plot_confidence_matrix(wcm, '.3f', f\"BC1-MP Weighted CM Xtohh{mass}\", save=True, dest_path=dest_path, name = f\"BC1MP_SR2_{mass}_WCM\")"
   ]
  },
  {
   "source": [
    "# Autoencoders"
   ],
   "cell_type": "markdown",
   "metadata": {}
  },
  {
   "source": [
    "## A1"
   ],
   "cell_type": "markdown",
   "metadata": {}
  },
  {
   "cell_type": "code",
   "execution_count": 9,
   "metadata": {},
   "outputs": [],
   "source": [
    "cm = a1['cm']\n",
    "wcm = a1['weighted_cm']\n",
    "plot_confidence_matrix(cm, 'd', f\"A1 CM Xtohh2000\", save=True, dest_path=dest_path, name = f\"A1_SR2_CM\")\n",
    "plot_confidence_matrix(wcm, '.3f', f\"A1 Weighted CM Xtohh2000\", save=True, dest_path=dest_path, name = f\"A1_SR2_WCM\")"
   ]
  },
  {
   "source": [
    "## A2"
   ],
   "cell_type": "markdown",
   "metadata": {}
  },
  {
   "cell_type": "code",
   "execution_count": 10,
   "metadata": {},
   "outputs": [],
   "source": [
    "cm = a2['cm']\n",
    "wcm = a2['weighted_cm']\n",
    "plot_confidence_matrix(cm, 'd', f\"A2 CM Xtohh2000\", save=True, dest_path=dest_path, name = f\"A2_SR2_CM\")\n",
    "plot_confidence_matrix(wcm, '.3f', f\"A2 Weighted CM Xtohh2000\", save=True, dest_path=dest_path, name = f\"A2_SR2_WCM\")"
   ]
  },
  {
   "source": [
    "# Imabalanced Learning Models"
   ],
   "cell_type": "markdown",
   "metadata": {}
  },
  {
   "source": [
    "## Oversampling"
   ],
   "cell_type": "markdown",
   "metadata": {}
  },
  {
   "cell_type": "code",
   "execution_count": 11,
   "metadata": {},
   "outputs": [],
   "source": [
    "cm = bc4_os['cm']\n",
    "wcm = bc4_os['weighted_cm']\n",
    "plot_confidence_matrix(cm, 'd', f\"ADASYN 0.2 BC4-OS CM Xtohh2000\", save=True, dest_path=dest_path, name = f\"BC4OS_SR2_CM\")\n",
    "plot_confidence_matrix(wcm, '.3f', f\"ADASYN 0.2 BC4-OS Weighted CM Xtohh2000\", save=True, dest_path=dest_path, name = f\"BC4OS_SR2_WCM\")"
   ]
  },
  {
   "source": [
    "## Class weighted"
   ],
   "cell_type": "markdown",
   "metadata": {}
  },
  {
   "cell_type": "code",
   "execution_count": 12,
   "metadata": {},
   "outputs": [],
   "source": [
    "cm = bc4_cw['cm']\n",
    "wcm = bc4_cw['weighted_cm']\n",
    "plot_confidence_matrix(cm, 'd', f\"11:10 BC4-CW CM Xtohh2000\", save=True, dest_path=dest_path, name = f\"BC4CW_SR2_CM\")\n",
    "plot_confidence_matrix(wcm, '.3f', f\"11:10 BC4-CW Weighted CM Xtohh2000\", save=True, dest_path=dest_path, name = f\"BC4CW_SR2_WCM\")"
   ]
  },
  {
   "source": [
    "## Mass parameterized class weighted"
   ],
   "cell_type": "markdown",
   "metadata": {}
  },
  {
   "cell_type": "code",
   "execution_count": 13,
   "metadata": {},
   "outputs": [],
   "source": [
    "for mass in masses:\n",
    "    cm = bc4_cw_mp[mass]['cm']\n",
    "    wcm = bc4_cw_mp[mass]['weighted_cm']\n",
    "    plot_confidence_matrix(cm, 'd', f\"13:10 BC4-MP-CW CM Xtohh{mass}\", save=True, dest_path=dest_path, name = f\"BC4MPCW_SR2_{mass}_CM\")\n",
    "    plot_confidence_matrix(wcm, '.3f', f\"13:10 BC4-MP-CW Weighted CM Xtohh{mass}\", save=True, dest_path=dest_path, name = f\"BC4MPCW_SR2_{mass}_WCM\")"
   ]
  },
  {
   "cell_type": "code",
   "execution_count": null,
   "metadata": {},
   "outputs": [],
   "source": []
  }
 ]
}